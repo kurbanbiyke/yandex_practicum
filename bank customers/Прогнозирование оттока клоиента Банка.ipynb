{
 "cells": [
  {
   "cell_type": "markdown",
   "metadata": {
    "toc": true
   },
   "source": [
    "<h1>Содержание<span class=\"tocSkip\"></span></h1>\n",
    "<div class=\"toc\"><ul class=\"toc-item\"><li><span><a href=\"#Подготовка-данных\" data-toc-modified-id=\"Подготовка-данных-1\"><span class=\"toc-item-num\">1&nbsp;&nbsp;</span>Подготовка данных</a></span></li><li><span><a href=\"#Исследование-задачи\" data-toc-modified-id=\"Исследование-задачи-2\"><span class=\"toc-item-num\">2&nbsp;&nbsp;</span>Исследование задачи</a></span></li><li><span><a href=\"#Борьба-с-дисбалансом\" data-toc-modified-id=\"Борьба-с-дисбалансом-3\"><span class=\"toc-item-num\">3&nbsp;&nbsp;</span>Борьба с дисбалансом</a></span><ul class=\"toc-item\"><li><span><a href=\"#class_weight\" data-toc-modified-id=\"class_weight-3.1\"><span class=\"toc-item-num\">3.1&nbsp;&nbsp;</span>class_weight</a></span></li><li><span><a href=\"#Увеличение-выборки\" data-toc-modified-id=\"Увеличение-выборки-3.2\"><span class=\"toc-item-num\">3.2&nbsp;&nbsp;</span>Увеличение выборки</a></span></li><li><span><a href=\"#Уменьшение-выборки\" data-toc-modified-id=\"Уменьшение-выборки-3.3\"><span class=\"toc-item-num\">3.3&nbsp;&nbsp;</span>Уменьшение выборки</a></span></li></ul></li><li><span><a href=\"#Тестирование-модели\" data-toc-modified-id=\"Тестирование-модели-4\"><span class=\"toc-item-num\">4&nbsp;&nbsp;</span>Тестирование модели</a></span></li><li><span><a href=\"#Чек-лист-готовности-проекта\" data-toc-modified-id=\"Чек-лист-готовности-проекта-5\"><span class=\"toc-item-num\">5&nbsp;&nbsp;</span>Чек-лист готовности проекта</a></span></li></ul></div>"
   ]
  },
  {
   "cell_type": "markdown",
   "metadata": {},
   "source": [
    "# Прогнозирование оттока клиента Банка"
   ]
  },
  {
   "cell_type": "markdown",
   "metadata": {},
   "source": [
    "### Описание исследования\n",
    "Из «Бета-Банка» стали уходить клиенты. Каждый месяц. Немного, но заметно. Банковские маркетологи посчитали: сохранять текущих клиентов дешевле, чем привлекать новых.\n",
    "\n",
    "Нужно спрогнозировать, уйдёт клиент из банка в ближайшее время или нет. Вам предоставлены исторические данные о поведении клиентов и расторжении договоров с банком. \n",
    "\n",
    "Постройте модель с предельно большим значением *F1*-меры. Чтобы сдать проект успешно, нужно довести метрику до 0.59. Проверьте *F1*-меру на тестовой выборке самостоятельно.\n",
    "\n",
    "Дополнительно измеряйте *AUC-ROC*, сравнивайте её значение с *F1*-мерой.\n",
    "\n",
    "Источник данных: [https://www.kaggle.com/barelydedicated/bank-customer-churn-modeling](https://www.kaggle.com/barelydedicated/bank-customer-churn-modeling)\n",
    "_____\n",
    "\n",
    "### Цель исследования\n",
    "На основе данных из банка определить клиента, который может уйти.\n",
    "_____\n",
    "### Исходные данные\n",
    "   - `RowNumber` — индекс строки в данных\n",
    "   - `CustomerId` — уникальный идентификатор клиента\n",
    "   - `Surname` — фамилия\n",
    "   - `CreditScore` — кредитный рейтинг\n",
    "   - `Geography` — страна проживания\n",
    "   - `Gender` — пол\n",
    "   - `Age` — возраст\n",
    "   - `Tenure` — сколько лет человек является клиентом банка\n",
    "   - `Balance` — баланс на счёте\n",
    "   - `NumOfProducts` — количество продуктов банка, используемых клиентом\n",
    "   - `HasCrCard` — наличие кредитной карты\n",
    "   - `IsActiveMember` — активность клиента\n",
    "   - `EstimatedSalary` — предполагаемая зарплата\n",
    "   - `Exited` — факт ухода клиента\n",
    "_____\n"
   ]
  },
  {
   "cell_type": "markdown",
   "metadata": {},
   "source": [
    "## Подготовка данных"
   ]
  },
  {
   "cell_type": "code",
   "execution_count": 1,
   "metadata": {},
   "outputs": [],
   "source": [
    "import warnings\n",
    "\n",
    "import pandas as pd\n",
    "import numpy as np\n",
    "import seaborn as sns\n",
    "import matplotlib.pyplot as plt\n",
    "from scipy import stats as st\n",
    "\n",
    "from sklearn.model_selection import train_test_split\n",
    "from sklearn.linear_model import LinearRegression, LogisticRegression\n",
    "from sklearn.tree import DecisionTreeRegressor, DecisionTreeClassifier\n",
    "from sklearn.ensemble import RandomForestRegressor, RandomForestClassifier\n",
    "from sklearn.impute import SimpleImputer\n",
    "from sklearn.dummy import DummyClassifier\n",
    "from sklearn.utils import shuffle\n",
    "from sklearn.compose import make_column_transformer\n",
    "from imblearn.over_sampling import SMOTE\n",
    "\n",
    "from sklearn.metrics import (\n",
    "    accuracy_score,\n",
    "    confusion_matrix,\n",
    "    ConfusionMatrixDisplay,\n",
    "    precision_score,\n",
    "    recall_score,\n",
    "    precision_recall_curve,\n",
    "    roc_curve,\n",
    "    RocCurveDisplay,\n",
    "    f1_score, \n",
    "    roc_auc_score,\n",
    "    plot_confusion_matrix\n",
    ")\n",
    "\n",
    "from sklearn.preprocessing import (\n",
    "    OneHotEncoder,\n",
    "    OrdinalEncoder,\n",
    "    StandardScaler\n",
    ")\n",
    "\n",
    "# настройки\n",
    "warnings.filterwarnings(\"ignore\")"
   ]
  },
  {
   "cell_type": "code",
   "execution_count": 2,
   "metadata": {},
   "outputs": [
    {
     "data": {
      "text/html": [
       "<div>\n",
       "<style scoped>\n",
       "    .dataframe tbody tr th:only-of-type {\n",
       "        vertical-align: middle;\n",
       "    }\n",
       "\n",
       "    .dataframe tbody tr th {\n",
       "        vertical-align: top;\n",
       "    }\n",
       "\n",
       "    .dataframe thead th {\n",
       "        text-align: right;\n",
       "    }\n",
       "</style>\n",
       "<table border=\"1\" class=\"dataframe\">\n",
       "  <thead>\n",
       "    <tr style=\"text-align: right;\">\n",
       "      <th></th>\n",
       "      <th>RowNumber</th>\n",
       "      <th>CustomerId</th>\n",
       "      <th>Surname</th>\n",
       "      <th>CreditScore</th>\n",
       "      <th>Geography</th>\n",
       "      <th>Gender</th>\n",
       "      <th>Age</th>\n",
       "      <th>Tenure</th>\n",
       "      <th>Balance</th>\n",
       "      <th>NumOfProducts</th>\n",
       "      <th>HasCrCard</th>\n",
       "      <th>IsActiveMember</th>\n",
       "      <th>EstimatedSalary</th>\n",
       "      <th>Exited</th>\n",
       "    </tr>\n",
       "  </thead>\n",
       "  <tbody>\n",
       "    <tr>\n",
       "      <th>0</th>\n",
       "      <td>1</td>\n",
       "      <td>15634602</td>\n",
       "      <td>Hargrave</td>\n",
       "      <td>619</td>\n",
       "      <td>France</td>\n",
       "      <td>Female</td>\n",
       "      <td>42</td>\n",
       "      <td>2.0</td>\n",
       "      <td>0.00</td>\n",
       "      <td>1</td>\n",
       "      <td>1</td>\n",
       "      <td>1</td>\n",
       "      <td>101348.88</td>\n",
       "      <td>1</td>\n",
       "    </tr>\n",
       "    <tr>\n",
       "      <th>1</th>\n",
       "      <td>2</td>\n",
       "      <td>15647311</td>\n",
       "      <td>Hill</td>\n",
       "      <td>608</td>\n",
       "      <td>Spain</td>\n",
       "      <td>Female</td>\n",
       "      <td>41</td>\n",
       "      <td>1.0</td>\n",
       "      <td>83807.86</td>\n",
       "      <td>1</td>\n",
       "      <td>0</td>\n",
       "      <td>1</td>\n",
       "      <td>112542.58</td>\n",
       "      <td>0</td>\n",
       "    </tr>\n",
       "    <tr>\n",
       "      <th>2</th>\n",
       "      <td>3</td>\n",
       "      <td>15619304</td>\n",
       "      <td>Onio</td>\n",
       "      <td>502</td>\n",
       "      <td>France</td>\n",
       "      <td>Female</td>\n",
       "      <td>42</td>\n",
       "      <td>8.0</td>\n",
       "      <td>159660.80</td>\n",
       "      <td>3</td>\n",
       "      <td>1</td>\n",
       "      <td>0</td>\n",
       "      <td>113931.57</td>\n",
       "      <td>1</td>\n",
       "    </tr>\n",
       "    <tr>\n",
       "      <th>3</th>\n",
       "      <td>4</td>\n",
       "      <td>15701354</td>\n",
       "      <td>Boni</td>\n",
       "      <td>699</td>\n",
       "      <td>France</td>\n",
       "      <td>Female</td>\n",
       "      <td>39</td>\n",
       "      <td>1.0</td>\n",
       "      <td>0.00</td>\n",
       "      <td>2</td>\n",
       "      <td>0</td>\n",
       "      <td>0</td>\n",
       "      <td>93826.63</td>\n",
       "      <td>0</td>\n",
       "    </tr>\n",
       "    <tr>\n",
       "      <th>4</th>\n",
       "      <td>5</td>\n",
       "      <td>15737888</td>\n",
       "      <td>Mitchell</td>\n",
       "      <td>850</td>\n",
       "      <td>Spain</td>\n",
       "      <td>Female</td>\n",
       "      <td>43</td>\n",
       "      <td>2.0</td>\n",
       "      <td>125510.82</td>\n",
       "      <td>1</td>\n",
       "      <td>1</td>\n",
       "      <td>1</td>\n",
       "      <td>79084.10</td>\n",
       "      <td>0</td>\n",
       "    </tr>\n",
       "  </tbody>\n",
       "</table>\n",
       "</div>"
      ],
      "text/plain": [
       "   RowNumber  CustomerId   Surname  CreditScore Geography  Gender  Age  \\\n",
       "0          1    15634602  Hargrave          619    France  Female   42   \n",
       "1          2    15647311      Hill          608     Spain  Female   41   \n",
       "2          3    15619304      Onio          502    France  Female   42   \n",
       "3          4    15701354      Boni          699    France  Female   39   \n",
       "4          5    15737888  Mitchell          850     Spain  Female   43   \n",
       "\n",
       "   Tenure    Balance  NumOfProducts  HasCrCard  IsActiveMember  \\\n",
       "0     2.0       0.00              1          1               1   \n",
       "1     1.0   83807.86              1          0               1   \n",
       "2     8.0  159660.80              3          1               0   \n",
       "3     1.0       0.00              2          0               0   \n",
       "4     2.0  125510.82              1          1               1   \n",
       "\n",
       "   EstimatedSalary  Exited  \n",
       "0        101348.88       1  \n",
       "1        112542.58       0  \n",
       "2        113931.57       1  \n",
       "3         93826.63       0  \n",
       "4         79084.10       0  "
      ]
     },
     "execution_count": 2,
     "metadata": {},
     "output_type": "execute_result"
    }
   ],
   "source": [
    "try:\n",
    "    data = pd.read_csv('/datasets/Churn.csv')\n",
    "except:\n",
    "    data = pd.read_csv('https://code.s3.yandex.net/datasets/Churn.csv')\n",
    "data.head()"
   ]
  },
  {
   "cell_type": "code",
   "execution_count": 3,
   "metadata": {},
   "outputs": [
    {
     "name": "stdout",
     "output_type": "stream",
     "text": [
      "<class 'pandas.core.frame.DataFrame'>\n",
      "RangeIndex: 10000 entries, 0 to 9999\n",
      "Data columns (total 14 columns):\n",
      " #   Column           Non-Null Count  Dtype  \n",
      "---  ------           --------------  -----  \n",
      " 0   RowNumber        10000 non-null  int64  \n",
      " 1   CustomerId       10000 non-null  int64  \n",
      " 2   Surname          10000 non-null  object \n",
      " 3   CreditScore      10000 non-null  int64  \n",
      " 4   Geography        10000 non-null  object \n",
      " 5   Gender           10000 non-null  object \n",
      " 6   Age              10000 non-null  int64  \n",
      " 7   Tenure           9091 non-null   float64\n",
      " 8   Balance          10000 non-null  float64\n",
      " 9   NumOfProducts    10000 non-null  int64  \n",
      " 10  HasCrCard        10000 non-null  int64  \n",
      " 11  IsActiveMember   10000 non-null  int64  \n",
      " 12  EstimatedSalary  10000 non-null  float64\n",
      " 13  Exited           10000 non-null  int64  \n",
      "dtypes: float64(3), int64(8), object(3)\n",
      "memory usage: 1.1+ MB\n"
     ]
    }
   ],
   "source": [
    "#посмотрим информацию  о типе столбцов\n",
    "data.info()"
   ]
  },
  {
   "cell_type": "code",
   "execution_count": 4,
   "metadata": {},
   "outputs": [
    {
     "data": {
      "text/plain": [
       "RowNumber            0\n",
       "CustomerId           0\n",
       "Surname              0\n",
       "CreditScore          0\n",
       "Geography            0\n",
       "Gender               0\n",
       "Age                  0\n",
       "Tenure             909\n",
       "Balance              0\n",
       "NumOfProducts        0\n",
       "HasCrCard            0\n",
       "IsActiveMember       0\n",
       "EstimatedSalary      0\n",
       "Exited               0\n",
       "dtype: int64"
      ]
     },
     "execution_count": 4,
     "metadata": {},
     "output_type": "execute_result"
    }
   ],
   "source": [
    "#выведем количество пропусков в каждом столбце\n",
    "data.isnull().sum()"
   ]
  },
  {
   "cell_type": "code",
   "execution_count": 5,
   "metadata": {},
   "outputs": [
    {
     "data": {
      "text/plain": [
       "array([ 2.,  1.,  8.,  7.,  4.,  6.,  3., 10.,  5.,  9.,  0., nan])"
      ]
     },
     "execution_count": 5,
     "metadata": {},
     "output_type": "execute_result"
    }
   ],
   "source": [
    "#Выведем уникальные значение в столбце Tenure, чтобы понять разброс значений и чем их лучше заполнить\n",
    "data['Tenure'].unique()"
   ]
  },
  {
   "cell_type": "code",
   "execution_count": 6,
   "metadata": {},
   "outputs": [
    {
     "data": {
      "text/plain": [
       "Tenure\n",
       "1.0     0.0952\n",
       "2.0     0.0950\n",
       "8.0     0.0933\n",
       "3.0     0.0928\n",
       "5.0     0.0927\n",
       "7.0     0.0925\n",
       "NaN     0.0909\n",
       "4.0     0.0885\n",
       "9.0     0.0882\n",
       "6.0     0.0881\n",
       "10.0    0.0446\n",
       "0.0     0.0382\n",
       "Name: proportion, dtype: float64"
      ]
     },
     "execution_count": 6,
     "metadata": {},
     "output_type": "execute_result"
    }
   ],
   "source": [
    "data['Tenure'].value_counts(normalize=True, dropna=False)"
   ]
  },
  {
   "cell_type": "code",
   "execution_count": 7,
   "metadata": {},
   "outputs": [
    {
     "data": {
      "image/png": "[encoded data removed]",
      "text/plain": [
       "<Figure size 1200x500 with 1 Axes>"
      ]
     },
     "metadata": {},
     "output_type": "display_data"
    }
   ],
   "source": [
    "data['Tenure'].value_counts(dropna=False).plot(kind='bar', grid=True, figsize=(12, 5))\n",
    "plt.title('Распределение данных в столбце Tenure')\n",
    "plt.show()"
   ]
  },
  {
   "cell_type": "markdown",
   "metadata": {},
   "source": [
    "столбец Tenure отображает сколько лет человек является клиентом банка, и принимает значения от 0 до 10. Есть несколько вариантов заполнить пропуски:\n",
    "- нулями, предположив что это новые клиенты;\n",
    "- медианой;\n",
    "- заполнить пропуски случайными значениями. \n",
    "\n",
    "Наша задача − минимизировать ошибку, то есть, разницу между ожидаемым значением в пропуске и значением, которым мы этот пропуск заменим. Вероятность будет выше в месте наибольшей плотности распределения значений. И хотя мы видим, что на гистограмме найти такую область (пик) сложно, заполненим медианным значением. "
   ]
  },
  {
   "cell_type": "code",
   "execution_count": 8,
   "metadata": {},
   "outputs": [
    {
     "data": {
      "text/plain": [
       "RowNumber          0\n",
       "CustomerId         0\n",
       "Surname            0\n",
       "CreditScore        0\n",
       "Geography          0\n",
       "Gender             0\n",
       "Age                0\n",
       "Tenure             0\n",
       "Balance            0\n",
       "NumOfProducts      0\n",
       "HasCrCard          0\n",
       "IsActiveMember     0\n",
       "EstimatedSalary    0\n",
       "Exited             0\n",
       "dtype: int64"
      ]
     },
     "execution_count": 8,
     "metadata": {},
     "output_type": "execute_result"
    }
   ],
   "source": [
    "data['Tenure'] = data['Tenure'].fillna(data['Tenure'].median())\n",
    "data.isnull().sum()"
   ]
  },
  {
   "cell_type": "code",
   "execution_count": 9,
   "metadata": {},
   "outputs": [
    {
     "data": {
      "image/png": "[encoded data removed]",
      "text/plain": [
       "<Figure size 1500x2000 with 12 Axes>"
      ]
     },
     "metadata": {},
     "output_type": "display_data"
    }
   ],
   "source": [
    "#Отобразим с помощью графиков как распределены значения в столбцах\n",
    "data.hist(figsize=(15, 20))\n",
    "plt.show()"
   ]
  },
  {
   "cell_type": "code",
   "execution_count": 10,
   "metadata": {},
   "outputs": [
    {
     "data": {
      "text/html": [
       "<div>\n",
       "<style scoped>\n",
       "    .dataframe tbody tr th:only-of-type {\n",
       "        vertical-align: middle;\n",
       "    }\n",
       "\n",
       "    .dataframe tbody tr th {\n",
       "        vertical-align: top;\n",
       "    }\n",
       "\n",
       "    .dataframe thead th {\n",
       "        text-align: right;\n",
       "    }\n",
       "</style>\n",
       "<table border=\"1\" class=\"dataframe\">\n",
       "  <thead>\n",
       "    <tr style=\"text-align: right;\">\n",
       "      <th></th>\n",
       "      <th>RowNumber</th>\n",
       "      <th>CustomerId</th>\n",
       "      <th>CreditScore</th>\n",
       "      <th>Age</th>\n",
       "      <th>Tenure</th>\n",
       "      <th>Balance</th>\n",
       "      <th>NumOfProducts</th>\n",
       "      <th>HasCrCard</th>\n",
       "      <th>IsActiveMember</th>\n",
       "      <th>EstimatedSalary</th>\n",
       "      <th>Exited</th>\n",
       "    </tr>\n",
       "  </thead>\n",
       "  <tbody>\n",
       "    <tr>\n",
       "      <th>count</th>\n",
       "      <td>10000.00</td>\n",
       "      <td>10000.00</td>\n",
       "      <td>10000.00</td>\n",
       "      <td>10000.00</td>\n",
       "      <td>10000.00</td>\n",
       "      <td>10000.00</td>\n",
       "      <td>10000.00</td>\n",
       "      <td>10000.00</td>\n",
       "      <td>10000.00</td>\n",
       "      <td>10000.00</td>\n",
       "      <td>10000.0</td>\n",
       "    </tr>\n",
       "    <tr>\n",
       "      <th>mean</th>\n",
       "      <td>5000.50</td>\n",
       "      <td>15690940.57</td>\n",
       "      <td>650.53</td>\n",
       "      <td>38.92</td>\n",
       "      <td>5.00</td>\n",
       "      <td>76485.89</td>\n",
       "      <td>1.53</td>\n",
       "      <td>0.71</td>\n",
       "      <td>0.52</td>\n",
       "      <td>100090.24</td>\n",
       "      <td>0.2</td>\n",
       "    </tr>\n",
       "    <tr>\n",
       "      <th>std</th>\n",
       "      <td>2886.90</td>\n",
       "      <td>71936.19</td>\n",
       "      <td>96.65</td>\n",
       "      <td>10.49</td>\n",
       "      <td>2.76</td>\n",
       "      <td>62397.41</td>\n",
       "      <td>0.58</td>\n",
       "      <td>0.46</td>\n",
       "      <td>0.50</td>\n",
       "      <td>57510.49</td>\n",
       "      <td>0.4</td>\n",
       "    </tr>\n",
       "    <tr>\n",
       "      <th>min</th>\n",
       "      <td>1.00</td>\n",
       "      <td>15565701.00</td>\n",
       "      <td>350.00</td>\n",
       "      <td>18.00</td>\n",
       "      <td>0.00</td>\n",
       "      <td>0.00</td>\n",
       "      <td>1.00</td>\n",
       "      <td>0.00</td>\n",
       "      <td>0.00</td>\n",
       "      <td>11.58</td>\n",
       "      <td>0.0</td>\n",
       "    </tr>\n",
       "    <tr>\n",
       "      <th>25%</th>\n",
       "      <td>2500.75</td>\n",
       "      <td>15628528.25</td>\n",
       "      <td>584.00</td>\n",
       "      <td>32.00</td>\n",
       "      <td>3.00</td>\n",
       "      <td>0.00</td>\n",
       "      <td>1.00</td>\n",
       "      <td>0.00</td>\n",
       "      <td>0.00</td>\n",
       "      <td>51002.11</td>\n",
       "      <td>0.0</td>\n",
       "    </tr>\n",
       "    <tr>\n",
       "      <th>50%</th>\n",
       "      <td>5000.50</td>\n",
       "      <td>15690738.00</td>\n",
       "      <td>652.00</td>\n",
       "      <td>37.00</td>\n",
       "      <td>5.00</td>\n",
       "      <td>97198.54</td>\n",
       "      <td>1.00</td>\n",
       "      <td>1.00</td>\n",
       "      <td>1.00</td>\n",
       "      <td>100193.92</td>\n",
       "      <td>0.0</td>\n",
       "    </tr>\n",
       "    <tr>\n",
       "      <th>75%</th>\n",
       "      <td>7500.25</td>\n",
       "      <td>15753233.75</td>\n",
       "      <td>718.00</td>\n",
       "      <td>44.00</td>\n",
       "      <td>7.00</td>\n",
       "      <td>127644.24</td>\n",
       "      <td>2.00</td>\n",
       "      <td>1.00</td>\n",
       "      <td>1.00</td>\n",
       "      <td>149388.25</td>\n",
       "      <td>0.0</td>\n",
       "    </tr>\n",
       "    <tr>\n",
       "      <th>max</th>\n",
       "      <td>10000.00</td>\n",
       "      <td>15815690.00</td>\n",
       "      <td>850.00</td>\n",
       "      <td>92.00</td>\n",
       "      <td>10.00</td>\n",
       "      <td>250898.09</td>\n",
       "      <td>4.00</td>\n",
       "      <td>1.00</td>\n",
       "      <td>1.00</td>\n",
       "      <td>199992.48</td>\n",
       "      <td>1.0</td>\n",
       "    </tr>\n",
       "  </tbody>\n",
       "</table>\n",
       "</div>"
      ],
      "text/plain": [
       "       RowNumber   CustomerId  CreditScore       Age    Tenure    Balance  \\\n",
       "count   10000.00     10000.00     10000.00  10000.00  10000.00   10000.00   \n",
       "mean     5000.50  15690940.57       650.53     38.92      5.00   76485.89   \n",
       "std      2886.90     71936.19        96.65     10.49      2.76   62397.41   \n",
       "min         1.00  15565701.00       350.00     18.00      0.00       0.00   \n",
       "25%      2500.75  15628528.25       584.00     32.00      3.00       0.00   \n",
       "50%      5000.50  15690738.00       652.00     37.00      5.00   97198.54   \n",
       "75%      7500.25  15753233.75       718.00     44.00      7.00  127644.24   \n",
       "max     10000.00  15815690.00       850.00     92.00     10.00  250898.09   \n",
       "\n",
       "       NumOfProducts  HasCrCard  IsActiveMember  EstimatedSalary   Exited  \n",
       "count       10000.00   10000.00        10000.00         10000.00  10000.0  \n",
       "mean            1.53       0.71            0.52        100090.24      0.2  \n",
       "std             0.58       0.46            0.50         57510.49      0.4  \n",
       "min             1.00       0.00            0.00            11.58      0.0  \n",
       "25%             1.00       0.00            0.00         51002.11      0.0  \n",
       "50%             1.00       1.00            1.00        100193.92      0.0  \n",
       "75%             2.00       1.00            1.00        149388.25      0.0  \n",
       "max             4.00       1.00            1.00        199992.48      1.0  "
      ]
     },
     "execution_count": 10,
     "metadata": {},
     "output_type": "execute_result"
    }
   ],
   "source": [
    "#с помощью фунции describe отобразим представление о распределении значений\n",
    "data.describe().round(2)"
   ]
  },
  {
   "cell_type": "code",
   "execution_count": 11,
   "metadata": {},
   "outputs": [
    {
     "data": {
      "image/png": "[encoded data removed]",
      "text/plain": [
       "<Figure size 1600x600 with 2 Axes>"
      ]
     },
     "metadata": {},
     "output_type": "display_data"
    }
   ],
   "source": [
    "#Отобразим корреляцию столбцов \n",
    "\n",
    "plt.figure(figsize=(16, 6)) \n",
    "mask = np.triu(np.ones_like(data.corr(numeric_only=True), dtype=bool)) \n",
    "heatmap = sns.heatmap(data.corr(numeric_only=True), mask=mask, vmin=-1, vmax=1, annot=True, cmap='BrBG') \n",
    "heatmap.set_title('Треугольная тепловая карта корреляции', fontdict={'fontsize':18}, pad=16);"
   ]
  },
  {
   "cell_type": "code",
   "execution_count": 12,
   "metadata": {},
   "outputs": [
    {
     "name": "stdout",
     "output_type": "stream",
     "text": [
      "Количесвто явных дубликатов: 0\n"
     ]
    }
   ],
   "source": [
    "print(\"Количесвто явных дубликатов:\", data.duplicated().sum())"
   ]
  },
  {
   "cell_type": "code",
   "execution_count": 13,
   "metadata": {},
   "outputs": [],
   "source": [
    "#столбец Surname явно лишнее. Удалим его.\n",
    "data.drop(columns='Surname', inplace=True)\n"
   ]
  },
  {
   "cell_type": "code",
   "execution_count": 14,
   "metadata": {},
   "outputs": [],
   "source": [
    "#столбцы RowNumber и CustomerId тоже неинфомативны. удаляем\n",
    "data.drop(columns='RowNumber', inplace=True)\n",
    "data.drop(columns='CustomerId', inplace=True)"
   ]
  },
  {
   "cell_type": "markdown",
   "metadata": {},
   "source": [
    "## Исследование задачи"
   ]
  },
  {
   "cell_type": "code",
   "execution_count": 15,
   "metadata": {},
   "outputs": [
    {
     "name": "stdout",
     "output_type": "stream",
     "text": [
      "(6000, 10)\n",
      "(2000, 10)\n",
      "(2000, 10)\n"
     ]
    }
   ],
   "source": [
    "#разделим выборки на тренировочную, ввлидационную и тестовую в соотношении 6:2:2\n",
    "features = data.drop(['Exited'], axis=1)\n",
    "target = data['Exited']\n",
    "\n",
    "features_train, features_valid_test, target_train, target_valid_test = train_test_split(\n",
    "    features, target, test_size=0.4, random_state=12345\n",
    ")\n",
    "\n",
    "features_test, features_valid, target_test, target_valid = train_test_split(\n",
    "    features_valid_test, target_valid_test, test_size=0.5, random_state=12345\n",
    ")\n",
    "\n",
    "print(features_train.shape)\n",
    "print(features_valid.shape)\n",
    "print(features_test.shape)"
   ]
  },
  {
   "cell_type": "code",
   "execution_count": 16,
   "metadata": {},
   "outputs": [],
   "source": [
    "features_train_ridge = features_train.copy()\n",
    "features_valid_ridge = features_valid.copy()\n",
    "features_test_ridge = features_test.copy()"
   ]
  },
  {
   "cell_type": "code",
   "execution_count": 17,
   "metadata": {},
   "outputs": [],
   "source": [
    "#категориальные признаки\n",
    "ohe_features_ridge = ['Gender', 'Geography']\n",
    "#численные признаки\n",
    "num_features = [\n",
    "    'CreditScore', 'Age', 'Tenure', 'Balance', 'NumOfProducts', \n",
    "    'HasCrCard', 'IsActiveMember', 'EstimatedSalary'\n",
    "]"
   ]
  },
  {
   "cell_type": "code",
   "execution_count": 18,
   "metadata": {},
   "outputs": [
    {
     "data": {
      "text/html": [
       "<div>\n",
       "<style scoped>\n",
       "    .dataframe tbody tr th:only-of-type {\n",
       "        vertical-align: middle;\n",
       "    }\n",
       "\n",
       "    .dataframe tbody tr th {\n",
       "        vertical-align: top;\n",
       "    }\n",
       "\n",
       "    .dataframe thead th {\n",
       "        text-align: right;\n",
       "    }\n",
       "</style>\n",
       "<table border=\"1\" class=\"dataframe\">\n",
       "  <thead>\n",
       "    <tr style=\"text-align: right;\">\n",
       "      <th></th>\n",
       "      <th>CreditScore</th>\n",
       "      <th>Age</th>\n",
       "      <th>Tenure</th>\n",
       "      <th>Balance</th>\n",
       "      <th>NumOfProducts</th>\n",
       "      <th>HasCrCard</th>\n",
       "      <th>IsActiveMember</th>\n",
       "      <th>EstimatedSalary</th>\n",
       "      <th>Gender_Male</th>\n",
       "      <th>Geography_Germany</th>\n",
       "      <th>Geography_Spain</th>\n",
       "    </tr>\n",
       "  </thead>\n",
       "  <tbody>\n",
       "    <tr>\n",
       "      <th>7479</th>\n",
       "      <td>-0.886751</td>\n",
       "      <td>-0.373192</td>\n",
       "      <td>1.082277</td>\n",
       "      <td>1.232271</td>\n",
       "      <td>-0.891560</td>\n",
       "      <td>0.642466</td>\n",
       "      <td>-1.055187</td>\n",
       "      <td>-0.187705</td>\n",
       "      <td>1.0</td>\n",
       "      <td>0.0</td>\n",
       "      <td>1.0</td>\n",
       "    </tr>\n",
       "    <tr>\n",
       "      <th>3411</th>\n",
       "      <td>0.608663</td>\n",
       "      <td>-0.183385</td>\n",
       "      <td>1.082277</td>\n",
       "      <td>0.600563</td>\n",
       "      <td>-0.891560</td>\n",
       "      <td>-1.556504</td>\n",
       "      <td>-1.055187</td>\n",
       "      <td>-0.333945</td>\n",
       "      <td>0.0</td>\n",
       "      <td>0.0</td>\n",
       "      <td>0.0</td>\n",
       "    </tr>\n",
       "    <tr>\n",
       "      <th>6027</th>\n",
       "      <td>2.052152</td>\n",
       "      <td>0.480939</td>\n",
       "      <td>-0.737696</td>\n",
       "      <td>1.027098</td>\n",
       "      <td>0.830152</td>\n",
       "      <td>-1.556504</td>\n",
       "      <td>0.947699</td>\n",
       "      <td>1.503095</td>\n",
       "      <td>1.0</td>\n",
       "      <td>1.0</td>\n",
       "      <td>0.0</td>\n",
       "    </tr>\n",
       "    <tr>\n",
       "      <th>1247</th>\n",
       "      <td>-1.457915</td>\n",
       "      <td>-1.417129</td>\n",
       "      <td>0.354288</td>\n",
       "      <td>-1.233163</td>\n",
       "      <td>0.830152</td>\n",
       "      <td>0.642466</td>\n",
       "      <td>-1.055187</td>\n",
       "      <td>-1.071061</td>\n",
       "      <td>1.0</td>\n",
       "      <td>0.0</td>\n",
       "      <td>0.0</td>\n",
       "    </tr>\n",
       "    <tr>\n",
       "      <th>3716</th>\n",
       "      <td>0.130961</td>\n",
       "      <td>-1.132419</td>\n",
       "      <td>-1.101690</td>\n",
       "      <td>1.140475</td>\n",
       "      <td>-0.891560</td>\n",
       "      <td>-1.556504</td>\n",
       "      <td>-1.055187</td>\n",
       "      <td>1.524268</td>\n",
       "      <td>0.0</td>\n",
       "      <td>1.0</td>\n",
       "      <td>0.0</td>\n",
       "    </tr>\n",
       "  </tbody>\n",
       "</table>\n",
       "</div>"
      ],
      "text/plain": [
       "      CreditScore       Age    Tenure   Balance  NumOfProducts  HasCrCard  \\\n",
       "7479    -0.886751 -0.373192  1.082277  1.232271      -0.891560   0.642466   \n",
       "3411     0.608663 -0.183385  1.082277  0.600563      -0.891560  -1.556504   \n",
       "6027     2.052152  0.480939 -0.737696  1.027098       0.830152  -1.556504   \n",
       "1247    -1.457915 -1.417129  0.354288 -1.233163       0.830152   0.642466   \n",
       "3716     0.130961 -1.132419 -1.101690  1.140475      -0.891560  -1.556504   \n",
       "\n",
       "      IsActiveMember  EstimatedSalary  Gender_Male  Geography_Germany  \\\n",
       "7479       -1.055187        -0.187705          1.0                0.0   \n",
       "3411       -1.055187        -0.333945          0.0                0.0   \n",
       "6027        0.947699         1.503095          1.0                1.0   \n",
       "1247       -1.055187        -1.071061          1.0                0.0   \n",
       "3716       -1.055187         1.524268          0.0                1.0   \n",
       "\n",
       "      Geography_Spain  \n",
       "7479              1.0  \n",
       "3411              0.0  \n",
       "6027              0.0  \n",
       "1247              0.0  \n",
       "3716              0.0  "
      ]
     },
     "execution_count": 18,
     "metadata": {},
     "output_type": "execute_result"
    }
   ],
   "source": [
    "# используем OHE кодирование категориальных признаков и StandardScaler для численных признаков. \n",
    "encoder_ohe = OneHotEncoder(drop='first', handle_unknown='ignore', sparse=False)\n",
    "\n",
    "encoder_ohe.fit(features_train_ridge[ohe_features_ridge])\n",
    "\n",
    "features_train_ridge[\n",
    "    encoder_ohe.get_feature_names_out()\n",
    "] = encoder_ohe.transform(features_train_ridge[ohe_features_ridge])\n",
    "\n",
    "features_train_ridge = features_train_ridge.drop(ohe_features_ridge, axis=1)\n",
    "\n",
    "# создаём скелер\n",
    "scaler = StandardScaler()\n",
    "\n",
    "# обучаем его на численных признаках тренировочной выборки, трансформируем её же\n",
    "features_train_ridge[num_features] = scaler.fit_transform(features_train_ridge[num_features])\n",
    "\n",
    "# смотрим на результат\n",
    "features_train_ridge.head()"
   ]
  },
  {
   "cell_type": "code",
   "execution_count": 19,
   "metadata": {},
   "outputs": [
    {
     "data": {
      "text/html": [
       "<div>\n",
       "<style scoped>\n",
       "    .dataframe tbody tr th:only-of-type {\n",
       "        vertical-align: middle;\n",
       "    }\n",
       "\n",
       "    .dataframe tbody tr th {\n",
       "        vertical-align: top;\n",
       "    }\n",
       "\n",
       "    .dataframe thead th {\n",
       "        text-align: right;\n",
       "    }\n",
       "</style>\n",
       "<table border=\"1\" class=\"dataframe\">\n",
       "  <thead>\n",
       "    <tr style=\"text-align: right;\">\n",
       "      <th></th>\n",
       "      <th>CreditScore</th>\n",
       "      <th>Age</th>\n",
       "      <th>Tenure</th>\n",
       "      <th>Balance</th>\n",
       "      <th>NumOfProducts</th>\n",
       "      <th>HasCrCard</th>\n",
       "      <th>IsActiveMember</th>\n",
       "      <th>EstimatedSalary</th>\n",
       "      <th>Gender_Male</th>\n",
       "      <th>Geography_Germany</th>\n",
       "      <th>Geography_Spain</th>\n",
       "    </tr>\n",
       "  </thead>\n",
       "  <tbody>\n",
       "    <tr>\n",
       "      <th>7041</th>\n",
       "      <td>-2.226392</td>\n",
       "      <td>-0.088482</td>\n",
       "      <td>-1.101690</td>\n",
       "      <td>-1.233163</td>\n",
       "      <td>0.830152</td>\n",
       "      <td>0.642466</td>\n",
       "      <td>-1.055187</td>\n",
       "      <td>0.647083</td>\n",
       "      <td>1.0</td>\n",
       "      <td>0.0</td>\n",
       "      <td>0.0</td>\n",
       "    </tr>\n",
       "    <tr>\n",
       "      <th>5709</th>\n",
       "      <td>-0.087120</td>\n",
       "      <td>0.006422</td>\n",
       "      <td>1.446272</td>\n",
       "      <td>-1.233163</td>\n",
       "      <td>-0.891560</td>\n",
       "      <td>0.642466</td>\n",
       "      <td>-1.055187</td>\n",
       "      <td>-1.658410</td>\n",
       "      <td>0.0</td>\n",
       "      <td>0.0</td>\n",
       "      <td>0.0</td>\n",
       "    </tr>\n",
       "    <tr>\n",
       "      <th>7117</th>\n",
       "      <td>-0.917905</td>\n",
       "      <td>-0.752805</td>\n",
       "      <td>-0.009707</td>\n",
       "      <td>0.722307</td>\n",
       "      <td>-0.891560</td>\n",
       "      <td>0.642466</td>\n",
       "      <td>0.947699</td>\n",
       "      <td>-1.369334</td>\n",
       "      <td>1.0</td>\n",
       "      <td>0.0</td>\n",
       "      <td>1.0</td>\n",
       "    </tr>\n",
       "    <tr>\n",
       "      <th>7775</th>\n",
       "      <td>-0.253277</td>\n",
       "      <td>0.101325</td>\n",
       "      <td>1.810266</td>\n",
       "      <td>-1.233163</td>\n",
       "      <td>0.830152</td>\n",
       "      <td>0.642466</td>\n",
       "      <td>-1.055187</td>\n",
       "      <td>0.075086</td>\n",
       "      <td>1.0</td>\n",
       "      <td>0.0</td>\n",
       "      <td>1.0</td>\n",
       "    </tr>\n",
       "    <tr>\n",
       "      <th>8735</th>\n",
       "      <td>0.785204</td>\n",
       "      <td>-0.847708</td>\n",
       "      <td>1.810266</td>\n",
       "      <td>0.615625</td>\n",
       "      <td>-0.891560</td>\n",
       "      <td>-1.556504</td>\n",
       "      <td>0.947699</td>\n",
       "      <td>-1.070919</td>\n",
       "      <td>1.0</td>\n",
       "      <td>0.0</td>\n",
       "      <td>0.0</td>\n",
       "    </tr>\n",
       "  </tbody>\n",
       "</table>\n",
       "</div>"
      ],
      "text/plain": [
       "      CreditScore       Age    Tenure   Balance  NumOfProducts  HasCrCard  \\\n",
       "7041    -2.226392 -0.088482 -1.101690 -1.233163       0.830152   0.642466   \n",
       "5709    -0.087120  0.006422  1.446272 -1.233163      -0.891560   0.642466   \n",
       "7117    -0.917905 -0.752805 -0.009707  0.722307      -0.891560   0.642466   \n",
       "7775    -0.253277  0.101325  1.810266 -1.233163       0.830152   0.642466   \n",
       "8735     0.785204 -0.847708  1.810266  0.615625      -0.891560  -1.556504   \n",
       "\n",
       "      IsActiveMember  EstimatedSalary  Gender_Male  Geography_Germany  \\\n",
       "7041       -1.055187         0.647083          1.0                0.0   \n",
       "5709       -1.055187        -1.658410          0.0                0.0   \n",
       "7117        0.947699        -1.369334          1.0                0.0   \n",
       "7775       -1.055187         0.075086          1.0                0.0   \n",
       "8735        0.947699        -1.070919          1.0                0.0   \n",
       "\n",
       "      Geography_Spain  \n",
       "7041              0.0  \n",
       "5709              0.0  \n",
       "7117              1.0  \n",
       "7775              1.0  \n",
       "8735              0.0  "
      ]
     },
     "execution_count": 19,
     "metadata": {},
     "output_type": "execute_result"
    }
   ],
   "source": [
    "features_valid_ridge[\n",
    "    encoder_ohe.get_feature_names_out()\n",
    "] = encoder_ohe.transform(features_valid_ridge[ohe_features_ridge])\n",
    "\n",
    "features_valid_ridge = features_valid_ridge.drop(ohe_features_ridge, axis=1)\n",
    "\n",
    "# скелером, который обучен на ТРЕНИРОВОЧНОЙ ВЫБОРКЕ, масштабируем валидационную\n",
    "features_valid_ridge[num_features] = scaler.transform(\n",
    "    features_valid_ridge[num_features]\n",
    ")\n",
    "\n",
    "# смотрим на результат\n",
    "features_valid_ridge.head()"
   ]
  },
  {
   "cell_type": "code",
   "execution_count": 20,
   "metadata": {},
   "outputs": [
    {
     "data": {
      "text/html": [
       "<div>\n",
       "<style scoped>\n",
       "    .dataframe tbody tr th:only-of-type {\n",
       "        vertical-align: middle;\n",
       "    }\n",
       "\n",
       "    .dataframe tbody tr th {\n",
       "        vertical-align: top;\n",
       "    }\n",
       "\n",
       "    .dataframe thead th {\n",
       "        text-align: right;\n",
       "    }\n",
       "</style>\n",
       "<table border=\"1\" class=\"dataframe\">\n",
       "  <thead>\n",
       "    <tr style=\"text-align: right;\">\n",
       "      <th></th>\n",
       "      <th>CreditScore</th>\n",
       "      <th>Age</th>\n",
       "      <th>Tenure</th>\n",
       "      <th>Balance</th>\n",
       "      <th>NumOfProducts</th>\n",
       "      <th>HasCrCard</th>\n",
       "      <th>IsActiveMember</th>\n",
       "      <th>EstimatedSalary</th>\n",
       "      <th>Gender_Male</th>\n",
       "      <th>Geography_Germany</th>\n",
       "      <th>Geography_Spain</th>\n",
       "    </tr>\n",
       "  </thead>\n",
       "  <tbody>\n",
       "    <tr>\n",
       "      <th>8532</th>\n",
       "      <td>-0.699824</td>\n",
       "      <td>-0.373192</td>\n",
       "      <td>-1.101690</td>\n",
       "      <td>-1.233163</td>\n",
       "      <td>0.830152</td>\n",
       "      <td>0.642466</td>\n",
       "      <td>-1.055187</td>\n",
       "      <td>-0.015173</td>\n",
       "      <td>0.0</td>\n",
       "      <td>0.0</td>\n",
       "      <td>0.0</td>\n",
       "    </tr>\n",
       "    <tr>\n",
       "      <th>5799</th>\n",
       "      <td>-0.284431</td>\n",
       "      <td>0.575842</td>\n",
       "      <td>-0.737696</td>\n",
       "      <td>-1.233163</td>\n",
       "      <td>-0.891560</td>\n",
       "      <td>0.642466</td>\n",
       "      <td>0.947699</td>\n",
       "      <td>1.471724</td>\n",
       "      <td>0.0</td>\n",
       "      <td>0.0</td>\n",
       "      <td>0.0</td>\n",
       "    </tr>\n",
       "    <tr>\n",
       "      <th>5511</th>\n",
       "      <td>0.151731</td>\n",
       "      <td>-0.657902</td>\n",
       "      <td>-1.829679</td>\n",
       "      <td>0.438711</td>\n",
       "      <td>-0.891560</td>\n",
       "      <td>0.642466</td>\n",
       "      <td>-1.055187</td>\n",
       "      <td>-1.367107</td>\n",
       "      <td>1.0</td>\n",
       "      <td>1.0</td>\n",
       "      <td>0.0</td>\n",
       "    </tr>\n",
       "    <tr>\n",
       "      <th>7365</th>\n",
       "      <td>-0.876366</td>\n",
       "      <td>-0.278288</td>\n",
       "      <td>1.810266</td>\n",
       "      <td>1.239884</td>\n",
       "      <td>-0.891560</td>\n",
       "      <td>0.642466</td>\n",
       "      <td>0.947699</td>\n",
       "      <td>-0.786517</td>\n",
       "      <td>0.0</td>\n",
       "      <td>0.0</td>\n",
       "      <td>1.0</td>\n",
       "    </tr>\n",
       "    <tr>\n",
       "      <th>7367</th>\n",
       "      <td>-0.481743</td>\n",
       "      <td>0.291132</td>\n",
       "      <td>1.810266</td>\n",
       "      <td>-1.233163</td>\n",
       "      <td>0.830152</td>\n",
       "      <td>0.642466</td>\n",
       "      <td>-1.055187</td>\n",
       "      <td>1.358533</td>\n",
       "      <td>1.0</td>\n",
       "      <td>0.0</td>\n",
       "      <td>1.0</td>\n",
       "    </tr>\n",
       "  </tbody>\n",
       "</table>\n",
       "</div>"
      ],
      "text/plain": [
       "      CreditScore       Age    Tenure   Balance  NumOfProducts  HasCrCard  \\\n",
       "8532    -0.699824 -0.373192 -1.101690 -1.233163       0.830152   0.642466   \n",
       "5799    -0.284431  0.575842 -0.737696 -1.233163      -0.891560   0.642466   \n",
       "5511     0.151731 -0.657902 -1.829679  0.438711      -0.891560   0.642466   \n",
       "7365    -0.876366 -0.278288  1.810266  1.239884      -0.891560   0.642466   \n",
       "7367    -0.481743  0.291132  1.810266 -1.233163       0.830152   0.642466   \n",
       "\n",
       "      IsActiveMember  EstimatedSalary  Gender_Male  Geography_Germany  \\\n",
       "8532       -1.055187        -0.015173          0.0                0.0   \n",
       "5799        0.947699         1.471724          0.0                0.0   \n",
       "5511       -1.055187        -1.367107          1.0                1.0   \n",
       "7365        0.947699        -0.786517          0.0                0.0   \n",
       "7367       -1.055187         1.358533          1.0                0.0   \n",
       "\n",
       "      Geography_Spain  \n",
       "8532              0.0  \n",
       "5799              0.0  \n",
       "5511              0.0  \n",
       "7365              1.0  \n",
       "7367              1.0  "
      ]
     },
     "execution_count": 20,
     "metadata": {},
     "output_type": "execute_result"
    }
   ],
   "source": [
    "features_test_ridge[\n",
    "    encoder_ohe.get_feature_names_out()\n",
    "] = encoder_ohe.transform(features_test_ridge[ohe_features_ridge])\n",
    "\n",
    "features_test_ridge = features_test_ridge.drop(ohe_features_ridge, axis=1)\n",
    "\n",
    "# скелером, который обучен на ТРЕНИРОВОЧНОЙ ВЫБОРКЕ, масштабируем тестовую\n",
    "features_test_ridge[num_features] = scaler.transform(\n",
    "    features_test_ridge[num_features]\n",
    ")\n",
    "\n",
    "# смотрим на результат\n",
    "features_test_ridge.head()"
   ]
  },
  {
   "cell_type": "code",
   "execution_count": 21,
   "metadata": {},
   "outputs": [
    {
     "name": "stdout",
     "output_type": "stream",
     "text": [
      "(6000, 11)\n",
      "(2000, 11)\n",
      "(2000, 11)\n"
     ]
    }
   ],
   "source": [
    "#проверим размеры\n",
    "print(features_train_ridge.shape)\n",
    "print(features_valid_ridge.shape)\n",
    "print(features_test_ridge.shape)"
   ]
  },
  {
   "cell_type": "code",
   "execution_count": 22,
   "metadata": {},
   "outputs": [
    {
     "data": {
      "text/plain": [
       "Exited\n",
       "0    0.800667\n",
       "1    0.199333\n",
       "Name: proportion, dtype: float64"
      ]
     },
     "execution_count": 22,
     "metadata": {},
     "output_type": "execute_result"
    }
   ],
   "source": [
    "# посмотрим соотношение данных в target_train\n",
    "target_train.value_counts(normalize=True)"
   ]
  },
  {
   "cell_type": "markdown",
   "metadata": {},
   "source": [
    "> В нашей задаче наблюдается сильный дисбаланс классов. "
   ]
  },
  {
   "cell_type": "code",
   "execution_count": 23,
   "metadata": {},
   "outputs": [
    {
     "name": "stdout",
     "output_type": "stream",
     "text": [
      "F1 = 0.000, AUC-ROC = 0.681 на шаге 1\n",
      "F1 = 0.499, AUC-ROC = 0.728 на шаге 2\n",
      "F1 = 0.380, AUC-ROC = 0.792 на шаге 3\n",
      "F1 = 0.483, AUC-ROC = 0.812 на шаге 4\n",
      "F1 = 0.502, AUC-ROC = 0.831 на шаге 5\n",
      "F1 = 0.534, AUC-ROC = 0.839 на шаге 6\n",
      "F1 = 0.507, AUC-ROC = 0.826 на шаге 7\n",
      "F1 = 0.488, AUC-ROC = 0.802 на шаге 8\n",
      "F1 = 0.531, AUC-ROC = 0.778 на шаге 9\n",
      "F1 = 0.498, AUC-ROC = 0.753 на шаге 10\n",
      "F1 = 0.491, AUC-ROC = 0.709 на шаге 11\n",
      "F1 = 0.489, AUC-ROC = 0.700 на шаге 12\n",
      "F1 = 0.488, AUC-ROC = 0.686 на шаге 13\n",
      "F1 = 0.491, AUC-ROC = 0.682 на шаге 14\n",
      "\n",
      "F1 для дерева решений = 0.5337423312883436\n",
      "Максимальная глубина = 6\n",
      "AUC-ROC = 0.8394526219847661\n"
     ]
    }
   ],
   "source": [
    "#Модель дерева решений без учёта дисбаланса\n",
    "\n",
    "best_f1_dtc = 0\n",
    "best_depth_dtc = 0\n",
    "best_auc_roc = 0\n",
    "for depth in range(1, 15):\n",
    "    model_dtc = DecisionTreeClassifier(random_state=12345, max_depth=depth)\n",
    "    model_dtc.fit(features_train_ridge, target_train)\n",
    "    predicted_valid_dtc = model_dtc.predict(features_valid_ridge)\n",
    "    f1_dtc = f1_score(target_valid, predicted_valid_dtc)\n",
    "    auc_roc_dtc = roc_auc_score(target_valid, model_dtc.predict_proba(features_valid_ridge)[:, 1])\n",
    "    print(\"F1 = {:.3f}, AUC-ROC = {:.3f}\".format(f1_dtc, auc_roc_dtc), 'на шаге', depth)\n",
    "    if f1_dtc > best_f1_dtc:\n",
    "        best_f1_dtc = f1_dtc\n",
    "        best_depth_dtc = depth\n",
    "        best_auc_roc = auc_roc_dtc\n",
    "        \n",
    "print()\n",
    "print('F1 для дерева решений =', best_f1_dtc)\n",
    "print('Максимальная глубина =', best_depth_dtc)\n",
    "print('AUC-ROC =', best_auc_roc)"
   ]
  },
  {
   "cell_type": "code",
   "execution_count": 24,
   "metadata": {},
   "outputs": [
    {
     "name": "stdout",
     "output_type": "stream",
     "text": [
      "F1 для логистической регрессии = 0.27478260869565213\n",
      "AUC-ROC для логистической регрессии = 0.7386919833121213\n"
     ]
    }
   ],
   "source": [
    "#Модель логистической регрессии без учёта дисбаланса\n",
    "\n",
    "model_lg = LogisticRegression(random_state=12345, solver='liblinear', max_iter=1000)\n",
    "model_lg.fit(features_train_ridge, target_train)\n",
    "predicted_valid_lg = model_lg.predict(features_valid_ridge)\n",
    "print('F1 для логистической регрессии =', f1_score(target_valid, predicted_valid_lg))\n",
    "print('AUC-ROC для логистической регрессии =', roc_auc_score(target_valid, model_lg.predict_proba(features_valid_ridge)[:, 1]))"
   ]
  },
  {
   "cell_type": "code",
   "execution_count": 25,
   "metadata": {},
   "outputs": [
    {
     "name": "stdout",
     "output_type": "stream",
     "text": [
      "F1 для случайного леса = 0.5285935085007728\n",
      "Максимальная глубина = 9\n",
      "Число деревьев = 56\n",
      "AUC-ROC = 0.855145854039525\n"
     ]
    }
   ],
   "source": [
    "#Модель случайного леса без учёта дисбаланса\n",
    "\n",
    "best_f1_rfc = 0\n",
    "best_depth_rfc = 0\n",
    "best_est_rfc = 0\n",
    "best_roc_auc_score_rfc = 0\n",
    "for depth in range(1, 10):\n",
    "    for est in range(1, 100):\n",
    "        model_rfc = RandomForestClassifier(random_state=12345, n_estimators=est, max_depth=depth)\n",
    "        model_rfc.fit(features_train_ridge, target_train)\n",
    "        predicted_valid_rfc = model_rfc.predict(features_valid_ridge)\n",
    "        f1_rfc = f1_score(target_valid, predicted_valid_rfc)\n",
    "        roc_auc_score_rfc = roc_auc_score(target_valid, model_rfc.predict_proba(features_valid_ridge)[:,1])\n",
    "        if f1_rfc > best_f1_rfc:\n",
    "            best_f1_rfc = f1_rfc\n",
    "            best_depth_rfc = depth\n",
    "            best_est_rfc = est\n",
    "            best_roc_auc_score_rfc = roc_auc_score_rfc\n",
    "            \n",
    "print('F1 для случайного леса =', best_f1_rfc)\n",
    "print('Максимальная глубина =', best_depth_rfc)\n",
    "print('Число деревьев =', best_est_rfc)\n",
    "print('AUC-ROC =', best_roc_auc_score_rfc)"
   ]
  },
  {
   "cell_type": "markdown",
   "metadata": {},
   "source": [
    ">Провели обучение моделей без учета дисбаланса. Лучшие показатели у модели дерева решений: F1 = 0.53.\n",
    "Для этой модели построим матрицу ошибок и найдем долю верно найденного оттока клиентов."
   ]
  },
  {
   "cell_type": "code",
   "execution_count": 26,
   "metadata": {},
   "outputs": [
    {
     "data": {
      "text/plain": [
       "0.5337423312883436"
      ]
     },
     "execution_count": 26,
     "metadata": {},
     "output_type": "execute_result"
    }
   ],
   "source": [
    "model_dtc = DecisionTreeClassifier(random_state=12345, max_depth=6)\n",
    "model_dtc.fit(features_train_ridge, target_train)\n",
    "predicted_valid_dtc = model_dtc.predict(features_valid_ridge)\n",
    "f1_dtc = f1_score(target_valid, predicted_valid_dtc)\n",
    "auc_roc_dtc = roc_auc_score(target_valid, model_dtc.predict_proba(features_valid_ridge)[:, 1])\n",
    "f1_dtc"
   ]
  },
  {
   "cell_type": "code",
   "execution_count": 27,
   "metadata": {},
   "outputs": [
    {
     "data": {
      "text/plain": [
       "array([[1527,   50],\n",
       "       [ 260,  163]], dtype=int64)"
      ]
     },
     "execution_count": 27,
     "metadata": {},
     "output_type": "execute_result"
    }
   ],
   "source": [
    "#Наглядно представиv результаты вычислений метрик точности и полноты .\n",
    "#построим матрицу ошибок\n",
    "cm = confusion_matrix(target_valid, predicted_valid_rfc, labels=model_rfc.classes_)\n",
    "cm"
   ]
  },
  {
   "cell_type": "code",
   "execution_count": 29,
   "metadata": {
    "scrolled": true
   },
   "outputs": [
    {
     "data": {
      "image/png": "[encoded data removed]",
      "text/plain": [
       "<Figure size 640x480 with 2 Axes>"
      ]
     },
     "metadata": {},
     "output_type": "display_data"
    }
   ],
   "source": [
    "cm_disp = ConfusionMatrixDisplay(confusion_matrix=cm)\n",
    "cm_disp.plot()\n",
    "plt.title('Матрица ошибок')\n",
    "plt.show()\n",
    "#у меня не получилось присвоить название графику ... "
   ]
  },
  {
   "cell_type": "code",
   "execution_count": 30,
   "metadata": {},
   "outputs": [
    {
     "name": "stdout",
     "output_type": "stream",
     "text": [
      "доля верно найденного оттока клиентов: 0.41134751773049644\n"
     ]
    }
   ],
   "source": [
    "#recall - доля верно найденного оттока клиентов.\n",
    "\n",
    "print('доля верно найденного оттока клиентов:', recall_score(target_valid, predicted_valid_dtc))"
   ]
  },
  {
   "cell_type": "markdown",
   "metadata": {},
   "source": [
    "На Матрице ошибок на главной диагонали показано количество правильно классифицированных примеров.\n",
    "recall - доля верно найденного оттока клиентов составила - 0.41\n"
   ]
  },
  {
   "cell_type": "markdown",
   "metadata": {},
   "source": [
    "## Борьба с дисбалансом"
   ]
  },
  {
   "cell_type": "markdown",
   "metadata": {},
   "source": [
    "Устраним дисбаланс тремя способами, и посмотрим результаты:\n",
    "- class_weight;\n",
    "- увеличение выборки;\n",
    "- уменьшение выборки."
   ]
  },
  {
   "cell_type": "markdown",
   "metadata": {},
   "source": [
    "### class_weight"
   ]
  },
  {
   "cell_type": "code",
   "execution_count": 31,
   "metadata": {},
   "outputs": [
    {
     "name": "stdout",
     "output_type": "stream",
     "text": [
      "F1 = 0.485, AUC-ROC = 0.681 на шаге 1\n",
      "F1 = 0.513, AUC-ROC = 0.728 на шаге 2\n",
      "F1 = 0.513, AUC-ROC = 0.791 на шаге 3\n",
      "F1 = 0.539, AUC-ROC = 0.819 на шаге 4\n",
      "F1 = 0.581, AUC-ROC = 0.836 на шаге 5\n",
      "F1 = 0.564, AUC-ROC = 0.819 на шаге 6\n",
      "F1 = 0.559, AUC-ROC = 0.800 на шаге 7\n",
      "F1 = 0.548, AUC-ROC = 0.781 на шаге 8\n",
      "F1 = 0.549, AUC-ROC = 0.776 на шаге 9\n",
      "F1 = 0.526, AUC-ROC = 0.754 на шаге 10\n",
      "F1 = 0.522, AUC-ROC = 0.741 на шаге 11\n",
      "F1 = 0.524, AUC-ROC = 0.725 на шаге 12\n",
      "F1 = 0.514, AUC-ROC = 0.707 на шаге 13\n",
      "F1 = 0.508, AUC-ROC = 0.697 на шаге 14\n",
      "\n",
      "F1 для дерева решений с учетом дисбаланса методом class_weight = 0.5809128630705395\n",
      "Максимальная глубина = 5\n",
      "AUC-ROC = 0.8355347481752318\n"
     ]
    }
   ],
   "source": [
    "#Модель дерева решений с учётом дисбаланса (метод class_weight)\n",
    "\n",
    "best_f1_dtc = 0\n",
    "best_depth_dtc = 0\n",
    "best_auc_roc = 0\n",
    "for depth in range(1, 15):\n",
    "    model_dtc = DecisionTreeClassifier(random_state=12345, class_weight='balanced', max_depth=depth)\n",
    "    model_dtc.fit(features_train_ridge, target_train)\n",
    "    predicted_valid_dtc = model_dtc.predict(features_valid_ridge)\n",
    "    f1_dtc = f1_score(target_valid, predicted_valid_dtc)\n",
    "    auc_roc_dtc = roc_auc_score(target_valid, model_dtc.predict_proba(features_valid_ridge)[:, 1])\n",
    "    print(\"F1 = {:.3f}, AUC-ROC = {:.3f}\".format(f1_dtc, auc_roc_dtc), 'на шаге', depth)\n",
    "    if f1_dtc > best_f1_dtc:\n",
    "        best_f1_dtc = f1_dtc\n",
    "        best_depth_dtc = depth\n",
    "        best_auc_roc = auc_roc_dtc\n",
    "        \n",
    "print()\n",
    "print('F1 для дерева решений с учетом дисбаланса методом class_weight =', best_f1_dtc)\n",
    "print('Максимальная глубина =', best_depth_dtc)\n",
    "print('AUC-ROC =', best_auc_roc)"
   ]
  },
  {
   "cell_type": "code",
   "execution_count": 32,
   "metadata": {},
   "outputs": [
    {
     "name": "stdout",
     "output_type": "stream",
     "text": [
      "F1 для логистической регрессии с учетом дисбаланса методом class_weight = 0.4775086505190312\n",
      "AUC-ROC для логистической регрессии = 0.7417201467310076\n"
     ]
    }
   ],
   "source": [
    "#Модель логистической регрессии с учётом дисбаланса\n",
    "\n",
    "model_lg = LogisticRegression(random_state=12345, class_weight='balanced', solver='liblinear', max_iter=1000)\n",
    "model_lg.fit(features_train_ridge, target_train)\n",
    "predicted_valid_lg = model_lg.predict(features_valid_ridge)\n",
    "print('F1 для логистической регрессии с учетом дисбаланса методом class_weight =', f1_score(target_valid, predicted_valid_lg))\n",
    "print('AUC-ROC для логистической регрессии =', roc_auc_score(target_valid, model_lg.predict_proba(features_valid_ridge)[:, 1]))"
   ]
  },
  {
   "cell_type": "code",
   "execution_count": 33,
   "metadata": {},
   "outputs": [
    {
     "name": "stdout",
     "output_type": "stream",
     "text": [
      "F1 для случайного леса с учетом дисбаланса методом class_weight = 0.6226012793176973\n",
      "Максимальная глубина = 8\n",
      "Число деревьев = 83\n",
      "AUC-ROC = 0.8564620557631796\n"
     ]
    }
   ],
   "source": [
    "#Модель случайного леса с учётом дисбаланса\n",
    "\n",
    "best_f1_rfc = 0\n",
    "best_depth_rfc = 0\n",
    "best_est_rfc = 0\n",
    "best_roc_auc_score_rfc = 0\n",
    "for depth in range(1, 10):\n",
    "    for est in range(1, 100):\n",
    "        model_rfc = RandomForestClassifier(random_state=12345, class_weight='balanced', n_estimators=est, max_depth=depth)\n",
    "        model_rfc.fit(features_train_ridge, target_train)\n",
    "        predicted_valid_rfc = model_rfc.predict(features_valid_ridge)\n",
    "        f1_rfc = f1_score(target_valid, predicted_valid_rfc)\n",
    "        roc_auc_score_rfc = roc_auc_score(target_valid, model_rfc.predict_proba(features_valid_ridge)[:,1])\n",
    "        if f1_rfc > best_f1_rfc:\n",
    "            best_f1_rfc = f1_rfc\n",
    "            best_depth_rfc = depth\n",
    "            best_est_rfc = est\n",
    "            best_roc_auc_score_rfc = roc_auc_score_rfc\n",
    "            \n",
    "print('F1 для случайного леса с учетом дисбаланса методом class_weight =', best_f1_rfc)\n",
    "print('Максимальная глубина =', best_depth_rfc)\n",
    "print('Число деревьев =', best_est_rfc)\n",
    "print('AUC-ROC =', best_roc_auc_score_rfc)"
   ]
  },
  {
   "cell_type": "markdown",
   "metadata": {},
   "source": [
    "### Увеличение выборки"
   ]
  },
  {
   "cell_type": "code",
   "execution_count": 34,
   "metadata": {},
   "outputs": [],
   "source": [
    "oversample = SMOTE(random_state=12345)\n",
    "\n",
    "features_upsampled, target_upsampled = oversample.fit_resample(features_train_ridge, target_train)"
   ]
  },
  {
   "cell_type": "code",
   "execution_count": 35,
   "metadata": {},
   "outputs": [
    {
     "name": "stdout",
     "output_type": "stream",
     "text": [
      "F1 = 0.475, AUC-ROC = 0.679 на шаге 1\n",
      "F1 = 0.462, AUC-ROC = 0.731 на шаге 2\n",
      "F1 = 0.515, AUC-ROC = 0.758 на шаге 3\n",
      "F1 = 0.515, AUC-ROC = 0.780 на шаге 4\n",
      "F1 = 0.524, AUC-ROC = 0.809 на шаге 5\n",
      "F1 = 0.563, AUC-ROC = 0.825 на шаге 6\n",
      "F1 = 0.552, AUC-ROC = 0.816 на шаге 7\n",
      "F1 = 0.567, AUC-ROC = 0.803 на шаге 8\n",
      "F1 = 0.536, AUC-ROC = 0.797 на шаге 9\n",
      "F1 = 0.562, AUC-ROC = 0.795 на шаге 10\n",
      "F1 = 0.556, AUC-ROC = 0.769 на шаге 11\n",
      "F1 = 0.549, AUC-ROC = 0.758 на шаге 12\n",
      "F1 = 0.520, AUC-ROC = 0.740 на шаге 13\n",
      "F1 = 0.519, AUC-ROC = 0.718 на шаге 14\n",
      "\n",
      "F1 для дерева решений с учетом дисбаланса методом увеличения выборки = 0.5668103448275863\n",
      "Максимальная глубина = 8\n",
      "AUC-ROC = 0.8026139646304516\n"
     ]
    }
   ],
   "source": [
    "#Модель дерева решений с учётом дисбаланса\n",
    "\n",
    "best_f1_dtc = 0\n",
    "best_depth_dtc = 0\n",
    "best_auc_roc = 0\n",
    "for depth in range(1, 15):\n",
    "    model_dtc = DecisionTreeClassifier(random_state=12345, max_depth=depth)\n",
    "    model_dtc.fit(features_upsampled, target_upsampled)\n",
    "    predicted_valid_dtc = model_dtc.predict(features_valid_ridge)\n",
    "    f1_dtc = f1_score(target_valid, predicted_valid_dtc)\n",
    "    auc_roc_dtc = roc_auc_score(target_valid, model_dtc.predict_proba(features_valid_ridge)[:, 1])\n",
    "    print(\"F1 = {:.3f}, AUC-ROC = {:.3f}\".format(f1_dtc, auc_roc_dtc), 'на шаге', depth)\n",
    "    if f1_dtc > best_f1_dtc:\n",
    "        best_f1_dtc = f1_dtc\n",
    "        best_depth_dtc = depth\n",
    "        best_auc_roc = auc_roc_dtc\n",
    "        \n",
    "print()\n",
    "print('F1 для дерева решений с учетом дисбаланса методом увеличения выборки =', best_f1_dtc)\n",
    "print('Максимальная глубина =', best_depth_dtc)\n",
    "print('AUC-ROC =', best_auc_roc)"
   ]
  },
  {
   "cell_type": "code",
   "execution_count": 36,
   "metadata": {},
   "outputs": [
    {
     "name": "stdout",
     "output_type": "stream",
     "text": [
      "F1 для случайного леса с учетом дисбаланса методом увеличения выборки = 0.6255411255411255\n",
      "Максимальная глубина = 8\n",
      "Число деревьев = 27\n",
      "AUC-ROC = 0.8548377908798314\n"
     ]
    }
   ],
   "source": [
    "#Модель случайного леса с учётом дисбаланса\n",
    "\n",
    "best_f1_rfc = 0\n",
    "best_depth_rfc = 0\n",
    "best_est_rfc = 0\n",
    "best_roc_auc_score_rfc = 0\n",
    "for depth in range(1, 10):\n",
    "    for est in range(1, 100):\n",
    "        model_rfc = RandomForestClassifier(random_state=12345, n_estimators=est, max_depth=depth)\n",
    "        model_rfc.fit(features_upsampled, target_upsampled)\n",
    "        predicted_valid_rfc = model_rfc.predict(features_valid_ridge)\n",
    "        f1_rfc = f1_score(target_valid, predicted_valid_rfc)\n",
    "        roc_auc_score_rfc = roc_auc_score(target_valid, model_rfc.predict_proba(features_valid_ridge)[:,1])\n",
    "        if f1_rfc > best_f1_rfc:\n",
    "            best_f1_rfc = f1_rfc\n",
    "            best_depth_rfc = depth\n",
    "            best_est_rfc = est\n",
    "            best_roc_auc_score_rfc = roc_auc_score_rfc\n",
    "            \n",
    "print('F1 для случайного леса с учетом дисбаланса методом увеличения выборки =', best_f1_rfc)\n",
    "print('Максимальная глубина =', best_depth_rfc)\n",
    "print('Число деревьев =', best_est_rfc)\n",
    "print('AUC-ROC =', best_roc_auc_score_rfc)"
   ]
  },
  {
   "cell_type": "markdown",
   "metadata": {},
   "source": [
    "### Уменьшение выборки"
   ]
  },
  {
   "cell_type": "code",
   "execution_count": 37,
   "metadata": {},
   "outputs": [],
   "source": [
    "def downsample(features, target, fraction):\n",
    "    features_zeros = features[target == 0]\n",
    "    features_ones = features[target == 1]\n",
    "    target_zeros = target[target == 0]\n",
    "    target_ones = target[target == 1]\n",
    "\n",
    "    features_downsampled = pd.concat(\n",
    "        [features_zeros.sample(frac=fraction, random_state=12345)] + [features_ones])\n",
    "    target_downsampled = pd.concat(\n",
    "        [target_zeros.sample(frac=fraction, random_state=12345)] + [target_ones])\n",
    "    \n",
    "    features_downsampled, target_downsampled = shuffle(\n",
    "        features_downsampled, target_downsampled, random_state=12345)\n",
    "    \n",
    "    return features_downsampled, target_downsampled\n",
    "\n",
    "features_downsampled, target_downsampled = downsample(features_train_ridge, target_train, 0.1)"
   ]
  },
  {
   "cell_type": "code",
   "execution_count": 38,
   "metadata": {},
   "outputs": [
    {
     "name": "stdout",
     "output_type": "stream",
     "text": [
      "F1 = 0.468, AUC-ROC = 0.679 на шаге 1\n",
      "F1 = 0.482, AUC-ROC = 0.717 на шаге 2\n",
      "F1 = 0.439, AUC-ROC = 0.758 на шаге 3\n",
      "F1 = 0.488, AUC-ROC = 0.795 на шаге 4\n",
      "F1 = 0.511, AUC-ROC = 0.811 на шаге 5\n",
      "F1 = 0.496, AUC-ROC = 0.800 на шаге 6\n",
      "F1 = 0.473, AUC-ROC = 0.779 на шаге 7\n",
      "F1 = 0.478, AUC-ROC = 0.749 на шаге 8\n",
      "F1 = 0.486, AUC-ROC = 0.730 на шаге 9\n",
      "F1 = 0.485, AUC-ROC = 0.708 на шаге 10\n",
      "F1 = 0.465, AUC-ROC = 0.692 на шаге 11\n",
      "F1 = 0.470, AUC-ROC = 0.694 на шаге 12\n",
      "F1 = 0.470, AUC-ROC = 0.693 на шаге 13\n",
      "F1 = 0.465, AUC-ROC = 0.685 на шаге 14\n",
      "\n",
      "F1 для дерева решений с учетом дисбаланса методом уменьшения выборки = 0.5112168592794017\n",
      "Максимальная глубина = 5\n",
      "AUC-ROC = 0.8109271726697757\n"
     ]
    }
   ],
   "source": [
    "#Модель дерева решений с учётом дисбаланса\n",
    "\n",
    "best_f1_dtc = 0\n",
    "best_depth_dtc = 0\n",
    "best_auc_roc = 0\n",
    "for depth in range(1, 15):\n",
    "    model_dtc = DecisionTreeClassifier(random_state=12345, max_depth=depth)\n",
    "    model_dtc.fit(features_downsampled, target_downsampled)\n",
    "    predicted_valid_dtc = model_dtc.predict(features_valid_ridge)\n",
    "    f1_dtc = f1_score(target_valid, predicted_valid_dtc)\n",
    "    auc_roc_dtc = roc_auc_score(target_valid, model_dtc.predict_proba(features_valid_ridge)[:, 1])\n",
    "    print(\"F1 = {:.3f}, AUC-ROC = {:.3f}\".format(f1_dtc, auc_roc_dtc), 'на шаге', depth)\n",
    "    if f1_dtc > best_f1_dtc:\n",
    "        best_f1_dtc = f1_dtc\n",
    "        best_depth_dtc = depth\n",
    "        best_auc_roc = auc_roc_dtc\n",
    "        \n",
    "print()\n",
    "print('F1 для дерева решений с учетом дисбаланса методом уменьшения выборки =', best_f1_dtc)\n",
    "print('Максимальная глубина =', best_depth_dtc)\n",
    "print('AUC-ROC =', best_auc_roc)"
   ]
  },
  {
   "cell_type": "code",
   "execution_count": 39,
   "metadata": {},
   "outputs": [
    {
     "name": "stdout",
     "output_type": "stream",
     "text": [
      "F1 для случайного леса с учетом дисбаланса методом уменьшения выборки = 0.491514770584538\n",
      "Максимальная глубина = 9\n",
      "Число деревьев = 94\n",
      "AUC-ROC = 0.829916155851476\n"
     ]
    }
   ],
   "source": [
    "#Модель случайного леса с учётом дисбаланса\n",
    "\n",
    "best_f1_rfc = 0\n",
    "best_depth_rfc = 0\n",
    "best_est_rfc = 0\n",
    "best_roc_auc_score_rfc = 0\n",
    "for depth in range(1, 10):\n",
    "    for est in range(1, 100):\n",
    "        model_rfc = RandomForestClassifier(random_state=12345, n_estimators=est, max_depth=depth)\n",
    "        model_rfc.fit(features_downsampled, target_downsampled)\n",
    "        predicted_valid_rfc = model_rfc.predict(features_valid_ridge)\n",
    "        f1_rfc = f1_score(target_valid, predicted_valid_rfc)\n",
    "        roc_auc_score_rfc = roc_auc_score(target_valid, model_rfc.predict_proba(features_valid_ridge)[:,1])\n",
    "        if f1_rfc > best_f1_rfc:\n",
    "            best_f1_rfc = f1_rfc\n",
    "            best_depth_rfc = depth\n",
    "            best_est_rfc = est\n",
    "            best_roc_auc_score_rfc = roc_auc_score_rfc\n",
    "            \n",
    "print('F1 для случайного леса с учетом дисбаланса методом уменьшения выборки =', best_f1_rfc)\n",
    "print('Максимальная глубина =', best_depth_rfc)\n",
    "print('Число деревьев =', best_est_rfc)\n",
    "print('AUC-ROC =', best_roc_auc_score_rfc)"
   ]
  },
  {
   "cell_type": "markdown",
   "metadata": {},
   "source": [
    "Лучший показатель F1 = 0.63 показала модель случайного леса с учетом дисбаланса методом увеличения выборки. оптимальные гиперпараметры модели: максимальная глубина - 8; число деревьев - 27.\n",
    "\n",
    "Применим эти гиперпараметры к нашей тестовой выборке.\n"
   ]
  },
  {
   "cell_type": "markdown",
   "metadata": {},
   "source": [
    "## Тестирование модели"
   ]
  },
  {
   "cell_type": "code",
   "execution_count": 40,
   "metadata": {},
   "outputs": [
    {
     "name": "stdout",
     "output_type": "stream",
     "text": [
      "f1 модели с наилучшими гиперпараметрами 0.6080347448425625\n",
      "AUC-ROC = 0.5154533775265302\n"
     ]
    }
   ],
   "source": [
    "# Повторим расчёт модели с наилучшими гиперпараметрами на тестовой выборке\n",
    "model = RandomForestClassifier(n_estimators=27, max_depth=8, random_state=12345)\n",
    "model.fit(features_upsampled, target_upsampled)\n",
    "predicted_test = model.predict(features_test_ridge)\n",
    "f1 = f1_score(predicted_test, target_test)\n",
    "\n",
    "print('f1 модели с наилучшими гиперпараметрами', f1)\n",
    "print('AUC-ROC =', roc_auc_score(target_valid, model.predict_proba(features_test_ridge)[:,1]))"
   ]
  },
  {
   "cell_type": "code",
   "execution_count": 41,
   "metadata": {},
   "outputs": [],
   "source": [
    "# Создадим объект target_pred_constant где все ответы = 0\n",
    "target_pred_constant = pd.Series(list(0 for z in range(len(target_test))))"
   ]
  },
  {
   "cell_type": "code",
   "execution_count": 42,
   "metadata": {},
   "outputs": [
    {
     "name": "stdout",
     "output_type": "stream",
     "text": [
      "Для правильных ответов accuracy в полученной модели 0.8195\n",
      "Для правильных ответов accuracy в случайной модели 0.791\n"
     ]
    }
   ],
   "source": [
    "print('Для правильных ответов accuracy в полученной модели', accuracy_score(target_test, predicted_test))\n",
    "print('Для правильных ответов accuracy в случайной модели', accuracy_score(target_test, target_pred_constant))"
   ]
  },
  {
   "cell_type": "code",
   "execution_count": 43,
   "metadata": {},
   "outputs": [],
   "source": [
    "# Рассчитаем вероятность для построения ROC - кривой\n",
    "probabilities_test = model.predict_proba(features_test_ridge)\n",
    "probabilities_one_test = probabilities_test[:, 1]"
   ]
  },
  {
   "cell_type": "code",
   "execution_count": 44,
   "metadata": {},
   "outputs": [
    {
     "data": {
      "text/plain": [
       "array([0.15812329, 0.65423685, 0.50469499, ..., 0.17025767, 0.57330145,\n",
       "       0.84204125])"
      ]
     },
     "execution_count": 44,
     "metadata": {},
     "output_type": "execute_result"
    }
   ],
   "source": [
    "probabilities_one_test"
   ]
  },
  {
   "cell_type": "code",
   "execution_count": 45,
   "metadata": {},
   "outputs": [
    {
     "data": {
      "image/png": "[encoded data removed]",
      "text/plain": [
       "<Figure size 600x600 with 1 Axes>"
      ]
     },
     "metadata": {},
     "output_type": "display_data"
    }
   ],
   "source": [
    "# Построим ROC - кривую\n",
    "fpr, tpr, thresholds = roc_curve(target_test, probabilities_one_test)\n",
    "plt.figure(figsize=(6,6))\n",
    "plt.plot(fpr, tpr,  color='red')\n",
    "# ROC-кривая случайной модели (выглядит как прямая)\n",
    "plt.plot([0, 1], [0, 1], linestyle='--')\n",
    "plt.title('ROC - кривая')\n",
    "plt.xlabel('fpr False Positive Rate')\n",
    "plt.ylabel('tpr True Positive Rate')\n",
    "plt.show()"
   ]
  },
  {
   "cell_type": "code",
   "execution_count": 46,
   "metadata": {},
   "outputs": [
    {
     "name": "stdout",
     "output_type": "stream",
     "text": [
      "auc_roc 0.8464521621834151\n"
     ]
    }
   ],
   "source": [
    "# Дополнительно измерим AUC-ROC\n",
    "auc_roc = roc_auc_score(target_test, probabilities_one_test)\n",
    "print('auc_roc', auc_roc)"
   ]
  },
  {
   "cell_type": "markdown",
   "metadata": {},
   "source": [
    "**Вывод**: \n",
    "- проверка на адекватность показала, что доля пралильных ответов accuracy в полученной модели выше чем аналогичный показатель случайной модели. Делаем вывод, что полученная нами модель является полезной.\n",
    "- ROC-кривая, расположенная выше и левее, что свидетельствует о большей предсказательной способности модели.\n",
    "- auc больше 0,8, т.е. можно говорить о том, что модель обладает высокой прогностической силой."
   ]
  },
  {
   "cell_type": "markdown",
   "metadata": {},
   "source": [
    "### Общий вывод\n",
    "В этом проекте мы иссследовали датафрейм Churn.csv.\n",
    "Изучили общую информацию датафрейма, выявили пропуски в столбце Tenure. \n",
    "Данные пропуски мы решили заполнить случайными числами от 0 до 10 т.к. чтобы сохранить равномерность распределения.\n",
    "Изучили корреляцию столбцов, проверили на явные дубликаты и удалили лишние столбцы `Surname`, `RowNumber`, `CustomerId`.\n",
    "\n",
    "С помощью кодирования OneHotEncoder из библиотеки sklearn и StandardScaler преобразовали категориальные и численные признаки, разделили датафрейм на тренировочную, валидационную и тестовую в соотношении 6:2:2\n",
    "Выявили дисбаланс классов. \n",
    "\n",
    "Провели обучение моделей без учета дисбаланса. Получили лучшие показатели у модели дерева решений: F1 = 0.53.\n",
    "Для этой модели построили матрицу ошибок и нашли значение recall.\n",
    "\n",
    "Для борьбы с дисбалансом выбрали три способа:class_weight, увеличение выборки, уменьшение выборки.\n",
    "В результате получили лучший результат метрики F1 у модели случайного леса на увеличенной выборке - 0.63. С оптимальными гиперпараметры модели: максимальная глубина - 8; число деревьев - 27.\n",
    "\n",
    "При тестировании модели получили F1 примерно 0.608.\n",
    "проверка на адекватность показала, что доля пралильных ответов accuracy в полученной модели выше чем аналогичный показатель случайной модели. т.е. полученная нами модель является полезной.\n",
    "ROC-кривая, расположенная выше и левее, что свидетельствует о большей предсказательной способности модели.\n",
    "auc больше 0,8, т.е. можно говорить о том, что модель обладает высокой прогностической силой.\n",
    "\n"
   ]
  }
 ],
 "metadata": {
  "ExecuteTimeLog": [
   {
    "duration": 428,
    "start_time": "2022-12-25T12:37:15.099Z"
   },
   {
    "duration": 194,
    "start_time": "2022-12-25T12:37:45.537Z"
   },
   {
    "duration": 13,
    "start_time": "2022-12-25T12:38:09.985Z"
   },
   {
    "duration": 66,
    "start_time": "2022-12-25T13:14:52.174Z"
   },
   {
    "duration": 6,
    "start_time": "2022-12-25T13:14:58.083Z"
   },
   {
    "duration": 12,
    "start_time": "2022-12-25T13:15:07.716Z"
   },
   {
    "duration": 371,
    "start_time": "2022-12-25T18:58:40.297Z"
   },
   {
    "duration": 94,
    "start_time": "2022-12-25T18:58:41.337Z"
   },
   {
    "duration": 13,
    "start_time": "2022-12-25T18:58:43.504Z"
   },
   {
    "duration": 11,
    "start_time": "2022-12-25T18:58:51.214Z"
   },
   {
    "duration": 5,
    "start_time": "2022-12-25T18:59:25.793Z"
   },
   {
    "duration": 42,
    "start_time": "2022-12-25T19:00:23.730Z"
   },
   {
    "duration": 952,
    "start_time": "2022-12-25T19:09:30.587Z"
   },
   {
    "duration": 159,
    "start_time": "2022-12-25T19:09:52.586Z"
   },
   {
    "duration": 969,
    "start_time": "2022-12-25T19:10:01.940Z"
   },
   {
    "duration": 10,
    "start_time": "2022-12-25T19:30:13.535Z"
   },
   {
    "duration": 273,
    "start_time": "2022-12-25T19:30:34.545Z"
   },
   {
    "duration": 10,
    "start_time": "2022-12-25T19:30:40.087Z"
   },
   {
    "duration": 8,
    "start_time": "2022-12-25T19:30:56.407Z"
   },
   {
    "duration": 33,
    "start_time": "2022-12-25T19:35:21.514Z"
   },
   {
    "duration": 14,
    "start_time": "2022-12-25T19:36:23.033Z"
   },
   {
    "duration": 3,
    "start_time": "2022-12-25T19:37:25.144Z"
   },
   {
    "duration": 51,
    "start_time": "2022-12-25T19:37:26.031Z"
   },
   {
    "duration": 14,
    "start_time": "2022-12-25T19:37:26.973Z"
   },
   {
    "duration": 8,
    "start_time": "2022-12-25T19:37:30.238Z"
   },
   {
    "duration": 4,
    "start_time": "2022-12-25T19:37:31.296Z"
   },
   {
    "duration": 41,
    "start_time": "2022-12-25T19:37:32.729Z"
   },
   {
    "duration": 865,
    "start_time": "2022-12-25T19:37:35.016Z"
   },
   {
    "duration": 9,
    "start_time": "2022-12-25T19:37:40.716Z"
   },
   {
    "duration": 14,
    "start_time": "2022-12-25T19:38:43.192Z"
   },
   {
    "duration": 17,
    "start_time": "2022-12-25T19:39:22.589Z"
   },
   {
    "duration": 16,
    "start_time": "2022-12-25T19:39:40.023Z"
   },
   {
    "duration": 14,
    "start_time": "2022-12-25T19:39:51.520Z"
   },
   {
    "duration": 14,
    "start_time": "2022-12-25T19:40:06.415Z"
   },
   {
    "duration": 14,
    "start_time": "2022-12-25T19:40:18.905Z"
   },
   {
    "duration": 8,
    "start_time": "2022-12-25T19:41:31.358Z"
   },
   {
    "duration": 5,
    "start_time": "2022-12-25T19:42:34.104Z"
   },
   {
    "duration": 5,
    "start_time": "2022-12-25T19:43:14.071Z"
   },
   {
    "duration": 6,
    "start_time": "2022-12-25T19:43:33.666Z"
   },
   {
    "duration": 1590,
    "start_time": "2022-12-25T19:44:57.731Z"
   },
   {
    "duration": 68,
    "start_time": "2022-12-25T19:45:02.870Z"
   },
   {
    "duration": 15,
    "start_time": "2022-12-25T19:45:03.676Z"
   },
   {
    "duration": 11,
    "start_time": "2022-12-25T19:45:03.855Z"
   },
   {
    "duration": 7,
    "start_time": "2022-12-25T19:45:04.037Z"
   },
   {
    "duration": 45,
    "start_time": "2022-12-25T19:45:04.253Z"
   },
   {
    "duration": 832,
    "start_time": "2022-12-25T19:45:04.668Z"
   },
   {
    "duration": 10,
    "start_time": "2022-12-25T19:45:05.502Z"
   },
   {
    "duration": 220,
    "start_time": "2022-12-25T19:48:18.804Z"
   },
   {
    "duration": 1563,
    "start_time": "2022-12-25T19:48:30.505Z"
   },
   {
    "duration": 54,
    "start_time": "2022-12-25T19:48:32.070Z"
   },
   {
    "duration": 18,
    "start_time": "2022-12-25T19:48:32.126Z"
   },
   {
    "duration": 10,
    "start_time": "2022-12-25T19:48:33.572Z"
   },
   {
    "duration": 7,
    "start_time": "2022-12-25T19:48:37.968Z"
   },
   {
    "duration": 51,
    "start_time": "2022-12-25T19:48:39.013Z"
   },
   {
    "duration": 920,
    "start_time": "2022-12-25T19:48:42.104Z"
   },
   {
    "duration": 215,
    "start_time": "2022-12-25T19:49:00.337Z"
   },
   {
    "duration": 120,
    "start_time": "2022-12-25T19:49:01.347Z"
   },
   {
    "duration": 29,
    "start_time": "2022-12-25T19:49:04.101Z"
   },
   {
    "duration": 24,
    "start_time": "2022-12-25T19:49:26.374Z"
   },
   {
    "duration": 198,
    "start_time": "2022-12-25T19:49:52.704Z"
   },
   {
    "duration": 7,
    "start_time": "2022-12-25T19:51:41.039Z"
   },
   {
    "duration": 11,
    "start_time": "2022-12-25T19:55:54.231Z"
   },
   {
    "duration": 10,
    "start_time": "2022-12-25T19:55:55.367Z"
   },
   {
    "duration": 7,
    "start_time": "2022-12-25T19:55:56.485Z"
   },
   {
    "duration": 5,
    "start_time": "2022-12-25T19:55:57.296Z"
   },
   {
    "duration": 4,
    "start_time": "2022-12-25T19:55:59.673Z"
   },
   {
    "duration": 5,
    "start_time": "2022-12-25T19:56:00.334Z"
   },
   {
    "duration": 13,
    "start_time": "2022-12-25T19:56:01.072Z"
   },
   {
    "duration": 9,
    "start_time": "2022-12-25T19:56:38.464Z"
   },
   {
    "duration": 13,
    "start_time": "2022-12-25T19:56:44.239Z"
   },
   {
    "duration": 14,
    "start_time": "2022-12-25T19:57:27.166Z"
   },
   {
    "duration": 44,
    "start_time": "2022-12-25T19:58:18.399Z"
   },
   {
    "duration": 5,
    "start_time": "2022-12-25T19:58:38.230Z"
   },
   {
    "duration": 14,
    "start_time": "2022-12-25T19:59:00.157Z"
   },
   {
    "duration": 10,
    "start_time": "2022-12-25T19:59:01.741Z"
   },
   {
    "duration": 7,
    "start_time": "2022-12-25T19:59:02.836Z"
   },
   {
    "duration": 5,
    "start_time": "2022-12-25T19:59:04.256Z"
   },
   {
    "duration": 5,
    "start_time": "2022-12-25T19:59:04.480Z"
   },
   {
    "duration": 5,
    "start_time": "2022-12-25T19:59:05.595Z"
   },
   {
    "duration": 13,
    "start_time": "2022-12-25T19:59:06.659Z"
   },
   {
    "duration": 13,
    "start_time": "2022-12-25T19:59:21.066Z"
   },
   {
    "duration": 10,
    "start_time": "2022-12-25T20:00:09.908Z"
   },
   {
    "duration": 9,
    "start_time": "2022-12-25T20:00:10.694Z"
   },
   {
    "duration": 8,
    "start_time": "2022-12-25T20:00:10.864Z"
   },
   {
    "duration": 4,
    "start_time": "2022-12-25T20:00:11.020Z"
   },
   {
    "duration": 4,
    "start_time": "2022-12-25T20:00:11.205Z"
   },
   {
    "duration": 4,
    "start_time": "2022-12-25T20:00:11.425Z"
   },
   {
    "duration": 12,
    "start_time": "2022-12-25T20:00:11.985Z"
   },
   {
    "duration": 14,
    "start_time": "2022-12-25T20:00:19.475Z"
   },
   {
    "duration": 10,
    "start_time": "2022-12-25T20:00:42.921Z"
   },
   {
    "duration": 10,
    "start_time": "2022-12-25T20:00:43.090Z"
   },
   {
    "duration": 9,
    "start_time": "2022-12-25T20:00:43.276Z"
   },
   {
    "duration": 5,
    "start_time": "2022-12-25T20:00:43.441Z"
   },
   {
    "duration": 5,
    "start_time": "2022-12-25T20:00:43.609Z"
   },
   {
    "duration": 4,
    "start_time": "2022-12-25T20:00:43.781Z"
   },
   {
    "duration": 12,
    "start_time": "2022-12-25T20:00:43.976Z"
   },
   {
    "duration": 14,
    "start_time": "2022-12-25T20:00:44.198Z"
   },
   {
    "duration": 129,
    "start_time": "2022-12-25T20:01:17.643Z"
   },
   {
    "duration": 5,
    "start_time": "2022-12-25T20:01:37.368Z"
   },
   {
    "duration": 13,
    "start_time": "2022-12-25T20:02:02.006Z"
   },
   {
    "duration": 1631,
    "start_time": "2022-12-27T19:32:45.596Z"
   },
   {
    "duration": 407,
    "start_time": "2022-12-27T19:32:47.229Z"
   },
   {
    "duration": 15,
    "start_time": "2022-12-27T19:32:47.920Z"
   },
   {
    "duration": 7,
    "start_time": "2022-12-27T19:32:51.834Z"
   },
   {
    "duration": 5,
    "start_time": "2022-12-27T19:32:57.640Z"
   },
   {
    "duration": 8,
    "start_time": "2022-12-27T19:44:50.055Z"
   },
   {
    "duration": 136,
    "start_time": "2022-12-27T19:45:53.770Z"
   },
   {
    "duration": 16,
    "start_time": "2022-12-27T19:46:35.245Z"
   },
   {
    "duration": 18,
    "start_time": "2022-12-27T19:47:57.156Z"
   },
   {
    "duration": 19,
    "start_time": "2022-12-27T19:48:41.175Z"
   },
   {
    "duration": 15,
    "start_time": "2022-12-27T19:49:35.842Z"
   },
   {
    "duration": 16,
    "start_time": "2022-12-27T19:51:58.908Z"
   },
   {
    "duration": 16,
    "start_time": "2022-12-27T19:52:06.200Z"
   },
   {
    "duration": 1379,
    "start_time": "2022-12-27T19:52:32.329Z"
   },
   {
    "duration": 60,
    "start_time": "2022-12-27T19:52:34.562Z"
   },
   {
    "duration": 18,
    "start_time": "2022-12-27T19:52:35.500Z"
   },
   {
    "duration": 7,
    "start_time": "2022-12-27T19:52:37.007Z"
   },
   {
    "duration": 5,
    "start_time": "2022-12-27T19:52:39.739Z"
   },
   {
    "duration": 116,
    "start_time": "2022-12-27T19:52:41.261Z"
   },
   {
    "duration": 20,
    "start_time": "2022-12-27T19:53:58.822Z"
   },
   {
    "duration": 17,
    "start_time": "2022-12-27T20:00:27.753Z"
   },
   {
    "duration": 10,
    "start_time": "2022-12-27T20:01:03.247Z"
   },
   {
    "duration": 13,
    "start_time": "2022-12-27T20:03:26.325Z"
   },
   {
    "duration": 24,
    "start_time": "2022-12-27T20:03:48.617Z"
   },
   {
    "duration": 13,
    "start_time": "2022-12-27T20:04:08.349Z"
   },
   {
    "duration": 11,
    "start_time": "2022-12-27T20:04:22.741Z"
   },
   {
    "duration": 1477,
    "start_time": "2022-12-27T20:39:17.926Z"
   },
   {
    "duration": 5,
    "start_time": "2022-12-27T20:44:12.237Z"
   },
   {
    "duration": 13,
    "start_time": "2022-12-27T20:44:23.176Z"
   },
   {
    "duration": 3,
    "start_time": "2022-12-27T20:44:33.405Z"
   },
   {
    "duration": 1433,
    "start_time": "2022-12-27T20:44:40.697Z"
   },
   {
    "duration": 9,
    "start_time": "2022-12-27T20:45:12.309Z"
   },
   {
    "duration": 81,
    "start_time": "2022-12-27T20:45:12.879Z"
   },
   {
    "duration": 18,
    "start_time": "2022-12-27T20:45:13.700Z"
   },
   {
    "duration": 10,
    "start_time": "2022-12-27T20:45:14.916Z"
   },
   {
    "duration": 6,
    "start_time": "2022-12-27T20:45:17.909Z"
   },
   {
    "duration": 11,
    "start_time": "2022-12-27T20:45:18.756Z"
   },
   {
    "duration": 4,
    "start_time": "2022-12-27T20:45:21.902Z"
   },
   {
    "duration": 1847,
    "start_time": "2022-12-27T20:45:23.457Z"
   },
   {
    "duration": 1581,
    "start_time": "2022-12-27T20:45:34.752Z"
   },
   {
    "duration": 55,
    "start_time": "2022-12-27T20:45:36.336Z"
   },
   {
    "duration": 19,
    "start_time": "2022-12-27T20:45:36.844Z"
   },
   {
    "duration": 10,
    "start_time": "2022-12-27T20:45:40.816Z"
   },
   {
    "duration": 6,
    "start_time": "2022-12-27T20:45:42.404Z"
   },
   {
    "duration": 1590,
    "start_time": "2022-12-27T20:45:45.780Z"
   },
   {
    "duration": 1377,
    "start_time": "2022-12-27T20:48:11.625Z"
   },
   {
    "duration": 63,
    "start_time": "2022-12-27T20:48:13.004Z"
   },
   {
    "duration": 17,
    "start_time": "2022-12-27T20:48:13.068Z"
   },
   {
    "duration": 8,
    "start_time": "2022-12-27T20:48:13.655Z"
   },
   {
    "duration": 7,
    "start_time": "2022-12-27T20:48:14.677Z"
   },
   {
    "duration": 10,
    "start_time": "2022-12-27T20:48:15.661Z"
   },
   {
    "duration": 2,
    "start_time": "2022-12-27T20:48:19.118Z"
   },
   {
    "duration": 1514,
    "start_time": "2022-12-27T20:48:20.114Z"
   },
   {
    "duration": 53,
    "start_time": "2022-12-27T20:48:22.649Z"
   },
   {
    "duration": 819,
    "start_time": "2022-12-27T20:48:26.257Z"
   },
   {
    "duration": 12,
    "start_time": "2022-12-27T20:48:32.930Z"
   },
   {
    "duration": 16,
    "start_time": "2022-12-27T20:48:33.901Z"
   },
   {
    "duration": 15,
    "start_time": "2022-12-27T20:48:34.674Z"
   },
   {
    "duration": 5,
    "start_time": "2022-12-27T20:48:35.864Z"
   },
   {
    "duration": 6,
    "start_time": "2022-12-27T20:48:43.444Z"
   },
   {
    "duration": 5,
    "start_time": "2022-12-27T20:48:44.193Z"
   },
   {
    "duration": 1567,
    "start_time": "2022-12-28T12:48:36.012Z"
   },
   {
    "duration": 92,
    "start_time": "2022-12-28T12:48:37.581Z"
   },
   {
    "duration": 16,
    "start_time": "2022-12-28T12:48:37.675Z"
   },
   {
    "duration": 7,
    "start_time": "2022-12-28T12:48:37.693Z"
   },
   {
    "duration": 5,
    "start_time": "2022-12-28T12:48:37.794Z"
   },
   {
    "duration": 9,
    "start_time": "2022-12-28T12:48:38.127Z"
   },
   {
    "duration": 3,
    "start_time": "2022-12-28T12:48:38.767Z"
   },
   {
    "duration": 1530,
    "start_time": "2022-12-28T12:48:39.351Z"
   },
   {
    "duration": 54,
    "start_time": "2022-12-28T12:48:40.883Z"
   },
   {
    "duration": 798,
    "start_time": "2022-12-28T12:48:41.012Z"
   },
   {
    "duration": 12,
    "start_time": "2022-12-28T12:48:46.469Z"
   },
   {
    "duration": 10,
    "start_time": "2022-12-28T12:50:07.791Z"
   },
   {
    "duration": 11,
    "start_time": "2022-12-28T12:50:08.182Z"
   },
   {
    "duration": 12,
    "start_time": "2022-12-28T12:50:08.646Z"
   },
   {
    "duration": 6,
    "start_time": "2022-12-28T12:50:09.039Z"
   },
   {
    "duration": 6,
    "start_time": "2022-12-28T12:50:09.517Z"
   },
   {
    "duration": 6,
    "start_time": "2022-12-28T12:50:10.146Z"
   },
   {
    "duration": 59,
    "start_time": "2022-12-28T13:04:20.839Z"
   },
   {
    "duration": 6,
    "start_time": "2022-12-28T13:04:29.408Z"
   },
   {
    "duration": 3,
    "start_time": "2022-12-28T13:10:12.590Z"
   },
   {
    "duration": 205,
    "start_time": "2022-12-28T13:25:55.454Z"
   },
   {
    "duration": 3,
    "start_time": "2022-12-28T13:26:13.192Z"
   },
   {
    "duration": 26,
    "start_time": "2022-12-28T13:26:29.925Z"
   },
   {
    "duration": 1590,
    "start_time": "2023-01-01T21:43:21.661Z"
   },
   {
    "duration": 92,
    "start_time": "2023-01-01T21:43:23.254Z"
   },
   {
    "duration": 15,
    "start_time": "2023-01-01T21:43:23.347Z"
   },
   {
    "duration": 7,
    "start_time": "2023-01-01T21:43:23.364Z"
   },
   {
    "duration": 7,
    "start_time": "2023-01-01T21:43:23.372Z"
   },
   {
    "duration": 15,
    "start_time": "2023-01-01T21:43:23.381Z"
   },
   {
    "duration": 2,
    "start_time": "2023-01-01T21:43:23.398Z"
   },
   {
    "duration": 1464,
    "start_time": "2023-01-01T21:43:23.402Z"
   },
   {
    "duration": 50,
    "start_time": "2023-01-01T21:43:24.868Z"
   },
   {
    "duration": 749,
    "start_time": "2023-01-01T21:43:24.920Z"
   },
   {
    "duration": 10,
    "start_time": "2023-01-01T21:43:25.671Z"
   },
   {
    "duration": 9,
    "start_time": "2023-01-01T21:43:29.996Z"
   },
   {
    "duration": 10,
    "start_time": "2023-01-01T21:43:30.754Z"
   },
   {
    "duration": 7,
    "start_time": "2023-01-01T21:43:31.472Z"
   },
   {
    "duration": 5,
    "start_time": "2023-01-01T21:43:32.401Z"
   },
   {
    "duration": 3,
    "start_time": "2023-01-01T21:43:33.105Z"
   },
   {
    "duration": 4,
    "start_time": "2023-01-01T21:43:35.684Z"
   },
   {
    "duration": 6,
    "start_time": "2023-01-01T21:43:42.857Z"
   },
   {
    "duration": 142,
    "start_time": "2023-01-01T21:46:45.964Z"
   },
   {
    "duration": 8,
    "start_time": "2023-01-01T21:47:22.556Z"
   },
   {
    "duration": 22,
    "start_time": "2023-01-01T21:51:17.641Z"
   },
   {
    "duration": 22,
    "start_time": "2023-01-01T21:51:28.435Z"
   },
   {
    "duration": 5,
    "start_time": "2023-01-01T21:52:03.937Z"
   },
   {
    "duration": 4,
    "start_time": "2023-01-01T21:52:08.660Z"
   },
   {
    "duration": 31,
    "start_time": "2023-01-01T21:52:17.008Z"
   },
   {
    "duration": 13,
    "start_time": "2023-01-01T21:52:19.040Z"
   },
   {
    "duration": 10,
    "start_time": "2023-01-01T22:02:22.863Z"
   },
   {
    "duration": 20,
    "start_time": "2023-01-01T22:02:25.536Z"
   },
   {
    "duration": 9,
    "start_time": "2023-01-01T22:02:26.218Z"
   },
   {
    "duration": 4,
    "start_time": "2023-01-01T22:02:39.751Z"
   },
   {
    "duration": 3,
    "start_time": "2023-01-01T22:04:03.813Z"
   },
   {
    "duration": 11,
    "start_time": "2023-01-01T22:04:54.237Z"
   },
   {
    "duration": 4,
    "start_time": "2023-01-01T22:05:23.722Z"
   },
   {
    "duration": 22,
    "start_time": "2023-01-01T22:05:30.252Z"
   },
   {
    "duration": 4,
    "start_time": "2023-01-01T22:10:32.250Z"
   },
   {
    "duration": 18,
    "start_time": "2023-01-01T22:10:39.993Z"
   },
   {
    "duration": 1355,
    "start_time": "2023-01-01T22:16:41.577Z"
   },
   {
    "duration": 52,
    "start_time": "2023-01-01T22:16:42.934Z"
   },
   {
    "duration": 15,
    "start_time": "2023-01-01T22:16:44.574Z"
   },
   {
    "duration": 8,
    "start_time": "2023-01-01T22:16:47.441Z"
   },
   {
    "duration": 5,
    "start_time": "2023-01-01T22:16:50.235Z"
   },
   {
    "duration": 9,
    "start_time": "2023-01-01T22:16:52.746Z"
   },
   {
    "duration": 2,
    "start_time": "2023-01-01T22:16:58.901Z"
   },
   {
    "duration": 1517,
    "start_time": "2023-01-01T22:16:59.583Z"
   },
   {
    "duration": 42,
    "start_time": "2023-01-01T22:17:03.749Z"
   },
   {
    "duration": 12,
    "start_time": "2023-01-01T22:17:17.146Z"
   },
   {
    "duration": 109,
    "start_time": "2023-01-01T22:17:21.712Z"
   },
   {
    "duration": 4,
    "start_time": "2023-01-01T22:17:37.074Z"
   },
   {
    "duration": 14,
    "start_time": "2023-01-01T22:18:11.049Z"
   },
   {
    "duration": 17,
    "start_time": "2023-01-01T22:18:27.720Z"
   },
   {
    "duration": 13,
    "start_time": "2023-01-01T22:18:35.473Z"
   },
   {
    "duration": 14,
    "start_time": "2023-01-01T22:18:42.895Z"
   },
   {
    "duration": 17,
    "start_time": "2023-01-01T22:18:43.749Z"
   },
   {
    "duration": 6,
    "start_time": "2023-01-01T22:18:50.446Z"
   },
   {
    "duration": 1352,
    "start_time": "2023-01-01T22:19:20.773Z"
   },
   {
    "duration": 54,
    "start_time": "2023-01-01T22:19:22.127Z"
   },
   {
    "duration": 17,
    "start_time": "2023-01-01T22:19:22.183Z"
   },
   {
    "duration": 8,
    "start_time": "2023-01-01T22:19:22.202Z"
   },
   {
    "duration": 17,
    "start_time": "2023-01-01T22:19:22.212Z"
   },
   {
    "duration": 11,
    "start_time": "2023-01-01T22:19:22.231Z"
   },
   {
    "duration": 14,
    "start_time": "2023-01-01T22:19:22.244Z"
   },
   {
    "duration": 1473,
    "start_time": "2023-01-01T22:19:22.260Z"
   },
   {
    "duration": 41,
    "start_time": "2023-01-01T22:19:23.734Z"
   },
   {
    "duration": 806,
    "start_time": "2023-01-01T22:19:23.776Z"
   },
   {
    "duration": 11,
    "start_time": "2023-01-01T22:19:24.584Z"
   },
   {
    "duration": 9,
    "start_time": "2023-01-01T22:19:25.897Z"
   },
   {
    "duration": 12,
    "start_time": "2023-01-01T22:19:27.494Z"
   },
   {
    "duration": 10,
    "start_time": "2023-01-01T22:19:56.909Z"
   },
   {
    "duration": 10,
    "start_time": "2023-01-01T22:19:57.550Z"
   },
   {
    "duration": 9,
    "start_time": "2023-01-01T22:19:58.330Z"
   },
   {
    "duration": 5,
    "start_time": "2023-01-01T22:19:59.159Z"
   },
   {
    "duration": 5,
    "start_time": "2023-01-01T22:20:00.184Z"
   },
   {
    "duration": 5,
    "start_time": "2023-01-01T22:20:00.808Z"
   },
   {
    "duration": 6,
    "start_time": "2023-01-01T22:20:01.637Z"
   },
   {
    "duration": 35,
    "start_time": "2023-01-01T22:20:07.749Z"
   },
   {
    "duration": 4,
    "start_time": "2023-01-01T22:20:09.238Z"
   },
   {
    "duration": 4,
    "start_time": "2023-01-01T22:20:33.207Z"
   },
   {
    "duration": 101,
    "start_time": "2023-01-01T22:21:59.307Z"
   },
   {
    "duration": 5,
    "start_time": "2023-01-01T22:23:05.236Z"
   },
   {
    "duration": 20,
    "start_time": "2023-01-01T22:23:10.795Z"
   },
   {
    "duration": 10,
    "start_time": "2023-01-01T22:24:34.349Z"
   },
   {
    "duration": 2,
    "start_time": "2023-01-01T22:25:08.389Z"
   },
   {
    "duration": 25,
    "start_time": "2023-01-01T22:25:29.623Z"
   },
   {
    "duration": 24,
    "start_time": "2023-01-01T22:26:41.882Z"
   },
   {
    "duration": 32,
    "start_time": "2023-01-01T22:27:37.978Z"
   },
   {
    "duration": 26,
    "start_time": "2023-01-01T22:27:53.995Z"
   },
   {
    "duration": 4,
    "start_time": "2023-01-01T22:30:58.435Z"
   },
   {
    "duration": 48,
    "start_time": "2023-01-01T22:32:21.150Z"
   },
   {
    "duration": 14,
    "start_time": "2023-01-01T22:32:30.652Z"
   },
   {
    "duration": 9,
    "start_time": "2023-01-01T22:33:05.847Z"
   },
   {
    "duration": 7,
    "start_time": "2023-01-01T22:33:14.523Z"
   },
   {
    "duration": 4,
    "start_time": "2023-01-01T22:38:19.427Z"
   },
   {
    "duration": 4,
    "start_time": "2023-01-01T22:39:54.127Z"
   },
   {
    "duration": 14,
    "start_time": "2023-01-01T22:40:12.280Z"
   },
   {
    "duration": 129,
    "start_time": "2023-01-01T22:40:36.033Z"
   },
   {
    "duration": 133,
    "start_time": "2023-01-01T22:41:03.689Z"
   },
   {
    "duration": 125,
    "start_time": "2023-01-01T22:41:19.243Z"
   },
   {
    "duration": 9,
    "start_time": "2023-01-01T22:43:17.995Z"
   },
   {
    "duration": 5,
    "start_time": "2023-01-01T22:44:10.428Z"
   },
   {
    "duration": 131,
    "start_time": "2023-01-01T22:44:15.453Z"
   },
   {
    "duration": 1456,
    "start_time": "2023-01-02T20:56:33.673Z"
   },
   {
    "duration": 393,
    "start_time": "2023-01-02T20:56:35.130Z"
   },
   {
    "duration": 13,
    "start_time": "2023-01-02T20:56:35.524Z"
   },
   {
    "duration": 6,
    "start_time": "2023-01-02T20:56:35.539Z"
   },
   {
    "duration": 6,
    "start_time": "2023-01-02T20:56:35.546Z"
   },
   {
    "duration": 13,
    "start_time": "2023-01-02T20:56:35.554Z"
   },
   {
    "duration": 2,
    "start_time": "2023-01-02T20:56:35.569Z"
   },
   {
    "duration": 1355,
    "start_time": "2023-01-02T20:56:35.572Z"
   },
   {
    "duration": 38,
    "start_time": "2023-01-02T20:56:36.929Z"
   },
   {
    "duration": 798,
    "start_time": "2023-01-02T20:56:36.969Z"
   },
   {
    "duration": 10,
    "start_time": "2023-01-02T20:56:37.769Z"
   },
   {
    "duration": 4,
    "start_time": "2023-01-02T20:56:37.780Z"
   },
   {
    "duration": 7,
    "start_time": "2023-01-02T20:56:37.785Z"
   },
   {
    "duration": 8,
    "start_time": "2023-01-02T20:56:42.421Z"
   },
   {
    "duration": 13,
    "start_time": "2023-01-02T20:56:44.071Z"
   },
   {
    "duration": 7,
    "start_time": "2023-01-02T20:56:45.097Z"
   },
   {
    "duration": 5,
    "start_time": "2023-01-02T20:56:46.124Z"
   },
   {
    "duration": 4,
    "start_time": "2023-01-02T20:56:47.174Z"
   },
   {
    "duration": 4,
    "start_time": "2023-01-02T20:56:48.122Z"
   },
   {
    "duration": 7,
    "start_time": "2023-01-02T20:56:48.816Z"
   },
   {
    "duration": 22,
    "start_time": "2023-01-02T20:56:51.000Z"
   },
   {
    "duration": 11,
    "start_time": "2023-01-02T20:57:00.849Z"
   },
   {
    "duration": 2,
    "start_time": "2023-01-02T20:57:01.881Z"
   },
   {
    "duration": 22,
    "start_time": "2023-01-02T20:57:04.494Z"
   },
   {
    "duration": 2,
    "start_time": "2023-01-02T20:57:07.130Z"
   },
   {
    "duration": 124,
    "start_time": "2023-01-02T20:59:06.648Z"
   },
   {
    "duration": 154,
    "start_time": "2023-01-02T21:00:35.788Z"
   },
   {
    "duration": 166,
    "start_time": "2023-01-02T21:01:20.263Z"
   },
   {
    "duration": 7,
    "start_time": "2023-01-02T21:01:34.521Z"
   },
   {
    "duration": 260,
    "start_time": "2023-01-02T21:09:12.463Z"
   },
   {
    "duration": 6,
    "start_time": "2023-01-02T21:09:13.190Z"
   },
   {
    "duration": 106,
    "start_time": "2023-01-02T21:09:24.766Z"
   },
   {
    "duration": 125,
    "start_time": "2023-01-02T21:09:55.184Z"
   },
   {
    "duration": 10,
    "start_time": "2023-01-02T21:14:12.328Z"
   },
   {
    "duration": 5,
    "start_time": "2023-01-02T21:14:26.650Z"
   },
   {
    "duration": 6,
    "start_time": "2023-01-02T21:14:33.508Z"
   },
   {
    "duration": 4,
    "start_time": "2023-01-02T21:16:37.284Z"
   },
   {
    "duration": 130,
    "start_time": "2023-01-02T21:18:13.299Z"
   },
   {
    "duration": 2,
    "start_time": "2023-01-02T21:29:17.752Z"
   },
   {
    "duration": 2,
    "start_time": "2023-01-02T21:29:18.363Z"
   },
   {
    "duration": 2,
    "start_time": "2023-01-02T21:29:18.898Z"
   },
   {
    "duration": 2,
    "start_time": "2023-01-02T21:29:19.712Z"
   },
   {
    "duration": 2,
    "start_time": "2023-01-02T21:29:20.625Z"
   },
   {
    "duration": 2,
    "start_time": "2023-01-02T21:29:21.609Z"
   },
   {
    "duration": 19,
    "start_time": "2023-01-02T21:31:24.687Z"
   },
   {
    "duration": 6,
    "start_time": "2023-01-02T21:32:01.860Z"
   },
   {
    "duration": 313,
    "start_time": "2023-01-02T21:32:10.648Z"
   },
   {
    "duration": 22,
    "start_time": "2023-01-02T21:34:00.427Z"
   },
   {
    "duration": 14,
    "start_time": "2023-01-02T21:35:40.914Z"
   },
   {
    "duration": 10,
    "start_time": "2023-01-02T21:36:49.714Z"
   },
   {
    "duration": 4,
    "start_time": "2023-01-02T21:37:36.276Z"
   },
   {
    "duration": 157557,
    "start_time": "2023-01-02T21:37:41.975Z"
   },
   {
    "duration": 5,
    "start_time": "2023-01-02T22:02:31.434Z"
   },
   {
    "duration": 10,
    "start_time": "2023-01-02T22:04:58.379Z"
   },
   {
    "duration": 20,
    "start_time": "2023-01-02T22:04:59.485Z"
   },
   {
    "duration": 5,
    "start_time": "2023-01-02T22:06:20.135Z"
   },
   {
    "duration": 17,
    "start_time": "2023-01-02T22:06:20.908Z"
   },
   {
    "duration": 27,
    "start_time": "2023-01-02T22:07:04.740Z"
   },
   {
    "duration": 9,
    "start_time": "2023-01-02T22:07:43.683Z"
   },
   {
    "duration": 14,
    "start_time": "2023-01-02T22:07:44.471Z"
   },
   {
    "duration": 67,
    "start_time": "2023-01-02T22:07:45.703Z"
   },
   {
    "duration": 50,
    "start_time": "2023-01-02T22:08:41.765Z"
   },
   {
    "duration": 67,
    "start_time": "2023-01-02T22:08:54.383Z"
   },
   {
    "duration": 54,
    "start_time": "2023-01-02T22:08:59.960Z"
   },
   {
    "duration": 1408,
    "start_time": "2023-01-02T22:09:37.484Z"
   },
   {
    "duration": 140,
    "start_time": "2023-01-02T22:10:26.190Z"
   },
   {
    "duration": 113,
    "start_time": "2023-01-02T22:10:36.362Z"
   },
   {
    "duration": 127,
    "start_time": "2023-01-02T22:10:42.788Z"
   },
   {
    "duration": 155,
    "start_time": "2023-01-02T22:10:49.310Z"
   },
   {
    "duration": 153,
    "start_time": "2023-01-02T22:10:53.927Z"
   },
   {
    "duration": 166,
    "start_time": "2023-01-02T22:11:00.302Z"
   },
   {
    "duration": 149,
    "start_time": "2023-01-02T22:11:06.023Z"
   },
   {
    "duration": 166,
    "start_time": "2023-01-02T22:11:11.503Z"
   },
   {
    "duration": 140,
    "start_time": "2023-01-02T22:11:16.859Z"
   },
   {
    "duration": 150,
    "start_time": "2023-01-02T22:11:22.560Z"
   },
   {
    "duration": 171,
    "start_time": "2023-01-02T22:11:27.719Z"
   },
   {
    "duration": 169,
    "start_time": "2023-01-02T22:11:32.989Z"
   },
   {
    "duration": 184,
    "start_time": "2023-01-02T22:11:37.959Z"
   },
   {
    "duration": 214,
    "start_time": "2023-01-02T22:11:43.226Z"
   },
   {
    "duration": 217,
    "start_time": "2023-01-02T22:11:54.862Z"
   },
   {
    "duration": 207,
    "start_time": "2023-01-02T22:11:59.425Z"
   },
   {
    "duration": 11,
    "start_time": "2023-01-02T22:14:52.044Z"
   },
   {
    "duration": 1433,
    "start_time": "2023-01-02T22:15:21.123Z"
   },
   {
    "duration": 19,
    "start_time": "2023-01-02T22:16:14.726Z"
   },
   {
    "duration": 20,
    "start_time": "2023-01-02T22:16:33.515Z"
   },
   {
    "duration": 18,
    "start_time": "2023-01-02T22:16:37.804Z"
   },
   {
    "duration": 20,
    "start_time": "2023-01-02T22:16:42.300Z"
   },
   {
    "duration": 20,
    "start_time": "2023-01-02T22:16:47.638Z"
   },
   {
    "duration": 21,
    "start_time": "2023-01-02T22:16:55.382Z"
   },
   {
    "duration": 328,
    "start_time": "2023-01-02T22:17:16.133Z"
   },
   {
    "duration": 66,
    "start_time": "2023-01-02T22:17:23.285Z"
   },
   {
    "duration": 46,
    "start_time": "2023-01-02T22:17:34.158Z"
   },
   {
    "duration": 44,
    "start_time": "2023-01-02T22:17:42.900Z"
   },
   {
    "duration": 311,
    "start_time": "2023-01-02T22:17:47.737Z"
   },
   {
    "duration": 158,
    "start_time": "2023-01-02T22:17:52.780Z"
   },
   {
    "duration": 187,
    "start_time": "2023-01-02T22:17:57.616Z"
   },
   {
    "duration": 386,
    "start_time": "2023-01-02T22:18:03.711Z"
   },
   {
    "duration": 1458,
    "start_time": "2023-01-04T10:44:16.322Z"
   },
   {
    "duration": 102,
    "start_time": "2023-01-04T10:44:17.782Z"
   },
   {
    "duration": 12,
    "start_time": "2023-01-04T10:44:17.885Z"
   },
   {
    "duration": 11,
    "start_time": "2023-01-04T10:44:17.898Z"
   },
   {
    "duration": 4,
    "start_time": "2023-01-04T10:44:17.911Z"
   },
   {
    "duration": 9,
    "start_time": "2023-01-04T10:44:17.917Z"
   },
   {
    "duration": 2,
    "start_time": "2023-01-04T10:44:17.928Z"
   },
   {
    "duration": 1366,
    "start_time": "2023-01-04T10:44:17.931Z"
   },
   {
    "duration": 39,
    "start_time": "2023-01-04T10:44:19.300Z"
   },
   {
    "duration": 810,
    "start_time": "2023-01-04T10:44:19.688Z"
   },
   {
    "duration": 11,
    "start_time": "2023-01-04T10:44:20.512Z"
   },
   {
    "duration": 4,
    "start_time": "2023-01-04T10:44:21.509Z"
   },
   {
    "duration": 5,
    "start_time": "2023-01-04T10:44:22.485Z"
   },
   {
    "duration": 9,
    "start_time": "2023-01-04T10:44:23.304Z"
   },
   {
    "duration": 9,
    "start_time": "2023-01-04T10:44:23.528Z"
   },
   {
    "duration": 7,
    "start_time": "2023-01-04T10:44:24.599Z"
   },
   {
    "duration": 4,
    "start_time": "2023-01-04T10:44:24.829Z"
   },
   {
    "duration": 4,
    "start_time": "2023-01-04T10:44:25.033Z"
   },
   {
    "duration": 3,
    "start_time": "2023-01-04T10:44:25.292Z"
   },
   {
    "duration": 6,
    "start_time": "2023-01-04T10:44:25.493Z"
   },
   {
    "duration": 20,
    "start_time": "2023-01-04T10:44:25.758Z"
   },
   {
    "duration": 10,
    "start_time": "2023-01-04T10:44:25.975Z"
   },
   {
    "duration": 3,
    "start_time": "2023-01-04T10:44:26.930Z"
   },
   {
    "duration": 2,
    "start_time": "2023-01-04T10:44:27.821Z"
   },
   {
    "duration": 3,
    "start_time": "2023-01-04T10:44:28.558Z"
   },
   {
    "duration": 2,
    "start_time": "2023-01-04T10:44:28.767Z"
   },
   {
    "duration": 2,
    "start_time": "2023-01-04T10:44:28.987Z"
   },
   {
    "duration": 3,
    "start_time": "2023-01-04T10:44:29.968Z"
   },
   {
    "duration": 2,
    "start_time": "2023-01-04T10:44:31.164Z"
   },
   {
    "duration": 302,
    "start_time": "2023-01-04T10:44:32.724Z"
   },
   {
    "duration": 12,
    "start_time": "2023-01-04T10:44:36.583Z"
   },
   {
    "duration": 160588,
    "start_time": "2023-01-04T10:44:40.596Z"
   },
   {
    "duration": 119,
    "start_time": "2023-01-04T10:47:21.200Z"
   },
   {
    "duration": 0,
    "start_time": "2023-01-04T10:47:21.321Z"
   },
   {
    "duration": 0,
    "start_time": "2023-01-04T10:47:21.322Z"
   },
   {
    "duration": 9,
    "start_time": "2023-01-04T10:52:07.520Z"
   },
   {
    "duration": 9,
    "start_time": "2023-01-04T10:52:27.865Z"
   },
   {
    "duration": 10,
    "start_time": "2023-01-04T10:52:57.445Z"
   },
   {
    "duration": 12,
    "start_time": "2023-01-04T10:54:31.505Z"
   },
   {
    "duration": 13,
    "start_time": "2023-01-04T10:56:35.005Z"
   },
   {
    "duration": 12,
    "start_time": "2023-01-04T10:58:39.263Z"
   },
   {
    "duration": 13,
    "start_time": "2023-01-04T10:59:09.081Z"
   },
   {
    "duration": 1237,
    "start_time": "2023-01-04T11:01:28.449Z"
   },
   {
    "duration": 51,
    "start_time": "2023-01-04T11:01:32.558Z"
   },
   {
    "duration": 15,
    "start_time": "2023-01-04T11:01:33.364Z"
   },
   {
    "duration": 11,
    "start_time": "2023-01-04T11:01:33.953Z"
   },
   {
    "duration": 4,
    "start_time": "2023-01-04T11:01:34.373Z"
   },
   {
    "duration": 10,
    "start_time": "2023-01-04T11:01:34.589Z"
   },
   {
    "duration": 3,
    "start_time": "2023-01-04T11:01:36.342Z"
   },
   {
    "duration": 1326,
    "start_time": "2023-01-04T11:01:37.244Z"
   },
   {
    "duration": 37,
    "start_time": "2023-01-04T11:01:39.765Z"
   },
   {
    "duration": 711,
    "start_time": "2023-01-04T11:01:41.203Z"
   },
   {
    "duration": 10,
    "start_time": "2023-01-04T11:01:45.916Z"
   },
   {
    "duration": 4,
    "start_time": "2023-01-04T11:01:49.655Z"
   },
   {
    "duration": 6,
    "start_time": "2023-01-04T11:01:50.594Z"
   },
   {
    "duration": 8,
    "start_time": "2023-01-04T11:01:52.599Z"
   },
   {
    "duration": 9,
    "start_time": "2023-01-04T11:02:31.783Z"
   },
   {
    "duration": 106,
    "start_time": "2023-01-04T11:02:33.525Z"
   },
   {
    "duration": 8,
    "start_time": "2023-01-04T11:02:47.909Z"
   },
   {
    "duration": 4,
    "start_time": "2023-01-04T11:02:55.159Z"
   },
   {
    "duration": 4,
    "start_time": "2023-01-04T11:02:58.942Z"
   },
   {
    "duration": 7,
    "start_time": "2023-01-04T11:03:02.039Z"
   },
   {
    "duration": 24,
    "start_time": "2023-01-04T11:03:07.962Z"
   },
   {
    "duration": 14,
    "start_time": "2023-01-04T11:03:18.247Z"
   },
   {
    "duration": 7,
    "start_time": "2023-01-04T11:03:25.893Z"
   },
   {
    "duration": 3,
    "start_time": "2023-01-04T11:03:26.669Z"
   },
   {
    "duration": 379,
    "start_time": "2023-01-04T11:03:54.310Z"
   },
   {
    "duration": 12,
    "start_time": "2023-01-04T11:03:59.433Z"
   },
   {
    "duration": 192371,
    "start_time": "2023-01-04T11:04:03.254Z"
   },
   {
    "duration": 11,
    "start_time": "2023-01-04T11:16:22.740Z"
   },
   {
    "duration": 3,
    "start_time": "2023-01-04T11:17:05.220Z"
   },
   {
    "duration": 3,
    "start_time": "2023-01-04T11:17:11.169Z"
   },
   {
    "duration": 15,
    "start_time": "2023-01-04T11:17:56.272Z"
   },
   {
    "duration": 41,
    "start_time": "2023-01-04T11:18:04.209Z"
   },
   {
    "duration": 176,
    "start_time": "2023-01-04T11:18:05.940Z"
   },
   {
    "duration": 13,
    "start_time": "2023-01-04T11:18:13.087Z"
   },
   {
    "duration": 18,
    "start_time": "2023-01-04T11:18:22.899Z"
   },
   {
    "duration": 345,
    "start_time": "2023-01-04T11:18:24.630Z"
   },
   {
    "duration": 8,
    "start_time": "2023-01-04T11:19:24.029Z"
   },
   {
    "duration": 13,
    "start_time": "2023-01-04T11:20:32.584Z"
   },
   {
    "duration": 9,
    "start_time": "2023-01-04T11:20:49.573Z"
   },
   {
    "duration": 11,
    "start_time": "2023-01-04T11:20:50.071Z"
   },
   {
    "duration": 13,
    "start_time": "2023-01-04T11:20:50.581Z"
   },
   {
    "duration": 7,
    "start_time": "2023-01-04T11:21:10.644Z"
   },
   {
    "duration": 1345,
    "start_time": "2023-01-04T11:22:29.990Z"
   },
   {
    "duration": 61,
    "start_time": "2023-01-04T11:22:31.336Z"
   },
   {
    "duration": 12,
    "start_time": "2023-01-04T11:22:31.853Z"
   },
   {
    "duration": 8,
    "start_time": "2023-01-04T11:22:32.647Z"
   },
   {
    "duration": 4,
    "start_time": "2023-01-04T11:22:33.468Z"
   },
   {
    "duration": 11,
    "start_time": "2023-01-04T11:22:34.725Z"
   },
   {
    "duration": 2,
    "start_time": "2023-01-04T11:22:36.181Z"
   },
   {
    "duration": 1312,
    "start_time": "2023-01-04T11:22:36.356Z"
   },
   {
    "duration": 44,
    "start_time": "2023-01-04T11:22:37.670Z"
   },
   {
    "duration": 734,
    "start_time": "2023-01-04T11:22:37.716Z"
   },
   {
    "duration": 11,
    "start_time": "2023-01-04T11:22:42.314Z"
   },
   {
    "duration": 4,
    "start_time": "2023-01-04T11:22:42.540Z"
   },
   {
    "duration": 5,
    "start_time": "2023-01-04T11:22:43.102Z"
   },
   {
    "duration": 8,
    "start_time": "2023-01-04T11:22:44.315Z"
   },
   {
    "duration": 9,
    "start_time": "2023-01-04T11:22:44.771Z"
   },
   {
    "duration": 8,
    "start_time": "2023-01-04T11:22:45.612Z"
   },
   {
    "duration": 5,
    "start_time": "2023-01-04T11:22:47.795Z"
   },
   {
    "duration": 4,
    "start_time": "2023-01-04T11:22:48.416Z"
   },
   {
    "duration": 5,
    "start_time": "2023-01-04T11:22:49.113Z"
   },
   {
    "duration": 8,
    "start_time": "2023-01-04T11:22:50.048Z"
   },
   {
    "duration": 20,
    "start_time": "2023-01-04T11:22:51.108Z"
   },
   {
    "duration": 13,
    "start_time": "2023-01-04T11:22:52.619Z"
   },
   {
    "duration": 3,
    "start_time": "2023-01-04T11:22:53.534Z"
   },
   {
    "duration": 320,
    "start_time": "2023-01-04T11:23:02.791Z"
   },
   {
    "duration": 13,
    "start_time": "2023-01-04T11:23:05.161Z"
   },
   {
    "duration": 170536,
    "start_time": "2023-01-04T11:23:06.362Z"
   },
   {
    "duration": 7,
    "start_time": "2023-01-04T11:32:00.267Z"
   },
   {
    "duration": 41,
    "start_time": "2023-01-04T11:32:03.930Z"
   },
   {
    "duration": 6,
    "start_time": "2023-01-04T11:32:04.837Z"
   },
   {
    "duration": 125,
    "start_time": "2023-01-04T11:32:31.231Z"
   },
   {
    "duration": 16,
    "start_time": "2023-01-04T11:33:51.975Z"
   },
   {
    "duration": 39,
    "start_time": "2023-01-04T11:33:52.836Z"
   },
   {
    "duration": 175,
    "start_time": "2023-01-04T11:33:57.401Z"
   },
   {
    "duration": 11,
    "start_time": "2023-01-04T11:34:04.998Z"
   },
   {
    "duration": 17,
    "start_time": "2023-01-04T11:34:07.818Z"
   },
   {
    "duration": 291,
    "start_time": "2023-01-04T11:34:09.455Z"
   },
   {
    "duration": 5,
    "start_time": "2023-01-04T11:35:08.494Z"
   },
   {
    "duration": 131,
    "start_time": "2023-01-04T11:35:31.034Z"
   },
   {
    "duration": 25,
    "start_time": "2023-01-04T11:36:12.458Z"
   },
   {
    "duration": 6,
    "start_time": "2023-01-04T11:36:14.571Z"
   },
   {
    "duration": 131,
    "start_time": "2023-01-04T11:36:16.124Z"
   },
   {
    "duration": 25,
    "start_time": "2023-01-04T11:36:23.408Z"
   },
   {
    "duration": 25,
    "start_time": "2023-01-04T11:36:26.933Z"
   },
   {
    "duration": 43,
    "start_time": "2023-01-04T11:36:31.187Z"
   },
   {
    "duration": 46,
    "start_time": "2023-01-04T11:36:36.275Z"
   },
   {
    "duration": 47,
    "start_time": "2023-01-04T11:36:41.421Z"
   },
   {
    "duration": 36,
    "start_time": "2023-01-04T11:36:47.307Z"
   },
   {
    "duration": 33,
    "start_time": "2023-01-04T11:36:53.120Z"
   },
   {
    "duration": 38,
    "start_time": "2023-01-04T11:37:00.878Z"
   },
   {
    "duration": 292,
    "start_time": "2023-01-04T11:37:06.166Z"
   },
   {
    "duration": 19,
    "start_time": "2023-01-04T11:37:11.557Z"
   },
   {
    "duration": 1198,
    "start_time": "2023-01-04T11:41:42.549Z"
   },
   {
    "duration": 144,
    "start_time": "2023-01-04T11:42:52.318Z"
   },
   {
    "duration": 53,
    "start_time": "2023-01-04T11:43:04.797Z"
   },
   {
    "duration": 52,
    "start_time": "2023-01-04T11:44:01.871Z"
   },
   {
    "duration": 3,
    "start_time": "2023-01-04T11:47:54.043Z"
   },
   {
    "duration": 4,
    "start_time": "2023-01-04T11:49:06.113Z"
   },
   {
    "duration": 70,
    "start_time": "2023-01-04T11:49:14.687Z"
   },
   {
    "duration": 1007,
    "start_time": "2023-01-04T11:49:46.818Z"
   },
   {
    "duration": 1054,
    "start_time": "2023-01-04T11:49:55.117Z"
   },
   {
    "duration": 1167,
    "start_time": "2023-01-04T11:50:02.353Z"
   },
   {
    "duration": 1105,
    "start_time": "2023-01-04T11:51:36.780Z"
   },
   {
    "duration": 1112,
    "start_time": "2023-01-04T11:52:32.464Z"
   },
   {
    "duration": 55,
    "start_time": "2023-01-04T11:56:46.100Z"
   },
   {
    "duration": 6,
    "start_time": "2023-01-04T11:57:30.149Z"
   },
   {
    "duration": 60,
    "start_time": "2023-01-04T11:57:39.844Z"
   },
   {
    "duration": 155,
    "start_time": "2023-01-04T11:58:13.163Z"
   },
   {
    "duration": 24945,
    "start_time": "2023-01-04T12:02:55.274Z"
   },
   {
    "duration": 11,
    "start_time": "2023-01-04T12:03:23.264Z"
   },
   {
    "duration": 13,
    "start_time": "2023-01-04T12:04:38.514Z"
   },
   {
    "duration": 9,
    "start_time": "2023-01-04T12:08:40.908Z"
   },
   {
    "duration": 5,
    "start_time": "2023-01-04T12:09:28.893Z"
   },
   {
    "duration": 849,
    "start_time": "2023-01-04T12:10:03.730Z"
   },
   {
    "duration": 3,
    "start_time": "2023-01-04T12:12:42.320Z"
   },
   {
    "duration": 6,
    "start_time": "2023-01-04T12:29:04.503Z"
   },
   {
    "duration": 9,
    "start_time": "2023-01-04T12:30:52.207Z"
   },
   {
    "duration": 5,
    "start_time": "2023-01-04T12:32:03.679Z"
   },
   {
    "duration": 11,
    "start_time": "2023-01-04T12:32:14.182Z"
   },
   {
    "duration": 42,
    "start_time": "2023-01-04T12:32:24.692Z"
   },
   {
    "duration": 110,
    "start_time": "2023-01-04T12:32:25.114Z"
   },
   {
    "duration": 6,
    "start_time": "2023-01-04T12:32:49.830Z"
   },
   {
    "duration": 6,
    "start_time": "2023-01-04T12:33:58.235Z"
   },
   {
    "duration": 225,
    "start_time": "2023-01-04T12:34:25.296Z"
   },
   {
    "duration": 1355,
    "start_time": "2023-01-04T12:34:43.391Z"
   },
   {
    "duration": 52,
    "start_time": "2023-01-04T12:34:44.748Z"
   },
   {
    "duration": 12,
    "start_time": "2023-01-04T12:34:44.802Z"
   },
   {
    "duration": 6,
    "start_time": "2023-01-04T12:34:44.816Z"
   },
   {
    "duration": 8,
    "start_time": "2023-01-04T12:34:44.823Z"
   },
   {
    "duration": 11,
    "start_time": "2023-01-04T12:34:44.832Z"
   },
   {
    "duration": 5,
    "start_time": "2023-01-04T12:34:44.844Z"
   },
   {
    "duration": 1313,
    "start_time": "2023-01-04T12:34:44.857Z"
   },
   {
    "duration": 44,
    "start_time": "2023-01-04T12:34:46.172Z"
   },
   {
    "duration": 665,
    "start_time": "2023-01-04T12:34:46.217Z"
   },
   {
    "duration": 10,
    "start_time": "2023-01-04T12:34:46.884Z"
   },
   {
    "duration": 4,
    "start_time": "2023-01-04T12:34:46.895Z"
   },
   {
    "duration": 6,
    "start_time": "2023-01-04T12:34:46.900Z"
   },
   {
    "duration": 9,
    "start_time": "2023-01-04T12:34:46.908Z"
   },
   {
    "duration": 8,
    "start_time": "2023-01-04T12:34:46.918Z"
   },
   {
    "duration": 5,
    "start_time": "2023-01-04T12:34:46.927Z"
   },
   {
    "duration": 3,
    "start_time": "2023-01-04T12:34:46.934Z"
   },
   {
    "duration": 3,
    "start_time": "2023-01-04T12:34:46.945Z"
   },
   {
    "duration": 4,
    "start_time": "2023-01-04T12:34:47.177Z"
   },
   {
    "duration": 6,
    "start_time": "2023-01-04T12:34:47.453Z"
   },
   {
    "duration": 18,
    "start_time": "2023-01-04T12:34:47.658Z"
   },
   {
    "duration": 9,
    "start_time": "2023-01-04T12:34:47.845Z"
   },
   {
    "duration": 3,
    "start_time": "2023-01-04T12:34:48.054Z"
   },
   {
    "duration": 3,
    "start_time": "2023-01-04T12:34:48.271Z"
   },
   {
    "duration": 2,
    "start_time": "2023-01-04T12:34:48.867Z"
   },
   {
    "duration": 2,
    "start_time": "2023-01-04T12:34:49.060Z"
   },
   {
    "duration": 2,
    "start_time": "2023-01-04T12:34:49.235Z"
   },
   {
    "duration": 3,
    "start_time": "2023-01-04T12:34:49.414Z"
   },
   {
    "duration": 2,
    "start_time": "2023-01-04T12:34:49.637Z"
   },
   {
    "duration": 309,
    "start_time": "2023-01-04T12:34:49.989Z"
   },
   {
    "duration": 12,
    "start_time": "2023-01-04T12:34:50.300Z"
   },
   {
    "duration": 166321,
    "start_time": "2023-01-04T12:34:51.565Z"
   },
   {
    "duration": 39,
    "start_time": "2023-01-04T12:37:37.888Z"
   },
   {
    "duration": 6,
    "start_time": "2023-01-04T12:37:37.929Z"
   },
   {
    "duration": 35,
    "start_time": "2023-01-04T12:43:51.128Z"
   },
   {
    "duration": 6,
    "start_time": "2023-01-04T12:43:52.744Z"
   },
   {
    "duration": 144,
    "start_time": "2023-01-04T12:43:54.978Z"
   },
   {
    "duration": 3,
    "start_time": "2023-01-04T12:43:59.898Z"
   },
   {
    "duration": 3,
    "start_time": "2023-01-04T12:44:00.430Z"
   },
   {
    "duration": 13,
    "start_time": "2023-01-04T12:44:01.514Z"
   },
   {
    "duration": 44,
    "start_time": "2023-01-04T12:44:02.123Z"
   },
   {
    "duration": 1336,
    "start_time": "2023-01-04T12:44:02.325Z"
   },
   {
    "duration": 11,
    "start_time": "2023-01-04T12:44:03.662Z"
   },
   {
    "duration": 38,
    "start_time": "2023-01-04T12:44:03.674Z"
   },
   {
    "duration": 312,
    "start_time": "2023-01-04T12:44:04.250Z"
   },
   {
    "duration": 7,
    "start_time": "2023-01-04T12:44:05.679Z"
   },
   {
    "duration": 136,
    "start_time": "2023-01-04T12:44:06.854Z"
   },
   {
    "duration": 24541,
    "start_time": "2023-01-04T12:44:10.011Z"
   },
   {
    "duration": 9,
    "start_time": "2023-01-04T12:44:34.556Z"
   },
   {
    "duration": 4,
    "start_time": "2023-01-04T12:44:54.504Z"
   },
   {
    "duration": 783,
    "start_time": "2023-01-04T12:44:58.939Z"
   },
   {
    "duration": 6,
    "start_time": "2023-01-04T12:45:01.898Z"
   },
   {
    "duration": 125,
    "start_time": "2023-01-04T12:45:02.833Z"
   },
   {
    "duration": 3,
    "start_time": "2023-01-04T12:45:14.154Z"
   },
   {
    "duration": 5,
    "start_time": "2023-01-04T12:45:15.230Z"
   },
   {
    "duration": 37,
    "start_time": "2023-01-04T12:45:17.028Z"
   },
   {
    "duration": 109,
    "start_time": "2023-01-04T12:45:17.521Z"
   },
   {
    "duration": 5,
    "start_time": "2023-01-04T12:45:17.738Z"
   },
   {
    "duration": 136,
    "start_time": "2023-01-04T12:45:21.367Z"
   },
   {
    "duration": 1612,
    "start_time": "2023-01-10T19:45:22.678Z"
   },
   {
    "duration": 190,
    "start_time": "2023-01-10T19:45:24.292Z"
   },
   {
    "duration": 14,
    "start_time": "2023-01-10T19:45:24.976Z"
   },
   {
    "duration": 8,
    "start_time": "2023-01-10T19:45:28.502Z"
   },
   {
    "duration": 5,
    "start_time": "2023-01-10T19:45:29.421Z"
   },
   {
    "duration": 6,
    "start_time": "2023-01-10T19:45:57.046Z"
   },
   {
    "duration": 7,
    "start_time": "2023-01-10T19:47:29.239Z"
   },
   {
    "duration": 6,
    "start_time": "2023-01-10T19:48:49.797Z"
   },
   {
    "duration": 7,
    "start_time": "2023-01-10T19:49:17.171Z"
   },
   {
    "duration": 9,
    "start_time": "2023-01-10T19:50:32.270Z"
   },
   {
    "duration": 2,
    "start_time": "2023-01-10T19:50:34.606Z"
   },
   {
    "duration": 1475,
    "start_time": "2023-01-10T19:50:42.695Z"
   },
   {
    "duration": 71,
    "start_time": "2023-01-10T19:52:39.578Z"
   },
   {
    "duration": 8,
    "start_time": "2023-01-10T19:52:50.938Z"
   },
   {
    "duration": 3,
    "start_time": "2023-01-10T19:52:56.552Z"
   },
   {
    "duration": 1332,
    "start_time": "2023-01-10T19:52:57.394Z"
   },
   {
    "duration": 1416,
    "start_time": "2023-01-10T19:54:02.568Z"
   },
   {
    "duration": 62,
    "start_time": "2023-01-10T19:54:03.986Z"
   },
   {
    "duration": 14,
    "start_time": "2023-01-10T19:54:04.150Z"
   },
   {
    "duration": 8,
    "start_time": "2023-01-10T19:54:04.833Z"
   },
   {
    "duration": 5,
    "start_time": "2023-01-10T19:54:06.353Z"
   },
   {
    "duration": 8,
    "start_time": "2023-01-10T19:54:09.756Z"
   },
   {
    "duration": 10,
    "start_time": "2023-01-10T19:54:13.980Z"
   },
   {
    "duration": 2,
    "start_time": "2023-01-10T19:54:16.502Z"
   },
   {
    "duration": 1374,
    "start_time": "2023-01-10T19:54:18.342Z"
   },
   {
    "duration": 182,
    "start_time": "2023-01-10T19:54:59.666Z"
   },
   {
    "duration": 105,
    "start_time": "2023-01-10T19:55:09.307Z"
   },
   {
    "duration": 1383,
    "start_time": "2023-01-10T19:55:23.611Z"
   },
   {
    "duration": 64,
    "start_time": "2023-01-10T19:55:24.996Z"
   },
   {
    "duration": 13,
    "start_time": "2023-01-10T19:55:25.298Z"
   },
   {
    "duration": 7,
    "start_time": "2023-01-10T19:55:26.381Z"
   },
   {
    "duration": 1349,
    "start_time": "2023-01-10T19:55:27.394Z"
   },
   {
    "duration": 5,
    "start_time": "2023-01-10T19:55:28.745Z"
   },
   {
    "duration": 8,
    "start_time": "2023-01-10T19:55:29.134Z"
   },
   {
    "duration": 8,
    "start_time": "2023-01-10T19:55:33.079Z"
   },
   {
    "duration": 2,
    "start_time": "2023-01-10T19:55:40.435Z"
   },
   {
    "duration": 7,
    "start_time": "2023-01-10T19:56:19.236Z"
   },
   {
    "duration": 50,
    "start_time": "2023-01-10T20:00:19.316Z"
   },
   {
    "duration": 753,
    "start_time": "2023-01-10T20:00:46.496Z"
   },
   {
    "duration": 12,
    "start_time": "2023-01-10T20:00:51.076Z"
   },
   {
    "duration": 9,
    "start_time": "2023-01-10T20:00:57.606Z"
   },
   {
    "duration": 4,
    "start_time": "2023-01-10T20:01:02.697Z"
   },
   {
    "duration": 5,
    "start_time": "2023-01-10T20:01:03.554Z"
   },
   {
    "duration": 123,
    "start_time": "2023-01-10T20:05:12.738Z"
   },
   {
    "duration": 9,
    "start_time": "2023-01-10T20:05:20.756Z"
   },
   {
    "duration": 11,
    "start_time": "2023-01-10T20:05:21.579Z"
   },
   {
    "duration": 6,
    "start_time": "2023-01-10T20:05:22.414Z"
   },
   {
    "duration": 4,
    "start_time": "2023-01-10T20:05:23.201Z"
   },
   {
    "duration": 4,
    "start_time": "2023-01-10T20:05:27.111Z"
   },
   {
    "duration": 4,
    "start_time": "2023-01-10T20:05:27.857Z"
   },
   {
    "duration": 9,
    "start_time": "2023-01-10T20:12:25.093Z"
   },
   {
    "duration": 4,
    "start_time": "2023-01-10T20:12:53.214Z"
   },
   {
    "duration": 36,
    "start_time": "2023-01-10T20:14:03.460Z"
   },
   {
    "duration": 17,
    "start_time": "2023-01-10T20:14:16.343Z"
   },
   {
    "duration": 10,
    "start_time": "2023-01-10T20:14:23.474Z"
   },
   {
    "duration": 3,
    "start_time": "2023-01-10T20:14:24.350Z"
   },
   {
    "duration": 317,
    "start_time": "2023-01-10T20:14:58.680Z"
   },
   {
    "duration": 20,
    "start_time": "2023-01-10T20:15:24.896Z"
   },
   {
    "duration": 176507,
    "start_time": "2023-01-10T20:15:57.397Z"
   },
   {
    "duration": 16,
    "start_time": "2023-01-10T20:19:39.279Z"
   },
   {
    "duration": 16,
    "start_time": "2023-01-10T20:19:45.864Z"
   },
   {
    "duration": 6,
    "start_time": "2023-01-10T20:19:48.648Z"
   },
   {
    "duration": 134,
    "start_time": "2023-01-10T20:19:56.260Z"
   },
   {
    "duration": 30,
    "start_time": "2023-01-10T20:43:48.151Z"
   },
   {
    "duration": 10,
    "start_time": "2023-01-10T20:44:55.280Z"
   },
   {
    "duration": 26,
    "start_time": "2023-01-10T20:45:09.528Z"
   },
   {
    "duration": 736,
    "start_time": "2023-01-10T20:45:17.082Z"
   },
   {
    "duration": 20,
    "start_time": "2023-01-10T20:45:25.837Z"
   },
   {
    "duration": 12,
    "start_time": "2023-01-10T20:46:29.313Z"
   },
   {
    "duration": 44,
    "start_time": "2023-01-10T20:46:31.321Z"
   },
   {
    "duration": 1342,
    "start_time": "2023-01-10T20:46:33.326Z"
   },
   {
    "duration": 12,
    "start_time": "2023-01-10T20:47:05.532Z"
   },
   {
    "duration": 18,
    "start_time": "2023-01-10T20:47:06.517Z"
   },
   {
    "duration": 334,
    "start_time": "2023-01-10T20:47:10.473Z"
   },
   {
    "duration": 28,
    "start_time": "2023-01-10T20:49:27.910Z"
   },
   {
    "duration": 682,
    "start_time": "2023-01-10T20:49:28.909Z"
   },
   {
    "duration": 73,
    "start_time": "2023-01-10T20:49:31.006Z"
   },
   {
    "duration": 20,
    "start_time": "2023-01-10T20:49:43.845Z"
   },
   {
    "duration": 9,
    "start_time": "2023-01-10T20:49:48.275Z"
   },
   {
    "duration": 40,
    "start_time": "2023-01-10T20:49:51.504Z"
   },
   {
    "duration": 1269,
    "start_time": "2023-01-10T20:49:55.837Z"
   },
   {
    "duration": 1266,
    "start_time": "2023-01-10T20:50:11.810Z"
   },
   {
    "duration": 10,
    "start_time": "2023-01-10T20:50:13.116Z"
   },
   {
    "duration": 24,
    "start_time": "2023-01-10T20:50:13.951Z"
   },
   {
    "duration": 324,
    "start_time": "2023-01-10T20:50:14.816Z"
   },
   {
    "duration": 6,
    "start_time": "2023-01-10T20:50:16.408Z"
   },
   {
    "duration": 1309,
    "start_time": "2023-01-10T20:53:42.909Z"
   },
   {
    "duration": 6,
    "start_time": "2023-01-10T20:53:45.411Z"
   },
   {
    "duration": 1361,
    "start_time": "2023-01-10T20:54:02.448Z"
   },
   {
    "duration": 7,
    "start_time": "2023-01-10T20:54:12.298Z"
   },
   {
    "duration": 149,
    "start_time": "2023-01-10T20:54:22.605Z"
   },
   {
    "duration": 25823,
    "start_time": "2023-01-10T20:55:33.359Z"
   },
   {
    "duration": 9,
    "start_time": "2023-01-10T20:56:25.052Z"
   },
   {
    "duration": 5,
    "start_time": "2023-01-10T20:56:51.731Z"
   },
   {
    "duration": 249,
    "start_time": "2023-01-10T20:57:27.237Z"
   },
   {
    "duration": 257,
    "start_time": "2023-01-10T20:57:47.415Z"
   },
   {
    "duration": 7,
    "start_time": "2023-01-10T20:57:51.942Z"
   },
   {
    "duration": 134,
    "start_time": "2023-01-10T20:57:59.200Z"
   },
   {
    "duration": 3,
    "start_time": "2023-01-10T20:58:22.816Z"
   },
   {
    "duration": 6,
    "start_time": "2023-01-10T20:58:24.692Z"
   },
   {
    "duration": 4,
    "start_time": "2023-01-10T20:58:40.725Z"
   },
   {
    "duration": 6,
    "start_time": "2023-01-10T20:58:41.489Z"
   },
   {
    "duration": 17,
    "start_time": "2023-01-10T20:59:05.120Z"
   },
   {
    "duration": 127,
    "start_time": "2023-01-10T20:59:31.225Z"
   },
   {
    "duration": 6,
    "start_time": "2023-01-10T20:59:43.832Z"
   },
   {
    "duration": 5,
    "start_time": "2023-01-10T21:00:33.194Z"
   },
   {
    "duration": 4,
    "start_time": "2023-01-10T21:00:48.245Z"
   },
   {
    "duration": 15,
    "start_time": "2023-01-10T21:02:47.122Z"
   },
   {
    "duration": 4,
    "start_time": "2023-01-10T21:02:47.757Z"
   },
   {
    "duration": 129,
    "start_time": "2023-01-10T21:02:48.715Z"
   },
   {
    "duration": 6,
    "start_time": "2023-01-10T21:02:57.092Z"
   },
   {
    "duration": 223,
    "start_time": "2023-01-10T21:03:02.493Z"
   },
   {
    "duration": 5,
    "start_time": "2023-01-10T21:48:15.715Z"
   },
   {
    "duration": 48,
    "start_time": "2023-01-10T21:48:16.437Z"
   },
   {
    "duration": 12,
    "start_time": "2023-01-10T21:48:16.653Z"
   },
   {
    "duration": 7,
    "start_time": "2023-01-10T21:48:17.346Z"
   },
   {
    "duration": 1254,
    "start_time": "2023-01-10T21:48:17.903Z"
   },
   {
    "duration": 5,
    "start_time": "2023-01-10T21:48:19.159Z"
   },
   {
    "duration": 18,
    "start_time": "2023-01-10T21:48:19.165Z"
   },
   {
    "duration": 8,
    "start_time": "2023-01-10T21:48:19.238Z"
   },
   {
    "duration": 117,
    "start_time": "2023-01-10T21:48:19.472Z"
   },
   {
    "duration": 40,
    "start_time": "2023-01-10T21:48:19.722Z"
   },
   {
    "duration": 749,
    "start_time": "2023-01-10T21:48:19.948Z"
   },
   {
    "duration": 10,
    "start_time": "2023-01-10T21:48:23.237Z"
   },
   {
    "duration": 4,
    "start_time": "2023-01-10T21:48:23.830Z"
   },
   {
    "duration": 7,
    "start_time": "2023-01-10T21:48:24.032Z"
   },
   {
    "duration": 9,
    "start_time": "2023-01-10T21:48:24.431Z"
   },
   {
    "duration": 10,
    "start_time": "2023-01-10T21:48:24.655Z"
   },
   {
    "duration": 1332,
    "start_time": "2023-01-10T21:48:35.736Z"
   },
   {
    "duration": 55,
    "start_time": "2023-01-10T21:48:37.070Z"
   },
   {
    "duration": 13,
    "start_time": "2023-01-10T21:48:37.126Z"
   },
   {
    "duration": 7,
    "start_time": "2023-01-10T21:48:37.141Z"
   },
   {
    "duration": 1345,
    "start_time": "2023-01-10T21:48:37.149Z"
   },
   {
    "duration": 4,
    "start_time": "2023-01-10T21:48:38.496Z"
   },
   {
    "duration": 8,
    "start_time": "2023-01-10T21:48:38.502Z"
   },
   {
    "duration": 7,
    "start_time": "2023-01-10T21:48:38.512Z"
   },
   {
    "duration": 113,
    "start_time": "2023-01-10T21:48:39.761Z"
   },
   {
    "duration": 43,
    "start_time": "2023-01-10T21:48:40.237Z"
   },
   {
    "duration": 754,
    "start_time": "2023-01-10T21:48:40.395Z"
   },
   {
    "duration": 11,
    "start_time": "2023-01-10T21:48:41.151Z"
   },
   {
    "duration": 4,
    "start_time": "2023-01-10T21:48:41.164Z"
   },
   {
    "duration": 6,
    "start_time": "2023-01-10T21:48:41.170Z"
   },
   {
    "duration": 9,
    "start_time": "2023-01-10T21:48:41.231Z"
   },
   {
    "duration": 10,
    "start_time": "2023-01-10T21:48:41.407Z"
   },
   {
    "duration": 9,
    "start_time": "2023-01-10T21:48:41.597Z"
   },
   {
    "duration": 5,
    "start_time": "2023-01-10T21:48:41.767Z"
   },
   {
    "duration": 4,
    "start_time": "2023-01-10T21:48:41.959Z"
   },
   {
    "duration": 4,
    "start_time": "2023-01-10T21:48:42.186Z"
   },
   {
    "duration": 5,
    "start_time": "2023-01-10T21:48:43.313Z"
   },
   {
    "duration": 5,
    "start_time": "2023-01-10T21:48:44.467Z"
   },
   {
    "duration": 35,
    "start_time": "2023-01-10T21:48:44.671Z"
   },
   {
    "duration": 11,
    "start_time": "2023-01-10T21:48:44.889Z"
   },
   {
    "duration": 3,
    "start_time": "2023-01-10T21:48:45.342Z"
   },
   {
    "duration": 327,
    "start_time": "2023-01-10T21:48:45.556Z"
   },
   {
    "duration": 96,
    "start_time": "2023-01-10T21:48:45.884Z"
   },
   {
    "duration": 173656,
    "start_time": "2023-01-10T21:48:45.982Z"
   },
   {
    "duration": 15,
    "start_time": "2023-01-10T21:51:39.640Z"
   },
   {
    "duration": 6,
    "start_time": "2023-01-10T21:51:39.656Z"
   },
   {
    "duration": 153,
    "start_time": "2023-01-10T21:51:39.664Z"
   },
   {
    "duration": 28,
    "start_time": "2023-01-10T21:52:33.457Z"
   },
   {
    "duration": 689,
    "start_time": "2023-01-10T21:52:34.564Z"
   },
   {
    "duration": 123,
    "start_time": "2023-01-10T21:52:35.255Z"
   },
   {
    "duration": 10,
    "start_time": "2023-01-10T21:52:36.119Z"
   },
   {
    "duration": 40,
    "start_time": "2023-01-10T21:52:37.624Z"
   },
   {
    "duration": 1268,
    "start_time": "2023-01-10T21:52:38.660Z"
   },
   {
    "duration": 9,
    "start_time": "2023-01-10T21:52:44.127Z"
   },
   {
    "duration": 20,
    "start_time": "2023-01-10T21:52:45.050Z"
   },
   {
    "duration": 315,
    "start_time": "2023-01-10T21:52:45.819Z"
   },
   {
    "duration": 25474,
    "start_time": "2023-01-10T21:52:48.117Z"
   },
   {
    "duration": 10,
    "start_time": "2023-01-10T21:53:19.840Z"
   },
   {
    "duration": 4,
    "start_time": "2023-01-10T21:53:21.137Z"
   },
   {
    "duration": 252,
    "start_time": "2023-01-10T21:53:23.309Z"
   },
   {
    "duration": 4,
    "start_time": "2023-01-10T21:53:24.088Z"
   },
   {
    "duration": 6,
    "start_time": "2023-01-10T21:53:24.916Z"
   },
   {
    "duration": 16,
    "start_time": "2023-01-10T21:53:25.723Z"
   },
   {
    "duration": 5,
    "start_time": "2023-01-10T21:53:26.588Z"
   },
   {
    "duration": 115,
    "start_time": "2023-01-10T21:53:27.525Z"
   },
   {
    "duration": 6,
    "start_time": "2023-01-10T21:53:31.539Z"
   },
   {
    "duration": 1606,
    "start_time": "2023-01-11T09:28:29.085Z"
   },
   {
    "duration": 109,
    "start_time": "2023-01-11T09:28:31.437Z"
   },
   {
    "duration": 14,
    "start_time": "2023-01-11T09:28:32.123Z"
   },
   {
    "duration": 6,
    "start_time": "2023-01-11T09:28:34.714Z"
   },
   {
    "duration": 1545,
    "start_time": "2023-01-11T09:28:40.131Z"
   },
   {
    "duration": 6,
    "start_time": "2023-01-11T09:28:41.858Z"
   },
   {
    "duration": 8,
    "start_time": "2023-01-11T09:28:43.410Z"
   },
   {
    "duration": 7,
    "start_time": "2023-01-11T09:28:48.267Z"
   },
   {
    "duration": 11,
    "start_time": "2023-01-11T09:31:59.262Z"
   },
   {
    "duration": 129,
    "start_time": "2023-01-11T09:32:06.438Z"
   },
   {
    "duration": 55,
    "start_time": "2023-01-11T09:33:30.807Z"
   },
   {
    "duration": 857,
    "start_time": "2023-01-11T09:33:37.843Z"
   },
   {
    "duration": 16,
    "start_time": "2023-01-11T09:34:00.731Z"
   },
   {
    "duration": 5,
    "start_time": "2023-01-11T09:34:01.622Z"
   },
   {
    "duration": 6,
    "start_time": "2023-01-11T09:34:02.259Z"
   },
   {
    "duration": 1617,
    "start_time": "2023-01-11T18:47:29.513Z"
   },
   {
    "duration": 194,
    "start_time": "2023-01-11T18:47:31.847Z"
   },
   {
    "duration": 22,
    "start_time": "2023-01-11T18:47:32.398Z"
   },
   {
    "duration": 8,
    "start_time": "2023-01-11T18:47:33.231Z"
   },
   {
    "duration": 1510,
    "start_time": "2023-01-11T18:47:34.134Z"
   },
   {
    "duration": 4,
    "start_time": "2023-01-11T18:47:35.646Z"
   },
   {
    "duration": 12,
    "start_time": "2023-01-11T18:47:36.447Z"
   },
   {
    "duration": 9,
    "start_time": "2023-01-11T18:48:43.279Z"
   },
   {
    "duration": 46,
    "start_time": "2023-01-11T18:48:48.012Z"
   },
   {
    "duration": 856,
    "start_time": "2023-01-11T18:48:48.824Z"
   },
   {
    "duration": 11,
    "start_time": "2023-01-11T18:48:53.292Z"
   },
   {
    "duration": 4,
    "start_time": "2023-01-11T18:48:54.896Z"
   },
   {
    "duration": 5,
    "start_time": "2023-01-11T18:48:55.859Z"
   },
   {
    "duration": 18,
    "start_time": "2023-01-11T19:00:59.902Z"
   },
   {
    "duration": 10,
    "start_time": "2023-01-11T19:01:19.050Z"
   },
   {
    "duration": 16,
    "start_time": "2023-01-11T19:01:30.402Z"
   },
   {
    "duration": 959,
    "start_time": "2023-01-11T19:06:54.739Z"
   },
   {
    "duration": 3,
    "start_time": "2023-01-11T19:09:16.002Z"
   },
   {
    "duration": 7,
    "start_time": "2023-01-11T19:23:13.502Z"
   },
   {
    "duration": 4,
    "start_time": "2023-01-11T19:23:49.129Z"
   },
   {
    "duration": 15,
    "start_time": "2023-01-11T19:24:05.900Z"
   },
   {
    "duration": 5,
    "start_time": "2023-01-11T19:24:25.972Z"
   },
   {
    "duration": 3,
    "start_time": "2023-01-11T19:26:23.400Z"
   },
   {
    "duration": 5,
    "start_time": "2023-01-11T19:30:40.217Z"
   },
   {
    "duration": 4,
    "start_time": "2023-01-11T19:30:48.962Z"
   },
   {
    "duration": 5,
    "start_time": "2023-01-11T19:31:09.258Z"
   },
   {
    "duration": 5,
    "start_time": "2023-01-11T19:31:25.192Z"
   },
   {
    "duration": 10,
    "start_time": "2023-01-11T19:33:46.631Z"
   },
   {
    "duration": 10,
    "start_time": "2023-01-11T19:34:09.085Z"
   },
   {
    "duration": 11,
    "start_time": "2023-01-11T19:35:46.002Z"
   },
   {
    "duration": 10,
    "start_time": "2023-01-11T19:36:35.099Z"
   },
   {
    "duration": 13,
    "start_time": "2023-01-11T19:37:28.869Z"
   },
   {
    "duration": 1486,
    "start_time": "2023-01-11T19:37:46.578Z"
   },
   {
    "duration": 52,
    "start_time": "2023-01-11T19:37:48.066Z"
   },
   {
    "duration": 12,
    "start_time": "2023-01-11T19:37:48.555Z"
   },
   {
    "duration": 7,
    "start_time": "2023-01-11T19:37:49.849Z"
   },
   {
    "duration": 1422,
    "start_time": "2023-01-11T19:37:53.170Z"
   },
   {
    "duration": 5,
    "start_time": "2023-01-11T19:38:00.015Z"
   },
   {
    "duration": 8,
    "start_time": "2023-01-11T19:38:01.035Z"
   },
   {
    "duration": 9,
    "start_time": "2023-01-11T19:38:05.300Z"
   },
   {
    "duration": 44,
    "start_time": "2023-01-11T19:38:09.757Z"
   },
   {
    "duration": 797,
    "start_time": "2023-01-11T19:38:14.570Z"
   },
   {
    "duration": 12,
    "start_time": "2023-01-11T19:38:17.727Z"
   },
   {
    "duration": 5,
    "start_time": "2023-01-11T19:38:19.336Z"
   },
   {
    "duration": 5,
    "start_time": "2023-01-11T19:38:20.530Z"
   },
   {
    "duration": 11,
    "start_time": "2023-01-11T19:38:28.417Z"
   },
   {
    "duration": 4,
    "start_time": "2023-01-11T19:38:31.834Z"
   },
   {
    "duration": 101,
    "start_time": "2023-01-11T19:38:35.705Z"
   },
   {
    "duration": 22,
    "start_time": "2023-01-11T19:39:07.219Z"
   },
   {
    "duration": 10,
    "start_time": "2023-01-11T19:39:43.880Z"
   },
   {
    "duration": 12,
    "start_time": "2023-01-11T20:07:13.322Z"
   },
   {
    "duration": 29,
    "start_time": "2023-01-11T20:07:47.754Z"
   },
   {
    "duration": 4,
    "start_time": "2023-01-11T20:13:44.037Z"
   },
   {
    "duration": 19,
    "start_time": "2023-01-11T20:13:44.846Z"
   },
   {
    "duration": 10,
    "start_time": "2023-01-11T20:14:40.820Z"
   },
   {
    "duration": 11,
    "start_time": "2023-01-11T20:14:51.413Z"
   },
   {
    "duration": 23,
    "start_time": "2023-01-11T20:15:34.555Z"
   },
   {
    "duration": 3,
    "start_time": "2023-01-11T20:16:04.984Z"
   },
   {
    "duration": 27,
    "start_time": "2023-01-11T20:16:07.839Z"
   },
   {
    "duration": 4,
    "start_time": "2023-01-11T20:17:17.256Z"
   },
   {
    "duration": 10,
    "start_time": "2023-01-11T20:17:32.472Z"
   },
   {
    "duration": 4,
    "start_time": "2023-01-11T20:17:41.413Z"
   },
   {
    "duration": 9,
    "start_time": "2023-01-11T20:19:48.106Z"
   },
   {
    "duration": 7,
    "start_time": "2023-01-11T20:20:05.646Z"
   },
   {
    "duration": 5,
    "start_time": "2023-01-11T20:20:12.811Z"
   },
   {
    "duration": 5,
    "start_time": "2023-01-11T20:20:13.709Z"
   },
   {
    "duration": 10,
    "start_time": "2023-01-11T20:20:39.057Z"
   },
   {
    "duration": 10,
    "start_time": "2023-01-11T20:20:54.465Z"
   },
   {
    "duration": 21,
    "start_time": "2023-01-11T20:21:44.692Z"
   },
   {
    "duration": 21,
    "start_time": "2023-01-11T20:21:59.510Z"
   },
   {
    "duration": 26,
    "start_time": "2023-01-11T20:22:12.480Z"
   },
   {
    "duration": 94,
    "start_time": "2023-01-11T21:02:30.591Z"
   },
   {
    "duration": 22,
    "start_time": "2023-01-11T21:02:45.131Z"
   },
   {
    "duration": 10,
    "start_time": "2023-01-11T21:04:32.313Z"
   },
   {
    "duration": 10,
    "start_time": "2023-01-11T21:04:44.785Z"
   },
   {
    "duration": 10,
    "start_time": "2023-01-11T21:05:05.549Z"
   },
   {
    "duration": 758,
    "start_time": "2023-01-11T21:05:16.297Z"
   },
   {
    "duration": 11,
    "start_time": "2023-01-11T21:05:55.438Z"
   },
   {
    "duration": 9,
    "start_time": "2023-01-11T21:06:44.887Z"
   },
   {
    "duration": 14,
    "start_time": "2023-01-11T21:07:55.828Z"
   },
   {
    "duration": 9,
    "start_time": "2023-01-11T21:08:33.003Z"
   },
   {
    "duration": 4,
    "start_time": "2023-01-11T21:08:37.119Z"
   },
   {
    "duration": 6,
    "start_time": "2023-01-11T21:08:37.949Z"
   },
   {
    "duration": 19,
    "start_time": "2023-01-11T21:08:39.042Z"
   },
   {
    "duration": 3,
    "start_time": "2023-01-11T21:09:12.336Z"
   },
   {
    "duration": 7975,
    "start_time": "2023-01-11T21:10:06.065Z"
   },
   {
    "duration": 3108,
    "start_time": "2023-01-11T21:10:57.618Z"
   },
   {
    "duration": 57,
    "start_time": "2023-01-11T21:11:00.727Z"
   },
   {
    "duration": 18,
    "start_time": "2023-01-11T21:11:00.785Z"
   },
   {
    "duration": 17,
    "start_time": "2023-01-11T21:11:00.806Z"
   },
   {
    "duration": 1390,
    "start_time": "2023-01-11T21:11:00.825Z"
   },
   {
    "duration": 6,
    "start_time": "2023-01-11T21:11:02.217Z"
   },
   {
    "duration": 29,
    "start_time": "2023-01-11T21:11:02.225Z"
   },
   {
    "duration": 25,
    "start_time": "2023-01-11T21:11:02.256Z"
   },
   {
    "duration": 146,
    "start_time": "2023-01-11T21:11:02.283Z"
   },
   {
    "duration": 741,
    "start_time": "2023-01-11T21:11:02.431Z"
   },
   {
    "duration": 10,
    "start_time": "2023-01-11T21:11:03.174Z"
   },
   {
    "duration": 16,
    "start_time": "2023-01-11T21:11:03.186Z"
   },
   {
    "duration": 21,
    "start_time": "2023-01-11T21:11:03.204Z"
   },
   {
    "duration": 20,
    "start_time": "2023-01-11T21:11:03.226Z"
   },
   {
    "duration": 15,
    "start_time": "2023-01-11T21:11:03.248Z"
   },
   {
    "duration": 14,
    "start_time": "2023-01-11T21:11:03.265Z"
   },
   {
    "duration": 17,
    "start_time": "2023-01-11T21:11:03.281Z"
   },
   {
    "duration": 129,
    "start_time": "2023-01-11T21:11:03.300Z"
   },
   {
    "duration": 0,
    "start_time": "2023-01-11T21:11:03.431Z"
   },
   {
    "duration": 0,
    "start_time": "2023-01-11T21:11:03.432Z"
   },
   {
    "duration": 1,
    "start_time": "2023-01-11T21:11:03.433Z"
   },
   {
    "duration": 0,
    "start_time": "2023-01-11T21:11:03.435Z"
   },
   {
    "duration": 0,
    "start_time": "2023-01-11T21:11:03.436Z"
   },
   {
    "duration": 0,
    "start_time": "2023-01-11T21:11:03.437Z"
   },
   {
    "duration": 0,
    "start_time": "2023-01-11T21:11:03.438Z"
   },
   {
    "duration": 0,
    "start_time": "2023-01-11T21:11:03.439Z"
   },
   {
    "duration": 0,
    "start_time": "2023-01-11T21:11:03.440Z"
   },
   {
    "duration": 0,
    "start_time": "2023-01-11T21:11:03.442Z"
   },
   {
    "duration": 0,
    "start_time": "2023-01-11T21:11:03.443Z"
   },
   {
    "duration": 0,
    "start_time": "2023-01-11T21:11:03.444Z"
   },
   {
    "duration": 0,
    "start_time": "2023-01-11T21:11:03.446Z"
   },
   {
    "duration": 0,
    "start_time": "2023-01-11T21:11:03.447Z"
   },
   {
    "duration": 0,
    "start_time": "2023-01-11T21:11:03.449Z"
   },
   {
    "duration": 0,
    "start_time": "2023-01-11T21:11:03.450Z"
   },
   {
    "duration": 0,
    "start_time": "2023-01-11T21:11:03.451Z"
   },
   {
    "duration": 0,
    "start_time": "2023-01-11T21:11:03.452Z"
   },
   {
    "duration": 0,
    "start_time": "2023-01-11T21:11:03.453Z"
   },
   {
    "duration": 0,
    "start_time": "2023-01-11T21:11:03.454Z"
   },
   {
    "duration": 0,
    "start_time": "2023-01-11T21:11:03.455Z"
   },
   {
    "duration": 0,
    "start_time": "2023-01-11T21:11:03.456Z"
   },
   {
    "duration": 0,
    "start_time": "2023-01-11T21:11:03.457Z"
   },
   {
    "duration": 0,
    "start_time": "2023-01-11T21:11:03.458Z"
   },
   {
    "duration": 0,
    "start_time": "2023-01-11T21:11:03.459Z"
   },
   {
    "duration": 0,
    "start_time": "2023-01-11T21:11:03.461Z"
   },
   {
    "duration": 0,
    "start_time": "2023-01-11T21:11:03.461Z"
   },
   {
    "duration": 0,
    "start_time": "2023-01-11T21:11:03.462Z"
   },
   {
    "duration": 0,
    "start_time": "2023-01-11T21:11:03.464Z"
   },
   {
    "duration": 0,
    "start_time": "2023-01-11T21:11:03.465Z"
   },
   {
    "duration": 0,
    "start_time": "2023-01-11T21:11:03.513Z"
   },
   {
    "duration": 0,
    "start_time": "2023-01-11T21:11:03.514Z"
   },
   {
    "duration": 0,
    "start_time": "2023-01-11T21:11:03.515Z"
   },
   {
    "duration": 0,
    "start_time": "2023-01-11T21:11:03.516Z"
   },
   {
    "duration": 0,
    "start_time": "2023-01-11T21:11:03.517Z"
   },
   {
    "duration": 3040,
    "start_time": "2023-01-11T21:11:27.102Z"
   },
   {
    "duration": 71,
    "start_time": "2023-01-11T21:11:30.144Z"
   },
   {
    "duration": 14,
    "start_time": "2023-01-11T21:11:30.216Z"
   },
   {
    "duration": 10,
    "start_time": "2023-01-11T21:11:30.232Z"
   },
   {
    "duration": 1394,
    "start_time": "2023-01-11T21:11:30.244Z"
   },
   {
    "duration": 4,
    "start_time": "2023-01-11T21:11:31.640Z"
   },
   {
    "duration": 16,
    "start_time": "2023-01-11T21:11:31.646Z"
   },
   {
    "duration": 31,
    "start_time": "2023-01-11T21:11:31.663Z"
   },
   {
    "duration": 133,
    "start_time": "2023-01-11T21:11:31.696Z"
   },
   {
    "duration": 736,
    "start_time": "2023-01-11T21:11:31.831Z"
   },
   {
    "duration": 10,
    "start_time": "2023-01-11T21:11:32.569Z"
   },
   {
    "duration": 29,
    "start_time": "2023-01-11T21:11:32.581Z"
   },
   {
    "duration": 36,
    "start_time": "2023-01-11T21:11:32.612Z"
   },
   {
    "duration": 11,
    "start_time": "2023-01-11T21:11:41.049Z"
   },
   {
    "duration": 4,
    "start_time": "2023-01-11T21:11:49.918Z"
   },
   {
    "duration": 106,
    "start_time": "2023-01-11T21:11:59.747Z"
   },
   {
    "duration": 4,
    "start_time": "2023-01-11T21:13:07.352Z"
   },
   {
    "duration": 3,
    "start_time": "2023-01-11T21:13:08.444Z"
   },
   {
    "duration": 23,
    "start_time": "2023-01-11T21:13:11.882Z"
   },
   {
    "duration": 21,
    "start_time": "2023-01-11T21:14:54.074Z"
   },
   {
    "duration": 37,
    "start_time": "2023-01-11T21:18:12.068Z"
   },
   {
    "duration": 3,
    "start_time": "2023-01-11T21:19:01.473Z"
   },
   {
    "duration": 46,
    "start_time": "2023-01-11T21:28:59.450Z"
   },
   {
    "duration": 3280,
    "start_time": "2023-01-11T21:29:07.701Z"
   },
   {
    "duration": 61,
    "start_time": "2023-01-11T21:29:14.700Z"
   },
   {
    "duration": 19,
    "start_time": "2023-01-11T21:29:16.122Z"
   },
   {
    "duration": 7,
    "start_time": "2023-01-11T21:29:17.197Z"
   },
   {
    "duration": 1420,
    "start_time": "2023-01-11T21:29:17.536Z"
   },
   {
    "duration": 6,
    "start_time": "2023-01-11T21:29:18.958Z"
   },
   {
    "duration": 34,
    "start_time": "2023-01-11T21:29:18.965Z"
   },
   {
    "duration": 8,
    "start_time": "2023-01-11T21:29:21.204Z"
   },
   {
    "duration": 140,
    "start_time": "2023-01-11T21:29:21.596Z"
   },
   {
    "duration": 787,
    "start_time": "2023-01-11T21:29:21.839Z"
   },
   {
    "duration": 15,
    "start_time": "2023-01-11T21:29:23.075Z"
   },
   {
    "duration": 4,
    "start_time": "2023-01-11T21:29:23.297Z"
   },
   {
    "duration": 5,
    "start_time": "2023-01-11T21:29:23.513Z"
   },
   {
    "duration": 3,
    "start_time": "2023-01-11T21:29:24.213Z"
   },
   {
    "duration": 10,
    "start_time": "2023-01-11T21:29:26.254Z"
   },
   {
    "duration": 3,
    "start_time": "2023-01-11T21:29:29.679Z"
   },
   {
    "duration": 3,
    "start_time": "2023-01-11T21:29:33.447Z"
   },
   {
    "duration": 38,
    "start_time": "2023-01-11T21:29:36.935Z"
   },
   {
    "duration": 27,
    "start_time": "2023-01-11T21:29:41.742Z"
   },
   {
    "duration": 25,
    "start_time": "2023-01-11T21:30:15.556Z"
   },
   {
    "duration": 3,
    "start_time": "2023-01-11T21:31:18.910Z"
   },
   {
    "duration": 5,
    "start_time": "2023-01-11T21:32:12.747Z"
   },
   {
    "duration": 93,
    "start_time": "2023-01-11T21:33:57.958Z"
   },
   {
    "duration": 11,
    "start_time": "2023-01-11T21:35:36.874Z"
   },
   {
    "duration": 328,
    "start_time": "2023-01-11T21:36:35.836Z"
   },
   {
    "duration": 90,
    "start_time": "2023-01-11T21:37:14.144Z"
   },
   {
    "duration": 182679,
    "start_time": "2023-01-11T21:37:49.594Z"
   },
   {
    "duration": 30,
    "start_time": "2023-01-11T21:41:30.518Z"
   },
   {
    "duration": 311,
    "start_time": "2023-01-11T21:42:31.258Z"
   },
   {
    "duration": 318,
    "start_time": "2023-01-11T21:42:48.343Z"
   },
   {
    "duration": 5,
    "start_time": "2023-01-11T21:42:55.053Z"
   },
   {
    "duration": 143,
    "start_time": "2023-01-11T21:42:59.082Z"
   },
   {
    "duration": 149,
    "start_time": "2023-01-11T21:45:31.550Z"
   },
   {
    "duration": 155,
    "start_time": "2023-01-11T21:48:47.320Z"
   },
   {
    "duration": 157,
    "start_time": "2023-01-11T21:48:54.503Z"
   },
   {
    "duration": 172,
    "start_time": "2023-01-11T21:49:01.285Z"
   },
   {
    "duration": 232,
    "start_time": "2023-01-11T21:51:23.161Z"
   },
   {
    "duration": 2045,
    "start_time": "2023-01-11T21:52:18.581Z"
   },
   {
    "duration": 15,
    "start_time": "2023-01-11T21:56:09.453Z"
   },
   {
    "duration": 10,
    "start_time": "2023-01-11T21:57:40.889Z"
   },
   {
    "duration": 6,
    "start_time": "2023-01-11T22:03:26.743Z"
   },
   {
    "duration": 5,
    "start_time": "2023-01-11T22:04:15.644Z"
   },
   {
    "duration": 344,
    "start_time": "2023-01-11T22:06:08.972Z"
   },
   {
    "duration": 33,
    "start_time": "2023-01-11T22:07:04.195Z"
   },
   {
    "duration": 184800,
    "start_time": "2023-01-11T22:08:07.604Z"
   },
   {
    "duration": 8430,
    "start_time": "2023-01-12T10:22:43.204Z"
   },
   {
    "duration": 410,
    "start_time": "2023-01-12T10:22:51.637Z"
   },
   {
    "duration": 13,
    "start_time": "2023-01-12T10:22:52.049Z"
   },
   {
    "duration": 6,
    "start_time": "2023-01-12T10:22:57.090Z"
   },
   {
    "duration": 7,
    "start_time": "2023-01-12T10:23:29.822Z"
   },
   {
    "duration": 10,
    "start_time": "2023-01-12T10:23:30.826Z"
   },
   {
    "duration": 11,
    "start_time": "2023-01-12T10:23:36.489Z"
   },
   {
    "duration": 1637,
    "start_time": "2023-01-12T10:23:38.223Z"
   },
   {
    "duration": 133,
    "start_time": "2023-01-12T10:23:41.057Z"
   },
   {
    "duration": 865,
    "start_time": "2023-01-12T10:23:43.592Z"
   },
   {
    "duration": 15,
    "start_time": "2023-01-12T10:23:46.402Z"
   },
   {
    "duration": 4,
    "start_time": "2023-01-12T10:23:48.603Z"
   },
   {
    "duration": 6,
    "start_time": "2023-01-12T10:23:50.089Z"
   },
   {
    "duration": 75,
    "start_time": "2023-01-12T10:24:30.241Z"
   },
   {
    "duration": 10,
    "start_time": "2023-01-12T10:25:26.393Z"
   },
   {
    "duration": 3,
    "start_time": "2023-01-12T10:25:27.129Z"
   },
   {
    "duration": 2,
    "start_time": "2023-01-12T10:25:33.545Z"
   },
   {
    "duration": 38,
    "start_time": "2023-01-12T10:25:35.163Z"
   },
   {
    "duration": 34,
    "start_time": "2023-01-12T10:25:40.355Z"
   },
   {
    "duration": 33,
    "start_time": "2023-01-12T10:25:41.466Z"
   },
   {
    "duration": 4,
    "start_time": "2023-01-12T10:25:43.361Z"
   },
   {
    "duration": 8,
    "start_time": "2023-01-12T10:25:50.401Z"
   },
   {
    "duration": 6,
    "start_time": "2023-01-12T10:26:01.266Z"
   },
   {
    "duration": 318,
    "start_time": "2023-01-12T10:31:33.714Z"
   },
   {
    "duration": 57,
    "start_time": "2023-01-12T10:31:37.265Z"
   },
   {
    "duration": 182806,
    "start_time": "2023-01-12T10:31:39.754Z"
   },
   {
    "duration": 322,
    "start_time": "2023-01-12T10:42:59.539Z"
   },
   {
    "duration": 5,
    "start_time": "2023-01-12T10:43:00.659Z"
   },
   {
    "duration": 139,
    "start_time": "2023-01-12T10:43:02.154Z"
   },
   {
    "duration": 5,
    "start_time": "2023-01-12T10:43:04.125Z"
   },
   {
    "duration": 139,
    "start_time": "2023-01-12T10:55:11.070Z"
   },
   {
    "duration": 5,
    "start_time": "2023-01-12T10:55:15.293Z"
   },
   {
    "duration": 323,
    "start_time": "2023-01-12T10:56:17.192Z"
   },
   {
    "duration": 120,
    "start_time": "2023-01-12T10:56:20.393Z"
   },
   {
    "duration": 183423,
    "start_time": "2023-01-12T10:56:21.825Z"
   },
   {
    "duration": 45,
    "start_time": "2023-01-12T11:16:17.383Z"
   },
   {
    "duration": 7476,
    "start_time": "2023-01-12T11:16:24.949Z"
   },
   {
    "duration": 88,
    "start_time": "2023-01-12T11:16:32.427Z"
   },
   {
    "duration": 11,
    "start_time": "2023-01-12T11:16:32.516Z"
   },
   {
    "duration": 12,
    "start_time": "2023-01-12T11:16:32.529Z"
   },
   {
    "duration": 8,
    "start_time": "2023-01-12T11:16:32.542Z"
   },
   {
    "duration": 21,
    "start_time": "2023-01-12T11:16:32.551Z"
   },
   {
    "duration": 11,
    "start_time": "2023-01-12T11:16:32.573Z"
   },
   {
    "duration": 1266,
    "start_time": "2023-01-12T11:16:32.585Z"
   },
   {
    "duration": 133,
    "start_time": "2023-01-12T11:16:33.853Z"
   },
   {
    "duration": 796,
    "start_time": "2023-01-12T11:16:33.989Z"
   },
   {
    "duration": 10,
    "start_time": "2023-01-12T11:16:34.787Z"
   },
   {
    "duration": 12,
    "start_time": "2023-01-12T11:16:34.798Z"
   },
   {
    "duration": 11,
    "start_time": "2023-01-12T11:16:34.811Z"
   },
   {
    "duration": 24,
    "start_time": "2023-01-12T11:16:34.824Z"
   },
   {
    "duration": 5,
    "start_time": "2023-01-12T11:16:34.849Z"
   },
   {
    "duration": 23,
    "start_time": "2023-01-12T11:16:34.856Z"
   },
   {
    "duration": 66,
    "start_time": "2023-01-12T11:16:34.880Z"
   },
   {
    "duration": 22,
    "start_time": "2023-01-12T11:16:34.948Z"
   },
   {
    "duration": 26,
    "start_time": "2023-01-12T11:16:34.972Z"
   },
   {
    "duration": 5,
    "start_time": "2023-01-12T11:16:35.000Z"
   },
   {
    "duration": 5,
    "start_time": "2023-01-12T11:16:35.554Z"
   },
   {
    "duration": 2,
    "start_time": "2023-01-12T11:16:37.363Z"
   },
   {
    "duration": 2,
    "start_time": "2023-01-12T11:16:38.515Z"
   },
   {
    "duration": 296,
    "start_time": "2023-01-12T11:16:39.004Z"
   },
   {
    "duration": 42,
    "start_time": "2023-01-12T11:16:42.283Z"
   },
   {
    "duration": 167013,
    "start_time": "2023-01-12T11:16:43.556Z"
   },
   {
    "duration": 317,
    "start_time": "2023-01-12T11:26:50.149Z"
   },
   {
    "duration": 8,
    "start_time": "2023-01-12T11:26:52.098Z"
   },
   {
    "duration": 126,
    "start_time": "2023-01-12T11:26:53.296Z"
   },
   {
    "duration": 4,
    "start_time": "2023-01-12T11:26:53.764Z"
   },
   {
    "duration": 307,
    "start_time": "2023-01-12T11:26:59.566Z"
   },
   {
    "duration": 24,
    "start_time": "2023-01-12T11:27:00.708Z"
   },
   {
    "duration": 173899,
    "start_time": "2023-01-12T11:27:02.875Z"
   },
   {
    "duration": 82,
    "start_time": "2023-01-12T11:44:54.414Z"
   },
   {
    "duration": 12,
    "start_time": "2023-01-12T11:45:47.102Z"
   },
   {
    "duration": 62,
    "start_time": "2023-01-12T11:45:58.509Z"
   },
   {
    "duration": 47,
    "start_time": "2023-01-12T11:46:30.975Z"
   },
   {
    "duration": 1224,
    "start_time": "2023-01-12T11:46:49.684Z"
   },
   {
    "duration": 327183,
    "start_time": "2023-01-12T11:50:46.007Z"
   },
   {
    "duration": 11740,
    "start_time": "2023-01-12T14:21:43.063Z"
   },
   {
    "duration": 183,
    "start_time": "2023-01-12T14:21:54.805Z"
   },
   {
    "duration": 13,
    "start_time": "2023-01-12T14:21:54.990Z"
   },
   {
    "duration": 14,
    "start_time": "2023-01-12T14:21:55.005Z"
   },
   {
    "duration": 7,
    "start_time": "2023-01-12T14:21:55.021Z"
   },
   {
    "duration": 17,
    "start_time": "2023-01-12T14:21:55.032Z"
   },
   {
    "duration": 10,
    "start_time": "2023-01-12T14:21:55.050Z"
   },
   {
    "duration": 1795,
    "start_time": "2023-01-12T14:21:55.062Z"
   },
   {
    "duration": 179,
    "start_time": "2023-01-12T14:21:56.861Z"
   },
   {
    "duration": 987,
    "start_time": "2023-01-12T14:21:57.043Z"
   },
   {
    "duration": 13,
    "start_time": "2023-01-12T14:21:58.033Z"
   },
   {
    "duration": 4,
    "start_time": "2023-01-12T14:21:58.048Z"
   },
   {
    "duration": 16,
    "start_time": "2023-01-12T14:21:58.054Z"
   },
   {
    "duration": 11,
    "start_time": "2023-01-12T14:22:00.400Z"
   },
   {
    "duration": 9,
    "start_time": "2023-01-12T14:22:45.148Z"
   },
   {
    "duration": 4,
    "start_time": "2023-01-12T14:22:46.371Z"
   },
   {
    "duration": 3,
    "start_time": "2023-01-12T14:22:47.985Z"
   },
   {
    "duration": 43,
    "start_time": "2023-01-12T14:24:30.496Z"
   },
   {
    "duration": 34,
    "start_time": "2023-01-12T14:24:31.514Z"
   },
   {
    "duration": 27,
    "start_time": "2023-01-12T14:24:57.424Z"
   },
   {
    "duration": 5,
    "start_time": "2023-01-12T14:25:01.287Z"
   },
   {
    "duration": 6,
    "start_time": "2023-01-12T14:25:08.425Z"
   },
   {
    "duration": 342,
    "start_time": "2023-01-12T14:25:26.159Z"
   },
   {
    "duration": 51,
    "start_time": "2023-01-12T14:25:30.487Z"
   },
   {
    "duration": 203294,
    "start_time": "2023-01-12T14:25:32.761Z"
   },
   {
    "duration": 353,
    "start_time": "2023-01-12T14:30:05.930Z"
   },
   {
    "duration": 6,
    "start_time": "2023-01-12T14:30:06.523Z"
   },
   {
    "duration": 172,
    "start_time": "2023-01-12T14:30:06.924Z"
   },
   {
    "duration": 6,
    "start_time": "2023-01-12T14:30:07.674Z"
   },
   {
    "duration": 269,
    "start_time": "2023-01-12T14:30:58.925Z"
   },
   {
    "duration": 81,
    "start_time": "2023-01-12T14:31:09.552Z"
   },
   {
    "duration": 102,
    "start_time": "2023-01-12T14:31:17.480Z"
   },
   {
    "duration": 375,
    "start_time": "2023-01-12T14:31:24.992Z"
   },
   {
    "duration": 365,
    "start_time": "2023-01-12T14:32:01.773Z"
   },
   {
    "duration": 355,
    "start_time": "2023-01-12T14:32:29.205Z"
   },
   {
    "duration": 44,
    "start_time": "2023-01-12T14:33:39.251Z"
   },
   {
    "duration": 32,
    "start_time": "2023-01-12T14:34:43.829Z"
   },
   {
    "duration": 6,
    "start_time": "2023-01-12T14:34:46.524Z"
   },
   {
    "duration": 170,
    "start_time": "2023-01-12T14:34:49.128Z"
   },
   {
    "duration": 6,
    "start_time": "2023-01-12T14:35:31.330Z"
   },
   {
    "duration": 409,
    "start_time": "2023-01-12T14:38:38.592Z"
   },
   {
    "duration": 117,
    "start_time": "2023-01-12T14:38:42.633Z"
   },
   {
    "duration": 197835,
    "start_time": "2023-01-12T14:38:45.839Z"
   },
   {
    "duration": 17,
    "start_time": "2023-01-12T14:43:18.984Z"
   },
   {
    "duration": 5885,
    "start_time": "2023-01-12T14:44:49.343Z"
   },
   {
    "duration": 52,
    "start_time": "2023-01-12T14:47:46.292Z"
   },
   {
    "duration": 674,
    "start_time": "2023-01-12T14:51:13.407Z"
   },
   {
    "duration": 311184,
    "start_time": "2023-01-12T14:52:32.511Z"
   },
   {
    "duration": 12,
    "start_time": "2023-01-12T15:00:10.491Z"
   },
   {
    "duration": 145,
    "start_time": "2023-01-12T15:00:35.947Z"
   },
   {
    "duration": 11,
    "start_time": "2023-01-12T15:01:27.009Z"
   },
   {
    "duration": 179,
    "start_time": "2023-01-12T15:01:30.143Z"
   },
   {
    "duration": 180,
    "start_time": "2023-01-12T15:02:46.765Z"
   },
   {
    "duration": 316351,
    "start_time": "2023-01-12T15:03:07.411Z"
   },
   {
    "duration": 14,
    "start_time": "2023-01-12T15:09:19.842Z"
   },
   {
    "duration": 185,
    "start_time": "2023-01-12T15:09:22.438Z"
   },
   {
    "duration": 119575,
    "start_time": "2023-01-12T15:09:26.779Z"
   },
   {
    "duration": 132,
    "start_time": "2023-01-12T15:11:43.589Z"
   },
   {
    "duration": 26037,
    "start_time": "2023-01-12T15:12:40.347Z"
   },
   {
    "duration": 9,
    "start_time": "2023-01-12T15:13:06.386Z"
   },
   {
    "duration": 3,
    "start_time": "2023-01-12T15:14:29.964Z"
   },
   {
    "duration": 3,
    "start_time": "2023-01-12T15:14:30.803Z"
   },
   {
    "duration": 3,
    "start_time": "2023-01-12T15:14:31.487Z"
   },
   {
    "duration": 957,
    "start_time": "2023-01-12T15:15:53.681Z"
   },
   {
    "duration": 4,
    "start_time": "2023-01-12T15:16:03.601Z"
   },
   {
    "duration": 5,
    "start_time": "2023-01-12T15:16:11.448Z"
   },
   {
    "duration": 41,
    "start_time": "2023-01-12T15:16:35.537Z"
   },
   {
    "duration": 5,
    "start_time": "2023-01-12T15:16:41.609Z"
   },
   {
    "duration": 129,
    "start_time": "2023-01-12T15:16:53.619Z"
   },
   {
    "duration": 7,
    "start_time": "2023-01-12T15:17:01.522Z"
   },
   {
    "duration": 5831,
    "start_time": "2023-01-12T15:17:42.461Z"
   },
   {
    "duration": 56,
    "start_time": "2023-01-12T15:17:48.294Z"
   },
   {
    "duration": 14,
    "start_time": "2023-01-12T15:17:56.908Z"
   },
   {
    "duration": 10,
    "start_time": "2023-01-12T15:17:58.068Z"
   },
   {
    "duration": 5,
    "start_time": "2023-01-12T15:17:59.699Z"
   },
   {
    "duration": 8,
    "start_time": "2023-01-12T15:18:04.544Z"
   },
   {
    "duration": 10,
    "start_time": "2023-01-12T15:18:14.824Z"
   },
   {
    "duration": 1624,
    "start_time": "2023-01-12T15:18:16.969Z"
   },
   {
    "duration": 61,
    "start_time": "2023-01-12T15:18:18.595Z"
   },
   {
    "duration": 890,
    "start_time": "2023-01-12T15:18:19.068Z"
   },
   {
    "duration": 12,
    "start_time": "2023-01-12T15:18:20.862Z"
   },
   {
    "duration": 5,
    "start_time": "2023-01-12T15:18:21.133Z"
   },
   {
    "duration": 7,
    "start_time": "2023-01-12T15:18:21.365Z"
   },
   {
    "duration": 11,
    "start_time": "2023-01-12T15:18:30.151Z"
   },
   {
    "duration": 4,
    "start_time": "2023-01-12T15:18:31.047Z"
   },
   {
    "duration": 4,
    "start_time": "2023-01-12T15:19:01.502Z"
   },
   {
    "duration": 71,
    "start_time": "2023-01-12T15:19:12.188Z"
   },
   {
    "duration": 29,
    "start_time": "2023-01-12T15:19:14.857Z"
   },
   {
    "duration": 30,
    "start_time": "2023-01-12T15:19:16.607Z"
   },
   {
    "duration": 4,
    "start_time": "2023-01-12T15:19:18.383Z"
   },
   {
    "duration": 7,
    "start_time": "2023-01-12T15:19:43.763Z"
   },
   {
    "duration": 370,
    "start_time": "2023-01-12T15:19:53.459Z"
   },
   {
    "duration": 65,
    "start_time": "2023-01-12T15:19:58.775Z"
   },
   {
    "duration": 194469,
    "start_time": "2023-01-12T15:20:04.231Z"
   },
   {
    "duration": 29,
    "start_time": "2023-01-12T15:23:26.432Z"
   },
   {
    "duration": 6,
    "start_time": "2023-01-12T15:23:27.874Z"
   },
   {
    "duration": 163,
    "start_time": "2023-01-12T15:23:30.037Z"
   },
   {
    "duration": 6,
    "start_time": "2023-01-12T15:28:35.136Z"
   },
   {
    "duration": 361,
    "start_time": "2023-01-12T15:30:16.922Z"
   },
   {
    "duration": 357,
    "start_time": "2023-01-12T15:30:59.171Z"
   },
   {
    "duration": 377,
    "start_time": "2023-01-12T15:31:14.579Z"
   },
   {
    "duration": 39,
    "start_time": "2023-01-12T15:31:23.002Z"
   },
   {
    "duration": 198415,
    "start_time": "2023-01-12T15:31:36.553Z"
   },
   {
    "duration": 36,
    "start_time": "2023-01-12T15:35:23.948Z"
   },
   {
    "duration": 550,
    "start_time": "2023-01-12T15:35:29.836Z"
   },
   {
    "duration": 554,
    "start_time": "2023-01-12T15:36:25.162Z"
   },
   {
    "duration": 307434,
    "start_time": "2023-01-12T15:36:37.781Z"
   },
   {
    "duration": 9,
    "start_time": "2023-01-12T15:41:53.556Z"
   },
   {
    "duration": 171,
    "start_time": "2023-01-12T15:42:23.884Z"
   },
   {
    "duration": 115261,
    "start_time": "2023-01-12T15:42:31.218Z"
   },
   {
    "duration": 276,
    "start_time": "2023-01-12T15:45:56.513Z"
   },
   {
    "duration": 4,
    "start_time": "2023-01-12T15:46:17.091Z"
   },
   {
    "duration": 7,
    "start_time": "2023-01-12T15:46:20.218Z"
   },
   {
    "duration": 15,
    "start_time": "2023-01-12T15:46:22.066Z"
   },
   {
    "duration": 5,
    "start_time": "2023-01-12T15:46:23.265Z"
   },
   {
    "duration": 140,
    "start_time": "2023-01-12T15:46:32.138Z"
   },
   {
    "duration": 9,
    "start_time": "2023-01-12T15:46:38.898Z"
   },
   {
    "duration": 2630,
    "start_time": "2023-03-11T19:05:21.482Z"
   },
   {
    "duration": 11562,
    "start_time": "2023-03-11T19:05:36.910Z"
   }
  ],
  "kernelspec": {
   "display_name": "Python 3 (ipykernel)",
   "language": "python",
   "name": "python3"
  },
  "language_info": {
   "codemirror_mode": {
    "name": "ipython",
    "version": 3
   },
   "file_extension": ".py",
   "mimetype": "text/x-python",
   "name": "python",
   "nbconvert_exporter": "python",
   "pygments_lexer": "ipython3",
   "version": "3.11.5"
  },
  "toc": {
   "base_numbering": 1,
   "nav_menu": {},
   "number_sections": true,
   "sideBar": true,
   "skip_h1_title": true,
   "title_cell": "Содержание",
   "title_sidebar": "Contents",
   "toc_cell": true,
   "toc_position": {
    "height": "calc(100% - 180px)",
    "left": "10px",
    "top": "150px",
    "width": "279.837px"
   },
   "toc_section_display": true,
   "toc_window_display": true
  }
 },
 "nbformat": 4,
 "nbformat_minor": 2
}
