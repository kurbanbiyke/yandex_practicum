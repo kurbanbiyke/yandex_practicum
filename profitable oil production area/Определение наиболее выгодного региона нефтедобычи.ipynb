{
 "cells": [
  {
   "cell_type": "markdown",
   "metadata": {},
   "source": [
    "# Определение наиболее выгодного региона нефтедобычи"
   ]
  },
  {
   "cell_type": "markdown",
   "metadata": {},
   "source": [
    "_____\n",
    "**Описание исследования.**\n",
    "\n",
    "Допустим, вы работаете в добывающей компании «ГлавРосГосНефть». Нужно решить, где бурить новую скважину.\n",
    "\n",
    "Вам предоставлены пробы нефти в трёх регионах: в каждом 10 000 месторождений, где измерили качество нефти и объём её запасов. Постройте модель машинного обучения, которая поможет определить регион, где добыча принесёт наибольшую прибыль. Проанализируйте возможную прибыль и риски техникой *Bootstrap.*\n",
    "\n",
    "Шаги для выбора локации:\n",
    "\n",
    "- В избранном регионе ищут месторождения, для каждого определяют значения признаков;\n",
    "- Строят модель и оценивают объём запасов;\n",
    "- Выбирают месторождения с самым высокими оценками значений. Количество месторождений зависит от бюджета компании и стоимости разработки одной скважины;\n",
    "- Прибыль равна суммарной прибыли отобранных месторождений.\n",
    "_____\n",
    "**Цель исследования.**\n",
    "\n",
    "На основе данных геологи разведки выбрать район добычи нефти\n",
    "_____\n",
    "**Задачи исследования:**\n",
    "- загрузка и подготовка данных;\n",
    "- обучение и проверка модели;\n",
    "- подготовка к расчету прибыли;\n",
    "- расчет прибыли и рисков;\n",
    "- вывод.\n",
    "\n",
    "\n",
    "_____\n",
    "**Исходные данные.**\n",
    "    \n",
    "  - `id` — уникальный идентификатор скважины;\n",
    "  - `f0`, `f1`, `f2` — три признака точек (неважно, что они означают, но сами признаки значимы);\n",
    "  - `product` — объём запасов в скважине (тыс. баррелей).\n",
    "______\n",
    "\n"
   ]
  },
  {
   "cell_type": "markdown",
   "metadata": {},
   "source": [
    "## Загрузка и подготовка данных"
   ]
  },
  {
   "cell_type": "code",
   "execution_count": 1,
   "metadata": {},
   "outputs": [],
   "source": [
    "import pandas as pd\n",
    "import numpy as np\n",
    "import seaborn as sns\n",
    "import matplotlib.pyplot as plt\n",
    "from scipy import stats as st\n",
    "\n",
    "from sklearn.model_selection import train_test_split\n",
    "from sklearn.linear_model import LinearRegression\n",
    "from sklearn.model_selection import cross_val_score\n",
    "from sklearn.metrics import (\n",
    "    f1_score, \n",
    "    accuracy_score, \n",
    "    mean_squared_error)\n",
    "\n",
    "from numpy.random import RandomState"
   ]
  },
  {
   "cell_type": "code",
   "execution_count": 3,
   "metadata": {},
   "outputs": [],
   "source": [
    "try:\n",
    "    data_0 = pd.read_csv('/datasets/geo_data_0.csv')\n",
    "    data_1 = pd.read_csv('/datasets/geo_data_1.csv')\n",
    "    data_2 = pd.read_csv('/datasets/geo_data_2.csv')\n",
    "except:\n",
    "    data_0 = pd.read_csv('https://code.s3.yandex.net/datasets/geo_data_0.csv')\n",
    "    data_1 = pd.read_csv('https://code.s3.yandex.net/datasets/geo_data_1.csv')\n",
    "    data_2 = pd.read_csv('https://code.s3.yandex.net/datasets/geo_data_2.csv')"
   ]
  },
  {
   "cell_type": "code",
   "execution_count": 4,
   "metadata": {},
   "outputs": [],
   "source": [
    "#напишем функцию, которая отобразит основную информацию для нашего датафрейма \n",
    "def get_data_info(data):\n",
    "    display(data.sample(5))\n",
    "    display(data.info())\n",
    "    display(data.isnull().sum())\n",
    "    display(data.describe(include='all').round(2))"
   ]
  },
  {
   "cell_type": "code",
   "execution_count": 5,
   "metadata": {},
   "outputs": [
    {
     "data": {
      "text/html": [
       "<div>\n",
       "<style scoped>\n",
       "    .dataframe tbody tr th:only-of-type {\n",
       "        vertical-align: middle;\n",
       "    }\n",
       "\n",
       "    .dataframe tbody tr th {\n",
       "        vertical-align: top;\n",
       "    }\n",
       "\n",
       "    .dataframe thead th {\n",
       "        text-align: right;\n",
       "    }\n",
       "</style>\n",
       "<table border=\"1\" class=\"dataframe\">\n",
       "  <thead>\n",
       "    <tr style=\"text-align: right;\">\n",
       "      <th></th>\n",
       "      <th>id</th>\n",
       "      <th>f0</th>\n",
       "      <th>f1</th>\n",
       "      <th>f2</th>\n",
       "      <th>product</th>\n",
       "    </tr>\n",
       "  </thead>\n",
       "  <tbody>\n",
       "    <tr>\n",
       "      <th>91605</th>\n",
       "      <td>2WziL</td>\n",
       "      <td>0.744762</td>\n",
       "      <td>0.866772</td>\n",
       "      <td>4.206849</td>\n",
       "      <td>51.513360</td>\n",
       "    </tr>\n",
       "    <tr>\n",
       "      <th>93551</th>\n",
       "      <td>iwgbW</td>\n",
       "      <td>2.096032</td>\n",
       "      <td>0.572157</td>\n",
       "      <td>0.193223</td>\n",
       "      <td>73.691671</td>\n",
       "    </tr>\n",
       "    <tr>\n",
       "      <th>1931</th>\n",
       "      <td>ng4f5</td>\n",
       "      <td>-0.082337</td>\n",
       "      <td>0.910084</td>\n",
       "      <td>5.236881</td>\n",
       "      <td>97.434622</td>\n",
       "    </tr>\n",
       "    <tr>\n",
       "      <th>76673</th>\n",
       "      <td>FsyjT</td>\n",
       "      <td>-0.076606</td>\n",
       "      <td>1.051860</td>\n",
       "      <td>3.101331</td>\n",
       "      <td>38.304430</td>\n",
       "    </tr>\n",
       "    <tr>\n",
       "      <th>37734</th>\n",
       "      <td>c72MP</td>\n",
       "      <td>0.818788</td>\n",
       "      <td>-0.558951</td>\n",
       "      <td>2.100910</td>\n",
       "      <td>54.080756</td>\n",
       "    </tr>\n",
       "  </tbody>\n",
       "</table>\n",
       "</div>"
      ],
      "text/plain": [
       "          id        f0        f1        f2    product\n",
       "91605  2WziL  0.744762  0.866772  4.206849  51.513360\n",
       "93551  iwgbW  2.096032  0.572157  0.193223  73.691671\n",
       "1931   ng4f5 -0.082337  0.910084  5.236881  97.434622\n",
       "76673  FsyjT -0.076606  1.051860  3.101331  38.304430\n",
       "37734  c72MP  0.818788 -0.558951  2.100910  54.080756"
      ]
     },
     "metadata": {},
     "output_type": "display_data"
    },
    {
     "name": "stdout",
     "output_type": "stream",
     "text": [
      "<class 'pandas.core.frame.DataFrame'>\n",
      "RangeIndex: 100000 entries, 0 to 99999\n",
      "Data columns (total 5 columns):\n",
      " #   Column   Non-Null Count   Dtype  \n",
      "---  ------   --------------   -----  \n",
      " 0   id       100000 non-null  object \n",
      " 1   f0       100000 non-null  float64\n",
      " 2   f1       100000 non-null  float64\n",
      " 3   f2       100000 non-null  float64\n",
      " 4   product  100000 non-null  float64\n",
      "dtypes: float64(4), object(1)\n",
      "memory usage: 3.8+ MB\n"
     ]
    },
    {
     "data": {
      "text/plain": [
       "None"
      ]
     },
     "metadata": {},
     "output_type": "display_data"
    },
    {
     "data": {
      "text/plain": [
       "id         0\n",
       "f0         0\n",
       "f1         0\n",
       "f2         0\n",
       "product    0\n",
       "dtype: int64"
      ]
     },
     "metadata": {},
     "output_type": "display_data"
    },
    {
     "data": {
      "text/html": [
       "<div>\n",
       "<style scoped>\n",
       "    .dataframe tbody tr th:only-of-type {\n",
       "        vertical-align: middle;\n",
       "    }\n",
       "\n",
       "    .dataframe tbody tr th {\n",
       "        vertical-align: top;\n",
       "    }\n",
       "\n",
       "    .dataframe thead th {\n",
       "        text-align: right;\n",
       "    }\n",
       "</style>\n",
       "<table border=\"1\" class=\"dataframe\">\n",
       "  <thead>\n",
       "    <tr style=\"text-align: right;\">\n",
       "      <th></th>\n",
       "      <th>id</th>\n",
       "      <th>f0</th>\n",
       "      <th>f1</th>\n",
       "      <th>f2</th>\n",
       "      <th>product</th>\n",
       "    </tr>\n",
       "  </thead>\n",
       "  <tbody>\n",
       "    <tr>\n",
       "      <th>count</th>\n",
       "      <td>100000</td>\n",
       "      <td>100000.00</td>\n",
       "      <td>100000.00</td>\n",
       "      <td>100000.00</td>\n",
       "      <td>100000.00</td>\n",
       "    </tr>\n",
       "    <tr>\n",
       "      <th>unique</th>\n",
       "      <td>99990</td>\n",
       "      <td>NaN</td>\n",
       "      <td>NaN</td>\n",
       "      <td>NaN</td>\n",
       "      <td>NaN</td>\n",
       "    </tr>\n",
       "    <tr>\n",
       "      <th>top</th>\n",
       "      <td>fiKDv</td>\n",
       "      <td>NaN</td>\n",
       "      <td>NaN</td>\n",
       "      <td>NaN</td>\n",
       "      <td>NaN</td>\n",
       "    </tr>\n",
       "    <tr>\n",
       "      <th>freq</th>\n",
       "      <td>2</td>\n",
       "      <td>NaN</td>\n",
       "      <td>NaN</td>\n",
       "      <td>NaN</td>\n",
       "      <td>NaN</td>\n",
       "    </tr>\n",
       "    <tr>\n",
       "      <th>mean</th>\n",
       "      <td>NaN</td>\n",
       "      <td>0.50</td>\n",
       "      <td>0.25</td>\n",
       "      <td>2.50</td>\n",
       "      <td>92.50</td>\n",
       "    </tr>\n",
       "    <tr>\n",
       "      <th>std</th>\n",
       "      <td>NaN</td>\n",
       "      <td>0.87</td>\n",
       "      <td>0.50</td>\n",
       "      <td>3.25</td>\n",
       "      <td>44.29</td>\n",
       "    </tr>\n",
       "    <tr>\n",
       "      <th>min</th>\n",
       "      <td>NaN</td>\n",
       "      <td>-1.41</td>\n",
       "      <td>-0.85</td>\n",
       "      <td>-12.09</td>\n",
       "      <td>0.00</td>\n",
       "    </tr>\n",
       "    <tr>\n",
       "      <th>25%</th>\n",
       "      <td>NaN</td>\n",
       "      <td>-0.07</td>\n",
       "      <td>-0.20</td>\n",
       "      <td>0.29</td>\n",
       "      <td>56.50</td>\n",
       "    </tr>\n",
       "    <tr>\n",
       "      <th>50%</th>\n",
       "      <td>NaN</td>\n",
       "      <td>0.50</td>\n",
       "      <td>0.25</td>\n",
       "      <td>2.52</td>\n",
       "      <td>91.85</td>\n",
       "    </tr>\n",
       "    <tr>\n",
       "      <th>75%</th>\n",
       "      <td>NaN</td>\n",
       "      <td>1.07</td>\n",
       "      <td>0.70</td>\n",
       "      <td>4.72</td>\n",
       "      <td>128.56</td>\n",
       "    </tr>\n",
       "    <tr>\n",
       "      <th>max</th>\n",
       "      <td>NaN</td>\n",
       "      <td>2.36</td>\n",
       "      <td>1.34</td>\n",
       "      <td>16.00</td>\n",
       "      <td>185.36</td>\n",
       "    </tr>\n",
       "  </tbody>\n",
       "</table>\n",
       "</div>"
      ],
      "text/plain": [
       "            id         f0         f1         f2    product\n",
       "count   100000  100000.00  100000.00  100000.00  100000.00\n",
       "unique   99990        NaN        NaN        NaN        NaN\n",
       "top      fiKDv        NaN        NaN        NaN        NaN\n",
       "freq         2        NaN        NaN        NaN        NaN\n",
       "mean       NaN       0.50       0.25       2.50      92.50\n",
       "std        NaN       0.87       0.50       3.25      44.29\n",
       "min        NaN      -1.41      -0.85     -12.09       0.00\n",
       "25%        NaN      -0.07      -0.20       0.29      56.50\n",
       "50%        NaN       0.50       0.25       2.52      91.85\n",
       "75%        NaN       1.07       0.70       4.72     128.56\n",
       "max        NaN       2.36       1.34      16.00     185.36"
      ]
     },
     "metadata": {},
     "output_type": "display_data"
    }
   ],
   "source": [
    "#отобразим информацию для 0 региона\n",
    "get_data_info(data_0)"
   ]
  },
  {
   "cell_type": "code",
   "execution_count": 6,
   "metadata": {},
   "outputs": [
    {
     "data": {
      "text/html": [
       "<div>\n",
       "<style scoped>\n",
       "    .dataframe tbody tr th:only-of-type {\n",
       "        vertical-align: middle;\n",
       "    }\n",
       "\n",
       "    .dataframe tbody tr th {\n",
       "        vertical-align: top;\n",
       "    }\n",
       "\n",
       "    .dataframe thead th {\n",
       "        text-align: right;\n",
       "    }\n",
       "</style>\n",
       "<table border=\"1\" class=\"dataframe\">\n",
       "  <thead>\n",
       "    <tr style=\"text-align: right;\">\n",
       "      <th></th>\n",
       "      <th>id</th>\n",
       "      <th>f0</th>\n",
       "      <th>f1</th>\n",
       "      <th>f2</th>\n",
       "      <th>product</th>\n",
       "    </tr>\n",
       "  </thead>\n",
       "  <tbody>\n",
       "    <tr>\n",
       "      <th>77287</th>\n",
       "      <td>CNy9G</td>\n",
       "      <td>-5.626000</td>\n",
       "      <td>-7.412132</td>\n",
       "      <td>2.995365</td>\n",
       "      <td>84.038886</td>\n",
       "    </tr>\n",
       "    <tr>\n",
       "      <th>77219</th>\n",
       "      <td>YWN3V</td>\n",
       "      <td>-0.172317</td>\n",
       "      <td>-5.190414</td>\n",
       "      <td>-0.011260</td>\n",
       "      <td>3.179103</td>\n",
       "    </tr>\n",
       "    <tr>\n",
       "      <th>62841</th>\n",
       "      <td>Eiy7Y</td>\n",
       "      <td>10.150060</td>\n",
       "      <td>4.767119</td>\n",
       "      <td>5.003336</td>\n",
       "      <td>134.766305</td>\n",
       "    </tr>\n",
       "    <tr>\n",
       "      <th>11508</th>\n",
       "      <td>CEBuQ</td>\n",
       "      <td>-1.616699</td>\n",
       "      <td>-3.492354</td>\n",
       "      <td>0.999040</td>\n",
       "      <td>30.132364</td>\n",
       "    </tr>\n",
       "    <tr>\n",
       "      <th>4113</th>\n",
       "      <td>nwcf5</td>\n",
       "      <td>-4.716412</td>\n",
       "      <td>-1.107277</td>\n",
       "      <td>0.992708</td>\n",
       "      <td>30.132364</td>\n",
       "    </tr>\n",
       "  </tbody>\n",
       "</table>\n",
       "</div>"
      ],
      "text/plain": [
       "          id         f0        f1        f2     product\n",
       "77287  CNy9G  -5.626000 -7.412132  2.995365   84.038886\n",
       "77219  YWN3V  -0.172317 -5.190414 -0.011260    3.179103\n",
       "62841  Eiy7Y  10.150060  4.767119  5.003336  134.766305\n",
       "11508  CEBuQ  -1.616699 -3.492354  0.999040   30.132364\n",
       "4113   nwcf5  -4.716412 -1.107277  0.992708   30.132364"
      ]
     },
     "metadata": {},
     "output_type": "display_data"
    },
    {
     "name": "stdout",
     "output_type": "stream",
     "text": [
      "<class 'pandas.core.frame.DataFrame'>\n",
      "RangeIndex: 100000 entries, 0 to 99999\n",
      "Data columns (total 5 columns):\n",
      " #   Column   Non-Null Count   Dtype  \n",
      "---  ------   --------------   -----  \n",
      " 0   id       100000 non-null  object \n",
      " 1   f0       100000 non-null  float64\n",
      " 2   f1       100000 non-null  float64\n",
      " 3   f2       100000 non-null  float64\n",
      " 4   product  100000 non-null  float64\n",
      "dtypes: float64(4), object(1)\n",
      "memory usage: 3.8+ MB\n"
     ]
    },
    {
     "data": {
      "text/plain": [
       "None"
      ]
     },
     "metadata": {},
     "output_type": "display_data"
    },
    {
     "data": {
      "text/plain": [
       "id         0\n",
       "f0         0\n",
       "f1         0\n",
       "f2         0\n",
       "product    0\n",
       "dtype: int64"
      ]
     },
     "metadata": {},
     "output_type": "display_data"
    },
    {
     "data": {
      "text/html": [
       "<div>\n",
       "<style scoped>\n",
       "    .dataframe tbody tr th:only-of-type {\n",
       "        vertical-align: middle;\n",
       "    }\n",
       "\n",
       "    .dataframe tbody tr th {\n",
       "        vertical-align: top;\n",
       "    }\n",
       "\n",
       "    .dataframe thead th {\n",
       "        text-align: right;\n",
       "    }\n",
       "</style>\n",
       "<table border=\"1\" class=\"dataframe\">\n",
       "  <thead>\n",
       "    <tr style=\"text-align: right;\">\n",
       "      <th></th>\n",
       "      <th>id</th>\n",
       "      <th>f0</th>\n",
       "      <th>f1</th>\n",
       "      <th>f2</th>\n",
       "      <th>product</th>\n",
       "    </tr>\n",
       "  </thead>\n",
       "  <tbody>\n",
       "    <tr>\n",
       "      <th>count</th>\n",
       "      <td>100000</td>\n",
       "      <td>100000.00</td>\n",
       "      <td>100000.00</td>\n",
       "      <td>100000.00</td>\n",
       "      <td>100000.00</td>\n",
       "    </tr>\n",
       "    <tr>\n",
       "      <th>unique</th>\n",
       "      <td>99996</td>\n",
       "      <td>NaN</td>\n",
       "      <td>NaN</td>\n",
       "      <td>NaN</td>\n",
       "      <td>NaN</td>\n",
       "    </tr>\n",
       "    <tr>\n",
       "      <th>top</th>\n",
       "      <td>wt4Uk</td>\n",
       "      <td>NaN</td>\n",
       "      <td>NaN</td>\n",
       "      <td>NaN</td>\n",
       "      <td>NaN</td>\n",
       "    </tr>\n",
       "    <tr>\n",
       "      <th>freq</th>\n",
       "      <td>2</td>\n",
       "      <td>NaN</td>\n",
       "      <td>NaN</td>\n",
       "      <td>NaN</td>\n",
       "      <td>NaN</td>\n",
       "    </tr>\n",
       "    <tr>\n",
       "      <th>mean</th>\n",
       "      <td>NaN</td>\n",
       "      <td>1.14</td>\n",
       "      <td>-4.80</td>\n",
       "      <td>2.49</td>\n",
       "      <td>68.83</td>\n",
       "    </tr>\n",
       "    <tr>\n",
       "      <th>std</th>\n",
       "      <td>NaN</td>\n",
       "      <td>8.97</td>\n",
       "      <td>5.12</td>\n",
       "      <td>1.70</td>\n",
       "      <td>45.94</td>\n",
       "    </tr>\n",
       "    <tr>\n",
       "      <th>min</th>\n",
       "      <td>NaN</td>\n",
       "      <td>-31.61</td>\n",
       "      <td>-26.36</td>\n",
       "      <td>-0.02</td>\n",
       "      <td>0.00</td>\n",
       "    </tr>\n",
       "    <tr>\n",
       "      <th>25%</th>\n",
       "      <td>NaN</td>\n",
       "      <td>-6.30</td>\n",
       "      <td>-8.27</td>\n",
       "      <td>1.00</td>\n",
       "      <td>26.95</td>\n",
       "    </tr>\n",
       "    <tr>\n",
       "      <th>50%</th>\n",
       "      <td>NaN</td>\n",
       "      <td>1.15</td>\n",
       "      <td>-4.81</td>\n",
       "      <td>2.01</td>\n",
       "      <td>57.09</td>\n",
       "    </tr>\n",
       "    <tr>\n",
       "      <th>75%</th>\n",
       "      <td>NaN</td>\n",
       "      <td>8.62</td>\n",
       "      <td>-1.33</td>\n",
       "      <td>4.00</td>\n",
       "      <td>107.81</td>\n",
       "    </tr>\n",
       "    <tr>\n",
       "      <th>max</th>\n",
       "      <td>NaN</td>\n",
       "      <td>29.42</td>\n",
       "      <td>18.73</td>\n",
       "      <td>5.02</td>\n",
       "      <td>137.95</td>\n",
       "    </tr>\n",
       "  </tbody>\n",
       "</table>\n",
       "</div>"
      ],
      "text/plain": [
       "            id         f0         f1         f2    product\n",
       "count   100000  100000.00  100000.00  100000.00  100000.00\n",
       "unique   99996        NaN        NaN        NaN        NaN\n",
       "top      wt4Uk        NaN        NaN        NaN        NaN\n",
       "freq         2        NaN        NaN        NaN        NaN\n",
       "mean       NaN       1.14      -4.80       2.49      68.83\n",
       "std        NaN       8.97       5.12       1.70      45.94\n",
       "min        NaN     -31.61     -26.36      -0.02       0.00\n",
       "25%        NaN      -6.30      -8.27       1.00      26.95\n",
       "50%        NaN       1.15      -4.81       2.01      57.09\n",
       "75%        NaN       8.62      -1.33       4.00     107.81\n",
       "max        NaN      29.42      18.73       5.02     137.95"
      ]
     },
     "metadata": {},
     "output_type": "display_data"
    }
   ],
   "source": [
    "#отобразим информацию для 1 региона\n",
    "get_data_info(data_1)"
   ]
  },
  {
   "cell_type": "code",
   "execution_count": 7,
   "metadata": {},
   "outputs": [
    {
     "data": {
      "text/html": [
       "<div>\n",
       "<style scoped>\n",
       "    .dataframe tbody tr th:only-of-type {\n",
       "        vertical-align: middle;\n",
       "    }\n",
       "\n",
       "    .dataframe tbody tr th {\n",
       "        vertical-align: top;\n",
       "    }\n",
       "\n",
       "    .dataframe thead th {\n",
       "        text-align: right;\n",
       "    }\n",
       "</style>\n",
       "<table border=\"1\" class=\"dataframe\">\n",
       "  <thead>\n",
       "    <tr style=\"text-align: right;\">\n",
       "      <th></th>\n",
       "      <th>id</th>\n",
       "      <th>f0</th>\n",
       "      <th>f1</th>\n",
       "      <th>f2</th>\n",
       "      <th>product</th>\n",
       "    </tr>\n",
       "  </thead>\n",
       "  <tbody>\n",
       "    <tr>\n",
       "      <th>25421</th>\n",
       "      <td>raf1y</td>\n",
       "      <td>-1.042599</td>\n",
       "      <td>0.720405</td>\n",
       "      <td>8.760772</td>\n",
       "      <td>122.314802</td>\n",
       "    </tr>\n",
       "    <tr>\n",
       "      <th>33515</th>\n",
       "      <td>eiG0K</td>\n",
       "      <td>0.017278</td>\n",
       "      <td>2.385254</td>\n",
       "      <td>12.677558</td>\n",
       "      <td>158.485441</td>\n",
       "    </tr>\n",
       "    <tr>\n",
       "      <th>73523</th>\n",
       "      <td>FIC7B</td>\n",
       "      <td>-1.010400</td>\n",
       "      <td>-0.759518</td>\n",
       "      <td>2.564860</td>\n",
       "      <td>109.796954</td>\n",
       "    </tr>\n",
       "    <tr>\n",
       "      <th>48562</th>\n",
       "      <td>3xW9W</td>\n",
       "      <td>-1.164829</td>\n",
       "      <td>-1.608346</td>\n",
       "      <td>2.764756</td>\n",
       "      <td>79.730208</td>\n",
       "    </tr>\n",
       "    <tr>\n",
       "      <th>3683</th>\n",
       "      <td>nJL7T</td>\n",
       "      <td>-1.717380</td>\n",
       "      <td>-0.142498</td>\n",
       "      <td>-0.726871</td>\n",
       "      <td>40.034826</td>\n",
       "    </tr>\n",
       "  </tbody>\n",
       "</table>\n",
       "</div>"
      ],
      "text/plain": [
       "          id        f0        f1         f2     product\n",
       "25421  raf1y -1.042599  0.720405   8.760772  122.314802\n",
       "33515  eiG0K  0.017278  2.385254  12.677558  158.485441\n",
       "73523  FIC7B -1.010400 -0.759518   2.564860  109.796954\n",
       "48562  3xW9W -1.164829 -1.608346   2.764756   79.730208\n",
       "3683   nJL7T -1.717380 -0.142498  -0.726871   40.034826"
      ]
     },
     "metadata": {},
     "output_type": "display_data"
    },
    {
     "name": "stdout",
     "output_type": "stream",
     "text": [
      "<class 'pandas.core.frame.DataFrame'>\n",
      "RangeIndex: 100000 entries, 0 to 99999\n",
      "Data columns (total 5 columns):\n",
      " #   Column   Non-Null Count   Dtype  \n",
      "---  ------   --------------   -----  \n",
      " 0   id       100000 non-null  object \n",
      " 1   f0       100000 non-null  float64\n",
      " 2   f1       100000 non-null  float64\n",
      " 3   f2       100000 non-null  float64\n",
      " 4   product  100000 non-null  float64\n",
      "dtypes: float64(4), object(1)\n",
      "memory usage: 3.8+ MB\n"
     ]
    },
    {
     "data": {
      "text/plain": [
       "None"
      ]
     },
     "metadata": {},
     "output_type": "display_data"
    },
    {
     "data": {
      "text/plain": [
       "id         0\n",
       "f0         0\n",
       "f1         0\n",
       "f2         0\n",
       "product    0\n",
       "dtype: int64"
      ]
     },
     "metadata": {},
     "output_type": "display_data"
    },
    {
     "data": {
      "text/html": [
       "<div>\n",
       "<style scoped>\n",
       "    .dataframe tbody tr th:only-of-type {\n",
       "        vertical-align: middle;\n",
       "    }\n",
       "\n",
       "    .dataframe tbody tr th {\n",
       "        vertical-align: top;\n",
       "    }\n",
       "\n",
       "    .dataframe thead th {\n",
       "        text-align: right;\n",
       "    }\n",
       "</style>\n",
       "<table border=\"1\" class=\"dataframe\">\n",
       "  <thead>\n",
       "    <tr style=\"text-align: right;\">\n",
       "      <th></th>\n",
       "      <th>id</th>\n",
       "      <th>f0</th>\n",
       "      <th>f1</th>\n",
       "      <th>f2</th>\n",
       "      <th>product</th>\n",
       "    </tr>\n",
       "  </thead>\n",
       "  <tbody>\n",
       "    <tr>\n",
       "      <th>count</th>\n",
       "      <td>100000</td>\n",
       "      <td>100000.00</td>\n",
       "      <td>100000.00</td>\n",
       "      <td>100000.00</td>\n",
       "      <td>100000.00</td>\n",
       "    </tr>\n",
       "    <tr>\n",
       "      <th>unique</th>\n",
       "      <td>99996</td>\n",
       "      <td>NaN</td>\n",
       "      <td>NaN</td>\n",
       "      <td>NaN</td>\n",
       "      <td>NaN</td>\n",
       "    </tr>\n",
       "    <tr>\n",
       "      <th>top</th>\n",
       "      <td>VF7Jo</td>\n",
       "      <td>NaN</td>\n",
       "      <td>NaN</td>\n",
       "      <td>NaN</td>\n",
       "      <td>NaN</td>\n",
       "    </tr>\n",
       "    <tr>\n",
       "      <th>freq</th>\n",
       "      <td>2</td>\n",
       "      <td>NaN</td>\n",
       "      <td>NaN</td>\n",
       "      <td>NaN</td>\n",
       "      <td>NaN</td>\n",
       "    </tr>\n",
       "    <tr>\n",
       "      <th>mean</th>\n",
       "      <td>NaN</td>\n",
       "      <td>0.00</td>\n",
       "      <td>-0.00</td>\n",
       "      <td>2.50</td>\n",
       "      <td>95.00</td>\n",
       "    </tr>\n",
       "    <tr>\n",
       "      <th>std</th>\n",
       "      <td>NaN</td>\n",
       "      <td>1.73</td>\n",
       "      <td>1.73</td>\n",
       "      <td>3.47</td>\n",
       "      <td>44.75</td>\n",
       "    </tr>\n",
       "    <tr>\n",
       "      <th>min</th>\n",
       "      <td>NaN</td>\n",
       "      <td>-8.76</td>\n",
       "      <td>-7.08</td>\n",
       "      <td>-11.97</td>\n",
       "      <td>0.00</td>\n",
       "    </tr>\n",
       "    <tr>\n",
       "      <th>25%</th>\n",
       "      <td>NaN</td>\n",
       "      <td>-1.16</td>\n",
       "      <td>-1.17</td>\n",
       "      <td>0.13</td>\n",
       "      <td>59.45</td>\n",
       "    </tr>\n",
       "    <tr>\n",
       "      <th>50%</th>\n",
       "      <td>NaN</td>\n",
       "      <td>0.01</td>\n",
       "      <td>-0.01</td>\n",
       "      <td>2.48</td>\n",
       "      <td>94.93</td>\n",
       "    </tr>\n",
       "    <tr>\n",
       "      <th>75%</th>\n",
       "      <td>NaN</td>\n",
       "      <td>1.16</td>\n",
       "      <td>1.16</td>\n",
       "      <td>4.86</td>\n",
       "      <td>130.60</td>\n",
       "    </tr>\n",
       "    <tr>\n",
       "      <th>max</th>\n",
       "      <td>NaN</td>\n",
       "      <td>7.24</td>\n",
       "      <td>7.84</td>\n",
       "      <td>16.74</td>\n",
       "      <td>190.03</td>\n",
       "    </tr>\n",
       "  </tbody>\n",
       "</table>\n",
       "</div>"
      ],
      "text/plain": [
       "            id         f0         f1         f2    product\n",
       "count   100000  100000.00  100000.00  100000.00  100000.00\n",
       "unique   99996        NaN        NaN        NaN        NaN\n",
       "top      VF7Jo        NaN        NaN        NaN        NaN\n",
       "freq         2        NaN        NaN        NaN        NaN\n",
       "mean       NaN       0.00      -0.00       2.50      95.00\n",
       "std        NaN       1.73       1.73       3.47      44.75\n",
       "min        NaN      -8.76      -7.08     -11.97       0.00\n",
       "25%        NaN      -1.16      -1.17       0.13      59.45\n",
       "50%        NaN       0.01      -0.01       2.48      94.93\n",
       "75%        NaN       1.16       1.16       4.86     130.60\n",
       "max        NaN       7.24       7.84      16.74     190.03"
      ]
     },
     "metadata": {},
     "output_type": "display_data"
    }
   ],
   "source": [
    "#отобразим информацию для 2 региона\n",
    "get_data_info(data_2)"
   ]
  },
  {
   "cell_type": "code",
   "execution_count": 8,
   "metadata": {},
   "outputs": [
    {
     "data": {
      "text/plain": [
       "(0, 0, 0)"
      ]
     },
     "execution_count": 8,
     "metadata": {},
     "output_type": "execute_result"
    }
   ],
   "source": [
    "#проверим таблиццы на явные дубликаты\n",
    "\n",
    "data_0.duplicated().sum(), data_1.duplicated().sum(), data_2.duplicated().sum()"
   ]
  },
  {
   "cell_type": "markdown",
   "metadata": {},
   "source": [
    "\n",
    "\n",
    "**После изучений основной информации таблиц можем сделать вывод:**\n",
    "- в таблицах нет выбросов т.к. среднее примерно равно медиане;\n",
    "- нет пропусков и явных дубликатов. \n",
    "\n",
    "Построим для каждой таблицы гистограммы\n",
    "\n",
    "\n"
   ]
  },
  {
   "cell_type": "code",
   "execution_count": 10,
   "metadata": {},
   "outputs": [
    {
     "data": {
      "image/png": "[encoded data removed]",
      "text/plain": [
       "<Figure size 640x480 with 2 Axes>"
      ]
     },
     "metadata": {},
     "output_type": "display_data"
    }
   ],
   "source": [
    "#Отобразим корреляцию столбцов в таблице 1\n",
    "\n",
    "plt.figure() \n",
    "mask = np.triu(np.ones_like(data_0.corr(numeric_only=True), dtype=bool)) \n",
    "heatmap = sns.heatmap(data_0.corr(numeric_only=True), mask=mask, vmin=-1, vmax=1, annot=True, cmap='BrBG') \n",
    "heatmap.set_title('Triangle Correlation Heatmap');"
   ]
  },
  {
   "cell_type": "code",
   "execution_count": 11,
   "metadata": {},
   "outputs": [
    {
     "data": {
      "image/png": "[encoded data removed]",
      "text/plain": [
       "<Figure size 640x480 with 2 Axes>"
      ]
     },
     "metadata": {},
     "output_type": "display_data"
    }
   ],
   "source": [
    "#Отобразим корреляцию столбцов в таблице 2\n",
    "\n",
    "plt.figure() \n",
    "mask = np.triu(np.ones_like(data_1.corr(numeric_only=True), dtype=bool)) \n",
    "heatmap = sns.heatmap(data_1.corr(numeric_only=True), mask=mask, vmin=-1, vmax=1, annot=True, cmap='BrBG') \n",
    "heatmap.set_title('Triangle Correlation Heatmap');"
   ]
  },
  {
   "cell_type": "code",
   "execution_count": 12,
   "metadata": {},
   "outputs": [
    {
     "data": {
      "image/png": "[encoded data removed]",
      "text/plain": [
       "<Figure size 640x480 with 2 Axes>"
      ]
     },
     "metadata": {},
     "output_type": "display_data"
    }
   ],
   "source": [
    "#Отобразим корреляцию столбцов в таблице 3\n",
    "\n",
    "plt.figure() \n",
    "mask = np.triu(np.ones_like(data_2.corr(numeric_only=True), dtype=bool)) \n",
    "heatmap = sns.heatmap(data_2.corr(numeric_only=True), mask=mask, vmin=-1, vmax=1, annot=True, cmap='BrBG') \n",
    "heatmap.set_title('Triangle Correlation Heatmap');"
   ]
  },
  {
   "cell_type": "markdown",
   "metadata": {},
   "source": [
    "**Во всех таблицах параметр `f2` сильно корелирует с параметром `product`. При этом если в 1 и 3 таблицах значение корреляции равно 0.45-0.48, то во 2 таблице столбы имеют коэффициент корреляции Пирсона =1 т.е. по шкале Чеддока связь весьма высокая**"
   ]
  },
  {
   "cell_type": "code",
   "execution_count": 13,
   "metadata": {},
   "outputs": [
    {
     "data": {
      "image/png": "[encoded data removed]",
      "text/plain": [
       "<Figure size 640x480 with 4 Axes>"
      ]
     },
     "metadata": {},
     "output_type": "display_data"
    }
   ],
   "source": [
    "#Отобразим с помощью графиков как распределены значения в столбцах в таблице 1\n",
    "\n",
    "data_0.hist()\n",
    "plt.show()"
   ]
  },
  {
   "cell_type": "code",
   "execution_count": 14,
   "metadata": {},
   "outputs": [
    {
     "data": {
      "image/png": "[encoded data removed]",
      "text/plain": [
       "<Figure size 640x480 with 4 Axes>"
      ]
     },
     "metadata": {},
     "output_type": "display_data"
    }
   ],
   "source": [
    "#Отобразим с помощью графиков как распределены значения в столбцах в таблице 2\n",
    "\n",
    "data_1.hist()\n",
    "plt.show()"
   ]
  },
  {
   "cell_type": "code",
   "execution_count": 15,
   "metadata": {},
   "outputs": [
    {
     "data": {
      "image/png": "[encoded data removed]",
      "text/plain": [
       "<Figure size 640x480 with 4 Axes>"
      ]
     },
     "metadata": {},
     "output_type": "display_data"
    }
   ],
   "source": [
    "#Отобразим с помощью графиков как распределены значения в столбцах в таблице 3\n",
    "\n",
    "data_2.hist()\n",
    "plt.show()"
   ]
  },
  {
   "cell_type": "markdown",
   "metadata": {},
   "source": [
    "Можем заметить, что в таблице №2 параметры `f2` и `product` распредели не нормально. и наглядно показывает, как они между собой коррелируют "
   ]
  },
  {
   "cell_type": "markdown",
   "metadata": {},
   "source": [
    "## Обучение и проверка модели"
   ]
  },
  {
   "cell_type": "markdown",
   "metadata": {},
   "source": [
    "Обучим и проверем модель для каждого региона:\n"
   ]
  },
  {
   "cell_type": "code",
   "execution_count": 16,
   "metadata": {},
   "outputs": [],
   "source": [
    "''' \n",
    "напишем функцию, которая:\n",
    "- разделит данные на обучающую и валидационную выборки в соотношении 75:25;\n",
    "- обучит модель и сделает предсказания на валидационной выборке.\n",
    "'''\n",
    "def model_lr(data):\n",
    "    features = data.drop(['product', 'id'], axis=1)\n",
    "    target = data['product']\n",
    "    \n",
    "    features_train, features_valid, target_train, target_valid = \\\n",
    "    train_test_split(features, target, test_size=0.25, random_state=12345)\n",
    "    \n",
    "    model = LinearRegression()\n",
    "    model.fit(features_train, target_train)\n",
    "    predictions_valid = model.predict(features_valid) \n",
    "    rmse = mean_squared_error(target_valid, predictions_valid)**0.5\n",
    "    # посчитаем средний предсказанного запас сырья\n",
    "    predicted_valid_mean = sum(predictions_valid)/len(predictions_valid)\n",
    "    \n",
    "    return target_valid, predictions_valid, rmse, predicted_valid_mean\n",
    "    \n",
    "    \n",
    "    \n",
    "    "
   ]
  },
  {
   "cell_type": "code",
   "execution_count": 17,
   "metadata": {},
   "outputs": [],
   "source": [
    "#Сохраниv предсказания и правильные ответы на валидационной выборке\n",
    "target_valid_0, predictions_valid_0, rmse_0, predicted_valid_mean_0 = model_lr(data_0)\n",
    "target_valid_1, predictions_valid_1, rmse_1, predicted_valid_mean_1 = model_lr(data_1)\n",
    "target_valid_2, predictions_valid_2, rmse_2, predicted_valid_mean_2 = model_lr(data_2)"
   ]
  },
  {
   "cell_type": "code",
   "execution_count": 18,
   "metadata": {},
   "outputs": [
    {
     "name": "stdout",
     "output_type": "stream",
     "text": [
      "средний запас предсказанного сырья для 1 таблицы 92.59, RMSE модели 37.58\n",
      "средний запас предсказанного сырья для 2 таблицы 68.73, RMSE модели 0.89\n",
      "средний запас предсказанного сырья для 3 таблицы 94.97, RMSE модели 40.03\n"
     ]
    }
   ],
   "source": [
    "#напечатаем на экране средний запас предсказанного сырья и RMSE модели.\n",
    "print(f'средний запас предсказанного сырья для 1 таблицы {predicted_valid_mean_0:.2f}, RMSE модели {rmse_0:.2f}')\n",
    "print(f'средний запас предсказанного сырья для 2 таблицы {predicted_valid_mean_1:.2f}, RMSE модели {rmse_1:.2f}')\n",
    "print(f'средний запас предсказанного сырья для 3 таблицы {predicted_valid_mean_2:.2f}, RMSE модели {rmse_2:.2f}')"
   ]
  },
  {
   "cell_type": "markdown",
   "metadata": {},
   "source": [
    "## Подготовка к расчёту прибыли"
   ]
  },
  {
   "cell_type": "code",
   "execution_count": 19,
   "metadata": {},
   "outputs": [],
   "source": [
    "#все ключевые значения для расчётов сохраним в отдельных переменных.\n",
    "budget = 10 * 10**9\n",
    "total_researches = 500\n",
    "best_researches = 200\n",
    "revenue_per_barrel = 450\n",
    "revenue_per_product = 450 * 10**3\n",
    "budget_1_researches = budget / best_researches"
   ]
  },
  {
   "cell_type": "code",
   "execution_count": 20,
   "metadata": {},
   "outputs": [
    {
     "name": "stdout",
     "output_type": "stream",
     "text": [
      "Достаточный объём сырья для безубыточной разработки новой скважины 111.11 (тыс. баррелей)\n"
     ]
    }
   ],
   "source": [
    "#Рассчитаем достаточный объём сырья для безубыточной разработки новой скважины.\n",
    "\n",
    "min_amount = budget/(revenue_per_product * best_researches)\n",
    "print(f'Достаточный объём сырья для безубыточной разработки новой скважины {min_amount:.2f} (тыс. баррелей)')"
   ]
  },
  {
   "cell_type": "code",
   "execution_count": 21,
   "metadata": {},
   "outputs": [
    {
     "data": {
      "text/plain": [
       "-18.518543326731034"
      ]
     },
     "execution_count": 21,
     "metadata": {},
     "output_type": "execute_result"
    }
   ],
   "source": [
    "#Сравним полученный объём сырья со средним запасом в 0 регионе\n",
    "predicted_valid_mean_0 - min_amount"
   ]
  },
  {
   "cell_type": "code",
   "execution_count": 22,
   "metadata": {},
   "outputs": [
    {
     "data": {
      "text/plain": [
       "-42.38256421566534"
      ]
     },
     "execution_count": 22,
     "metadata": {},
     "output_type": "execute_result"
    }
   ],
   "source": [
    "#Сравним полученный объём сырья со средним запасом в 1 регионе\n",
    "predicted_valid_mean_1 - min_amount"
   ]
  },
  {
   "cell_type": "code",
   "execution_count": 23,
   "metadata": {},
   "outputs": [
    {
     "data": {
      "text/plain": [
       "-16.146065143106057"
      ]
     },
     "execution_count": 23,
     "metadata": {},
     "output_type": "execute_result"
    }
   ],
   "source": [
    "#Сравним полученный объём сырья со средним запасом во 2 регионе\n",
    "predicted_valid_mean_2 - min_amount"
   ]
  },
  {
   "cell_type": "markdown",
   "metadata": {},
   "source": [
    "На данном этапе результаты не утешительные. средний запас предсказанного сырья ни в одном регионе не превышает достаточный объём сырья для безубыточной разработки. Во 2 регионе разница больше, чем в других."
   ]
  },
  {
   "cell_type": "markdown",
   "metadata": {},
   "source": [
    "## Расчёт прибыли и рисков "
   ]
  },
  {
   "cell_type": "code",
   "execution_count": 24,
   "metadata": {},
   "outputs": [],
   "source": [
    "#перед началом работы приведем необходимые нам столбцы к типу Series\n",
    "def help_index(target, predictions):\n",
    "    target = target.reset_index(drop=True)\n",
    "    predictions = pd.Series(predictions)\n",
    "    return target, predictions"
   ]
  },
  {
   "cell_type": "code",
   "execution_count": 25,
   "metadata": {},
   "outputs": [],
   "source": [
    "target_valid_0, predictions_valid_0 = help_index(target_valid_0, predictions_valid_0)\n",
    "target_valid_1, predictions_valid_1 = help_index(target_valid_1, predictions_valid_1)\n",
    "target_valid_2, predictions_valid_2 = help_index(target_valid_2, predictions_valid_2)"
   ]
  },
  {
   "cell_type": "code",
   "execution_count": 26,
   "metadata": {},
   "outputs": [],
   "source": [
    "#Напишем функцию для расчёта прибыли по выбранным скважинам и предсказаниям модели\n",
    "\n",
    "def revenue(target, predictions):\n",
    "    pred_sorted = predictions.sort_values(ascending=False)\n",
    "    selected = target[pred_sorted.index][:best_researches]\n",
    "    return (sum(selected) * revenue_per_product) - budget"
   ]
  },
  {
   "cell_type": "code",
   "execution_count": 27,
   "metadata": {},
   "outputs": [
    {
     "name": "stdout",
     "output_type": "stream",
     "text": [
      "Прибыль для скважин с максимальными значениями предсказаний для региона 0: 3320826043.14\n",
      "Прибыль для скважин с максимальными значениями предсказаний для региона 1: 2415086696.68\n",
      "Прибыль для скважин с максимальными значениями предсказаний для региона 2: 2710349963.60\n"
     ]
    }
   ],
   "source": [
    "print(f'Прибыль для скважин с максимальными значениями предсказаний для региона 0: {revenue(target_valid_0, predictions_valid_0):.2f}')\n",
    "print(f'Прибыль для скважин с максимальными значениями предсказаний для региона 1: {revenue(target_valid_1, predictions_valid_1):.2f}')\n",
    "print(f'Прибыль для скважин с максимальными значениями предсказаний для региона 2: {revenue(target_valid_2, predictions_valid_2):.2f}')"
   ]
  },
  {
   "cell_type": "markdown",
   "metadata": {},
   "source": [
    "Посчитаем риски и прибыль для каждого региона:\n",
    "- Применим технику Bootstrap с 1000 выборок, чтобы найти распределение прибыли.\n",
    "- Найдем среднюю прибыль, 95%-й доверительный интервал и риск убытков. \n",
    "- распишем выводы: предложим регион для разработки скважин с обоснованием выбора."
   ]
  },
  {
   "cell_type": "code",
   "execution_count": 28,
   "metadata": {},
   "outputs": [],
   "source": [
    "def get_bootstrap(target, probabilities, number):\n",
    "    state = np.random.RandomState(12345)\n",
    "   \n",
    "    values = []\n",
    "    for i in range(1000):\n",
    "        target_subsample = target.sample(n=total_researches, replace=True, random_state=state)\n",
    "        probs_subsample = probabilities[target_subsample.index]\n",
    "        values.append(revenue(target_subsample, probs_subsample))\n",
    "\n",
    "    values = pd.Series(values)\n",
    "    lower = values.quantile(0.025) \n",
    "    upper = values.quantile(0.975)\n",
    "    \n",
    "    mean = values.mean()\n",
    "    risk = len(values[values<0]) / len(values) * 100\n",
    "    print(f'Средняя выручка для региона {number}: {mean:.0f}')\n",
    "    print(f'2.5%-квантиль: {lower:.0f}')\n",
    "    print(f'97.5%-квантиль: {upper:.0f}')\n",
    "    print(f'Риски: {risk:.0f}%')"
   ]
  },
  {
   "cell_type": "code",
   "execution_count": 29,
   "metadata": {},
   "outputs": [
    {
     "name": "stdout",
     "output_type": "stream",
     "text": [
      "Средняя выручка для региона 0: 425938527\n",
      "2.5%-квантиль: -102090095\n",
      "97.5%-квантиль: 947976353\n",
      "Риски: 6%\n"
     ]
    }
   ],
   "source": [
    "get_bootstrap(target_valid_0, predictions_valid_0, 0)"
   ]
  },
  {
   "cell_type": "code",
   "execution_count": 30,
   "metadata": {},
   "outputs": [
    {
     "name": "stdout",
     "output_type": "stream",
     "text": [
      "Средняя выручка для региона 1: 515222773\n",
      "2.5%-квантиль: 68873225\n",
      "97.5%-квантиль: 931547591\n",
      "Риски: 1%\n"
     ]
    }
   ],
   "source": [
    "get_bootstrap(target_valid_1, predictions_valid_1, 1)"
   ]
  },
  {
   "cell_type": "code",
   "execution_count": 31,
   "metadata": {},
   "outputs": [
    {
     "name": "stdout",
     "output_type": "stream",
     "text": [
      "Средняя выручка для региона 2: 435008363\n",
      "2.5%-квантиль: -128880547\n",
      "97.5%-квантиль: 969706954\n",
      "Риски: 6%\n"
     ]
    }
   ],
   "source": [
    "get_bootstrap(target_valid_2, predictions_valid_2, 2)"
   ]
  },
  {
   "cell_type": "markdown",
   "metadata": {},
   "source": [
    "### Вывод"
   ]
  },
  {
   "cell_type": "markdown",
   "metadata": {},
   "source": [
    "По результатам исследования мы можем предложить 1 регион для разработки скважин т.к.:\n",
    "1. средняя выручка в этом регионе показывает результаты выше, чем в соседних - 515222773 рублей ;\n",
    "2. с вероятностью 97.5% выручка может быть не менее 68873225 рублей;\n",
    "3. В данном решионе самый низкий риск - 1%"
   ]
  },
  {
   "cell_type": "code",
   "execution_count": null,
   "metadata": {},
   "outputs": [],
   "source": []
  }
 ],
 "metadata": {
  "ExecuteTimeLog": [
   {
    "duration": 471,
    "start_time": "2023-01-15T17:46:16.864Z"
   },
   {
    "duration": 403,
    "start_time": "2023-01-15T17:46:45.530Z"
   },
   {
    "duration": 17,
    "start_time": "2023-01-15T17:46:55.619Z"
   },
   {
    "duration": 402,
    "start_time": "2023-01-16T09:30:00.164Z"
   },
   {
    "duration": 739,
    "start_time": "2023-01-16T09:30:01.718Z"
   },
   {
    "duration": 4,
    "start_time": "2023-01-16T09:30:58.142Z"
   },
   {
    "duration": 3,
    "start_time": "2023-01-16T09:32:59.041Z"
   },
   {
    "duration": 175,
    "start_time": "2023-01-16T09:33:18.110Z"
   },
   {
    "duration": 3,
    "start_time": "2023-01-16T09:33:42.117Z"
   },
   {
    "duration": 102,
    "start_time": "2023-01-16T09:33:42.751Z"
   },
   {
    "duration": 105,
    "start_time": "2023-01-16T09:35:37.256Z"
   },
   {
    "duration": 117,
    "start_time": "2023-01-16T09:36:55.559Z"
   },
   {
    "duration": 8,
    "start_time": "2023-01-16T09:40:28.320Z"
   },
   {
    "duration": 901,
    "start_time": "2023-01-16T09:40:50.082Z"
   },
   {
    "duration": 56,
    "start_time": "2023-01-16T09:40:54.055Z"
   },
   {
    "duration": 404,
    "start_time": "2023-01-16T09:41:10.359Z"
   },
   {
    "duration": 337,
    "start_time": "2023-01-16T09:41:24.336Z"
   },
   {
    "duration": 310,
    "start_time": "2023-01-16T09:42:35.792Z"
   },
   {
    "duration": 335,
    "start_time": "2023-01-16T09:42:55.246Z"
   },
   {
    "duration": 619,
    "start_time": "2023-01-16T09:44:54.880Z"
   },
   {
    "duration": 308,
    "start_time": "2023-01-16T09:45:01.727Z"
   },
   {
    "duration": 295,
    "start_time": "2023-01-16T09:45:26.240Z"
   },
   {
    "duration": 296,
    "start_time": "2023-01-16T09:45:37.608Z"
   },
   {
    "duration": 309,
    "start_time": "2023-01-16T09:46:10.200Z"
   },
   {
    "duration": 1318,
    "start_time": "2023-01-16T18:35:41.057Z"
   },
   {
    "duration": 959,
    "start_time": "2023-01-16T18:35:42.378Z"
   },
   {
    "duration": 3,
    "start_time": "2023-01-16T18:35:43.339Z"
   },
   {
    "duration": 128,
    "start_time": "2023-01-16T18:35:43.566Z"
   },
   {
    "duration": 120,
    "start_time": "2023-01-16T18:35:44.343Z"
   },
   {
    "duration": 122,
    "start_time": "2023-01-16T18:35:45.332Z"
   },
   {
    "duration": 9,
    "start_time": "2023-01-16T18:39:08.348Z"
   },
   {
    "duration": 17,
    "start_time": "2023-01-16T18:39:54.112Z"
   },
   {
    "duration": 46,
    "start_time": "2023-01-16T18:40:37.866Z"
   },
   {
    "duration": 121,
    "start_time": "2023-01-16T18:41:16.157Z"
   },
   {
    "duration": 406,
    "start_time": "2023-01-16T18:42:03.652Z"
   },
   {
    "duration": 294,
    "start_time": "2023-01-16T18:42:05.105Z"
   },
   {
    "duration": 317,
    "start_time": "2023-01-16T18:42:55.404Z"
   },
   {
    "duration": 296,
    "start_time": "2023-01-16T18:42:57.733Z"
   },
   {
    "duration": 308,
    "start_time": "2023-01-16T18:43:04.525Z"
   },
   {
    "duration": 348,
    "start_time": "2023-01-16T18:44:43.259Z"
   },
   {
    "duration": 348,
    "start_time": "2023-01-16T18:44:45.206Z"
   },
   {
    "duration": 406,
    "start_time": "2023-01-16T18:44:48.487Z"
   },
   {
    "duration": 252,
    "start_time": "2023-01-16T18:49:13.079Z"
   },
   {
    "duration": 74,
    "start_time": "2023-01-16T19:09:28.849Z"
   },
   {
    "duration": 8,
    "start_time": "2023-01-16T19:09:38.349Z"
   },
   {
    "duration": 1290,
    "start_time": "2023-01-16T19:11:32.265Z"
   },
   {
    "duration": 4,
    "start_time": "2023-01-16T19:11:45.245Z"
   },
   {
    "duration": 24,
    "start_time": "2023-01-16T19:11:46.254Z"
   },
   {
    "duration": 4,
    "start_time": "2023-01-16T19:12:03.122Z"
   },
   {
    "duration": 218,
    "start_time": "2023-01-16T19:12:03.906Z"
   },
   {
    "duration": 4,
    "start_time": "2023-01-16T19:14:34.373Z"
   },
   {
    "duration": 173,
    "start_time": "2023-01-16T19:14:36.848Z"
   },
   {
    "duration": 4,
    "start_time": "2023-01-16T19:15:22.307Z"
   },
   {
    "duration": 37,
    "start_time": "2023-01-16T19:15:23.177Z"
   },
   {
    "duration": 4,
    "start_time": "2023-01-16T19:15:42.647Z"
   },
   {
    "duration": 39,
    "start_time": "2023-01-16T19:15:43.476Z"
   },
   {
    "duration": 4,
    "start_time": "2023-01-16T19:16:03.681Z"
   },
   {
    "duration": 410,
    "start_time": "2023-01-16T19:16:04.503Z"
   },
   {
    "duration": 10,
    "start_time": "2023-01-16T19:44:23.796Z"
   },
   {
    "duration": 4,
    "start_time": "2023-01-16T19:44:37.901Z"
   },
   {
    "duration": 3,
    "start_time": "2023-01-16T19:44:48.209Z"
   },
   {
    "duration": 4,
    "start_time": "2023-01-16T19:44:59.145Z"
   },
   {
    "duration": 4,
    "start_time": "2023-01-16T19:45:23.236Z"
   },
   {
    "duration": 4,
    "start_time": "2023-01-16T19:45:37.160Z"
   },
   {
    "duration": 4,
    "start_time": "2023-01-16T19:45:48.796Z"
   },
   {
    "duration": 4,
    "start_time": "2023-01-16T19:58:54.900Z"
   },
   {
    "duration": 4,
    "start_time": "2023-01-16T20:01:47.915Z"
   },
   {
    "duration": 4,
    "start_time": "2023-01-16T20:06:28.217Z"
   },
   {
    "duration": 4,
    "start_time": "2023-01-16T20:06:43.778Z"
   },
   {
    "duration": 3,
    "start_time": "2023-01-16T20:12:04.767Z"
   },
   {
    "duration": 4,
    "start_time": "2023-01-16T20:13:50.161Z"
   },
   {
    "duration": 3,
    "start_time": "2023-01-16T20:14:07.977Z"
   },
   {
    "duration": 3,
    "start_time": "2023-01-16T20:15:28.533Z"
   },
   {
    "duration": 9,
    "start_time": "2023-01-16T20:19:39.199Z"
   },
   {
    "duration": 14,
    "start_time": "2023-01-16T20:19:44.712Z"
   },
   {
    "duration": 4,
    "start_time": "2023-01-16T20:19:52.726Z"
   },
   {
    "duration": 3,
    "start_time": "2023-01-16T20:22:06.534Z"
   },
   {
    "duration": 5,
    "start_time": "2023-01-16T20:24:18.390Z"
   },
   {
    "duration": 6,
    "start_time": "2023-01-16T20:24:30.703Z"
   },
   {
    "duration": 5,
    "start_time": "2023-01-16T20:24:41.457Z"
   },
   {
    "duration": 4,
    "start_time": "2023-01-16T20:25:47.537Z"
   },
   {
    "duration": 4,
    "start_time": "2023-01-16T20:26:21.472Z"
   },
   {
    "duration": 4,
    "start_time": "2023-01-16T20:26:38.120Z"
   },
   {
    "duration": 9,
    "start_time": "2023-01-16T20:36:32.306Z"
   },
   {
    "duration": 4,
    "start_time": "2023-01-16T20:36:36.354Z"
   },
   {
    "duration": 9,
    "start_time": "2023-01-16T20:36:37.589Z"
   },
   {
    "duration": 12,
    "start_time": "2023-01-16T20:37:26.175Z"
   },
   {
    "duration": 5,
    "start_time": "2023-01-16T20:37:47.915Z"
   },
   {
    "duration": 12,
    "start_time": "2023-01-16T20:50:22.943Z"
   },
   {
    "duration": 6,
    "start_time": "2023-01-16T20:52:07.164Z"
   },
   {
    "duration": 4,
    "start_time": "2023-01-16T20:56:46.206Z"
   },
   {
    "duration": 13,
    "start_time": "2023-01-16T20:56:46.968Z"
   },
   {
    "duration": 4,
    "start_time": "2023-01-16T20:57:14.577Z"
   },
   {
    "duration": 8,
    "start_time": "2023-01-16T20:57:15.374Z"
   },
   {
    "duration": 4,
    "start_time": "2023-01-16T20:58:14.752Z"
   },
   {
    "duration": 6,
    "start_time": "2023-01-16T21:08:22.598Z"
   },
   {
    "duration": 30,
    "start_time": "2023-01-16T21:08:23.294Z"
   },
   {
    "duration": 7,
    "start_time": "2023-01-16T21:09:10.636Z"
   },
   {
    "duration": 1707,
    "start_time": "2023-01-16T21:09:12.676Z"
   },
   {
    "duration": 5,
    "start_time": "2023-01-16T21:09:33.618Z"
   },
   {
    "duration": 6,
    "start_time": "2023-01-16T21:09:38.404Z"
   },
   {
    "duration": 1341,
    "start_time": "2023-01-16T21:09:39.210Z"
   },
   {
    "duration": 4,
    "start_time": "2023-01-16T21:10:18.733Z"
   },
   {
    "duration": 5,
    "start_time": "2023-01-16T21:10:21.418Z"
   },
   {
    "duration": 118,
    "start_time": "2023-01-16T21:10:22.053Z"
   },
   {
    "duration": 6,
    "start_time": "2023-01-16T21:15:35.525Z"
   },
   {
    "duration": 16,
    "start_time": "2023-01-16T21:15:36.406Z"
   },
   {
    "duration": 6,
    "start_time": "2023-01-16T21:16:25.648Z"
   },
   {
    "duration": 25,
    "start_time": "2023-01-16T21:16:26.352Z"
   },
   {
    "duration": 3,
    "start_time": "2023-01-16T21:22:34.389Z"
   },
   {
    "duration": 4,
    "start_time": "2023-01-16T21:23:29.221Z"
   },
   {
    "duration": 4,
    "start_time": "2023-01-16T21:24:13.491Z"
   },
   {
    "duration": 3,
    "start_time": "2023-01-16T21:26:20.084Z"
   },
   {
    "duration": 3,
    "start_time": "2023-01-16T21:27:00.570Z"
   },
   {
    "duration": 18,
    "start_time": "2023-01-16T21:27:01.285Z"
   },
   {
    "duration": 3,
    "start_time": "2023-01-16T21:27:19.463Z"
   },
   {
    "duration": 8,
    "start_time": "2023-01-16T21:27:20.133Z"
   },
   {
    "duration": 5,
    "start_time": "2023-01-16T21:31:30.610Z"
   },
   {
    "duration": 8,
    "start_time": "2023-01-16T21:31:31.346Z"
   },
   {
    "duration": 1276,
    "start_time": "2023-01-16T21:31:42.087Z"
   },
   {
    "duration": 1260,
    "start_time": "2023-01-16T21:31:58.328Z"
   },
   {
    "duration": 4,
    "start_time": "2023-01-16T21:32:57.579Z"
   },
   {
    "duration": 4,
    "start_time": "2023-01-16T21:32:58.589Z"
   },
   {
    "duration": 1298,
    "start_time": "2023-01-16T21:32:59.693Z"
   },
   {
    "duration": 3,
    "start_time": "2023-01-16T21:36:39.840Z"
   },
   {
    "duration": 9,
    "start_time": "2023-01-16T21:36:40.812Z"
   },
   {
    "duration": 8,
    "start_time": "2023-01-16T21:37:04.525Z"
   },
   {
    "duration": 16,
    "start_time": "2023-01-16T21:37:43.745Z"
   },
   {
    "duration": 18,
    "start_time": "2023-01-16T21:37:57.828Z"
   },
   {
    "duration": 5,
    "start_time": "2023-01-16T21:49:00.645Z"
   },
   {
    "duration": 14,
    "start_time": "2023-01-16T21:49:13.287Z"
   },
   {
    "duration": 5,
    "start_time": "2023-01-16T21:49:30.021Z"
   },
   {
    "duration": 1271,
    "start_time": "2023-01-16T21:49:30.772Z"
   },
   {
    "duration": 1246,
    "start_time": "2023-01-16T21:50:01.424Z"
   },
   {
    "duration": 1321,
    "start_time": "2023-01-16T21:50:24.493Z"
   },
   {
    "duration": 1463,
    "start_time": "2023-01-16T21:51:29.890Z"
   },
   {
    "duration": 775,
    "start_time": "2023-01-16T21:51:38.355Z"
   },
   {
    "duration": 4,
    "start_time": "2023-01-16T21:51:39.578Z"
   },
   {
    "duration": 122,
    "start_time": "2023-01-16T21:51:41.743Z"
   },
   {
    "duration": 117,
    "start_time": "2023-01-16T21:52:13.757Z"
   },
   {
    "duration": 122,
    "start_time": "2023-01-16T21:52:31.389Z"
   },
   {
    "duration": 139,
    "start_time": "2023-01-16T21:52:39.302Z"
   },
   {
    "duration": 1267,
    "start_time": "2023-01-16T21:55:30.890Z"
   },
   {
    "duration": 1113,
    "start_time": "2023-01-16T21:55:45.634Z"
   },
   {
    "duration": 328,
    "start_time": "2023-01-16T22:02:36.870Z"
   },
   {
    "duration": 280,
    "start_time": "2023-01-16T22:02:38.433Z"
   },
   {
    "duration": 307,
    "start_time": "2023-01-16T22:02:47.255Z"
   },
   {
    "duration": 267,
    "start_time": "2023-01-16T22:02:55.536Z"
   },
   {
    "duration": 293,
    "start_time": "2023-01-16T22:03:10.353Z"
   },
   {
    "duration": 392,
    "start_time": "2023-01-16T22:03:11.386Z"
   },
   {
    "duration": 307,
    "start_time": "2023-01-16T22:03:12.455Z"
   },
   {
    "duration": 310,
    "start_time": "2023-01-16T22:07:15.870Z"
   },
   {
    "duration": 348,
    "start_time": "2023-01-16T22:07:17.125Z"
   },
   {
    "duration": 351,
    "start_time": "2023-01-16T22:07:18.654Z"
   },
   {
    "duration": 4,
    "start_time": "2023-01-16T22:10:17.696Z"
   },
   {
    "duration": 319,
    "start_time": "2023-01-16T22:10:40.512Z"
   },
   {
    "duration": 4,
    "start_time": "2023-01-16T22:10:41.198Z"
   },
   {
    "duration": 3,
    "start_time": "2023-01-16T22:13:36.873Z"
   },
   {
    "duration": 3,
    "start_time": "2023-01-16T22:13:37.656Z"
   },
   {
    "duration": 4,
    "start_time": "2023-01-16T22:13:38.613Z"
   },
   {
    "duration": 4,
    "start_time": "2023-01-16T22:13:39.495Z"
   },
   {
    "duration": 4,
    "start_time": "2023-01-16T22:13:40.376Z"
   },
   {
    "duration": 3,
    "start_time": "2023-01-16T22:16:17.404Z"
   },
   {
    "duration": 5,
    "start_time": "2023-01-16T22:16:18.290Z"
   },
   {
    "duration": 3,
    "start_time": "2023-01-16T22:16:19.273Z"
   },
   {
    "duration": 19,
    "start_time": "2023-01-16T22:16:22.557Z"
   },
   {
    "duration": 4,
    "start_time": "2023-01-16T22:17:33.827Z"
   },
   {
    "duration": 1233,
    "start_time": "2023-01-16T22:18:11.284Z"
   },
   {
    "duration": 1267,
    "start_time": "2023-01-16T22:18:15.437Z"
   },
   {
    "duration": 1262,
    "start_time": "2023-01-16T22:18:20.104Z"
   },
   {
    "duration": 4,
    "start_time": "2023-01-16T22:19:04.782Z"
   },
   {
    "duration": 1261,
    "start_time": "2023-01-16T22:19:05.515Z"
   },
   {
    "duration": 1227,
    "start_time": "2023-01-16T22:19:07.717Z"
   },
   {
    "duration": 1274,
    "start_time": "2023-01-16T22:19:10.057Z"
   },
   {
    "duration": 5,
    "start_time": "2023-01-16T22:19:15.235Z"
   },
   {
    "duration": 1244,
    "start_time": "2023-01-16T22:19:15.986Z"
   },
   {
    "duration": 1234,
    "start_time": "2023-01-16T22:19:18.493Z"
   },
   {
    "duration": 1239,
    "start_time": "2023-01-16T22:19:20.716Z"
   },
   {
    "duration": 4,
    "start_time": "2023-01-16T22:20:34.213Z"
   },
   {
    "duration": 1204,
    "start_time": "2023-01-16T22:20:35.659Z"
   },
   {
    "duration": 1250,
    "start_time": "2023-01-16T22:21:04.914Z"
   },
   {
    "duration": 6,
    "start_time": "2023-01-16T22:21:55.412Z"
   },
   {
    "duration": 1214,
    "start_time": "2023-01-16T22:21:57.530Z"
   },
   {
    "duration": 1244,
    "start_time": "2023-01-16T22:22:03.328Z"
   },
   {
    "duration": 1212,
    "start_time": "2023-01-16T22:22:08.839Z"
   }
  ],
  "kernelspec": {
   "display_name": "Python 3 (ipykernel)",
   "language": "python",
   "name": "python3"
  },
  "language_info": {
   "codemirror_mode": {
    "name": "ipython",
    "version": 3
   },
   "file_extension": ".py",
   "mimetype": "text/x-python",
   "name": "python",
   "nbconvert_exporter": "python",
   "pygments_lexer": "ipython3",
   "version": "3.11.5"
  },
  "toc": {
   "base_numbering": 1,
   "nav_menu": {},
   "number_sections": true,
   "sideBar": true,
   "skip_h1_title": true,
   "title_cell": "Table of Contents",
   "title_sidebar": "Contents",
   "toc_cell": false,
   "toc_position": {},
   "toc_section_display": true,
   "toc_window_display": true
  }
 },
 "nbformat": 4,
 "nbformat_minor": 2
}
