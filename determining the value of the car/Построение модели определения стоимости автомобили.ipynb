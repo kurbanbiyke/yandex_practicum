{
 "cells": [
  {
   "cell_type": "markdown",
   "metadata": {},
   "source": [
    "# Определение стоимости автомобилей"
   ]
  },
  {
   "cell_type": "markdown",
   "metadata": {},
   "source": [
    "_____\n",
    "**Описание исследования.**\n",
    "\n",
    "Сервис по продаже автомобилей с пробегом «Не бит, не крашен» разрабатывает приложение для привлечения новых клиентов. В нём можно быстро узнать рыночную стоимость своего автомобиля. В вашем распоряжении исторические данные: технические характеристики, комплектации и цены автомобилей. Вам нужно построить модель для определения стоимости. \n",
    "\n",
    "Заказчику важны:\n",
    "\n",
    "- качество предсказания;\n",
    "- скорость предсказания;\n",
    "- время обучения.\n",
    "_____\n",
    "**Цель исследования.**\n",
    "\n",
    "Разработка системы рекомендации стоимости автомобиля на основе его описания\n",
    "_____\n",
    "**Исходные данные.**\n",
    "    \n",
    "Признаки\n",
    "\n",
    "- `DateCrawled` — дата скачивания анкеты из базы\n",
    "- `VehicleType` — тип автомобильного кузова\n",
    "- `RegistrationYear` — год регистрации автомобиля\n",
    "- `Gearbox` — тип коробки передач\n",
    "- `Power` — мощность (л. с.)\n",
    "- `Model` — модель автомобиля\n",
    "- `Kilometer` — пробег (км)\n",
    "- `RegistrationMonth` — месяц регистрации автомобиля\n",
    "- `FuelType` — тип топлива\n",
    "- `Brand` — марка автомобиля\n",
    "- `Repaired` — была машина в ремонте или нет\n",
    "- `DateCreated` — дата создания анкеты\n",
    "- `NumberOfPictures` — количество фотографий автомобиля\n",
    "- `PostalCode` — почтовый индекс владельца анкеты (пользователя)\n",
    "- `LastSeen` — дата последней активности пользователя\n",
    "\n",
    "\n",
    "Целевой признак\n",
    "- `Price` — цена (евро)\n",
    "\n",
    "______\n",
    "\n"
   ]
  },
  {
   "cell_type": "markdown",
   "metadata": {},
   "source": [
    "## Подготовка данных"
   ]
  },
  {
   "cell_type": "code",
   "execution_count": 1,
   "metadata": {},
   "outputs": [],
   "source": [
    "import warnings\n",
    "\n",
    "import pandas as pd\n",
    "import numpy as np\n",
    "import seaborn as sns\n",
    "import matplotlib.pyplot as plt\n",
    "\n",
    "from sklearn.impute import KNNImputer\n",
    "from sklearn.model_selection import train_test_split\n",
    "\n",
    "from sklearn.preprocessing import (\n",
    "   OneHotEncoder,\n",
    "   OrdinalEncoder,\n",
    "   StandardScaler\n",
    ")\n",
    "\n",
    "from sklearn.linear_model import LinearRegression\n",
    "from sklearn.tree import DecisionTreeRegressor\n",
    "from sklearn.ensemble import RandomForestRegressor\n",
    "\n",
    "\n",
    "from sklearn.metrics import mean_squared_error\n",
    "import time\n",
    "from sklearn.model_selection import GridSearchCV, cross_val_score\n",
    "from sklearn.pipeline import  make_pipeline\n",
    "from catboost import CatBoostRegressor, cv, train\n",
    "from lightgbm import LGBMRegressor\n",
    "\n",
    "\n",
    "#увеличим дефолтный размер графиков\n",
    "from pylab import rcParams\n",
    "rcParams['figure.figsize'] = 8, 5\n",
    "\n",
    "\n",
    "# настройки\n",
    "warnings.filterwarnings(\"ignore\")"
   ]
  },
  {
   "cell_type": "code",
   "execution_count": 2,
   "metadata": {},
   "outputs": [],
   "source": [
    "try:\n",
    "    df = pd.read_csv('/datasets/autos.csv')\n",
    "except:\n",
    "    df = pd.read_csv('https://code.s3.yandex.net/datasets/autos.csv')"
   ]
  },
  {
   "cell_type": "code",
   "execution_count": 3,
   "metadata": {},
   "outputs": [
    {
     "data": {
      "text/plain": [
       "(354369, 16)"
      ]
     },
     "execution_count": 3,
     "metadata": {},
     "output_type": "execute_result"
    }
   ],
   "source": [
    "df.shape"
   ]
  },
  {
   "cell_type": "code",
   "execution_count": 4,
   "metadata": {},
   "outputs": [
    {
     "data": {
      "text/html": [
       "<div>\n",
       "<style scoped>\n",
       "    .dataframe tbody tr th:only-of-type {\n",
       "        vertical-align: middle;\n",
       "    }\n",
       "\n",
       "    .dataframe tbody tr th {\n",
       "        vertical-align: top;\n",
       "    }\n",
       "\n",
       "    .dataframe thead th {\n",
       "        text-align: right;\n",
       "    }\n",
       "</style>\n",
       "<table border=\"1\" class=\"dataframe\">\n",
       "  <thead>\n",
       "    <tr style=\"text-align: right;\">\n",
       "      <th></th>\n",
       "      <th>DateCrawled</th>\n",
       "      <th>Price</th>\n",
       "      <th>VehicleType</th>\n",
       "      <th>RegistrationYear</th>\n",
       "      <th>Gearbox</th>\n",
       "      <th>Power</th>\n",
       "      <th>Model</th>\n",
       "      <th>Kilometer</th>\n",
       "      <th>RegistrationMonth</th>\n",
       "      <th>FuelType</th>\n",
       "      <th>Brand</th>\n",
       "      <th>Repaired</th>\n",
       "      <th>DateCreated</th>\n",
       "      <th>NumberOfPictures</th>\n",
       "      <th>PostalCode</th>\n",
       "      <th>LastSeen</th>\n",
       "    </tr>\n",
       "  </thead>\n",
       "  <tbody>\n",
       "    <tr>\n",
       "      <th>137279</th>\n",
       "      <td>2016-03-23 22:40:35</td>\n",
       "      <td>1400</td>\n",
       "      <td>sedan</td>\n",
       "      <td>1995</td>\n",
       "      <td>auto</td>\n",
       "      <td>125</td>\n",
       "      <td>a4</td>\n",
       "      <td>150000</td>\n",
       "      <td>3</td>\n",
       "      <td>petrol</td>\n",
       "      <td>audi</td>\n",
       "      <td>no</td>\n",
       "      <td>2016-03-23 00:00:00</td>\n",
       "      <td>0</td>\n",
       "      <td>74080</td>\n",
       "      <td>2016-04-06 03:46:47</td>\n",
       "    </tr>\n",
       "    <tr>\n",
       "      <th>243133</th>\n",
       "      <td>2016-03-19 07:56:16</td>\n",
       "      <td>11490</td>\n",
       "      <td>convertible</td>\n",
       "      <td>2006</td>\n",
       "      <td>auto</td>\n",
       "      <td>174</td>\n",
       "      <td>cooper</td>\n",
       "      <td>40000</td>\n",
       "      <td>12</td>\n",
       "      <td>petrol</td>\n",
       "      <td>mini</td>\n",
       "      <td>no</td>\n",
       "      <td>2016-03-19 00:00:00</td>\n",
       "      <td>0</td>\n",
       "      <td>80992</td>\n",
       "      <td>2016-04-02 06:45:49</td>\n",
       "    </tr>\n",
       "    <tr>\n",
       "      <th>159010</th>\n",
       "      <td>2016-03-22 21:57:58</td>\n",
       "      <td>6500</td>\n",
       "      <td>sedan</td>\n",
       "      <td>2007</td>\n",
       "      <td>manual</td>\n",
       "      <td>143</td>\n",
       "      <td>1er</td>\n",
       "      <td>150000</td>\n",
       "      <td>12</td>\n",
       "      <td>gasoline</td>\n",
       "      <td>bmw</td>\n",
       "      <td>no</td>\n",
       "      <td>2016-03-22 00:00:00</td>\n",
       "      <td>0</td>\n",
       "      <td>47638</td>\n",
       "      <td>2016-03-31 23:45:38</td>\n",
       "    </tr>\n",
       "    <tr>\n",
       "      <th>81204</th>\n",
       "      <td>2016-03-17 17:52:43</td>\n",
       "      <td>3000</td>\n",
       "      <td>coupe</td>\n",
       "      <td>2006</td>\n",
       "      <td>manual</td>\n",
       "      <td>0</td>\n",
       "      <td>other</td>\n",
       "      <td>150000</td>\n",
       "      <td>4</td>\n",
       "      <td>lpg</td>\n",
       "      <td>fiat</td>\n",
       "      <td>NaN</td>\n",
       "      <td>2016-03-17 00:00:00</td>\n",
       "      <td>0</td>\n",
       "      <td>88131</td>\n",
       "      <td>2016-03-28 21:46:59</td>\n",
       "    </tr>\n",
       "    <tr>\n",
       "      <th>247029</th>\n",
       "      <td>2016-03-12 16:52:03</td>\n",
       "      <td>2350</td>\n",
       "      <td>small</td>\n",
       "      <td>2002</td>\n",
       "      <td>manual</td>\n",
       "      <td>75</td>\n",
       "      <td>clio</td>\n",
       "      <td>150000</td>\n",
       "      <td>2</td>\n",
       "      <td>petrol</td>\n",
       "      <td>renault</td>\n",
       "      <td>no</td>\n",
       "      <td>2016-03-12 00:00:00</td>\n",
       "      <td>0</td>\n",
       "      <td>88299</td>\n",
       "      <td>2016-04-07 07:17:30</td>\n",
       "    </tr>\n",
       "  </tbody>\n",
       "</table>\n",
       "</div>"
      ],
      "text/plain": [
       "                DateCrawled  Price  VehicleType  RegistrationYear Gearbox  \\\n",
       "137279  2016-03-23 22:40:35   1400        sedan              1995    auto   \n",
       "243133  2016-03-19 07:56:16  11490  convertible              2006    auto   \n",
       "159010  2016-03-22 21:57:58   6500        sedan              2007  manual   \n",
       "81204   2016-03-17 17:52:43   3000        coupe              2006  manual   \n",
       "247029  2016-03-12 16:52:03   2350        small              2002  manual   \n",
       "\n",
       "        Power   Model  Kilometer  RegistrationMonth  FuelType    Brand  \\\n",
       "137279    125      a4     150000                  3    petrol     audi   \n",
       "243133    174  cooper      40000                 12    petrol     mini   \n",
       "159010    143     1er     150000                 12  gasoline      bmw   \n",
       "81204       0   other     150000                  4       lpg     fiat   \n",
       "247029     75    clio     150000                  2    petrol  renault   \n",
       "\n",
       "       Repaired          DateCreated  NumberOfPictures  PostalCode  \\\n",
       "137279       no  2016-03-23 00:00:00                 0       74080   \n",
       "243133       no  2016-03-19 00:00:00                 0       80992   \n",
       "159010       no  2016-03-22 00:00:00                 0       47638   \n",
       "81204       NaN  2016-03-17 00:00:00                 0       88131   \n",
       "247029       no  2016-03-12 00:00:00                 0       88299   \n",
       "\n",
       "                   LastSeen  \n",
       "137279  2016-04-06 03:46:47  \n",
       "243133  2016-04-02 06:45:49  \n",
       "159010  2016-03-31 23:45:38  \n",
       "81204   2016-03-28 21:46:59  \n",
       "247029  2016-04-07 07:17:30  "
      ]
     },
     "execution_count": 4,
     "metadata": {},
     "output_type": "execute_result"
    }
   ],
   "source": [
    "df.sample(5)"
   ]
  },
  {
   "cell_type": "code",
   "execution_count": 5,
   "metadata": {},
   "outputs": [
    {
     "name": "stdout",
     "output_type": "stream",
     "text": [
      "<class 'pandas.core.frame.DataFrame'>\n",
      "RangeIndex: 354369 entries, 0 to 354368\n",
      "Data columns (total 16 columns):\n",
      " #   Column             Non-Null Count   Dtype \n",
      "---  ------             --------------   ----- \n",
      " 0   DateCrawled        354369 non-null  object\n",
      " 1   Price              354369 non-null  int64 \n",
      " 2   VehicleType        316879 non-null  object\n",
      " 3   RegistrationYear   354369 non-null  int64 \n",
      " 4   Gearbox            334536 non-null  object\n",
      " 5   Power              354369 non-null  int64 \n",
      " 6   Model              334664 non-null  object\n",
      " 7   Kilometer          354369 non-null  int64 \n",
      " 8   RegistrationMonth  354369 non-null  int64 \n",
      " 9   FuelType           321474 non-null  object\n",
      " 10  Brand              354369 non-null  object\n",
      " 11  Repaired           283215 non-null  object\n",
      " 12  DateCreated        354369 non-null  object\n",
      " 13  NumberOfPictures   354369 non-null  int64 \n",
      " 14  PostalCode         354369 non-null  int64 \n",
      " 15  LastSeen           354369 non-null  object\n",
      "dtypes: int64(7), object(9)\n",
      "memory usage: 43.3+ MB\n"
     ]
    }
   ],
   "source": [
    "df.info()"
   ]
  },
  {
   "cell_type": "code",
   "execution_count": 6,
   "metadata": {},
   "outputs": [
    {
     "data": {
      "text/html": [
       "<style type=\"text/css\">\n",
       "#T_02a1b_row0_col0, #T_02a1b_row1_col0, #T_02a1b_row3_col0, #T_02a1b_row5_col0, #T_02a1b_row7_col0, #T_02a1b_row8_col0, #T_02a1b_row10_col0, #T_02a1b_row12_col0, #T_02a1b_row13_col0, #T_02a1b_row14_col0, #T_02a1b_row15_col0 {\n",
       "  background-color: #3b4cc0;\n",
       "  color: #f1f1f1;\n",
       "}\n",
       "#T_02a1b_row2_col0 {\n",
       "  background-color: #e9d5cb;\n",
       "  color: #000000;\n",
       "}\n",
       "#T_02a1b_row4_col0, #T_02a1b_row6_col0 {\n",
       "  background-color: #9ebeff;\n",
       "  color: #000000;\n",
       "}\n",
       "#T_02a1b_row9_col0 {\n",
       "  background-color: #cfdaea;\n",
       "  color: #000000;\n",
       "}\n",
       "#T_02a1b_row11_col0 {\n",
       "  background-color: #b40426;\n",
       "  color: #f1f1f1;\n",
       "}\n",
       "</style>\n",
       "<table id=\"T_02a1b\">\n",
       "  <thead>\n",
       "    <tr>\n",
       "      <th class=\"blank level0\" >&nbsp;</th>\n",
       "      <th id=\"T_02a1b_level0_col0\" class=\"col_heading level0 col0\" >0</th>\n",
       "    </tr>\n",
       "  </thead>\n",
       "  <tbody>\n",
       "    <tr>\n",
       "      <th id=\"T_02a1b_level0_row0\" class=\"row_heading level0 row0\" >DateCrawled</th>\n",
       "      <td id=\"T_02a1b_row0_col0\" class=\"data row0 col0\" >0.000000</td>\n",
       "    </tr>\n",
       "    <tr>\n",
       "      <th id=\"T_02a1b_level0_row1\" class=\"row_heading level0 row1\" >Price</th>\n",
       "      <td id=\"T_02a1b_row1_col0\" class=\"data row1 col0\" >0.000000</td>\n",
       "    </tr>\n",
       "    <tr>\n",
       "      <th id=\"T_02a1b_level0_row2\" class=\"row_heading level0 row2\" >VehicleType</th>\n",
       "      <td id=\"T_02a1b_row2_col0\" class=\"data row2 col0\" >11.000000</td>\n",
       "    </tr>\n",
       "    <tr>\n",
       "      <th id=\"T_02a1b_level0_row3\" class=\"row_heading level0 row3\" >RegistrationYear</th>\n",
       "      <td id=\"T_02a1b_row3_col0\" class=\"data row3 col0\" >0.000000</td>\n",
       "    </tr>\n",
       "    <tr>\n",
       "      <th id=\"T_02a1b_level0_row4\" class=\"row_heading level0 row4\" >Gearbox</th>\n",
       "      <td id=\"T_02a1b_row4_col0\" class=\"data row4 col0\" >6.000000</td>\n",
       "    </tr>\n",
       "    <tr>\n",
       "      <th id=\"T_02a1b_level0_row5\" class=\"row_heading level0 row5\" >Power</th>\n",
       "      <td id=\"T_02a1b_row5_col0\" class=\"data row5 col0\" >0.000000</td>\n",
       "    </tr>\n",
       "    <tr>\n",
       "      <th id=\"T_02a1b_level0_row6\" class=\"row_heading level0 row6\" >Model</th>\n",
       "      <td id=\"T_02a1b_row6_col0\" class=\"data row6 col0\" >6.000000</td>\n",
       "    </tr>\n",
       "    <tr>\n",
       "      <th id=\"T_02a1b_level0_row7\" class=\"row_heading level0 row7\" >Kilometer</th>\n",
       "      <td id=\"T_02a1b_row7_col0\" class=\"data row7 col0\" >0.000000</td>\n",
       "    </tr>\n",
       "    <tr>\n",
       "      <th id=\"T_02a1b_level0_row8\" class=\"row_heading level0 row8\" >RegistrationMonth</th>\n",
       "      <td id=\"T_02a1b_row8_col0\" class=\"data row8 col0\" >0.000000</td>\n",
       "    </tr>\n",
       "    <tr>\n",
       "      <th id=\"T_02a1b_level0_row9\" class=\"row_heading level0 row9\" >FuelType</th>\n",
       "      <td id=\"T_02a1b_row9_col0\" class=\"data row9 col0\" >9.000000</td>\n",
       "    </tr>\n",
       "    <tr>\n",
       "      <th id=\"T_02a1b_level0_row10\" class=\"row_heading level0 row10\" >Brand</th>\n",
       "      <td id=\"T_02a1b_row10_col0\" class=\"data row10 col0\" >0.000000</td>\n",
       "    </tr>\n",
       "    <tr>\n",
       "      <th id=\"T_02a1b_level0_row11\" class=\"row_heading level0 row11\" >Repaired</th>\n",
       "      <td id=\"T_02a1b_row11_col0\" class=\"data row11 col0\" >20.000000</td>\n",
       "    </tr>\n",
       "    <tr>\n",
       "      <th id=\"T_02a1b_level0_row12\" class=\"row_heading level0 row12\" >DateCreated</th>\n",
       "      <td id=\"T_02a1b_row12_col0\" class=\"data row12 col0\" >0.000000</td>\n",
       "    </tr>\n",
       "    <tr>\n",
       "      <th id=\"T_02a1b_level0_row13\" class=\"row_heading level0 row13\" >NumberOfPictures</th>\n",
       "      <td id=\"T_02a1b_row13_col0\" class=\"data row13 col0\" >0.000000</td>\n",
       "    </tr>\n",
       "    <tr>\n",
       "      <th id=\"T_02a1b_level0_row14\" class=\"row_heading level0 row14\" >PostalCode</th>\n",
       "      <td id=\"T_02a1b_row14_col0\" class=\"data row14 col0\" >0.000000</td>\n",
       "    </tr>\n",
       "    <tr>\n",
       "      <th id=\"T_02a1b_level0_row15\" class=\"row_heading level0 row15\" >LastSeen</th>\n",
       "      <td id=\"T_02a1b_row15_col0\" class=\"data row15 col0\" >0.000000</td>\n",
       "    </tr>\n",
       "  </tbody>\n",
       "</table>\n"
      ],
      "text/plain": [
       "<pandas.io.formats.style.Styler at 0x1f617cad690>"
      ]
     },
     "execution_count": 6,
     "metadata": {},
     "output_type": "execute_result"
    }
   ],
   "source": [
    "pd.DataFrame(round(df.isna().mean()*100)).style.background_gradient('coolwarm')"
   ]
  },
  {
   "cell_type": "code",
   "execution_count": 7,
   "metadata": {},
   "outputs": [
    {
     "data": {
      "image/png": "[encoded data removed]",
      "text/plain": [
       "<Figure size 800x500 with 2 Axes>"
      ]
     },
     "metadata": {},
     "output_type": "display_data"
    }
   ],
   "source": [
    "sns.heatmap(df.isnull()) \n",
    "plt.title('Визуализация пропусков')\n",
    "plt.show()"
   ]
  },
  {
   "cell_type": "markdown",
   "metadata": {},
   "source": [
    "у нас есть пропуски в 5 столбцах: `VehicleType`, `Gearbox`, `Model`, `FuelType`, `Repaired`.\n",
    "Прежде чем приступить к работе с пропусками, переименуеи наши столбцы для удобства."
   ]
  },
  {
   "cell_type": "code",
   "execution_count": 8,
   "metadata": {},
   "outputs": [
    {
     "data": {
      "text/plain": [
       "Index(['DateCrawled', 'Price', 'VehicleType', 'RegistrationYear', 'Gearbox',\n",
       "       'Power', 'Model', 'Kilometer', 'RegistrationMonth', 'FuelType', 'Brand',\n",
       "       'Repaired', 'DateCreated', 'NumberOfPictures', 'PostalCode',\n",
       "       'LastSeen'],\n",
       "      dtype='object')"
      ]
     },
     "execution_count": 8,
     "metadata": {},
     "output_type": "execute_result"
    }
   ],
   "source": [
    "df.columns"
   ]
  },
  {
   "cell_type": "code",
   "execution_count": 9,
   "metadata": {},
   "outputs": [],
   "source": [
    "df.columns = map(str.lower, df.columns)"
   ]
  },
  {
   "cell_type": "code",
   "execution_count": 10,
   "metadata": {},
   "outputs": [
    {
     "data": {
      "text/plain": [
       "Index(['datecrawled', 'price', 'vehicletype', 'registrationyear', 'gearbox',\n",
       "       'power', 'model', 'kilometer', 'registrationmonth', 'fueltype', 'brand',\n",
       "       'repaired', 'datecreated', 'numberofpictures', 'postalcode',\n",
       "       'lastseen'],\n",
       "      dtype='object')"
      ]
     },
     "execution_count": 10,
     "metadata": {},
     "output_type": "execute_result"
    }
   ],
   "source": [
    "df.columns"
   ]
  },
  {
   "cell_type": "code",
   "execution_count": 11,
   "metadata": {},
   "outputs": [],
   "source": [
    "df = df.rename(columns =\n",
    "          {\n",
    "            'datecrawled':'date_crawled',\n",
    "            'vehicletype':'vehicle_type', \n",
    "            'registrationyear':'registration_year', \n",
    "            'registrationmonth':'registration_month', \n",
    "            'fueltype':'fuel_type',\n",
    "            'datecreated':'date_created',\n",
    "            'numberofpictures':'number_of_pictures',\n",
    "            'postalcode':'postal_code',\n",
    "            'lastseen' :'last_seen'\n",
    "          })"
   ]
  },
  {
   "cell_type": "code",
   "execution_count": 12,
   "metadata": {},
   "outputs": [
    {
     "data": {
      "text/plain": [
       "Index(['date_crawled', 'price', 'vehicle_type', 'registration_year', 'gearbox',\n",
       "       'power', 'model', 'kilometer', 'registration_month', 'fuel_type',\n",
       "       'brand', 'repaired', 'date_created', 'number_of_pictures',\n",
       "       'postal_code', 'last_seen'],\n",
       "      dtype='object')"
      ]
     },
     "execution_count": 12,
     "metadata": {},
     "output_type": "execute_result"
    }
   ],
   "source": [
    "df.columns"
   ]
  },
  {
   "cell_type": "code",
   "execution_count": 13,
   "metadata": {},
   "outputs": [
    {
     "data": {
      "text/plain": [
       "4"
      ]
     },
     "execution_count": 13,
     "metadata": {},
     "output_type": "execute_result"
    }
   ],
   "source": [
    "#выявим явные дубликаты и удалим их\n",
    "df.duplicated().sum()"
   ]
  },
  {
   "cell_type": "code",
   "execution_count": 14,
   "metadata": {},
   "outputs": [],
   "source": [
    "df = df.drop_duplicates()"
   ]
  },
  {
   "cell_type": "code",
   "execution_count": 15,
   "metadata": {
    "scrolled": true
   },
   "outputs": [
    {
     "data": {
      "text/plain": [
       "0"
      ]
     },
     "execution_count": 15,
     "metadata": {},
     "output_type": "execute_result"
    }
   ],
   "source": [
    "df.duplicated().sum()"
   ]
  },
  {
   "cell_type": "code",
   "execution_count": 16,
   "metadata": {},
   "outputs": [
    {
     "data": {
      "text/html": [
       "<div>\n",
       "<style scoped>\n",
       "    .dataframe tbody tr th:only-of-type {\n",
       "        vertical-align: middle;\n",
       "    }\n",
       "\n",
       "    .dataframe tbody tr th {\n",
       "        vertical-align: top;\n",
       "    }\n",
       "\n",
       "    .dataframe thead th {\n",
       "        text-align: right;\n",
       "    }\n",
       "</style>\n",
       "<table border=\"1\" class=\"dataframe\">\n",
       "  <thead>\n",
       "    <tr style=\"text-align: right;\">\n",
       "      <th></th>\n",
       "      <th>price</th>\n",
       "      <th>registration_year</th>\n",
       "      <th>power</th>\n",
       "      <th>kilometer</th>\n",
       "      <th>registration_month</th>\n",
       "      <th>number_of_pictures</th>\n",
       "      <th>postal_code</th>\n",
       "    </tr>\n",
       "  </thead>\n",
       "  <tbody>\n",
       "    <tr>\n",
       "      <th>count</th>\n",
       "      <td>354365.000000</td>\n",
       "      <td>354365.000000</td>\n",
       "      <td>354365.000000</td>\n",
       "      <td>354365.000000</td>\n",
       "      <td>354365.000000</td>\n",
       "      <td>354365.0</td>\n",
       "      <td>354365.000000</td>\n",
       "    </tr>\n",
       "    <tr>\n",
       "      <th>mean</th>\n",
       "      <td>4416.679830</td>\n",
       "      <td>2004.234481</td>\n",
       "      <td>110.093816</td>\n",
       "      <td>128211.363989</td>\n",
       "      <td>5.714650</td>\n",
       "      <td>0.0</td>\n",
       "      <td>50508.503800</td>\n",
       "    </tr>\n",
       "    <tr>\n",
       "      <th>std</th>\n",
       "      <td>4514.176349</td>\n",
       "      <td>90.228466</td>\n",
       "      <td>189.851330</td>\n",
       "      <td>37905.083858</td>\n",
       "      <td>3.726432</td>\n",
       "      <td>0.0</td>\n",
       "      <td>25783.100078</td>\n",
       "    </tr>\n",
       "    <tr>\n",
       "      <th>min</th>\n",
       "      <td>0.000000</td>\n",
       "      <td>1000.000000</td>\n",
       "      <td>0.000000</td>\n",
       "      <td>5000.000000</td>\n",
       "      <td>0.000000</td>\n",
       "      <td>0.0</td>\n",
       "      <td>1067.000000</td>\n",
       "    </tr>\n",
       "    <tr>\n",
       "      <th>25%</th>\n",
       "      <td>1050.000000</td>\n",
       "      <td>1999.000000</td>\n",
       "      <td>69.000000</td>\n",
       "      <td>125000.000000</td>\n",
       "      <td>3.000000</td>\n",
       "      <td>0.0</td>\n",
       "      <td>30165.000000</td>\n",
       "    </tr>\n",
       "    <tr>\n",
       "      <th>50%</th>\n",
       "      <td>2700.000000</td>\n",
       "      <td>2003.000000</td>\n",
       "      <td>105.000000</td>\n",
       "      <td>150000.000000</td>\n",
       "      <td>6.000000</td>\n",
       "      <td>0.0</td>\n",
       "      <td>49413.000000</td>\n",
       "    </tr>\n",
       "    <tr>\n",
       "      <th>75%</th>\n",
       "      <td>6400.000000</td>\n",
       "      <td>2008.000000</td>\n",
       "      <td>143.000000</td>\n",
       "      <td>150000.000000</td>\n",
       "      <td>9.000000</td>\n",
       "      <td>0.0</td>\n",
       "      <td>71083.000000</td>\n",
       "    </tr>\n",
       "    <tr>\n",
       "      <th>max</th>\n",
       "      <td>20000.000000</td>\n",
       "      <td>9999.000000</td>\n",
       "      <td>20000.000000</td>\n",
       "      <td>150000.000000</td>\n",
       "      <td>12.000000</td>\n",
       "      <td>0.0</td>\n",
       "      <td>99998.000000</td>\n",
       "    </tr>\n",
       "  </tbody>\n",
       "</table>\n",
       "</div>"
      ],
      "text/plain": [
       "               price  registration_year          power      kilometer  \\\n",
       "count  354365.000000      354365.000000  354365.000000  354365.000000   \n",
       "mean     4416.679830        2004.234481     110.093816  128211.363989   \n",
       "std      4514.176349          90.228466     189.851330   37905.083858   \n",
       "min         0.000000        1000.000000       0.000000    5000.000000   \n",
       "25%      1050.000000        1999.000000      69.000000  125000.000000   \n",
       "50%      2700.000000        2003.000000     105.000000  150000.000000   \n",
       "75%      6400.000000        2008.000000     143.000000  150000.000000   \n",
       "max     20000.000000        9999.000000   20000.000000  150000.000000   \n",
       "\n",
       "       registration_month  number_of_pictures    postal_code  \n",
       "count       354365.000000            354365.0  354365.000000  \n",
       "mean             5.714650                 0.0   50508.503800  \n",
       "std              3.726432                 0.0   25783.100078  \n",
       "min              0.000000                 0.0    1067.000000  \n",
       "25%              3.000000                 0.0   30165.000000  \n",
       "50%              6.000000                 0.0   49413.000000  \n",
       "75%              9.000000                 0.0   71083.000000  \n",
       "max             12.000000                 0.0   99998.000000  "
      ]
     },
     "execution_count": 16,
     "metadata": {},
     "output_type": "execute_result"
    }
   ],
   "source": [
    "df.describe()"
   ]
  },
  {
   "cell_type": "markdown",
   "metadata": {},
   "source": [
    "Мв столбце `price` минимальное значение равно нулю. странно так, как-будто кто-то забыл написат цену продажи. Хотя как такое можно забыть.  "
   ]
  },
  {
   "cell_type": "code",
   "execution_count": 17,
   "metadata": {},
   "outputs": [
    {
     "data": {
      "text/plain": [
       "date_crawled               0\n",
       "price                  10772\n",
       "vehicle_type               0\n",
       "registration_year          0\n",
       "gearbox                    0\n",
       "power                  40225\n",
       "model                      0\n",
       "kilometer                  0\n",
       "registration_month     37352\n",
       "fuel_type                  0\n",
       "brand                      0\n",
       "repaired                   0\n",
       "date_created               0\n",
       "number_of_pictures    354365\n",
       "postal_code                0\n",
       "last_seen                  0\n",
       "dtype: int64"
      ]
     },
     "execution_count": 17,
     "metadata": {},
     "output_type": "execute_result"
    }
   ],
   "source": [
    "#Посмотрим где у нас еще по нулям\n",
    "(df == 0).sum()"
   ]
  },
  {
   "cell_type": "code",
   "execution_count": 18,
   "metadata": {},
   "outputs": [
    {
     "data": {
      "text/plain": [
       "array([0], dtype=int64)"
      ]
     },
     "execution_count": 18,
     "metadata": {},
     "output_type": "execute_result"
    }
   ],
   "source": [
    "#Я, кажется, нашла самый бесполезный столбец. \n",
    "df['number_of_pictures'].unique()"
   ]
  },
  {
   "cell_type": "markdown",
   "metadata": {},
   "source": [
    "Можно предположить, что это пропущенные значения, где неизвестное значение было заменено нулем. Преобразуем все нули в значениях `price`, `power`, на значения NaN и еще раз посчитаем их количество, предварительно сделав копию нашего датасета.\n",
    "\n",
    "а столбцы `number_of_pictures`, `postal_code`, `date_crawled`, `date_created`, `last_seen`, `model`, `registration_month` давайте удалим. \n",
    "- 1 все столбцы у нас по нулям;\n",
    "- почтовый индекс владельца анкеты не несент в себе никакой инфформации;\n",
    "- дата скачивания анкеты из базы тоже бесполезна;\n",
    "- дата создания анкеты тоже;\n",
    "- дата последней активности пользователя тем более;\n",
    "- модель автомобиля - тут легче все это дело удалить, чем пытаться понять логику восстановления пропусков;\n",
    "- месяц регистрации автомобиля."
   ]
  },
  {
   "cell_type": "code",
   "execution_count": 19,
   "metadata": {},
   "outputs": [],
   "source": [
    "df.drop(\n",
    "    ['number_of_pictures', 'postal_code', 'date_crawled', 'date_created', 'last_seen', 'model', 'registration_month'],\n",
    "    axis=1, inplace=True)"
   ]
  },
  {
   "cell_type": "code",
   "execution_count": 20,
   "metadata": {},
   "outputs": [
    {
     "data": {
      "text/plain": [
       "(354365, 9)"
      ]
     },
     "execution_count": 20,
     "metadata": {},
     "output_type": "execute_result"
    }
   ],
   "source": [
    "df.shape"
   ]
  },
  {
   "cell_type": "code",
   "execution_count": 21,
   "metadata": {},
   "outputs": [
    {
     "name": "stdout",
     "output_type": "stream",
     "text": [
      "<class 'pandas.core.frame.DataFrame'>\n",
      "Index: 354365 entries, 0 to 354368\n",
      "Data columns (total 9 columns):\n",
      " #   Column             Non-Null Count   Dtype \n",
      "---  ------             --------------   ----- \n",
      " 0   price              354365 non-null  int64 \n",
      " 1   vehicle_type       316875 non-null  object\n",
      " 2   registration_year  354365 non-null  int64 \n",
      " 3   gearbox            334532 non-null  object\n",
      " 4   power              354365 non-null  int64 \n",
      " 5   kilometer          354365 non-null  int64 \n",
      " 6   fuel_type          321470 non-null  object\n",
      " 7   brand              354365 non-null  object\n",
      " 8   repaired           283211 non-null  object\n",
      "dtypes: int64(4), object(5)\n",
      "memory usage: 27.0+ MB\n"
     ]
    }
   ],
   "source": [
    "#проверим\n",
    "df.info()"
   ]
  },
  {
   "cell_type": "code",
   "execution_count": 22,
   "metadata": {},
   "outputs": [
    {
     "data": {
      "text/html": [
       "<style type=\"text/css\">\n",
       "#T_53ca3_row0_col0 {\n",
       "  background-color: #6a8bef;\n",
       "  color: #f1f1f1;\n",
       "}\n",
       "#T_53ca3_row1_col0, #T_53ca3_row4_col0 {\n",
       "  background-color: #e9d5cb;\n",
       "  color: #000000;\n",
       "}\n",
       "#T_53ca3_row2_col0, #T_53ca3_row5_col0, #T_53ca3_row7_col0 {\n",
       "  background-color: #3b4cc0;\n",
       "  color: #f1f1f1;\n",
       "}\n",
       "#T_53ca3_row3_col0 {\n",
       "  background-color: #9ebeff;\n",
       "  color: #000000;\n",
       "}\n",
       "#T_53ca3_row6_col0 {\n",
       "  background-color: #cfdaea;\n",
       "  color: #000000;\n",
       "}\n",
       "#T_53ca3_row8_col0 {\n",
       "  background-color: #b40426;\n",
       "  color: #f1f1f1;\n",
       "}\n",
       "</style>\n",
       "<table id=\"T_53ca3\">\n",
       "  <thead>\n",
       "    <tr>\n",
       "      <th class=\"blank level0\" >&nbsp;</th>\n",
       "      <th id=\"T_53ca3_level0_col0\" class=\"col_heading level0 col0\" >0</th>\n",
       "    </tr>\n",
       "  </thead>\n",
       "  <tbody>\n",
       "    <tr>\n",
       "      <th id=\"T_53ca3_level0_row0\" class=\"row_heading level0 row0\" >price</th>\n",
       "      <td id=\"T_53ca3_row0_col0\" class=\"data row0 col0\" >3.000000</td>\n",
       "    </tr>\n",
       "    <tr>\n",
       "      <th id=\"T_53ca3_level0_row1\" class=\"row_heading level0 row1\" >vehicle_type</th>\n",
       "      <td id=\"T_53ca3_row1_col0\" class=\"data row1 col0\" >11.000000</td>\n",
       "    </tr>\n",
       "    <tr>\n",
       "      <th id=\"T_53ca3_level0_row2\" class=\"row_heading level0 row2\" >registration_year</th>\n",
       "      <td id=\"T_53ca3_row2_col0\" class=\"data row2 col0\" >0.000000</td>\n",
       "    </tr>\n",
       "    <tr>\n",
       "      <th id=\"T_53ca3_level0_row3\" class=\"row_heading level0 row3\" >gearbox</th>\n",
       "      <td id=\"T_53ca3_row3_col0\" class=\"data row3 col0\" >6.000000</td>\n",
       "    </tr>\n",
       "    <tr>\n",
       "      <th id=\"T_53ca3_level0_row4\" class=\"row_heading level0 row4\" >power</th>\n",
       "      <td id=\"T_53ca3_row4_col0\" class=\"data row4 col0\" >11.000000</td>\n",
       "    </tr>\n",
       "    <tr>\n",
       "      <th id=\"T_53ca3_level0_row5\" class=\"row_heading level0 row5\" >kilometer</th>\n",
       "      <td id=\"T_53ca3_row5_col0\" class=\"data row5 col0\" >0.000000</td>\n",
       "    </tr>\n",
       "    <tr>\n",
       "      <th id=\"T_53ca3_level0_row6\" class=\"row_heading level0 row6\" >fuel_type</th>\n",
       "      <td id=\"T_53ca3_row6_col0\" class=\"data row6 col0\" >9.000000</td>\n",
       "    </tr>\n",
       "    <tr>\n",
       "      <th id=\"T_53ca3_level0_row7\" class=\"row_heading level0 row7\" >brand</th>\n",
       "      <td id=\"T_53ca3_row7_col0\" class=\"data row7 col0\" >0.000000</td>\n",
       "    </tr>\n",
       "    <tr>\n",
       "      <th id=\"T_53ca3_level0_row8\" class=\"row_heading level0 row8\" >repaired</th>\n",
       "      <td id=\"T_53ca3_row8_col0\" class=\"data row8 col0\" >20.000000</td>\n",
       "    </tr>\n",
       "  </tbody>\n",
       "</table>\n"
      ],
      "text/plain": [
       "<pandas.io.formats.style.Styler at 0x1f6178aa990>"
      ]
     },
     "execution_count": 22,
     "metadata": {},
     "output_type": "execute_result"
    }
   ],
   "source": [
    "new_data = df.copy(deep = True)\n",
    "colsFix = ['price','power']\n",
    "new_data [colsFix] = new_data[colsFix].replace(0, np.NaN)\n",
    "pd.DataFrame(round(new_data.isna().mean()*100)).style.background_gradient('coolwarm')"
   ]
  },
  {
   "cell_type": "markdown",
   "metadata": {},
   "source": [
    "ситуация стала как-будто страшнее, но и мы не трусихи..."
   ]
  },
  {
   "cell_type": "code",
   "execution_count": 23,
   "metadata": {},
   "outputs": [
    {
     "data": {
      "text/html": [
       "<div>\n",
       "<style scoped>\n",
       "    .dataframe tbody tr th:only-of-type {\n",
       "        vertical-align: middle;\n",
       "    }\n",
       "\n",
       "    .dataframe tbody tr th {\n",
       "        vertical-align: top;\n",
       "    }\n",
       "\n",
       "    .dataframe thead th {\n",
       "        text-align: right;\n",
       "    }\n",
       "</style>\n",
       "<table border=\"1\" class=\"dataframe\">\n",
       "  <thead>\n",
       "    <tr style=\"text-align: right;\">\n",
       "      <th></th>\n",
       "      <th>price</th>\n",
       "      <th>registration_year</th>\n",
       "      <th>power</th>\n",
       "      <th>kilometer</th>\n",
       "    </tr>\n",
       "  </thead>\n",
       "  <tbody>\n",
       "    <tr>\n",
       "      <th>count</th>\n",
       "      <td>343593.000000</td>\n",
       "      <td>354365.000000</td>\n",
       "      <td>314140.000000</td>\n",
       "      <td>354365.000000</td>\n",
       "    </tr>\n",
       "    <tr>\n",
       "      <th>mean</th>\n",
       "      <td>4555.147363</td>\n",
       "      <td>2004.234481</td>\n",
       "      <td>124.191109</td>\n",
       "      <td>128211.363989</td>\n",
       "    </tr>\n",
       "    <tr>\n",
       "      <th>std</th>\n",
       "      <td>4515.076200</td>\n",
       "      <td>90.228466</td>\n",
       "      <td>197.251312</td>\n",
       "      <td>37905.083858</td>\n",
       "    </tr>\n",
       "    <tr>\n",
       "      <th>min</th>\n",
       "      <td>1.000000</td>\n",
       "      <td>1000.000000</td>\n",
       "      <td>1.000000</td>\n",
       "      <td>5000.000000</td>\n",
       "    </tr>\n",
       "    <tr>\n",
       "      <th>25%</th>\n",
       "      <td>1200.000000</td>\n",
       "      <td>1999.000000</td>\n",
       "      <td>75.000000</td>\n",
       "      <td>125000.000000</td>\n",
       "    </tr>\n",
       "    <tr>\n",
       "      <th>50%</th>\n",
       "      <td>2890.000000</td>\n",
       "      <td>2003.000000</td>\n",
       "      <td>110.000000</td>\n",
       "      <td>150000.000000</td>\n",
       "    </tr>\n",
       "    <tr>\n",
       "      <th>75%</th>\n",
       "      <td>6500.000000</td>\n",
       "      <td>2008.000000</td>\n",
       "      <td>150.000000</td>\n",
       "      <td>150000.000000</td>\n",
       "    </tr>\n",
       "    <tr>\n",
       "      <th>max</th>\n",
       "      <td>20000.000000</td>\n",
       "      <td>9999.000000</td>\n",
       "      <td>20000.000000</td>\n",
       "      <td>150000.000000</td>\n",
       "    </tr>\n",
       "  </tbody>\n",
       "</table>\n",
       "</div>"
      ],
      "text/plain": [
       "               price  registration_year          power      kilometer\n",
       "count  343593.000000      354365.000000  314140.000000  354365.000000\n",
       "mean     4555.147363        2004.234481     124.191109  128211.363989\n",
       "std      4515.076200          90.228466     197.251312   37905.083858\n",
       "min         1.000000        1000.000000       1.000000    5000.000000\n",
       "25%      1200.000000        1999.000000      75.000000  125000.000000\n",
       "50%      2890.000000        2003.000000     110.000000  150000.000000\n",
       "75%      6500.000000        2008.000000     150.000000  150000.000000\n",
       "max     20000.000000        9999.000000   20000.000000  150000.000000"
      ]
     },
     "execution_count": 23,
     "metadata": {},
     "output_type": "execute_result"
    }
   ],
   "source": [
    "new_data.describe()"
   ]
  },
  {
   "cell_type": "code",
   "execution_count": 24,
   "metadata": {},
   "outputs": [
    {
     "data": {
      "text/html": [
       "<div>\n",
       "<style scoped>\n",
       "    .dataframe tbody tr th:only-of-type {\n",
       "        vertical-align: middle;\n",
       "    }\n",
       "\n",
       "    .dataframe tbody tr th {\n",
       "        vertical-align: top;\n",
       "    }\n",
       "\n",
       "    .dataframe thead th {\n",
       "        text-align: right;\n",
       "    }\n",
       "</style>\n",
       "<table border=\"1\" class=\"dataframe\">\n",
       "  <thead>\n",
       "    <tr style=\"text-align: right;\">\n",
       "      <th></th>\n",
       "      <th>price</th>\n",
       "      <th>vehicle_type</th>\n",
       "      <th>registration_year</th>\n",
       "      <th>gearbox</th>\n",
       "      <th>power</th>\n",
       "      <th>kilometer</th>\n",
       "      <th>fuel_type</th>\n",
       "      <th>brand</th>\n",
       "      <th>repaired</th>\n",
       "    </tr>\n",
       "  </thead>\n",
       "  <tbody>\n",
       "    <tr>\n",
       "      <th>0</th>\n",
       "      <td>480.0</td>\n",
       "      <td>NaN</td>\n",
       "      <td>1993</td>\n",
       "      <td>manual</td>\n",
       "      <td>NaN</td>\n",
       "      <td>150000</td>\n",
       "      <td>petrol</td>\n",
       "      <td>volkswagen</td>\n",
       "      <td>NaN</td>\n",
       "    </tr>\n",
       "    <tr>\n",
       "      <th>1</th>\n",
       "      <td>18300.0</td>\n",
       "      <td>coupe</td>\n",
       "      <td>2011</td>\n",
       "      <td>manual</td>\n",
       "      <td>190.0</td>\n",
       "      <td>125000</td>\n",
       "      <td>gasoline</td>\n",
       "      <td>audi</td>\n",
       "      <td>yes</td>\n",
       "    </tr>\n",
       "    <tr>\n",
       "      <th>2</th>\n",
       "      <td>9800.0</td>\n",
       "      <td>suv</td>\n",
       "      <td>2004</td>\n",
       "      <td>auto</td>\n",
       "      <td>163.0</td>\n",
       "      <td>125000</td>\n",
       "      <td>gasoline</td>\n",
       "      <td>jeep</td>\n",
       "      <td>NaN</td>\n",
       "    </tr>\n",
       "    <tr>\n",
       "      <th>3</th>\n",
       "      <td>1500.0</td>\n",
       "      <td>small</td>\n",
       "      <td>2001</td>\n",
       "      <td>manual</td>\n",
       "      <td>75.0</td>\n",
       "      <td>150000</td>\n",
       "      <td>petrol</td>\n",
       "      <td>volkswagen</td>\n",
       "      <td>no</td>\n",
       "    </tr>\n",
       "    <tr>\n",
       "      <th>4</th>\n",
       "      <td>3600.0</td>\n",
       "      <td>small</td>\n",
       "      <td>2008</td>\n",
       "      <td>manual</td>\n",
       "      <td>69.0</td>\n",
       "      <td>90000</td>\n",
       "      <td>gasoline</td>\n",
       "      <td>skoda</td>\n",
       "      <td>no</td>\n",
       "    </tr>\n",
       "  </tbody>\n",
       "</table>\n",
       "</div>"
      ],
      "text/plain": [
       "     price vehicle_type  registration_year gearbox  power  kilometer  \\\n",
       "0    480.0          NaN               1993  manual    NaN     150000   \n",
       "1  18300.0        coupe               2011  manual  190.0     125000   \n",
       "2   9800.0          suv               2004    auto  163.0     125000   \n",
       "3   1500.0        small               2001  manual   75.0     150000   \n",
       "4   3600.0        small               2008  manual   69.0      90000   \n",
       "\n",
       "  fuel_type       brand repaired  \n",
       "0    petrol  volkswagen      NaN  \n",
       "1  gasoline        audi      yes  \n",
       "2  gasoline        jeep      NaN  \n",
       "3    petrol  volkswagen       no  \n",
       "4  gasoline       skoda       no  "
      ]
     },
     "execution_count": 24,
     "metadata": {},
     "output_type": "execute_result"
    }
   ],
   "source": [
    "new_data.head()"
   ]
  },
  {
   "cell_type": "code",
   "execution_count": 25,
   "metadata": {},
   "outputs": [
    {
     "data": {
      "image/png": "[encoded data removed]",
      "text/plain": [
       "<Figure size 800x500 with 1 Axes>"
      ]
     },
     "metadata": {},
     "output_type": "display_data"
    }
   ],
   "source": [
    "#посмотрим выбросы в столбце registration_year\n",
    "sns.set(style=\"darkgrid\")\n",
    "sns.boxplot(y=new_data['registration_year'], color='skyblue')\n",
    "plt.title('Диаграмма размаха')\n",
    "plt.ylabel('Год регистрации')\n",
    "\n",
    "plt.show()"
   ]
  },
  {
   "cell_type": "markdown",
   "metadata": {},
   "source": [
    "предлагаю не жалеть все что больше 2020 года и меньше 1960. "
   ]
  },
  {
   "cell_type": "code",
   "execution_count": 26,
   "metadata": {},
   "outputs": [
    {
     "data": {
      "text/html": [
       "<div>\n",
       "<style scoped>\n",
       "    .dataframe tbody tr th:only-of-type {\n",
       "        vertical-align: middle;\n",
       "    }\n",
       "\n",
       "    .dataframe tbody tr th {\n",
       "        vertical-align: top;\n",
       "    }\n",
       "\n",
       "    .dataframe thead th {\n",
       "        text-align: right;\n",
       "    }\n",
       "</style>\n",
       "<table border=\"1\" class=\"dataframe\">\n",
       "  <thead>\n",
       "    <tr style=\"text-align: right;\">\n",
       "      <th></th>\n",
       "      <th>price</th>\n",
       "      <th>vehicle_type</th>\n",
       "      <th>registration_year</th>\n",
       "      <th>gearbox</th>\n",
       "      <th>power</th>\n",
       "      <th>kilometer</th>\n",
       "      <th>fuel_type</th>\n",
       "      <th>brand</th>\n",
       "      <th>repaired</th>\n",
       "    </tr>\n",
       "  </thead>\n",
       "  <tbody>\n",
       "    <tr>\n",
       "      <th>12946</th>\n",
       "      <td>49.0</td>\n",
       "      <td>NaN</td>\n",
       "      <td>5000</td>\n",
       "      <td>NaN</td>\n",
       "      <td>NaN</td>\n",
       "      <td>5000</td>\n",
       "      <td>NaN</td>\n",
       "      <td>volkswagen</td>\n",
       "      <td>NaN</td>\n",
       "    </tr>\n",
       "    <tr>\n",
       "      <th>15147</th>\n",
       "      <td>NaN</td>\n",
       "      <td>NaN</td>\n",
       "      <td>9999</td>\n",
       "      <td>NaN</td>\n",
       "      <td>NaN</td>\n",
       "      <td>10000</td>\n",
       "      <td>NaN</td>\n",
       "      <td>sonstige_autos</td>\n",
       "      <td>NaN</td>\n",
       "    </tr>\n",
       "    <tr>\n",
       "      <th>15870</th>\n",
       "      <td>1700.0</td>\n",
       "      <td>NaN</td>\n",
       "      <td>3200</td>\n",
       "      <td>NaN</td>\n",
       "      <td>NaN</td>\n",
       "      <td>5000</td>\n",
       "      <td>NaN</td>\n",
       "      <td>sonstige_autos</td>\n",
       "      <td>NaN</td>\n",
       "    </tr>\n",
       "    <tr>\n",
       "      <th>17271</th>\n",
       "      <td>700.0</td>\n",
       "      <td>NaN</td>\n",
       "      <td>9999</td>\n",
       "      <td>NaN</td>\n",
       "      <td>NaN</td>\n",
       "      <td>10000</td>\n",
       "      <td>NaN</td>\n",
       "      <td>opel</td>\n",
       "      <td>NaN</td>\n",
       "    </tr>\n",
       "    <tr>\n",
       "      <th>17346</th>\n",
       "      <td>6500.0</td>\n",
       "      <td>NaN</td>\n",
       "      <td>8888</td>\n",
       "      <td>NaN</td>\n",
       "      <td>NaN</td>\n",
       "      <td>10000</td>\n",
       "      <td>NaN</td>\n",
       "      <td>sonstige_autos</td>\n",
       "      <td>NaN</td>\n",
       "    </tr>\n",
       "    <tr>\n",
       "      <th>...</th>\n",
       "      <td>...</td>\n",
       "      <td>...</td>\n",
       "      <td>...</td>\n",
       "      <td>...</td>\n",
       "      <td>...</td>\n",
       "      <td>...</td>\n",
       "      <td>...</td>\n",
       "      <td>...</td>\n",
       "      <td>...</td>\n",
       "    </tr>\n",
       "    <tr>\n",
       "      <th>334967</th>\n",
       "      <td>12000.0</td>\n",
       "      <td>NaN</td>\n",
       "      <td>4000</td>\n",
       "      <td>NaN</td>\n",
       "      <td>500.0</td>\n",
       "      <td>5000</td>\n",
       "      <td>NaN</td>\n",
       "      <td>volkswagen</td>\n",
       "      <td>no</td>\n",
       "    </tr>\n",
       "    <tr>\n",
       "      <th>335727</th>\n",
       "      <td>NaN</td>\n",
       "      <td>NaN</td>\n",
       "      <td>7500</td>\n",
       "      <td>manual</td>\n",
       "      <td>NaN</td>\n",
       "      <td>10000</td>\n",
       "      <td>petrol</td>\n",
       "      <td>mini</td>\n",
       "      <td>no</td>\n",
       "    </tr>\n",
       "    <tr>\n",
       "      <th>338829</th>\n",
       "      <td>50.0</td>\n",
       "      <td>NaN</td>\n",
       "      <td>3000</td>\n",
       "      <td>NaN</td>\n",
       "      <td>3000.0</td>\n",
       "      <td>100000</td>\n",
       "      <td>NaN</td>\n",
       "      <td>volkswagen</td>\n",
       "      <td>yes</td>\n",
       "    </tr>\n",
       "    <tr>\n",
       "      <th>340548</th>\n",
       "      <td>NaN</td>\n",
       "      <td>NaN</td>\n",
       "      <td>3500</td>\n",
       "      <td>manual</td>\n",
       "      <td>75.0</td>\n",
       "      <td>5000</td>\n",
       "      <td>petrol</td>\n",
       "      <td>sonstige_autos</td>\n",
       "      <td>NaN</td>\n",
       "    </tr>\n",
       "    <tr>\n",
       "      <th>341791</th>\n",
       "      <td>1.0</td>\n",
       "      <td>NaN</td>\n",
       "      <td>3000</td>\n",
       "      <td>NaN</td>\n",
       "      <td>NaN</td>\n",
       "      <td>5000</td>\n",
       "      <td>NaN</td>\n",
       "      <td>opel</td>\n",
       "      <td>NaN</td>\n",
       "    </tr>\n",
       "  </tbody>\n",
       "</table>\n",
       "<p>105 rows × 9 columns</p>\n",
       "</div>"
      ],
      "text/plain": [
       "          price vehicle_type  registration_year gearbox   power  kilometer  \\\n",
       "12946      49.0          NaN               5000     NaN     NaN       5000   \n",
       "15147       NaN          NaN               9999     NaN     NaN      10000   \n",
       "15870    1700.0          NaN               3200     NaN     NaN       5000   \n",
       "17271     700.0          NaN               9999     NaN     NaN      10000   \n",
       "17346    6500.0          NaN               8888     NaN     NaN      10000   \n",
       "...         ...          ...                ...     ...     ...        ...   \n",
       "334967  12000.0          NaN               4000     NaN   500.0       5000   \n",
       "335727      NaN          NaN               7500  manual     NaN      10000   \n",
       "338829     50.0          NaN               3000     NaN  3000.0     100000   \n",
       "340548      NaN          NaN               3500  manual    75.0       5000   \n",
       "341791      1.0          NaN               3000     NaN     NaN       5000   \n",
       "\n",
       "       fuel_type           brand repaired  \n",
       "12946        NaN      volkswagen      NaN  \n",
       "15147        NaN  sonstige_autos      NaN  \n",
       "15870        NaN  sonstige_autos      NaN  \n",
       "17271        NaN            opel      NaN  \n",
       "17346        NaN  sonstige_autos      NaN  \n",
       "...          ...             ...      ...  \n",
       "334967       NaN      volkswagen       no  \n",
       "335727    petrol            mini       no  \n",
       "338829       NaN      volkswagen      yes  \n",
       "340548    petrol  sonstige_autos      NaN  \n",
       "341791       NaN            opel      NaN  \n",
       "\n",
       "[105 rows x 9 columns]"
      ]
     },
     "execution_count": 26,
     "metadata": {},
     "output_type": "execute_result"
    }
   ],
   "source": [
    "new_data.query('registration_year > 2020')"
   ]
  },
  {
   "cell_type": "code",
   "execution_count": 27,
   "metadata": {
    "scrolled": false
   },
   "outputs": [
    {
     "data": {
      "text/html": [
       "<div>\n",
       "<style scoped>\n",
       "    .dataframe tbody tr th:only-of-type {\n",
       "        vertical-align: middle;\n",
       "    }\n",
       "\n",
       "    .dataframe tbody tr th {\n",
       "        vertical-align: top;\n",
       "    }\n",
       "\n",
       "    .dataframe thead th {\n",
       "        text-align: right;\n",
       "    }\n",
       "</style>\n",
       "<table border=\"1\" class=\"dataframe\">\n",
       "  <thead>\n",
       "    <tr style=\"text-align: right;\">\n",
       "      <th></th>\n",
       "      <th>price</th>\n",
       "      <th>vehicle_type</th>\n",
       "      <th>registration_year</th>\n",
       "      <th>gearbox</th>\n",
       "      <th>power</th>\n",
       "      <th>kilometer</th>\n",
       "      <th>fuel_type</th>\n",
       "      <th>brand</th>\n",
       "      <th>repaired</th>\n",
       "    </tr>\n",
       "  </thead>\n",
       "  <tbody>\n",
       "    <tr>\n",
       "      <th>15</th>\n",
       "      <td>450.0</td>\n",
       "      <td>small</td>\n",
       "      <td>1910</td>\n",
       "      <td>NaN</td>\n",
       "      <td>NaN</td>\n",
       "      <td>5000</td>\n",
       "      <td>petrol</td>\n",
       "      <td>ford</td>\n",
       "      <td>NaN</td>\n",
       "    </tr>\n",
       "    <tr>\n",
       "      <th>622</th>\n",
       "      <td>NaN</td>\n",
       "      <td>NaN</td>\n",
       "      <td>1111</td>\n",
       "      <td>NaN</td>\n",
       "      <td>NaN</td>\n",
       "      <td>5000</td>\n",
       "      <td>NaN</td>\n",
       "      <td>opel</td>\n",
       "      <td>NaN</td>\n",
       "    </tr>\n",
       "    <tr>\n",
       "      <th>1928</th>\n",
       "      <td>7000.0</td>\n",
       "      <td>suv</td>\n",
       "      <td>1945</td>\n",
       "      <td>manual</td>\n",
       "      <td>48.0</td>\n",
       "      <td>150000</td>\n",
       "      <td>petrol</td>\n",
       "      <td>volkswagen</td>\n",
       "      <td>no</td>\n",
       "    </tr>\n",
       "    <tr>\n",
       "      <th>2273</th>\n",
       "      <td>1800.0</td>\n",
       "      <td>convertible</td>\n",
       "      <td>1925</td>\n",
       "      <td>NaN</td>\n",
       "      <td>NaN</td>\n",
       "      <td>5000</td>\n",
       "      <td>NaN</td>\n",
       "      <td>sonstige_autos</td>\n",
       "      <td>no</td>\n",
       "    </tr>\n",
       "    <tr>\n",
       "      <th>3333</th>\n",
       "      <td>10500.0</td>\n",
       "      <td>sedan</td>\n",
       "      <td>1955</td>\n",
       "      <td>manual</td>\n",
       "      <td>30.0</td>\n",
       "      <td>60000</td>\n",
       "      <td>petrol</td>\n",
       "      <td>ford</td>\n",
       "      <td>NaN</td>\n",
       "    </tr>\n",
       "    <tr>\n",
       "      <th>...</th>\n",
       "      <td>...</td>\n",
       "      <td>...</td>\n",
       "      <td>...</td>\n",
       "      <td>...</td>\n",
       "      <td>...</td>\n",
       "      <td>...</td>\n",
       "      <td>...</td>\n",
       "      <td>...</td>\n",
       "      <td>...</td>\n",
       "    </tr>\n",
       "    <tr>\n",
       "      <th>351299</th>\n",
       "      <td>5500.0</td>\n",
       "      <td>bus</td>\n",
       "      <td>1956</td>\n",
       "      <td>manual</td>\n",
       "      <td>37.0</td>\n",
       "      <td>60000</td>\n",
       "      <td>petrol</td>\n",
       "      <td>sonstige_autos</td>\n",
       "      <td>no</td>\n",
       "    </tr>\n",
       "    <tr>\n",
       "      <th>351682</th>\n",
       "      <td>11500.0</td>\n",
       "      <td>NaN</td>\n",
       "      <td>1800</td>\n",
       "      <td>NaN</td>\n",
       "      <td>16.0</td>\n",
       "      <td>5000</td>\n",
       "      <td>petrol</td>\n",
       "      <td>fiat</td>\n",
       "      <td>NaN</td>\n",
       "    </tr>\n",
       "    <tr>\n",
       "      <th>353531</th>\n",
       "      <td>6000.0</td>\n",
       "      <td>sedan</td>\n",
       "      <td>1937</td>\n",
       "      <td>manual</td>\n",
       "      <td>38.0</td>\n",
       "      <td>5000</td>\n",
       "      <td>petrol</td>\n",
       "      <td>mercedes_benz</td>\n",
       "      <td>NaN</td>\n",
       "    </tr>\n",
       "    <tr>\n",
       "      <th>353961</th>\n",
       "      <td>200.0</td>\n",
       "      <td>NaN</td>\n",
       "      <td>1910</td>\n",
       "      <td>NaN</td>\n",
       "      <td>NaN</td>\n",
       "      <td>5000</td>\n",
       "      <td>petrol</td>\n",
       "      <td>sonstige_autos</td>\n",
       "      <td>NaN</td>\n",
       "    </tr>\n",
       "    <tr>\n",
       "      <th>354316</th>\n",
       "      <td>3300.0</td>\n",
       "      <td>coupe</td>\n",
       "      <td>1957</td>\n",
       "      <td>manual</td>\n",
       "      <td>40.0</td>\n",
       "      <td>100000</td>\n",
       "      <td>petrol</td>\n",
       "      <td>trabant</td>\n",
       "      <td>no</td>\n",
       "    </tr>\n",
       "  </tbody>\n",
       "</table>\n",
       "<p>422 rows × 9 columns</p>\n",
       "</div>"
      ],
      "text/plain": [
       "          price vehicle_type  registration_year gearbox  power  kilometer  \\\n",
       "15        450.0        small               1910     NaN    NaN       5000   \n",
       "622         NaN          NaN               1111     NaN    NaN       5000   \n",
       "1928     7000.0          suv               1945  manual   48.0     150000   \n",
       "2273     1800.0  convertible               1925     NaN    NaN       5000   \n",
       "3333    10500.0        sedan               1955  manual   30.0      60000   \n",
       "...         ...          ...                ...     ...    ...        ...   \n",
       "351299   5500.0          bus               1956  manual   37.0      60000   \n",
       "351682  11500.0          NaN               1800     NaN   16.0       5000   \n",
       "353531   6000.0        sedan               1937  manual   38.0       5000   \n",
       "353961    200.0          NaN               1910     NaN    NaN       5000   \n",
       "354316   3300.0        coupe               1957  manual   40.0     100000   \n",
       "\n",
       "       fuel_type           brand repaired  \n",
       "15        petrol            ford      NaN  \n",
       "622          NaN            opel      NaN  \n",
       "1928      petrol      volkswagen       no  \n",
       "2273         NaN  sonstige_autos       no  \n",
       "3333      petrol            ford      NaN  \n",
       "...          ...             ...      ...  \n",
       "351299    petrol  sonstige_autos       no  \n",
       "351682    petrol            fiat      NaN  \n",
       "353531    petrol   mercedes_benz      NaN  \n",
       "353961    petrol  sonstige_autos      NaN  \n",
       "354316    petrol         trabant       no  \n",
       "\n",
       "[422 rows x 9 columns]"
      ]
     },
     "execution_count": 27,
     "metadata": {},
     "output_type": "execute_result"
    }
   ],
   "source": [
    "new_data.query('registration_year < 1960')"
   ]
  },
  {
   "cell_type": "code",
   "execution_count": 28,
   "metadata": {},
   "outputs": [],
   "source": [
    "new_data = new_data.query('1960 < registration_year < 2020')"
   ]
  },
  {
   "cell_type": "code",
   "execution_count": 29,
   "metadata": {},
   "outputs": [
    {
     "data": {
      "text/plain": [
       "(353650, 9)"
      ]
     },
     "execution_count": 29,
     "metadata": {},
     "output_type": "execute_result"
    }
   ],
   "source": [
    "new_data.shape"
   ]
  },
  {
   "cell_type": "code",
   "execution_count": 30,
   "metadata": {},
   "outputs": [
    {
     "data": {
      "image/png": "[encoded data removed]",
      "text/plain": [
       "<Figure size 800x500 with 1 Axes>"
      ]
     },
     "metadata": {},
     "output_type": "display_data"
    }
   ],
   "source": [
    "sns.set(style=\"darkgrid\")\n",
    "sns.boxplot(y=new_data['registration_year'], color='skyblue')\n",
    "plt.title('Диаграмма размаха')\n",
    "plt.ylabel('Год регистрации')\n",
    "\n",
    "plt.show()"
   ]
  },
  {
   "cell_type": "code",
   "execution_count": 31,
   "metadata": {},
   "outputs": [
    {
     "data": {
      "text/html": [
       "<style type=\"text/css\">\n",
       "#T_eb8c2_row0_col0 {\n",
       "  background-color: #6a8bef;\n",
       "  color: #f1f1f1;\n",
       "}\n",
       "#T_eb8c2_row1_col0 {\n",
       "  background-color: #dddcdc;\n",
       "  color: #000000;\n",
       "}\n",
       "#T_eb8c2_row2_col0, #T_eb8c2_row5_col0, #T_eb8c2_row7_col0 {\n",
       "  background-color: #3b4cc0;\n",
       "  color: #f1f1f1;\n",
       "}\n",
       "#T_eb8c2_row3_col0 {\n",
       "  background-color: #8db0fe;\n",
       "  color: #000000;\n",
       "}\n",
       "#T_eb8c2_row4_col0 {\n",
       "  background-color: #e9d5cb;\n",
       "  color: #000000;\n",
       "}\n",
       "#T_eb8c2_row6_col0 {\n",
       "  background-color: #cfdaea;\n",
       "  color: #000000;\n",
       "}\n",
       "#T_eb8c2_row8_col0 {\n",
       "  background-color: #b40426;\n",
       "  color: #f1f1f1;\n",
       "}\n",
       "</style>\n",
       "<table id=\"T_eb8c2\">\n",
       "  <thead>\n",
       "    <tr>\n",
       "      <th class=\"blank level0\" >&nbsp;</th>\n",
       "      <th id=\"T_eb8c2_level0_col0\" class=\"col_heading level0 col0\" >0</th>\n",
       "    </tr>\n",
       "  </thead>\n",
       "  <tbody>\n",
       "    <tr>\n",
       "      <th id=\"T_eb8c2_level0_row0\" class=\"row_heading level0 row0\" >price</th>\n",
       "      <td id=\"T_eb8c2_row0_col0\" class=\"data row0 col0\" >3.000000</td>\n",
       "    </tr>\n",
       "    <tr>\n",
       "      <th id=\"T_eb8c2_level0_row1\" class=\"row_heading level0 row1\" >vehicle_type</th>\n",
       "      <td id=\"T_eb8c2_row1_col0\" class=\"data row1 col0\" >10.000000</td>\n",
       "    </tr>\n",
       "    <tr>\n",
       "      <th id=\"T_eb8c2_level0_row2\" class=\"row_heading level0 row2\" >registration_year</th>\n",
       "      <td id=\"T_eb8c2_row2_col0\" class=\"data row2 col0\" >0.000000</td>\n",
       "    </tr>\n",
       "    <tr>\n",
       "      <th id=\"T_eb8c2_level0_row3\" class=\"row_heading level0 row3\" >gearbox</th>\n",
       "      <td id=\"T_eb8c2_row3_col0\" class=\"data row3 col0\" >5.000000</td>\n",
       "    </tr>\n",
       "    <tr>\n",
       "      <th id=\"T_eb8c2_level0_row4\" class=\"row_heading level0 row4\" >power</th>\n",
       "      <td id=\"T_eb8c2_row4_col0\" class=\"data row4 col0\" >11.000000</td>\n",
       "    </tr>\n",
       "    <tr>\n",
       "      <th id=\"T_eb8c2_level0_row5\" class=\"row_heading level0 row5\" >kilometer</th>\n",
       "      <td id=\"T_eb8c2_row5_col0\" class=\"data row5 col0\" >0.000000</td>\n",
       "    </tr>\n",
       "    <tr>\n",
       "      <th id=\"T_eb8c2_level0_row6\" class=\"row_heading level0 row6\" >fuel_type</th>\n",
       "      <td id=\"T_eb8c2_row6_col0\" class=\"data row6 col0\" >9.000000</td>\n",
       "    </tr>\n",
       "    <tr>\n",
       "      <th id=\"T_eb8c2_level0_row7\" class=\"row_heading level0 row7\" >brand</th>\n",
       "      <td id=\"T_eb8c2_row7_col0\" class=\"data row7 col0\" >0.000000</td>\n",
       "    </tr>\n",
       "    <tr>\n",
       "      <th id=\"T_eb8c2_level0_row8\" class=\"row_heading level0 row8\" >repaired</th>\n",
       "      <td id=\"T_eb8c2_row8_col0\" class=\"data row8 col0\" >20.000000</td>\n",
       "    </tr>\n",
       "  </tbody>\n",
       "</table>\n"
      ],
      "text/plain": [
       "<pandas.io.formats.style.Styler at 0x1f60e758cd0>"
      ]
     },
     "execution_count": 31,
     "metadata": {},
     "output_type": "execute_result"
    }
   ],
   "source": [
    "#проверим\n",
    "pd.DataFrame(round(new_data.isna().mean()*100)).style.background_gradient('coolwarm')"
   ]
  },
  {
   "cell_type": "code",
   "execution_count": 33,
   "metadata": {},
   "outputs": [
    {
     "data": {
      "image/png": "[encoded data removed]",
      "text/plain": [
       "<Figure size 1600x600 with 2 Axes>"
      ]
     },
     "metadata": {},
     "output_type": "display_data"
    }
   ],
   "source": [
    "#построим тепловой график корреляции столбцов \n",
    "plt.figure(figsize=(16, 6)) \n",
    "mask = np.triu(np.ones_like(new_data.corr(numeric_only=True), dtype=bool)) \n",
    "heatmap = sns.heatmap(new_data.corr(numeric_only=True), mask=mask, vmin=-1, vmax=1, annot=True, cmap='BrBG') \n",
    "heatmap.set_title('тепловой график корреляции');"
   ]
  },
  {
   "cell_type": "markdown",
   "metadata": {},
   "source": [
    "неожиданно, на цены автомобиля у нас прослеживается прямая зависимость с годом регистрации и мощностью автомобиля..."
   ]
  },
  {
   "cell_type": "code",
   "execution_count": 33,
   "metadata": {},
   "outputs": [
    {
     "data": {
      "image/png": "[encoded data removed]",
      "text/plain": [
       "<Figure size 800x500 with 1 Axes>"
      ]
     },
     "metadata": {},
     "output_type": "display_data"
    }
   ],
   "source": [
    "sns.set(style=\"darkgrid\")\n",
    "sns.boxplot(y=new_data['price'], color='skyblue')\n",
    "plt.title('Диаграмма размаха')\n",
    "plt.ylabel('цена')\n",
    "\n",
    "plt.show()"
   ]
  },
  {
   "cell_type": "code",
   "execution_count": 34,
   "metadata": {},
   "outputs": [
    {
     "data": {
      "text/plain": [
       "price\n",
       "1.0        1156\n",
       "2.0          11\n",
       "3.0           8\n",
       "4.0           1\n",
       "5.0          26\n",
       "           ... \n",
       "19995.0      10\n",
       "19997.0       1\n",
       "19998.0       6\n",
       "19999.0     278\n",
       "20000.0     262\n",
       "Name: count, Length: 3730, dtype: int64"
      ]
     },
     "execution_count": 34,
     "metadata": {},
     "output_type": "execute_result"
    }
   ],
   "source": [
    "new_data['price'].value_counts().sort_index()"
   ]
  },
  {
   "cell_type": "code",
   "execution_count": 35,
   "metadata": {},
   "outputs": [
    {
     "data": {
      "text/plain": [
       "100.0"
      ]
     },
     "execution_count": 35,
     "metadata": {},
     "output_type": "execute_result"
    }
   ],
   "source": [
    "new_data['price'].quantile(0.01)"
   ]
  },
  {
   "cell_type": "markdown",
   "metadata": {},
   "source": [
    "Мы оставили данные с 1960 по 2020 год. В стобце `price` мы видим низкие значения 1-100 евро. Единичный квантиль в столбце `price` равно 100. Предлагаю удалить все что ниже этой цены"
   ]
  },
  {
   "cell_type": "code",
   "execution_count": 36,
   "metadata": {},
   "outputs": [],
   "source": [
    "new_data = new_data.query('price >= 100')"
   ]
  },
  {
   "cell_type": "code",
   "execution_count": 37,
   "metadata": {},
   "outputs": [
    {
     "data": {
      "text/plain": [
       "(340559, 9)"
      ]
     },
     "execution_count": 37,
     "metadata": {},
     "output_type": "execute_result"
    }
   ],
   "source": [
    "new_data.shape"
   ]
  },
  {
   "cell_type": "code",
   "execution_count": 38,
   "metadata": {},
   "outputs": [
    {
     "data": {
      "text/html": [
       "<style type=\"text/css\">\n",
       "#T_4ed5a_row0_col0, #T_4ed5a_row2_col0, #T_4ed5a_row5_col0, #T_4ed5a_row7_col0 {\n",
       "  background-color: #3b4cc0;\n",
       "  color: #f1f1f1;\n",
       "}\n",
       "#T_4ed5a_row1_col0, #T_4ed5a_row4_col0 {\n",
       "  background-color: #e3d9d3;\n",
       "  color: #000000;\n",
       "}\n",
       "#T_4ed5a_row3_col0 {\n",
       "  background-color: #92b4fe;\n",
       "  color: #000000;\n",
       "}\n",
       "#T_4ed5a_row6_col0 {\n",
       "  background-color: #c6d6f1;\n",
       "  color: #000000;\n",
       "}\n",
       "#T_4ed5a_row8_col0 {\n",
       "  background-color: #b40426;\n",
       "  color: #f1f1f1;\n",
       "}\n",
       "</style>\n",
       "<table id=\"T_4ed5a\">\n",
       "  <thead>\n",
       "    <tr>\n",
       "      <th class=\"blank level0\" >&nbsp;</th>\n",
       "      <th id=\"T_4ed5a_level0_col0\" class=\"col_heading level0 col0\" >0</th>\n",
       "    </tr>\n",
       "  </thead>\n",
       "  <tbody>\n",
       "    <tr>\n",
       "      <th id=\"T_4ed5a_level0_row0\" class=\"row_heading level0 row0\" >price</th>\n",
       "      <td id=\"T_4ed5a_row0_col0\" class=\"data row0 col0\" >0.000000</td>\n",
       "    </tr>\n",
       "    <tr>\n",
       "      <th id=\"T_4ed5a_level0_row1\" class=\"row_heading level0 row1\" >vehicle_type</th>\n",
       "      <td id=\"T_4ed5a_row1_col0\" class=\"data row1 col0\" >10.000000</td>\n",
       "    </tr>\n",
       "    <tr>\n",
       "      <th id=\"T_4ed5a_level0_row2\" class=\"row_heading level0 row2\" >registration_year</th>\n",
       "      <td id=\"T_4ed5a_row2_col0\" class=\"data row2 col0\" >0.000000</td>\n",
       "    </tr>\n",
       "    <tr>\n",
       "      <th id=\"T_4ed5a_level0_row3\" class=\"row_heading level0 row3\" >gearbox</th>\n",
       "      <td id=\"T_4ed5a_row3_col0\" class=\"data row3 col0\" >5.000000</td>\n",
       "    </tr>\n",
       "    <tr>\n",
       "      <th id=\"T_4ed5a_level0_row4\" class=\"row_heading level0 row4\" >power</th>\n",
       "      <td id=\"T_4ed5a_row4_col0\" class=\"data row4 col0\" >10.000000</td>\n",
       "    </tr>\n",
       "    <tr>\n",
       "      <th id=\"T_4ed5a_level0_row5\" class=\"row_heading level0 row5\" >kilometer</th>\n",
       "      <td id=\"T_4ed5a_row5_col0\" class=\"data row5 col0\" >0.000000</td>\n",
       "    </tr>\n",
       "    <tr>\n",
       "      <th id=\"T_4ed5a_level0_row6\" class=\"row_heading level0 row6\" >fuel_type</th>\n",
       "      <td id=\"T_4ed5a_row6_col0\" class=\"data row6 col0\" >8.000000</td>\n",
       "    </tr>\n",
       "    <tr>\n",
       "      <th id=\"T_4ed5a_level0_row7\" class=\"row_heading level0 row7\" >brand</th>\n",
       "      <td id=\"T_4ed5a_row7_col0\" class=\"data row7 col0\" >0.000000</td>\n",
       "    </tr>\n",
       "    <tr>\n",
       "      <th id=\"T_4ed5a_level0_row8\" class=\"row_heading level0 row8\" >repaired</th>\n",
       "      <td id=\"T_4ed5a_row8_col0\" class=\"data row8 col0\" >19.000000</td>\n",
       "    </tr>\n",
       "  </tbody>\n",
       "</table>\n"
      ],
      "text/plain": [
       "<pandas.io.formats.style.Styler at 0x23fdc8c2950>"
      ]
     },
     "execution_count": 38,
     "metadata": {},
     "output_type": "execute_result"
    }
   ],
   "source": [
    "#проверим пропуски\n",
    "pd.DataFrame(round(new_data.isna().mean()*100)).style.background_gradient('coolwarm')"
   ]
  },
  {
   "cell_type": "code",
   "execution_count": 39,
   "metadata": {},
   "outputs": [
    {
     "data": {
      "image/png": "[encoded data removed]",
      "text/plain": [
       "<Figure size 800x500 with 1 Axes>"
      ]
     },
     "metadata": {},
     "output_type": "display_data"
    }
   ],
   "source": [
    "sns.set(style=\"darkgrid\")\n",
    "sns.boxplot(y=new_data['power'], color='skyblue')\n",
    "plt.title('Диаграмма размаха')\n",
    "plt.ylabel('мощность, л.с.')\n",
    "\n",
    "plt.show()"
   ]
  },
  {
   "cell_type": "markdown",
   "metadata": {},
   "source": [
    "Самый мощный на сегодняшний день легковой автомобиль способен выдать запредельные 4515 л.с.. Посмотрим сколько значений выше этого порога, а потом безжалостно удалим этих обманщиков. "
   ]
  },
  {
   "cell_type": "code",
   "execution_count": 40,
   "metadata": {},
   "outputs": [
    {
     "data": {
      "text/html": [
       "<div>\n",
       "<style scoped>\n",
       "    .dataframe tbody tr th:only-of-type {\n",
       "        vertical-align: middle;\n",
       "    }\n",
       "\n",
       "    .dataframe tbody tr th {\n",
       "        vertical-align: top;\n",
       "    }\n",
       "\n",
       "    .dataframe thead th {\n",
       "        text-align: right;\n",
       "    }\n",
       "</style>\n",
       "<table border=\"1\" class=\"dataframe\">\n",
       "  <thead>\n",
       "    <tr style=\"text-align: right;\">\n",
       "      <th></th>\n",
       "      <th>price</th>\n",
       "      <th>vehicle_type</th>\n",
       "      <th>registration_year</th>\n",
       "      <th>gearbox</th>\n",
       "      <th>power</th>\n",
       "      <th>kilometer</th>\n",
       "      <th>fuel_type</th>\n",
       "      <th>brand</th>\n",
       "      <th>repaired</th>\n",
       "    </tr>\n",
       "  </thead>\n",
       "  <tbody>\n",
       "    <tr>\n",
       "      <th>7661</th>\n",
       "      <td>1499.0</td>\n",
       "      <td>small</td>\n",
       "      <td>1999</td>\n",
       "      <td>manual</td>\n",
       "      <td>7515.0</td>\n",
       "      <td>150000</td>\n",
       "      <td>petrol</td>\n",
       "      <td>volkswagen</td>\n",
       "      <td>NaN</td>\n",
       "    </tr>\n",
       "    <tr>\n",
       "      <th>25232</th>\n",
       "      <td>10900.0</td>\n",
       "      <td>bus</td>\n",
       "      <td>2009</td>\n",
       "      <td>manual</td>\n",
       "      <td>10520.0</td>\n",
       "      <td>150000</td>\n",
       "      <td>gasoline</td>\n",
       "      <td>volkswagen</td>\n",
       "      <td>no</td>\n",
       "    </tr>\n",
       "    <tr>\n",
       "      <th>33952</th>\n",
       "      <td>3740.0</td>\n",
       "      <td>small</td>\n",
       "      <td>2006</td>\n",
       "      <td>manual</td>\n",
       "      <td>6920.0</td>\n",
       "      <td>90000</td>\n",
       "      <td>NaN</td>\n",
       "      <td>toyota</td>\n",
       "      <td>no</td>\n",
       "    </tr>\n",
       "    <tr>\n",
       "      <th>44520</th>\n",
       "      <td>2500.0</td>\n",
       "      <td>convertible</td>\n",
       "      <td>1998</td>\n",
       "      <td>manual</td>\n",
       "      <td>7512.0</td>\n",
       "      <td>150000</td>\n",
       "      <td>NaN</td>\n",
       "      <td>volkswagen</td>\n",
       "      <td>NaN</td>\n",
       "    </tr>\n",
       "    <tr>\n",
       "      <th>45053</th>\n",
       "      <td>15800.0</td>\n",
       "      <td>convertible</td>\n",
       "      <td>2014</td>\n",
       "      <td>auto</td>\n",
       "      <td>10218.0</td>\n",
       "      <td>30000</td>\n",
       "      <td>petrol</td>\n",
       "      <td>smart</td>\n",
       "      <td>NaN</td>\n",
       "    </tr>\n",
       "    <tr>\n",
       "      <th>...</th>\n",
       "      <td>...</td>\n",
       "      <td>...</td>\n",
       "      <td>...</td>\n",
       "      <td>...</td>\n",
       "      <td>...</td>\n",
       "      <td>...</td>\n",
       "      <td>...</td>\n",
       "      <td>...</td>\n",
       "      <td>...</td>\n",
       "    </tr>\n",
       "    <tr>\n",
       "      <th>339642</th>\n",
       "      <td>600.0</td>\n",
       "      <td>sedan</td>\n",
       "      <td>2000</td>\n",
       "      <td>manual</td>\n",
       "      <td>10110.0</td>\n",
       "      <td>125000</td>\n",
       "      <td>petrol</td>\n",
       "      <td>ford</td>\n",
       "      <td>NaN</td>\n",
       "    </tr>\n",
       "    <tr>\n",
       "      <th>341066</th>\n",
       "      <td>449.0</td>\n",
       "      <td>NaN</td>\n",
       "      <td>2016</td>\n",
       "      <td>manual</td>\n",
       "      <td>4507.0</td>\n",
       "      <td>150000</td>\n",
       "      <td>petrol</td>\n",
       "      <td>opel</td>\n",
       "      <td>no</td>\n",
       "    </tr>\n",
       "    <tr>\n",
       "      <th>341320</th>\n",
       "      <td>1899.0</td>\n",
       "      <td>other</td>\n",
       "      <td>2006</td>\n",
       "      <td>manual</td>\n",
       "      <td>7518.0</td>\n",
       "      <td>125000</td>\n",
       "      <td>petrol</td>\n",
       "      <td>citroen</td>\n",
       "      <td>yes</td>\n",
       "    </tr>\n",
       "    <tr>\n",
       "      <th>346639</th>\n",
       "      <td>1300.0</td>\n",
       "      <td>sedan</td>\n",
       "      <td>2000</td>\n",
       "      <td>manual</td>\n",
       "      <td>12512.0</td>\n",
       "      <td>150000</td>\n",
       "      <td>petrol</td>\n",
       "      <td>mitsubishi</td>\n",
       "      <td>NaN</td>\n",
       "    </tr>\n",
       "    <tr>\n",
       "      <th>348137</th>\n",
       "      <td>850.0</td>\n",
       "      <td>sedan</td>\n",
       "      <td>1993</td>\n",
       "      <td>auto</td>\n",
       "      <td>9012.0</td>\n",
       "      <td>150000</td>\n",
       "      <td>petrol</td>\n",
       "      <td>volkswagen</td>\n",
       "      <td>NaN</td>\n",
       "    </tr>\n",
       "  </tbody>\n",
       "</table>\n",
       "<p>81 rows × 9 columns</p>\n",
       "</div>"
      ],
      "text/plain": [
       "          price vehicle_type  registration_year gearbox    power  kilometer  \\\n",
       "7661     1499.0        small               1999  manual   7515.0     150000   \n",
       "25232   10900.0          bus               2009  manual  10520.0     150000   \n",
       "33952    3740.0        small               2006  manual   6920.0      90000   \n",
       "44520    2500.0  convertible               1998  manual   7512.0     150000   \n",
       "45053   15800.0  convertible               2014    auto  10218.0      30000   \n",
       "...         ...          ...                ...     ...      ...        ...   \n",
       "339642    600.0        sedan               2000  manual  10110.0     125000   \n",
       "341066    449.0          NaN               2016  manual   4507.0     150000   \n",
       "341320   1899.0        other               2006  manual   7518.0     125000   \n",
       "346639   1300.0        sedan               2000  manual  12512.0     150000   \n",
       "348137    850.0        sedan               1993    auto   9012.0     150000   \n",
       "\n",
       "       fuel_type       brand repaired  \n",
       "7661      petrol  volkswagen      NaN  \n",
       "25232   gasoline  volkswagen       no  \n",
       "33952        NaN      toyota       no  \n",
       "44520        NaN  volkswagen      NaN  \n",
       "45053     petrol       smart      NaN  \n",
       "...          ...         ...      ...  \n",
       "339642    petrol        ford      NaN  \n",
       "341066    petrol        opel       no  \n",
       "341320    petrol     citroen      yes  \n",
       "346639    petrol  mitsubishi      NaN  \n",
       "348137    petrol  volkswagen      NaN  \n",
       "\n",
       "[81 rows x 9 columns]"
      ]
     },
     "execution_count": 40,
     "metadata": {},
     "output_type": "execute_result"
    }
   ],
   "source": [
    "new_data.query('power >= 4500')"
   ]
  },
  {
   "cell_type": "markdown",
   "metadata": {},
   "source": [
    "Славно. их не так много, значит будет не так грустно с ними прощаться"
   ]
  },
  {
   "cell_type": "code",
   "execution_count": 41,
   "metadata": {},
   "outputs": [],
   "source": [
    "new_data = new_data.query('power <= 4500')"
   ]
  },
  {
   "cell_type": "code",
   "execution_count": 42,
   "metadata": {},
   "outputs": [
    {
     "data": {
      "text/plain": [
       "(305673, 9)"
      ]
     },
     "execution_count": 42,
     "metadata": {},
     "output_type": "execute_result"
    }
   ],
   "source": [
    "new_data.shape"
   ]
  },
  {
   "cell_type": "code",
   "execution_count": 43,
   "metadata": {},
   "outputs": [],
   "source": [
    "#Заполним пропуски в столбце power методом KNNImputer из библиотеки sklearn\n",
    "knn = KNNImputer()\n",
    "power = knn.fit_transform(new_data[['power']])\n",
    "new_data['power'] = power"
   ]
  },
  {
   "cell_type": "code",
   "execution_count": 44,
   "metadata": {},
   "outputs": [
    {
     "data": {
      "text/html": [
       "<style type=\"text/css\">\n",
       "#T_e445b_row0_col0, #T_e445b_row2_col0, #T_e445b_row4_col0, #T_e445b_row5_col0, #T_e445b_row7_col0 {\n",
       "  background-color: #3b4cc0;\n",
       "  color: #f1f1f1;\n",
       "}\n",
       "#T_e445b_row1_col0 {\n",
       "  background-color: #d4dbe6;\n",
       "  color: #000000;\n",
       "}\n",
       "#T_e445b_row3_col0 {\n",
       "  background-color: #6485ec;\n",
       "  color: #f1f1f1;\n",
       "}\n",
       "#T_e445b_row6_col0 {\n",
       "  background-color: #c0d4f5;\n",
       "  color: #000000;\n",
       "}\n",
       "#T_e445b_row8_col0 {\n",
       "  background-color: #b40426;\n",
       "  color: #f1f1f1;\n",
       "}\n",
       "</style>\n",
       "<table id=\"T_e445b\">\n",
       "  <thead>\n",
       "    <tr>\n",
       "      <th class=\"blank level0\" >&nbsp;</th>\n",
       "      <th id=\"T_e445b_level0_col0\" class=\"col_heading level0 col0\" >0</th>\n",
       "    </tr>\n",
       "  </thead>\n",
       "  <tbody>\n",
       "    <tr>\n",
       "      <th id=\"T_e445b_level0_row0\" class=\"row_heading level0 row0\" >price</th>\n",
       "      <td id=\"T_e445b_row0_col0\" class=\"data row0 col0\" >0.000000</td>\n",
       "    </tr>\n",
       "    <tr>\n",
       "      <th id=\"T_e445b_level0_row1\" class=\"row_heading level0 row1\" >vehicle_type</th>\n",
       "      <td id=\"T_e445b_row1_col0\" class=\"data row1 col0\" >7.000000</td>\n",
       "    </tr>\n",
       "    <tr>\n",
       "      <th id=\"T_e445b_level0_row2\" class=\"row_heading level0 row2\" >registration_year</th>\n",
       "      <td id=\"T_e445b_row2_col0\" class=\"data row2 col0\" >0.000000</td>\n",
       "    </tr>\n",
       "    <tr>\n",
       "      <th id=\"T_e445b_level0_row3\" class=\"row_heading level0 row3\" >gearbox</th>\n",
       "      <td id=\"T_e445b_row3_col0\" class=\"data row3 col0\" >2.000000</td>\n",
       "    </tr>\n",
       "    <tr>\n",
       "      <th id=\"T_e445b_level0_row4\" class=\"row_heading level0 row4\" >power</th>\n",
       "      <td id=\"T_e445b_row4_col0\" class=\"data row4 col0\" >0.000000</td>\n",
       "    </tr>\n",
       "    <tr>\n",
       "      <th id=\"T_e445b_level0_row5\" class=\"row_heading level0 row5\" >kilometer</th>\n",
       "      <td id=\"T_e445b_row5_col0\" class=\"data row5 col0\" >0.000000</td>\n",
       "    </tr>\n",
       "    <tr>\n",
       "      <th id=\"T_e445b_level0_row6\" class=\"row_heading level0 row6\" >fuel_type</th>\n",
       "      <td id=\"T_e445b_row6_col0\" class=\"data row6 col0\" >6.000000</td>\n",
       "    </tr>\n",
       "    <tr>\n",
       "      <th id=\"T_e445b_level0_row7\" class=\"row_heading level0 row7\" >brand</th>\n",
       "      <td id=\"T_e445b_row7_col0\" class=\"data row7 col0\" >0.000000</td>\n",
       "    </tr>\n",
       "    <tr>\n",
       "      <th id=\"T_e445b_level0_row8\" class=\"row_heading level0 row8\" >repaired</th>\n",
       "      <td id=\"T_e445b_row8_col0\" class=\"data row8 col0\" >15.000000</td>\n",
       "    </tr>\n",
       "  </tbody>\n",
       "</table>\n"
      ],
      "text/plain": [
       "<pandas.io.formats.style.Styler at 0x23f888102d0>"
      ]
     },
     "execution_count": 44,
     "metadata": {},
     "output_type": "execute_result"
    }
   ],
   "source": [
    "#проверим пропуски\n",
    "pd.DataFrame(round(new_data.isna().mean()*100)).style.background_gradient('coolwarm')"
   ]
  },
  {
   "cell_type": "code",
   "execution_count": 45,
   "metadata": {},
   "outputs": [
    {
     "data": {
      "image/png": "[encoded data removed]",
      "text/plain": [
       "<Figure size 800x500 with 1 Axes>"
      ]
     },
     "metadata": {},
     "output_type": "display_data"
    }
   ],
   "source": [
    "sns.set(style=\"darkgrid\")\n",
    "sns.boxplot(y=new_data['power'], color='skyblue')\n",
    "plt.title('Диаграмма размаха')\n",
    "plt.ylabel('мощность, л.с.')\n",
    "\n",
    "plt.show()"
   ]
  },
  {
   "cell_type": "code",
   "execution_count": 46,
   "metadata": {},
   "outputs": [
    {
     "name": "stdout",
     "output_type": "stream",
     "text": [
      "<class 'pandas.core.frame.DataFrame'>\n",
      "Index: 305673 entries, 1 to 354368\n",
      "Data columns (total 9 columns):\n",
      " #   Column             Non-Null Count   Dtype  \n",
      "---  ------             --------------   -----  \n",
      " 0   price              305673 non-null  float64\n",
      " 1   vehicle_type       284610 non-null  object \n",
      " 2   registration_year  305673 non-null  int64  \n",
      " 3   gearbox            299729 non-null  object \n",
      " 4   power              305673 non-null  float64\n",
      " 5   kilometer          305673 non-null  int64  \n",
      " 6   fuel_type          286164 non-null  object \n",
      " 7   brand              305673 non-null  object \n",
      " 8   repaired           259062 non-null  object \n",
      "dtypes: float64(2), int64(2), object(5)\n",
      "memory usage: 23.3+ MB\n"
     ]
    }
   ],
   "source": [
    "new_data.info()"
   ]
  },
  {
   "cell_type": "markdown",
   "metadata": {},
   "source": [
    "В столбцах `vehicle_type`, `gearbox`, `fuel_type`, `repaired` пропуски заполним заглушкой `unknown`. Есть наитие, что это самый лучший вариант"
   ]
  },
  {
   "cell_type": "code",
   "execution_count": 47,
   "metadata": {},
   "outputs": [
    {
     "data": {
      "text/html": [
       "<style type=\"text/css\">\n",
       "#T_599e3_row0_col0, #T_599e3_row2_col0, #T_599e3_row4_col0, #T_599e3_row5_col0, #T_599e3_row7_col0 {\n",
       "  background-color: #3b4cc0;\n",
       "  color: #f1f1f1;\n",
       "}\n",
       "#T_599e3_row1_col0 {\n",
       "  background-color: #d4dbe6;\n",
       "  color: #000000;\n",
       "}\n",
       "#T_599e3_row3_col0 {\n",
       "  background-color: #6485ec;\n",
       "  color: #f1f1f1;\n",
       "}\n",
       "#T_599e3_row6_col0 {\n",
       "  background-color: #c0d4f5;\n",
       "  color: #000000;\n",
       "}\n",
       "#T_599e3_row8_col0 {\n",
       "  background-color: #b40426;\n",
       "  color: #f1f1f1;\n",
       "}\n",
       "</style>\n",
       "<table id=\"T_599e3\">\n",
       "  <thead>\n",
       "    <tr>\n",
       "      <th class=\"blank level0\" >&nbsp;</th>\n",
       "      <th id=\"T_599e3_level0_col0\" class=\"col_heading level0 col0\" >0</th>\n",
       "    </tr>\n",
       "  </thead>\n",
       "  <tbody>\n",
       "    <tr>\n",
       "      <th id=\"T_599e3_level0_row0\" class=\"row_heading level0 row0\" >price</th>\n",
       "      <td id=\"T_599e3_row0_col0\" class=\"data row0 col0\" >0.000000</td>\n",
       "    </tr>\n",
       "    <tr>\n",
       "      <th id=\"T_599e3_level0_row1\" class=\"row_heading level0 row1\" >vehicle_type</th>\n",
       "      <td id=\"T_599e3_row1_col0\" class=\"data row1 col0\" >7.000000</td>\n",
       "    </tr>\n",
       "    <tr>\n",
       "      <th id=\"T_599e3_level0_row2\" class=\"row_heading level0 row2\" >registration_year</th>\n",
       "      <td id=\"T_599e3_row2_col0\" class=\"data row2 col0\" >0.000000</td>\n",
       "    </tr>\n",
       "    <tr>\n",
       "      <th id=\"T_599e3_level0_row3\" class=\"row_heading level0 row3\" >gearbox</th>\n",
       "      <td id=\"T_599e3_row3_col0\" class=\"data row3 col0\" >2.000000</td>\n",
       "    </tr>\n",
       "    <tr>\n",
       "      <th id=\"T_599e3_level0_row4\" class=\"row_heading level0 row4\" >power</th>\n",
       "      <td id=\"T_599e3_row4_col0\" class=\"data row4 col0\" >0.000000</td>\n",
       "    </tr>\n",
       "    <tr>\n",
       "      <th id=\"T_599e3_level0_row5\" class=\"row_heading level0 row5\" >kilometer</th>\n",
       "      <td id=\"T_599e3_row5_col0\" class=\"data row5 col0\" >0.000000</td>\n",
       "    </tr>\n",
       "    <tr>\n",
       "      <th id=\"T_599e3_level0_row6\" class=\"row_heading level0 row6\" >fuel_type</th>\n",
       "      <td id=\"T_599e3_row6_col0\" class=\"data row6 col0\" >6.000000</td>\n",
       "    </tr>\n",
       "    <tr>\n",
       "      <th id=\"T_599e3_level0_row7\" class=\"row_heading level0 row7\" >brand</th>\n",
       "      <td id=\"T_599e3_row7_col0\" class=\"data row7 col0\" >0.000000</td>\n",
       "    </tr>\n",
       "    <tr>\n",
       "      <th id=\"T_599e3_level0_row8\" class=\"row_heading level0 row8\" >repaired</th>\n",
       "      <td id=\"T_599e3_row8_col0\" class=\"data row8 col0\" >15.000000</td>\n",
       "    </tr>\n",
       "  </tbody>\n",
       "</table>\n"
      ],
      "text/plain": [
       "<pandas.io.formats.style.Styler at 0x23f887ad490>"
      ]
     },
     "execution_count": 47,
     "metadata": {},
     "output_type": "execute_result"
    }
   ],
   "source": [
    "pd.DataFrame(round(new_data.isna().mean()*100)).style.background_gradient('coolwarm')"
   ]
  },
  {
   "cell_type": "code",
   "execution_count": 48,
   "metadata": {},
   "outputs": [],
   "source": [
    "new_data = new_data.fillna('unkmown')"
   ]
  },
  {
   "cell_type": "code",
   "execution_count": 49,
   "metadata": {},
   "outputs": [
    {
     "data": {
      "text/html": [
       "<style type=\"text/css\">\n",
       "#T_815ca_row0_col0, #T_815ca_row1_col0, #T_815ca_row2_col0, #T_815ca_row3_col0, #T_815ca_row4_col0, #T_815ca_row5_col0, #T_815ca_row6_col0, #T_815ca_row7_col0, #T_815ca_row8_col0 {\n",
       "  background-color: #3b4cc0;\n",
       "  color: #f1f1f1;\n",
       "}\n",
       "</style>\n",
       "<table id=\"T_815ca\">\n",
       "  <thead>\n",
       "    <tr>\n",
       "      <th class=\"blank level0\" >&nbsp;</th>\n",
       "      <th id=\"T_815ca_level0_col0\" class=\"col_heading level0 col0\" >0</th>\n",
       "    </tr>\n",
       "  </thead>\n",
       "  <tbody>\n",
       "    <tr>\n",
       "      <th id=\"T_815ca_level0_row0\" class=\"row_heading level0 row0\" >price</th>\n",
       "      <td id=\"T_815ca_row0_col0\" class=\"data row0 col0\" >0.000000</td>\n",
       "    </tr>\n",
       "    <tr>\n",
       "      <th id=\"T_815ca_level0_row1\" class=\"row_heading level0 row1\" >vehicle_type</th>\n",
       "      <td id=\"T_815ca_row1_col0\" class=\"data row1 col0\" >0.000000</td>\n",
       "    </tr>\n",
       "    <tr>\n",
       "      <th id=\"T_815ca_level0_row2\" class=\"row_heading level0 row2\" >registration_year</th>\n",
       "      <td id=\"T_815ca_row2_col0\" class=\"data row2 col0\" >0.000000</td>\n",
       "    </tr>\n",
       "    <tr>\n",
       "      <th id=\"T_815ca_level0_row3\" class=\"row_heading level0 row3\" >gearbox</th>\n",
       "      <td id=\"T_815ca_row3_col0\" class=\"data row3 col0\" >0.000000</td>\n",
       "    </tr>\n",
       "    <tr>\n",
       "      <th id=\"T_815ca_level0_row4\" class=\"row_heading level0 row4\" >power</th>\n",
       "      <td id=\"T_815ca_row4_col0\" class=\"data row4 col0\" >0.000000</td>\n",
       "    </tr>\n",
       "    <tr>\n",
       "      <th id=\"T_815ca_level0_row5\" class=\"row_heading level0 row5\" >kilometer</th>\n",
       "      <td id=\"T_815ca_row5_col0\" class=\"data row5 col0\" >0.000000</td>\n",
       "    </tr>\n",
       "    <tr>\n",
       "      <th id=\"T_815ca_level0_row6\" class=\"row_heading level0 row6\" >fuel_type</th>\n",
       "      <td id=\"T_815ca_row6_col0\" class=\"data row6 col0\" >0.000000</td>\n",
       "    </tr>\n",
       "    <tr>\n",
       "      <th id=\"T_815ca_level0_row7\" class=\"row_heading level0 row7\" >brand</th>\n",
       "      <td id=\"T_815ca_row7_col0\" class=\"data row7 col0\" >0.000000</td>\n",
       "    </tr>\n",
       "    <tr>\n",
       "      <th id=\"T_815ca_level0_row8\" class=\"row_heading level0 row8\" >repaired</th>\n",
       "      <td id=\"T_815ca_row8_col0\" class=\"data row8 col0\" >0.000000</td>\n",
       "    </tr>\n",
       "  </tbody>\n",
       "</table>\n"
      ],
      "text/plain": [
       "<pandas.io.formats.style.Styler at 0x23fdec967d0>"
      ]
     },
     "execution_count": 49,
     "metadata": {},
     "output_type": "execute_result"
    }
   ],
   "source": [
    "#проверим пропуски\n",
    "pd.DataFrame(round(new_data.isna().mean()*100)).style.background_gradient('coolwarm')"
   ]
  },
  {
   "cell_type": "code",
   "execution_count": 50,
   "metadata": {},
   "outputs": [
    {
     "data": {
      "text/plain": [
       "(305673, 9)"
      ]
     },
     "execution_count": 50,
     "metadata": {},
     "output_type": "execute_result"
    }
   ],
   "source": [
    "new_data.shape"
   ]
  },
  {
   "cell_type": "markdown",
   "metadata": {},
   "source": [
    "**как красиво!**\n",
    "\n",
    "вывод:\n",
    "Из таблицы с размером (354369, 16) мы получили таблицу (305673, 9).\n",
    "- удалили столбцы: `number_of_pictures`, `postal_code`, `date_crawled`, `date_created`, `last_seen`, `model`, `registration_month`;\n",
    "- оставили автомобили выпуска с 1960 по 2020 года;\n",
    "- в столбцах `price`,`power` заменили нули на nan и обработали как пропуски;\n",
    "- вычислили единичный квантиль в толбце `price`. а все что ниже этой суммы удалили, чтобы избавиться от шумов;\n",
    "- удалили значения выше 4500 в столбце `power`;\n",
    "- В столбцах `vehicle_type`, `gearbox`, `fuel_type`, `repaired` пропуски заполним заглушкой `unknown`"
   ]
  },
  {
   "cell_type": "markdown",
   "metadata": {},
   "source": [
    "## Обучение моделей"
   ]
  },
  {
   "cell_type": "code",
   "execution_count": 51,
   "metadata": {},
   "outputs": [
    {
     "name": "stdout",
     "output_type": "stream",
     "text": [
      "(183403, 8)\n",
      "(61135, 8)\n",
      "(61135, 8)\n"
     ]
    }
   ],
   "source": [
    "#разделим выборки на тренировочную, ввлидационную и тестовую в соотношении 6:2:2\n",
    "features = new_data.drop(['price'], axis=1)\n",
    "target = new_data['price']\n",
    "\n",
    "features_train, features_valid_test, target_train, target_valid_test = train_test_split(\n",
    "    features, target, test_size=0.4, random_state=12345\n",
    ")\n",
    "\n",
    "features_test, features_valid, target_test, target_valid = train_test_split(\n",
    "    features_valid_test, target_valid_test, test_size=0.5, random_state=12345\n",
    ")\n",
    "\n",
    "print(features_train.shape)\n",
    "print(features_valid.shape)\n",
    "print(features_test.shape)"
   ]
  },
  {
   "cell_type": "markdown",
   "metadata": {},
   "source": [
    "Напишем функцию oneHotEncode для кодирования наших выборок."
   ]
  },
  {
   "cell_type": "code",
   "execution_count": 52,
   "metadata": {},
   "outputs": [],
   "source": [
    "def oneHotEncode(df):\n",
    "    # инициализируем кодировщик\n",
    "    ohe = OneHotEncoder()\n",
    "\n",
    "    # получаем список незакодированных признаков\n",
    "    non_encoded_columns = [col for col in df.columns if df[col].dtype == 'object']\n",
    "\n",
    "    # кодируем незакодированные признаки\n",
    "    encoded_columns = ohe.fit_transform(df[non_encoded_columns]).toarray()\n",
    "\n",
    "    # сохраняем имена кодированных признаков\n",
    "    encoded_columns_names = ohe.get_feature_names(non_encoded_columns)\n",
    "\n",
    "    # сохраняем имена исходных незакодированных признаков\n",
    "    non_encoded_columns_names = df[non_encoded_columns].columns.values\n",
    "\n",
    "    # удаляем незакодированные признаки\n",
    "    df.drop(non_encoded_columns, axis=1, inplace=True)\n",
    "\n",
    "    # добавляем кодированные признаки\n",
    "    for col, name in zip(encoded_columns.T, encoded_columns_names):\n",
    "        df[name] = col\n",
    "\n",
    "    return df"
   ]
  },
  {
   "cell_type": "code",
   "execution_count": 53,
   "metadata": {},
   "outputs": [
    {
     "data": {
      "text/html": [
       "<div>\n",
       "<style scoped>\n",
       "    .dataframe tbody tr th:only-of-type {\n",
       "        vertical-align: middle;\n",
       "    }\n",
       "\n",
       "    .dataframe tbody tr th {\n",
       "        vertical-align: top;\n",
       "    }\n",
       "\n",
       "    .dataframe thead th {\n",
       "        text-align: right;\n",
       "    }\n",
       "</style>\n",
       "<table border=\"1\" class=\"dataframe\">\n",
       "  <thead>\n",
       "    <tr style=\"text-align: right;\">\n",
       "      <th></th>\n",
       "      <th>registration_year</th>\n",
       "      <th>power</th>\n",
       "      <th>kilometer</th>\n",
       "      <th>vehicle_type_bus</th>\n",
       "      <th>vehicle_type_convertible</th>\n",
       "      <th>vehicle_type_coupe</th>\n",
       "      <th>vehicle_type_other</th>\n",
       "      <th>vehicle_type_sedan</th>\n",
       "      <th>vehicle_type_small</th>\n",
       "      <th>vehicle_type_suv</th>\n",
       "      <th>...</th>\n",
       "      <th>brand_sonstige_autos</th>\n",
       "      <th>brand_subaru</th>\n",
       "      <th>brand_suzuki</th>\n",
       "      <th>brand_toyota</th>\n",
       "      <th>brand_trabant</th>\n",
       "      <th>brand_volkswagen</th>\n",
       "      <th>brand_volvo</th>\n",
       "      <th>repaired_no</th>\n",
       "      <th>repaired_unkmown</th>\n",
       "      <th>repaired_yes</th>\n",
       "    </tr>\n",
       "  </thead>\n",
       "  <tbody>\n",
       "    <tr>\n",
       "      <th>243574</th>\n",
       "      <td>2002</td>\n",
       "      <td>84.0</td>\n",
       "      <td>150000</td>\n",
       "      <td>0.0</td>\n",
       "      <td>0.0</td>\n",
       "      <td>0.0</td>\n",
       "      <td>0.0</td>\n",
       "      <td>1.0</td>\n",
       "      <td>0.0</td>\n",
       "      <td>0.0</td>\n",
       "      <td>...</td>\n",
       "      <td>0.0</td>\n",
       "      <td>0.0</td>\n",
       "      <td>0.0</td>\n",
       "      <td>0.0</td>\n",
       "      <td>0.0</td>\n",
       "      <td>0.0</td>\n",
       "      <td>0.0</td>\n",
       "      <td>1.0</td>\n",
       "      <td>0.0</td>\n",
       "      <td>0.0</td>\n",
       "    </tr>\n",
       "    <tr>\n",
       "      <th>126172</th>\n",
       "      <td>2008</td>\n",
       "      <td>224.0</td>\n",
       "      <td>150000</td>\n",
       "      <td>0.0</td>\n",
       "      <td>0.0</td>\n",
       "      <td>0.0</td>\n",
       "      <td>0.0</td>\n",
       "      <td>1.0</td>\n",
       "      <td>0.0</td>\n",
       "      <td>0.0</td>\n",
       "      <td>...</td>\n",
       "      <td>0.0</td>\n",
       "      <td>0.0</td>\n",
       "      <td>0.0</td>\n",
       "      <td>0.0</td>\n",
       "      <td>0.0</td>\n",
       "      <td>0.0</td>\n",
       "      <td>0.0</td>\n",
       "      <td>1.0</td>\n",
       "      <td>0.0</td>\n",
       "      <td>0.0</td>\n",
       "    </tr>\n",
       "    <tr>\n",
       "      <th>57784</th>\n",
       "      <td>2004</td>\n",
       "      <td>102.0</td>\n",
       "      <td>150000</td>\n",
       "      <td>0.0</td>\n",
       "      <td>0.0</td>\n",
       "      <td>0.0</td>\n",
       "      <td>0.0</td>\n",
       "      <td>0.0</td>\n",
       "      <td>0.0</td>\n",
       "      <td>0.0</td>\n",
       "      <td>...</td>\n",
       "      <td>0.0</td>\n",
       "      <td>0.0</td>\n",
       "      <td>0.0</td>\n",
       "      <td>0.0</td>\n",
       "      <td>0.0</td>\n",
       "      <td>1.0</td>\n",
       "      <td>0.0</td>\n",
       "      <td>1.0</td>\n",
       "      <td>0.0</td>\n",
       "      <td>0.0</td>\n",
       "    </tr>\n",
       "    <tr>\n",
       "      <th>340790</th>\n",
       "      <td>1998</td>\n",
       "      <td>90.0</td>\n",
       "      <td>150000</td>\n",
       "      <td>0.0</td>\n",
       "      <td>0.0</td>\n",
       "      <td>0.0</td>\n",
       "      <td>0.0</td>\n",
       "      <td>1.0</td>\n",
       "      <td>0.0</td>\n",
       "      <td>0.0</td>\n",
       "      <td>...</td>\n",
       "      <td>0.0</td>\n",
       "      <td>0.0</td>\n",
       "      <td>0.0</td>\n",
       "      <td>0.0</td>\n",
       "      <td>0.0</td>\n",
       "      <td>0.0</td>\n",
       "      <td>0.0</td>\n",
       "      <td>1.0</td>\n",
       "      <td>0.0</td>\n",
       "      <td>0.0</td>\n",
       "    </tr>\n",
       "    <tr>\n",
       "      <th>229766</th>\n",
       "      <td>2002</td>\n",
       "      <td>60.0</td>\n",
       "      <td>150000</td>\n",
       "      <td>0.0</td>\n",
       "      <td>0.0</td>\n",
       "      <td>0.0</td>\n",
       "      <td>0.0</td>\n",
       "      <td>0.0</td>\n",
       "      <td>1.0</td>\n",
       "      <td>0.0</td>\n",
       "      <td>...</td>\n",
       "      <td>0.0</td>\n",
       "      <td>0.0</td>\n",
       "      <td>0.0</td>\n",
       "      <td>0.0</td>\n",
       "      <td>0.0</td>\n",
       "      <td>0.0</td>\n",
       "      <td>0.0</td>\n",
       "      <td>0.0</td>\n",
       "      <td>1.0</td>\n",
       "      <td>0.0</td>\n",
       "    </tr>\n",
       "    <tr>\n",
       "      <th>...</th>\n",
       "      <td>...</td>\n",
       "      <td>...</td>\n",
       "      <td>...</td>\n",
       "      <td>...</td>\n",
       "      <td>...</td>\n",
       "      <td>...</td>\n",
       "      <td>...</td>\n",
       "      <td>...</td>\n",
       "      <td>...</td>\n",
       "      <td>...</td>\n",
       "      <td>...</td>\n",
       "      <td>...</td>\n",
       "      <td>...</td>\n",
       "      <td>...</td>\n",
       "      <td>...</td>\n",
       "      <td>...</td>\n",
       "      <td>...</td>\n",
       "      <td>...</td>\n",
       "      <td>...</td>\n",
       "      <td>...</td>\n",
       "      <td>...</td>\n",
       "    </tr>\n",
       "    <tr>\n",
       "      <th>184115</th>\n",
       "      <td>1998</td>\n",
       "      <td>75.0</td>\n",
       "      <td>150000</td>\n",
       "      <td>0.0</td>\n",
       "      <td>0.0</td>\n",
       "      <td>0.0</td>\n",
       "      <td>0.0</td>\n",
       "      <td>1.0</td>\n",
       "      <td>0.0</td>\n",
       "      <td>0.0</td>\n",
       "      <td>...</td>\n",
       "      <td>0.0</td>\n",
       "      <td>0.0</td>\n",
       "      <td>0.0</td>\n",
       "      <td>0.0</td>\n",
       "      <td>0.0</td>\n",
       "      <td>0.0</td>\n",
       "      <td>0.0</td>\n",
       "      <td>1.0</td>\n",
       "      <td>0.0</td>\n",
       "      <td>0.0</td>\n",
       "    </tr>\n",
       "    <tr>\n",
       "      <th>55635</th>\n",
       "      <td>2001</td>\n",
       "      <td>286.0</td>\n",
       "      <td>150000</td>\n",
       "      <td>0.0</td>\n",
       "      <td>0.0</td>\n",
       "      <td>0.0</td>\n",
       "      <td>0.0</td>\n",
       "      <td>1.0</td>\n",
       "      <td>0.0</td>\n",
       "      <td>0.0</td>\n",
       "      <td>...</td>\n",
       "      <td>0.0</td>\n",
       "      <td>0.0</td>\n",
       "      <td>0.0</td>\n",
       "      <td>0.0</td>\n",
       "      <td>0.0</td>\n",
       "      <td>0.0</td>\n",
       "      <td>0.0</td>\n",
       "      <td>1.0</td>\n",
       "      <td>0.0</td>\n",
       "      <td>0.0</td>\n",
       "    </tr>\n",
       "    <tr>\n",
       "      <th>100253</th>\n",
       "      <td>2011</td>\n",
       "      <td>69.0</td>\n",
       "      <td>20000</td>\n",
       "      <td>0.0</td>\n",
       "      <td>0.0</td>\n",
       "      <td>0.0</td>\n",
       "      <td>0.0</td>\n",
       "      <td>0.0</td>\n",
       "      <td>1.0</td>\n",
       "      <td>0.0</td>\n",
       "      <td>...</td>\n",
       "      <td>0.0</td>\n",
       "      <td>0.0</td>\n",
       "      <td>0.0</td>\n",
       "      <td>1.0</td>\n",
       "      <td>0.0</td>\n",
       "      <td>0.0</td>\n",
       "      <td>0.0</td>\n",
       "      <td>1.0</td>\n",
       "      <td>0.0</td>\n",
       "      <td>0.0</td>\n",
       "    </tr>\n",
       "    <tr>\n",
       "      <th>89742</th>\n",
       "      <td>1997</td>\n",
       "      <td>101.0</td>\n",
       "      <td>150000</td>\n",
       "      <td>0.0</td>\n",
       "      <td>0.0</td>\n",
       "      <td>0.0</td>\n",
       "      <td>0.0</td>\n",
       "      <td>0.0</td>\n",
       "      <td>0.0</td>\n",
       "      <td>0.0</td>\n",
       "      <td>...</td>\n",
       "      <td>0.0</td>\n",
       "      <td>0.0</td>\n",
       "      <td>0.0</td>\n",
       "      <td>0.0</td>\n",
       "      <td>0.0</td>\n",
       "      <td>0.0</td>\n",
       "      <td>0.0</td>\n",
       "      <td>0.0</td>\n",
       "      <td>0.0</td>\n",
       "      <td>1.0</td>\n",
       "    </tr>\n",
       "    <tr>\n",
       "      <th>252252</th>\n",
       "      <td>2012</td>\n",
       "      <td>105.0</td>\n",
       "      <td>50000</td>\n",
       "      <td>1.0</td>\n",
       "      <td>0.0</td>\n",
       "      <td>0.0</td>\n",
       "      <td>0.0</td>\n",
       "      <td>0.0</td>\n",
       "      <td>0.0</td>\n",
       "      <td>0.0</td>\n",
       "      <td>...</td>\n",
       "      <td>0.0</td>\n",
       "      <td>0.0</td>\n",
       "      <td>0.0</td>\n",
       "      <td>0.0</td>\n",
       "      <td>0.0</td>\n",
       "      <td>0.0</td>\n",
       "      <td>0.0</td>\n",
       "      <td>1.0</td>\n",
       "      <td>0.0</td>\n",
       "      <td>0.0</td>\n",
       "    </tr>\n",
       "  </tbody>\n",
       "</table>\n",
       "<p>183403 rows × 66 columns</p>\n",
       "</div>"
      ],
      "text/plain": [
       "        registration_year  power  kilometer  vehicle_type_bus  \\\n",
       "243574               2002   84.0     150000               0.0   \n",
       "126172               2008  224.0     150000               0.0   \n",
       "57784                2004  102.0     150000               0.0   \n",
       "340790               1998   90.0     150000               0.0   \n",
       "229766               2002   60.0     150000               0.0   \n",
       "...                   ...    ...        ...               ...   \n",
       "184115               1998   75.0     150000               0.0   \n",
       "55635                2001  286.0     150000               0.0   \n",
       "100253               2011   69.0      20000               0.0   \n",
       "89742                1997  101.0     150000               0.0   \n",
       "252252               2012  105.0      50000               1.0   \n",
       "\n",
       "        vehicle_type_convertible  vehicle_type_coupe  vehicle_type_other  \\\n",
       "243574                       0.0                 0.0                 0.0   \n",
       "126172                       0.0                 0.0                 0.0   \n",
       "57784                        0.0                 0.0                 0.0   \n",
       "340790                       0.0                 0.0                 0.0   \n",
       "229766                       0.0                 0.0                 0.0   \n",
       "...                          ...                 ...                 ...   \n",
       "184115                       0.0                 0.0                 0.0   \n",
       "55635                        0.0                 0.0                 0.0   \n",
       "100253                       0.0                 0.0                 0.0   \n",
       "89742                        0.0                 0.0                 0.0   \n",
       "252252                       0.0                 0.0                 0.0   \n",
       "\n",
       "        vehicle_type_sedan  vehicle_type_small  vehicle_type_suv  ...  \\\n",
       "243574                 1.0                 0.0               0.0  ...   \n",
       "126172                 1.0                 0.0               0.0  ...   \n",
       "57784                  0.0                 0.0               0.0  ...   \n",
       "340790                 1.0                 0.0               0.0  ...   \n",
       "229766                 0.0                 1.0               0.0  ...   \n",
       "...                    ...                 ...               ...  ...   \n",
       "184115                 1.0                 0.0               0.0  ...   \n",
       "55635                  1.0                 0.0               0.0  ...   \n",
       "100253                 0.0                 1.0               0.0  ...   \n",
       "89742                  0.0                 0.0               0.0  ...   \n",
       "252252                 0.0                 0.0               0.0  ...   \n",
       "\n",
       "        brand_sonstige_autos  brand_subaru  brand_suzuki  brand_toyota  \\\n",
       "243574                   0.0           0.0           0.0           0.0   \n",
       "126172                   0.0           0.0           0.0           0.0   \n",
       "57784                    0.0           0.0           0.0           0.0   \n",
       "340790                   0.0           0.0           0.0           0.0   \n",
       "229766                   0.0           0.0           0.0           0.0   \n",
       "...                      ...           ...           ...           ...   \n",
       "184115                   0.0           0.0           0.0           0.0   \n",
       "55635                    0.0           0.0           0.0           0.0   \n",
       "100253                   0.0           0.0           0.0           1.0   \n",
       "89742                    0.0           0.0           0.0           0.0   \n",
       "252252                   0.0           0.0           0.0           0.0   \n",
       "\n",
       "        brand_trabant  brand_volkswagen  brand_volvo  repaired_no  \\\n",
       "243574            0.0               0.0          0.0          1.0   \n",
       "126172            0.0               0.0          0.0          1.0   \n",
       "57784             0.0               1.0          0.0          1.0   \n",
       "340790            0.0               0.0          0.0          1.0   \n",
       "229766            0.0               0.0          0.0          0.0   \n",
       "...               ...               ...          ...          ...   \n",
       "184115            0.0               0.0          0.0          1.0   \n",
       "55635             0.0               0.0          0.0          1.0   \n",
       "100253            0.0               0.0          0.0          1.0   \n",
       "89742             0.0               0.0          0.0          0.0   \n",
       "252252            0.0               0.0          0.0          1.0   \n",
       "\n",
       "        repaired_unkmown  repaired_yes  \n",
       "243574               0.0           0.0  \n",
       "126172               0.0           0.0  \n",
       "57784                0.0           0.0  \n",
       "340790               0.0           0.0  \n",
       "229766               1.0           0.0  \n",
       "...                  ...           ...  \n",
       "184115               0.0           0.0  \n",
       "55635                0.0           0.0  \n",
       "100253               0.0           0.0  \n",
       "89742                0.0           1.0  \n",
       "252252               0.0           0.0  \n",
       "\n",
       "[183403 rows x 66 columns]"
      ]
     },
     "execution_count": 53,
     "metadata": {},
     "output_type": "execute_result"
    }
   ],
   "source": [
    "features_train_ohe = features_train.copy()\n",
    "oneHotEncode(features_train_ohe)"
   ]
  },
  {
   "cell_type": "code",
   "execution_count": 54,
   "metadata": {},
   "outputs": [
    {
     "data": {
      "text/html": [
       "<div>\n",
       "<style scoped>\n",
       "    .dataframe tbody tr th:only-of-type {\n",
       "        vertical-align: middle;\n",
       "    }\n",
       "\n",
       "    .dataframe tbody tr th {\n",
       "        vertical-align: top;\n",
       "    }\n",
       "\n",
       "    .dataframe thead th {\n",
       "        text-align: right;\n",
       "    }\n",
       "</style>\n",
       "<table border=\"1\" class=\"dataframe\">\n",
       "  <thead>\n",
       "    <tr style=\"text-align: right;\">\n",
       "      <th></th>\n",
       "      <th>registration_year</th>\n",
       "      <th>power</th>\n",
       "      <th>kilometer</th>\n",
       "      <th>vehicle_type_bus</th>\n",
       "      <th>vehicle_type_convertible</th>\n",
       "      <th>vehicle_type_coupe</th>\n",
       "      <th>vehicle_type_other</th>\n",
       "      <th>vehicle_type_sedan</th>\n",
       "      <th>vehicle_type_small</th>\n",
       "      <th>vehicle_type_suv</th>\n",
       "      <th>...</th>\n",
       "      <th>brand_sonstige_autos</th>\n",
       "      <th>brand_subaru</th>\n",
       "      <th>brand_suzuki</th>\n",
       "      <th>brand_toyota</th>\n",
       "      <th>brand_trabant</th>\n",
       "      <th>brand_volkswagen</th>\n",
       "      <th>brand_volvo</th>\n",
       "      <th>repaired_no</th>\n",
       "      <th>repaired_unkmown</th>\n",
       "      <th>repaired_yes</th>\n",
       "    </tr>\n",
       "  </thead>\n",
       "  <tbody>\n",
       "    <tr>\n",
       "      <th>222327</th>\n",
       "      <td>2003</td>\n",
       "      <td>136.0</td>\n",
       "      <td>90000</td>\n",
       "      <td>0.0</td>\n",
       "      <td>1.0</td>\n",
       "      <td>0.0</td>\n",
       "      <td>0.0</td>\n",
       "      <td>0.0</td>\n",
       "      <td>0.0</td>\n",
       "      <td>0.0</td>\n",
       "      <td>...</td>\n",
       "      <td>0.0</td>\n",
       "      <td>0.0</td>\n",
       "      <td>0.0</td>\n",
       "      <td>0.0</td>\n",
       "      <td>0.0</td>\n",
       "      <td>0.0</td>\n",
       "      <td>0.0</td>\n",
       "      <td>1.0</td>\n",
       "      <td>0.0</td>\n",
       "      <td>0.0</td>\n",
       "    </tr>\n",
       "    <tr>\n",
       "      <th>176983</th>\n",
       "      <td>2006</td>\n",
       "      <td>170.0</td>\n",
       "      <td>150000</td>\n",
       "      <td>1.0</td>\n",
       "      <td>0.0</td>\n",
       "      <td>0.0</td>\n",
       "      <td>0.0</td>\n",
       "      <td>0.0</td>\n",
       "      <td>0.0</td>\n",
       "      <td>0.0</td>\n",
       "      <td>...</td>\n",
       "      <td>0.0</td>\n",
       "      <td>0.0</td>\n",
       "      <td>0.0</td>\n",
       "      <td>0.0</td>\n",
       "      <td>0.0</td>\n",
       "      <td>0.0</td>\n",
       "      <td>0.0</td>\n",
       "      <td>1.0</td>\n",
       "      <td>0.0</td>\n",
       "      <td>0.0</td>\n",
       "    </tr>\n",
       "    <tr>\n",
       "      <th>153359</th>\n",
       "      <td>2004</td>\n",
       "      <td>140.0</td>\n",
       "      <td>150000</td>\n",
       "      <td>0.0</td>\n",
       "      <td>0.0</td>\n",
       "      <td>0.0</td>\n",
       "      <td>0.0</td>\n",
       "      <td>0.0</td>\n",
       "      <td>0.0</td>\n",
       "      <td>0.0</td>\n",
       "      <td>...</td>\n",
       "      <td>0.0</td>\n",
       "      <td>0.0</td>\n",
       "      <td>0.0</td>\n",
       "      <td>0.0</td>\n",
       "      <td>0.0</td>\n",
       "      <td>1.0</td>\n",
       "      <td>0.0</td>\n",
       "      <td>0.0</td>\n",
       "      <td>1.0</td>\n",
       "      <td>0.0</td>\n",
       "    </tr>\n",
       "    <tr>\n",
       "      <th>282651</th>\n",
       "      <td>1996</td>\n",
       "      <td>220.0</td>\n",
       "      <td>150000</td>\n",
       "      <td>0.0</td>\n",
       "      <td>0.0</td>\n",
       "      <td>0.0</td>\n",
       "      <td>0.0</td>\n",
       "      <td>1.0</td>\n",
       "      <td>0.0</td>\n",
       "      <td>0.0</td>\n",
       "      <td>...</td>\n",
       "      <td>0.0</td>\n",
       "      <td>0.0</td>\n",
       "      <td>0.0</td>\n",
       "      <td>0.0</td>\n",
       "      <td>0.0</td>\n",
       "      <td>0.0</td>\n",
       "      <td>0.0</td>\n",
       "      <td>1.0</td>\n",
       "      <td>0.0</td>\n",
       "      <td>0.0</td>\n",
       "    </tr>\n",
       "    <tr>\n",
       "      <th>61751</th>\n",
       "      <td>2004</td>\n",
       "      <td>60.0</td>\n",
       "      <td>125000</td>\n",
       "      <td>0.0</td>\n",
       "      <td>0.0</td>\n",
       "      <td>0.0</td>\n",
       "      <td>0.0</td>\n",
       "      <td>0.0</td>\n",
       "      <td>1.0</td>\n",
       "      <td>0.0</td>\n",
       "      <td>...</td>\n",
       "      <td>0.0</td>\n",
       "      <td>0.0</td>\n",
       "      <td>0.0</td>\n",
       "      <td>0.0</td>\n",
       "      <td>0.0</td>\n",
       "      <td>0.0</td>\n",
       "      <td>0.0</td>\n",
       "      <td>1.0</td>\n",
       "      <td>0.0</td>\n",
       "      <td>0.0</td>\n",
       "    </tr>\n",
       "    <tr>\n",
       "      <th>...</th>\n",
       "      <td>...</td>\n",
       "      <td>...</td>\n",
       "      <td>...</td>\n",
       "      <td>...</td>\n",
       "      <td>...</td>\n",
       "      <td>...</td>\n",
       "      <td>...</td>\n",
       "      <td>...</td>\n",
       "      <td>...</td>\n",
       "      <td>...</td>\n",
       "      <td>...</td>\n",
       "      <td>...</td>\n",
       "      <td>...</td>\n",
       "      <td>...</td>\n",
       "      <td>...</td>\n",
       "      <td>...</td>\n",
       "      <td>...</td>\n",
       "      <td>...</td>\n",
       "      <td>...</td>\n",
       "      <td>...</td>\n",
       "      <td>...</td>\n",
       "    </tr>\n",
       "    <tr>\n",
       "      <th>338550</th>\n",
       "      <td>1996</td>\n",
       "      <td>68.0</td>\n",
       "      <td>150000</td>\n",
       "      <td>1.0</td>\n",
       "      <td>0.0</td>\n",
       "      <td>0.0</td>\n",
       "      <td>0.0</td>\n",
       "      <td>0.0</td>\n",
       "      <td>0.0</td>\n",
       "      <td>0.0</td>\n",
       "      <td>...</td>\n",
       "      <td>0.0</td>\n",
       "      <td>0.0</td>\n",
       "      <td>0.0</td>\n",
       "      <td>0.0</td>\n",
       "      <td>0.0</td>\n",
       "      <td>1.0</td>\n",
       "      <td>0.0</td>\n",
       "      <td>0.0</td>\n",
       "      <td>0.0</td>\n",
       "      <td>1.0</td>\n",
       "    </tr>\n",
       "    <tr>\n",
       "      <th>107440</th>\n",
       "      <td>2000</td>\n",
       "      <td>75.0</td>\n",
       "      <td>150000</td>\n",
       "      <td>0.0</td>\n",
       "      <td>0.0</td>\n",
       "      <td>0.0</td>\n",
       "      <td>0.0</td>\n",
       "      <td>0.0</td>\n",
       "      <td>0.0</td>\n",
       "      <td>0.0</td>\n",
       "      <td>...</td>\n",
       "      <td>0.0</td>\n",
       "      <td>0.0</td>\n",
       "      <td>0.0</td>\n",
       "      <td>0.0</td>\n",
       "      <td>0.0</td>\n",
       "      <td>1.0</td>\n",
       "      <td>0.0</td>\n",
       "      <td>1.0</td>\n",
       "      <td>0.0</td>\n",
       "      <td>0.0</td>\n",
       "    </tr>\n",
       "    <tr>\n",
       "      <th>33930</th>\n",
       "      <td>2005</td>\n",
       "      <td>121.0</td>\n",
       "      <td>150000</td>\n",
       "      <td>0.0</td>\n",
       "      <td>0.0</td>\n",
       "      <td>0.0</td>\n",
       "      <td>0.0</td>\n",
       "      <td>0.0</td>\n",
       "      <td>0.0</td>\n",
       "      <td>0.0</td>\n",
       "      <td>...</td>\n",
       "      <td>0.0</td>\n",
       "      <td>0.0</td>\n",
       "      <td>0.0</td>\n",
       "      <td>0.0</td>\n",
       "      <td>0.0</td>\n",
       "      <td>0.0</td>\n",
       "      <td>0.0</td>\n",
       "      <td>1.0</td>\n",
       "      <td>0.0</td>\n",
       "      <td>0.0</td>\n",
       "    </tr>\n",
       "    <tr>\n",
       "      <th>217179</th>\n",
       "      <td>2009</td>\n",
       "      <td>170.0</td>\n",
       "      <td>150000</td>\n",
       "      <td>0.0</td>\n",
       "      <td>0.0</td>\n",
       "      <td>0.0</td>\n",
       "      <td>0.0</td>\n",
       "      <td>0.0</td>\n",
       "      <td>0.0</td>\n",
       "      <td>0.0</td>\n",
       "      <td>...</td>\n",
       "      <td>0.0</td>\n",
       "      <td>0.0</td>\n",
       "      <td>0.0</td>\n",
       "      <td>0.0</td>\n",
       "      <td>0.0</td>\n",
       "      <td>1.0</td>\n",
       "      <td>0.0</td>\n",
       "      <td>0.0</td>\n",
       "      <td>0.0</td>\n",
       "      <td>1.0</td>\n",
       "    </tr>\n",
       "    <tr>\n",
       "      <th>302810</th>\n",
       "      <td>2008</td>\n",
       "      <td>75.0</td>\n",
       "      <td>150000</td>\n",
       "      <td>0.0</td>\n",
       "      <td>0.0</td>\n",
       "      <td>0.0</td>\n",
       "      <td>0.0</td>\n",
       "      <td>0.0</td>\n",
       "      <td>1.0</td>\n",
       "      <td>0.0</td>\n",
       "      <td>...</td>\n",
       "      <td>0.0</td>\n",
       "      <td>0.0</td>\n",
       "      <td>0.0</td>\n",
       "      <td>0.0</td>\n",
       "      <td>0.0</td>\n",
       "      <td>0.0</td>\n",
       "      <td>0.0</td>\n",
       "      <td>0.0</td>\n",
       "      <td>0.0</td>\n",
       "      <td>1.0</td>\n",
       "    </tr>\n",
       "  </tbody>\n",
       "</table>\n",
       "<p>61135 rows × 66 columns</p>\n",
       "</div>"
      ],
      "text/plain": [
       "        registration_year  power  kilometer  vehicle_type_bus  \\\n",
       "222327               2003  136.0      90000               0.0   \n",
       "176983               2006  170.0     150000               1.0   \n",
       "153359               2004  140.0     150000               0.0   \n",
       "282651               1996  220.0     150000               0.0   \n",
       "61751                2004   60.0     125000               0.0   \n",
       "...                   ...    ...        ...               ...   \n",
       "338550               1996   68.0     150000               1.0   \n",
       "107440               2000   75.0     150000               0.0   \n",
       "33930                2005  121.0     150000               0.0   \n",
       "217179               2009  170.0     150000               0.0   \n",
       "302810               2008   75.0     150000               0.0   \n",
       "\n",
       "        vehicle_type_convertible  vehicle_type_coupe  vehicle_type_other  \\\n",
       "222327                       1.0                 0.0                 0.0   \n",
       "176983                       0.0                 0.0                 0.0   \n",
       "153359                       0.0                 0.0                 0.0   \n",
       "282651                       0.0                 0.0                 0.0   \n",
       "61751                        0.0                 0.0                 0.0   \n",
       "...                          ...                 ...                 ...   \n",
       "338550                       0.0                 0.0                 0.0   \n",
       "107440                       0.0                 0.0                 0.0   \n",
       "33930                        0.0                 0.0                 0.0   \n",
       "217179                       0.0                 0.0                 0.0   \n",
       "302810                       0.0                 0.0                 0.0   \n",
       "\n",
       "        vehicle_type_sedan  vehicle_type_small  vehicle_type_suv  ...  \\\n",
       "222327                 0.0                 0.0               0.0  ...   \n",
       "176983                 0.0                 0.0               0.0  ...   \n",
       "153359                 0.0                 0.0               0.0  ...   \n",
       "282651                 1.0                 0.0               0.0  ...   \n",
       "61751                  0.0                 1.0               0.0  ...   \n",
       "...                    ...                 ...               ...  ...   \n",
       "338550                 0.0                 0.0               0.0  ...   \n",
       "107440                 0.0                 0.0               0.0  ...   \n",
       "33930                  0.0                 0.0               0.0  ...   \n",
       "217179                 0.0                 0.0               0.0  ...   \n",
       "302810                 0.0                 1.0               0.0  ...   \n",
       "\n",
       "        brand_sonstige_autos  brand_subaru  brand_suzuki  brand_toyota  \\\n",
       "222327                   0.0           0.0           0.0           0.0   \n",
       "176983                   0.0           0.0           0.0           0.0   \n",
       "153359                   0.0           0.0           0.0           0.0   \n",
       "282651                   0.0           0.0           0.0           0.0   \n",
       "61751                    0.0           0.0           0.0           0.0   \n",
       "...                      ...           ...           ...           ...   \n",
       "338550                   0.0           0.0           0.0           0.0   \n",
       "107440                   0.0           0.0           0.0           0.0   \n",
       "33930                    0.0           0.0           0.0           0.0   \n",
       "217179                   0.0           0.0           0.0           0.0   \n",
       "302810                   0.0           0.0           0.0           0.0   \n",
       "\n",
       "        brand_trabant  brand_volkswagen  brand_volvo  repaired_no  \\\n",
       "222327            0.0               0.0          0.0          1.0   \n",
       "176983            0.0               0.0          0.0          1.0   \n",
       "153359            0.0               1.0          0.0          0.0   \n",
       "282651            0.0               0.0          0.0          1.0   \n",
       "61751             0.0               0.0          0.0          1.0   \n",
       "...               ...               ...          ...          ...   \n",
       "338550            0.0               1.0          0.0          0.0   \n",
       "107440            0.0               1.0          0.0          1.0   \n",
       "33930             0.0               0.0          0.0          1.0   \n",
       "217179            0.0               1.0          0.0          0.0   \n",
       "302810            0.0               0.0          0.0          0.0   \n",
       "\n",
       "        repaired_unkmown  repaired_yes  \n",
       "222327               0.0           0.0  \n",
       "176983               0.0           0.0  \n",
       "153359               1.0           0.0  \n",
       "282651               0.0           0.0  \n",
       "61751                0.0           0.0  \n",
       "...                  ...           ...  \n",
       "338550               0.0           1.0  \n",
       "107440               0.0           0.0  \n",
       "33930                0.0           0.0  \n",
       "217179               0.0           1.0  \n",
       "302810               0.0           1.0  \n",
       "\n",
       "[61135 rows x 66 columns]"
      ]
     },
     "execution_count": 54,
     "metadata": {},
     "output_type": "execute_result"
    }
   ],
   "source": [
    "features_valid_ohe = features_valid.copy()\n",
    "oneHotEncode(features_valid_ohe)"
   ]
  },
  {
   "cell_type": "code",
   "execution_count": 55,
   "metadata": {},
   "outputs": [
    {
     "data": {
      "text/html": [
       "<div>\n",
       "<style scoped>\n",
       "    .dataframe tbody tr th:only-of-type {\n",
       "        vertical-align: middle;\n",
       "    }\n",
       "\n",
       "    .dataframe tbody tr th {\n",
       "        vertical-align: top;\n",
       "    }\n",
       "\n",
       "    .dataframe thead th {\n",
       "        text-align: right;\n",
       "    }\n",
       "</style>\n",
       "<table border=\"1\" class=\"dataframe\">\n",
       "  <thead>\n",
       "    <tr style=\"text-align: right;\">\n",
       "      <th></th>\n",
       "      <th>registration_year</th>\n",
       "      <th>power</th>\n",
       "      <th>kilometer</th>\n",
       "      <th>vehicle_type_bus</th>\n",
       "      <th>vehicle_type_convertible</th>\n",
       "      <th>vehicle_type_coupe</th>\n",
       "      <th>vehicle_type_other</th>\n",
       "      <th>vehicle_type_sedan</th>\n",
       "      <th>vehicle_type_small</th>\n",
       "      <th>vehicle_type_suv</th>\n",
       "      <th>...</th>\n",
       "      <th>brand_sonstige_autos</th>\n",
       "      <th>brand_subaru</th>\n",
       "      <th>brand_suzuki</th>\n",
       "      <th>brand_toyota</th>\n",
       "      <th>brand_trabant</th>\n",
       "      <th>brand_volkswagen</th>\n",
       "      <th>brand_volvo</th>\n",
       "      <th>repaired_no</th>\n",
       "      <th>repaired_unkmown</th>\n",
       "      <th>repaired_yes</th>\n",
       "    </tr>\n",
       "  </thead>\n",
       "  <tbody>\n",
       "    <tr>\n",
       "      <th>222327</th>\n",
       "      <td>2003</td>\n",
       "      <td>136.0</td>\n",
       "      <td>90000</td>\n",
       "      <td>0.0</td>\n",
       "      <td>1.0</td>\n",
       "      <td>0.0</td>\n",
       "      <td>0.0</td>\n",
       "      <td>0.0</td>\n",
       "      <td>0.0</td>\n",
       "      <td>0.0</td>\n",
       "      <td>...</td>\n",
       "      <td>0.0</td>\n",
       "      <td>0.0</td>\n",
       "      <td>0.0</td>\n",
       "      <td>0.0</td>\n",
       "      <td>0.0</td>\n",
       "      <td>0.0</td>\n",
       "      <td>0.0</td>\n",
       "      <td>1.0</td>\n",
       "      <td>0.0</td>\n",
       "      <td>0.0</td>\n",
       "    </tr>\n",
       "    <tr>\n",
       "      <th>176983</th>\n",
       "      <td>2006</td>\n",
       "      <td>170.0</td>\n",
       "      <td>150000</td>\n",
       "      <td>1.0</td>\n",
       "      <td>0.0</td>\n",
       "      <td>0.0</td>\n",
       "      <td>0.0</td>\n",
       "      <td>0.0</td>\n",
       "      <td>0.0</td>\n",
       "      <td>0.0</td>\n",
       "      <td>...</td>\n",
       "      <td>0.0</td>\n",
       "      <td>0.0</td>\n",
       "      <td>0.0</td>\n",
       "      <td>0.0</td>\n",
       "      <td>0.0</td>\n",
       "      <td>0.0</td>\n",
       "      <td>0.0</td>\n",
       "      <td>1.0</td>\n",
       "      <td>0.0</td>\n",
       "      <td>0.0</td>\n",
       "    </tr>\n",
       "    <tr>\n",
       "      <th>153359</th>\n",
       "      <td>2004</td>\n",
       "      <td>140.0</td>\n",
       "      <td>150000</td>\n",
       "      <td>0.0</td>\n",
       "      <td>0.0</td>\n",
       "      <td>0.0</td>\n",
       "      <td>0.0</td>\n",
       "      <td>0.0</td>\n",
       "      <td>0.0</td>\n",
       "      <td>0.0</td>\n",
       "      <td>...</td>\n",
       "      <td>0.0</td>\n",
       "      <td>0.0</td>\n",
       "      <td>0.0</td>\n",
       "      <td>0.0</td>\n",
       "      <td>0.0</td>\n",
       "      <td>1.0</td>\n",
       "      <td>0.0</td>\n",
       "      <td>0.0</td>\n",
       "      <td>1.0</td>\n",
       "      <td>0.0</td>\n",
       "    </tr>\n",
       "    <tr>\n",
       "      <th>282651</th>\n",
       "      <td>1996</td>\n",
       "      <td>220.0</td>\n",
       "      <td>150000</td>\n",
       "      <td>0.0</td>\n",
       "      <td>0.0</td>\n",
       "      <td>0.0</td>\n",
       "      <td>0.0</td>\n",
       "      <td>1.0</td>\n",
       "      <td>0.0</td>\n",
       "      <td>0.0</td>\n",
       "      <td>...</td>\n",
       "      <td>0.0</td>\n",
       "      <td>0.0</td>\n",
       "      <td>0.0</td>\n",
       "      <td>0.0</td>\n",
       "      <td>0.0</td>\n",
       "      <td>0.0</td>\n",
       "      <td>0.0</td>\n",
       "      <td>1.0</td>\n",
       "      <td>0.0</td>\n",
       "      <td>0.0</td>\n",
       "    </tr>\n",
       "    <tr>\n",
       "      <th>61751</th>\n",
       "      <td>2004</td>\n",
       "      <td>60.0</td>\n",
       "      <td>125000</td>\n",
       "      <td>0.0</td>\n",
       "      <td>0.0</td>\n",
       "      <td>0.0</td>\n",
       "      <td>0.0</td>\n",
       "      <td>0.0</td>\n",
       "      <td>1.0</td>\n",
       "      <td>0.0</td>\n",
       "      <td>...</td>\n",
       "      <td>0.0</td>\n",
       "      <td>0.0</td>\n",
       "      <td>0.0</td>\n",
       "      <td>0.0</td>\n",
       "      <td>0.0</td>\n",
       "      <td>0.0</td>\n",
       "      <td>0.0</td>\n",
       "      <td>1.0</td>\n",
       "      <td>0.0</td>\n",
       "      <td>0.0</td>\n",
       "    </tr>\n",
       "    <tr>\n",
       "      <th>...</th>\n",
       "      <td>...</td>\n",
       "      <td>...</td>\n",
       "      <td>...</td>\n",
       "      <td>...</td>\n",
       "      <td>...</td>\n",
       "      <td>...</td>\n",
       "      <td>...</td>\n",
       "      <td>...</td>\n",
       "      <td>...</td>\n",
       "      <td>...</td>\n",
       "      <td>...</td>\n",
       "      <td>...</td>\n",
       "      <td>...</td>\n",
       "      <td>...</td>\n",
       "      <td>...</td>\n",
       "      <td>...</td>\n",
       "      <td>...</td>\n",
       "      <td>...</td>\n",
       "      <td>...</td>\n",
       "      <td>...</td>\n",
       "      <td>...</td>\n",
       "    </tr>\n",
       "    <tr>\n",
       "      <th>338550</th>\n",
       "      <td>1996</td>\n",
       "      <td>68.0</td>\n",
       "      <td>150000</td>\n",
       "      <td>1.0</td>\n",
       "      <td>0.0</td>\n",
       "      <td>0.0</td>\n",
       "      <td>0.0</td>\n",
       "      <td>0.0</td>\n",
       "      <td>0.0</td>\n",
       "      <td>0.0</td>\n",
       "      <td>...</td>\n",
       "      <td>0.0</td>\n",
       "      <td>0.0</td>\n",
       "      <td>0.0</td>\n",
       "      <td>0.0</td>\n",
       "      <td>0.0</td>\n",
       "      <td>1.0</td>\n",
       "      <td>0.0</td>\n",
       "      <td>0.0</td>\n",
       "      <td>0.0</td>\n",
       "      <td>1.0</td>\n",
       "    </tr>\n",
       "    <tr>\n",
       "      <th>107440</th>\n",
       "      <td>2000</td>\n",
       "      <td>75.0</td>\n",
       "      <td>150000</td>\n",
       "      <td>0.0</td>\n",
       "      <td>0.0</td>\n",
       "      <td>0.0</td>\n",
       "      <td>0.0</td>\n",
       "      <td>0.0</td>\n",
       "      <td>0.0</td>\n",
       "      <td>0.0</td>\n",
       "      <td>...</td>\n",
       "      <td>0.0</td>\n",
       "      <td>0.0</td>\n",
       "      <td>0.0</td>\n",
       "      <td>0.0</td>\n",
       "      <td>0.0</td>\n",
       "      <td>1.0</td>\n",
       "      <td>0.0</td>\n",
       "      <td>1.0</td>\n",
       "      <td>0.0</td>\n",
       "      <td>0.0</td>\n",
       "    </tr>\n",
       "    <tr>\n",
       "      <th>33930</th>\n",
       "      <td>2005</td>\n",
       "      <td>121.0</td>\n",
       "      <td>150000</td>\n",
       "      <td>0.0</td>\n",
       "      <td>0.0</td>\n",
       "      <td>0.0</td>\n",
       "      <td>0.0</td>\n",
       "      <td>0.0</td>\n",
       "      <td>0.0</td>\n",
       "      <td>0.0</td>\n",
       "      <td>...</td>\n",
       "      <td>0.0</td>\n",
       "      <td>0.0</td>\n",
       "      <td>0.0</td>\n",
       "      <td>0.0</td>\n",
       "      <td>0.0</td>\n",
       "      <td>0.0</td>\n",
       "      <td>0.0</td>\n",
       "      <td>1.0</td>\n",
       "      <td>0.0</td>\n",
       "      <td>0.0</td>\n",
       "    </tr>\n",
       "    <tr>\n",
       "      <th>217179</th>\n",
       "      <td>2009</td>\n",
       "      <td>170.0</td>\n",
       "      <td>150000</td>\n",
       "      <td>0.0</td>\n",
       "      <td>0.0</td>\n",
       "      <td>0.0</td>\n",
       "      <td>0.0</td>\n",
       "      <td>0.0</td>\n",
       "      <td>0.0</td>\n",
       "      <td>0.0</td>\n",
       "      <td>...</td>\n",
       "      <td>0.0</td>\n",
       "      <td>0.0</td>\n",
       "      <td>0.0</td>\n",
       "      <td>0.0</td>\n",
       "      <td>0.0</td>\n",
       "      <td>1.0</td>\n",
       "      <td>0.0</td>\n",
       "      <td>0.0</td>\n",
       "      <td>0.0</td>\n",
       "      <td>1.0</td>\n",
       "    </tr>\n",
       "    <tr>\n",
       "      <th>302810</th>\n",
       "      <td>2008</td>\n",
       "      <td>75.0</td>\n",
       "      <td>150000</td>\n",
       "      <td>0.0</td>\n",
       "      <td>0.0</td>\n",
       "      <td>0.0</td>\n",
       "      <td>0.0</td>\n",
       "      <td>0.0</td>\n",
       "      <td>1.0</td>\n",
       "      <td>0.0</td>\n",
       "      <td>...</td>\n",
       "      <td>0.0</td>\n",
       "      <td>0.0</td>\n",
       "      <td>0.0</td>\n",
       "      <td>0.0</td>\n",
       "      <td>0.0</td>\n",
       "      <td>0.0</td>\n",
       "      <td>0.0</td>\n",
       "      <td>0.0</td>\n",
       "      <td>0.0</td>\n",
       "      <td>1.0</td>\n",
       "    </tr>\n",
       "  </tbody>\n",
       "</table>\n",
       "<p>61135 rows × 66 columns</p>\n",
       "</div>"
      ],
      "text/plain": [
       "        registration_year  power  kilometer  vehicle_type_bus  \\\n",
       "222327               2003  136.0      90000               0.0   \n",
       "176983               2006  170.0     150000               1.0   \n",
       "153359               2004  140.0     150000               0.0   \n",
       "282651               1996  220.0     150000               0.0   \n",
       "61751                2004   60.0     125000               0.0   \n",
       "...                   ...    ...        ...               ...   \n",
       "338550               1996   68.0     150000               1.0   \n",
       "107440               2000   75.0     150000               0.0   \n",
       "33930                2005  121.0     150000               0.0   \n",
       "217179               2009  170.0     150000               0.0   \n",
       "302810               2008   75.0     150000               0.0   \n",
       "\n",
       "        vehicle_type_convertible  vehicle_type_coupe  vehicle_type_other  \\\n",
       "222327                       1.0                 0.0                 0.0   \n",
       "176983                       0.0                 0.0                 0.0   \n",
       "153359                       0.0                 0.0                 0.0   \n",
       "282651                       0.0                 0.0                 0.0   \n",
       "61751                        0.0                 0.0                 0.0   \n",
       "...                          ...                 ...                 ...   \n",
       "338550                       0.0                 0.0                 0.0   \n",
       "107440                       0.0                 0.0                 0.0   \n",
       "33930                        0.0                 0.0                 0.0   \n",
       "217179                       0.0                 0.0                 0.0   \n",
       "302810                       0.0                 0.0                 0.0   \n",
       "\n",
       "        vehicle_type_sedan  vehicle_type_small  vehicle_type_suv  ...  \\\n",
       "222327                 0.0                 0.0               0.0  ...   \n",
       "176983                 0.0                 0.0               0.0  ...   \n",
       "153359                 0.0                 0.0               0.0  ...   \n",
       "282651                 1.0                 0.0               0.0  ...   \n",
       "61751                  0.0                 1.0               0.0  ...   \n",
       "...                    ...                 ...               ...  ...   \n",
       "338550                 0.0                 0.0               0.0  ...   \n",
       "107440                 0.0                 0.0               0.0  ...   \n",
       "33930                  0.0                 0.0               0.0  ...   \n",
       "217179                 0.0                 0.0               0.0  ...   \n",
       "302810                 0.0                 1.0               0.0  ...   \n",
       "\n",
       "        brand_sonstige_autos  brand_subaru  brand_suzuki  brand_toyota  \\\n",
       "222327                   0.0           0.0           0.0           0.0   \n",
       "176983                   0.0           0.0           0.0           0.0   \n",
       "153359                   0.0           0.0           0.0           0.0   \n",
       "282651                   0.0           0.0           0.0           0.0   \n",
       "61751                    0.0           0.0           0.0           0.0   \n",
       "...                      ...           ...           ...           ...   \n",
       "338550                   0.0           0.0           0.0           0.0   \n",
       "107440                   0.0           0.0           0.0           0.0   \n",
       "33930                    0.0           0.0           0.0           0.0   \n",
       "217179                   0.0           0.0           0.0           0.0   \n",
       "302810                   0.0           0.0           0.0           0.0   \n",
       "\n",
       "        brand_trabant  brand_volkswagen  brand_volvo  repaired_no  \\\n",
       "222327            0.0               0.0          0.0          1.0   \n",
       "176983            0.0               0.0          0.0          1.0   \n",
       "153359            0.0               1.0          0.0          0.0   \n",
       "282651            0.0               0.0          0.0          1.0   \n",
       "61751             0.0               0.0          0.0          1.0   \n",
       "...               ...               ...          ...          ...   \n",
       "338550            0.0               1.0          0.0          0.0   \n",
       "107440            0.0               1.0          0.0          1.0   \n",
       "33930             0.0               0.0          0.0          1.0   \n",
       "217179            0.0               1.0          0.0          0.0   \n",
       "302810            0.0               0.0          0.0          0.0   \n",
       "\n",
       "        repaired_unkmown  repaired_yes  \n",
       "222327               0.0           0.0  \n",
       "176983               0.0           0.0  \n",
       "153359               1.0           0.0  \n",
       "282651               0.0           0.0  \n",
       "61751                0.0           0.0  \n",
       "...                  ...           ...  \n",
       "338550               0.0           1.0  \n",
       "107440               0.0           0.0  \n",
       "33930                0.0           0.0  \n",
       "217179               0.0           1.0  \n",
       "302810               0.0           1.0  \n",
       "\n",
       "[61135 rows x 66 columns]"
      ]
     },
     "execution_count": 55,
     "metadata": {},
     "output_type": "execute_result"
    }
   ],
   "source": [
    "features_test_ohe = features_valid.copy()\n",
    "oneHotEncode(features_test_ohe)"
   ]
  },
  {
   "cell_type": "code",
   "execution_count": 56,
   "metadata": {},
   "outputs": [
    {
     "name": "stdout",
     "output_type": "stream",
     "text": [
      "(183403, 66)\n",
      "(61135, 66)\n",
      "(61135, 66)\n"
     ]
    }
   ],
   "source": [
    "print(features_train_ohe.shape)\n",
    "print(features_valid_ohe.shape)\n",
    "print(features_test_ohe.shape)"
   ]
  },
  {
   "cell_type": "markdown",
   "metadata": {},
   "source": [
    "### Линейная регрессия"
   ]
  },
  {
   "cell_type": "code",
   "execution_count": 57,
   "metadata": {},
   "outputs": [
    {
     "name": "stdout",
     "output_type": "stream",
     "text": [
      "CPU times: total: 828 ms\n",
      "Wall time: 475 ms\n"
     ]
    },
    {
     "data": {
      "text/html": [
       "<style>#sk-container-id-1 {color: black;background-color: white;}#sk-container-id-1 pre{padding: 0;}#sk-container-id-1 div.sk-toggleable {background-color: white;}#sk-container-id-1 label.sk-toggleable__label {cursor: pointer;display: block;width: 100%;margin-bottom: 0;padding: 0.3em;box-sizing: border-box;text-align: center;}#sk-container-id-1 label.sk-toggleable__label-arrow:before {content: \"▸\";float: left;margin-right: 0.25em;color: #696969;}#sk-container-id-1 label.sk-toggleable__label-arrow:hover:before {color: black;}#sk-container-id-1 div.sk-estimator:hover label.sk-toggleable__label-arrow:before {color: black;}#sk-container-id-1 div.sk-toggleable__content {max-height: 0;max-width: 0;overflow: hidden;text-align: left;background-color: #f0f8ff;}#sk-container-id-1 div.sk-toggleable__content pre {margin: 0.2em;color: black;border-radius: 0.25em;background-color: #f0f8ff;}#sk-container-id-1 input.sk-toggleable__control:checked~div.sk-toggleable__content {max-height: 200px;max-width: 100%;overflow: auto;}#sk-container-id-1 input.sk-toggleable__control:checked~label.sk-toggleable__label-arrow:before {content: \"▾\";}#sk-container-id-1 div.sk-estimator input.sk-toggleable__control:checked~label.sk-toggleable__label {background-color: #d4ebff;}#sk-container-id-1 div.sk-label input.sk-toggleable__control:checked~label.sk-toggleable__label {background-color: #d4ebff;}#sk-container-id-1 input.sk-hidden--visually {border: 0;clip: rect(1px 1px 1px 1px);clip: rect(1px, 1px, 1px, 1px);height: 1px;margin: -1px;overflow: hidden;padding: 0;position: absolute;width: 1px;}#sk-container-id-1 div.sk-estimator {font-family: monospace;background-color: #f0f8ff;border: 1px dotted black;border-radius: 0.25em;box-sizing: border-box;margin-bottom: 0.5em;}#sk-container-id-1 div.sk-estimator:hover {background-color: #d4ebff;}#sk-container-id-1 div.sk-parallel-item::after {content: \"\";width: 100%;border-bottom: 1px solid gray;flex-grow: 1;}#sk-container-id-1 div.sk-label:hover label.sk-toggleable__label {background-color: #d4ebff;}#sk-container-id-1 div.sk-serial::before {content: \"\";position: absolute;border-left: 1px solid gray;box-sizing: border-box;top: 0;bottom: 0;left: 50%;z-index: 0;}#sk-container-id-1 div.sk-serial {display: flex;flex-direction: column;align-items: center;background-color: white;padding-right: 0.2em;padding-left: 0.2em;position: relative;}#sk-container-id-1 div.sk-item {position: relative;z-index: 1;}#sk-container-id-1 div.sk-parallel {display: flex;align-items: stretch;justify-content: center;background-color: white;position: relative;}#sk-container-id-1 div.sk-item::before, #sk-container-id-1 div.sk-parallel-item::before {content: \"\";position: absolute;border-left: 1px solid gray;box-sizing: border-box;top: 0;bottom: 0;left: 50%;z-index: -1;}#sk-container-id-1 div.sk-parallel-item {display: flex;flex-direction: column;z-index: 1;position: relative;background-color: white;}#sk-container-id-1 div.sk-parallel-item:first-child::after {align-self: flex-end;width: 50%;}#sk-container-id-1 div.sk-parallel-item:last-child::after {align-self: flex-start;width: 50%;}#sk-container-id-1 div.sk-parallel-item:only-child::after {width: 0;}#sk-container-id-1 div.sk-dashed-wrapped {border: 1px dashed gray;margin: 0 0.4em 0.5em 0.4em;box-sizing: border-box;padding-bottom: 0.4em;background-color: white;}#sk-container-id-1 div.sk-label label {font-family: monospace;font-weight: bold;display: inline-block;line-height: 1.2em;}#sk-container-id-1 div.sk-label-container {text-align: center;}#sk-container-id-1 div.sk-container {/* jupyter's `normalize.less` sets `[hidden] { display: none; }` but bootstrap.min.css set `[hidden] { display: none !important; }` so we also need the `!important` here to be able to override the default hidden behavior on the sphinx rendered scikit-learn.org. See: https://github.com/scikit-learn/scikit-learn/issues/21755 */display: inline-block !important;position: relative;}#sk-container-id-1 div.sk-text-repr-fallback {display: none;}</style><div id=\"sk-container-id-1\" class=\"sk-top-container\"><div class=\"sk-text-repr-fallback\"><pre>LinearRegression()</pre><b>In a Jupyter environment, please rerun this cell to show the HTML representation or trust the notebook. <br />On GitHub, the HTML representation is unable to render, please try loading this page with nbviewer.org.</b></div><div class=\"sk-container\" hidden><div class=\"sk-item\"><div class=\"sk-estimator sk-toggleable\"><input class=\"sk-toggleable__control sk-hidden--visually\" id=\"sk-estimator-id-1\" type=\"checkbox\" checked><label for=\"sk-estimator-id-1\" class=\"sk-toggleable__label sk-toggleable__label-arrow\">LinearRegression</label><div class=\"sk-toggleable__content\"><pre>LinearRegression()</pre></div></div></div></div></div>"
      ],
      "text/plain": [
       "LinearRegression()"
      ]
     },
     "execution_count": 57,
     "metadata": {},
     "output_type": "execute_result"
    }
   ],
   "source": [
    "%%time\n",
    "model_lg = LinearRegression()\n",
    "model_lg.fit(features_train_ohe, target_train)\n"
   ]
  },
  {
   "cell_type": "code",
   "execution_count": 58,
   "metadata": {},
   "outputs": [
    {
     "name": "stdout",
     "output_type": "stream",
     "text": [
      "RMSE для логистической регрессии = 2850.8576284098294\n",
      "CPU times: total: 0 ns\n",
      "Wall time: 23 ms\n"
     ]
    }
   ],
   "source": [
    "%%time\n",
    "predicted_valid_lg = model_lg.predict(features_valid_ohe)\n",
    "print('RMSE для логистической регрессии =', (mean_squared_error(target_valid, predicted_valid_lg))**.5)\n"
   ]
  },
  {
   "cell_type": "markdown",
   "metadata": {},
   "source": [
    "### Случайный лес\n"
   ]
  },
  {
   "cell_type": "code",
   "execution_count": 59,
   "metadata": {},
   "outputs": [],
   "source": [
    "# порядковое кодирование\n",
    "encoder = OrdinalEncoder()\n",
    "cat_columns = ['gearbox', 'vehicle_type', 'fuel_type', 'brand', 'repaired']\n",
    "encoder.fit(features_train[cat_columns])\n",
    "\n",
    "features_train_ord = features_train.copy()\n",
    "features_valid_ord = features_valid.copy()\n",
    "features_test_ord = features_test.copy()\n",
    "\n",
    "features_train_ord[cat_columns] = encoder.transform(features_train_ord[cat_columns])\n",
    "features_valid_ord[cat_columns] = encoder.transform(features_valid_ord[cat_columns])\n",
    "features_test_ord[cat_columns] = encoder.transform(features_test_ord[cat_columns])\n"
   ]
  },
  {
   "cell_type": "markdown",
   "metadata": {},
   "source": [
    "Подберем лучшие гиперпараметры для нашей модели."
   ]
  },
  {
   "cell_type": "code",
   "execution_count": 60,
   "metadata": {},
   "outputs": [
    {
     "name": "stdout",
     "output_type": "stream",
     "text": [
      "CPU times: total: 4min 23s\n",
      "Wall time: 4min 24s\n"
     ]
    },
    {
     "data": {
      "text/html": [
       "<style>#sk-container-id-2 {color: black;background-color: white;}#sk-container-id-2 pre{padding: 0;}#sk-container-id-2 div.sk-toggleable {background-color: white;}#sk-container-id-2 label.sk-toggleable__label {cursor: pointer;display: block;width: 100%;margin-bottom: 0;padding: 0.3em;box-sizing: border-box;text-align: center;}#sk-container-id-2 label.sk-toggleable__label-arrow:before {content: \"▸\";float: left;margin-right: 0.25em;color: #696969;}#sk-container-id-2 label.sk-toggleable__label-arrow:hover:before {color: black;}#sk-container-id-2 div.sk-estimator:hover label.sk-toggleable__label-arrow:before {color: black;}#sk-container-id-2 div.sk-toggleable__content {max-height: 0;max-width: 0;overflow: hidden;text-align: left;background-color: #f0f8ff;}#sk-container-id-2 div.sk-toggleable__content pre {margin: 0.2em;color: black;border-radius: 0.25em;background-color: #f0f8ff;}#sk-container-id-2 input.sk-toggleable__control:checked~div.sk-toggleable__content {max-height: 200px;max-width: 100%;overflow: auto;}#sk-container-id-2 input.sk-toggleable__control:checked~label.sk-toggleable__label-arrow:before {content: \"▾\";}#sk-container-id-2 div.sk-estimator input.sk-toggleable__control:checked~label.sk-toggleable__label {background-color: #d4ebff;}#sk-container-id-2 div.sk-label input.sk-toggleable__control:checked~label.sk-toggleable__label {background-color: #d4ebff;}#sk-container-id-2 input.sk-hidden--visually {border: 0;clip: rect(1px 1px 1px 1px);clip: rect(1px, 1px, 1px, 1px);height: 1px;margin: -1px;overflow: hidden;padding: 0;position: absolute;width: 1px;}#sk-container-id-2 div.sk-estimator {font-family: monospace;background-color: #f0f8ff;border: 1px dotted black;border-radius: 0.25em;box-sizing: border-box;margin-bottom: 0.5em;}#sk-container-id-2 div.sk-estimator:hover {background-color: #d4ebff;}#sk-container-id-2 div.sk-parallel-item::after {content: \"\";width: 100%;border-bottom: 1px solid gray;flex-grow: 1;}#sk-container-id-2 div.sk-label:hover label.sk-toggleable__label {background-color: #d4ebff;}#sk-container-id-2 div.sk-serial::before {content: \"\";position: absolute;border-left: 1px solid gray;box-sizing: border-box;top: 0;bottom: 0;left: 50%;z-index: 0;}#sk-container-id-2 div.sk-serial {display: flex;flex-direction: column;align-items: center;background-color: white;padding-right: 0.2em;padding-left: 0.2em;position: relative;}#sk-container-id-2 div.sk-item {position: relative;z-index: 1;}#sk-container-id-2 div.sk-parallel {display: flex;align-items: stretch;justify-content: center;background-color: white;position: relative;}#sk-container-id-2 div.sk-item::before, #sk-container-id-2 div.sk-parallel-item::before {content: \"\";position: absolute;border-left: 1px solid gray;box-sizing: border-box;top: 0;bottom: 0;left: 50%;z-index: -1;}#sk-container-id-2 div.sk-parallel-item {display: flex;flex-direction: column;z-index: 1;position: relative;background-color: white;}#sk-container-id-2 div.sk-parallel-item:first-child::after {align-self: flex-end;width: 50%;}#sk-container-id-2 div.sk-parallel-item:last-child::after {align-self: flex-start;width: 50%;}#sk-container-id-2 div.sk-parallel-item:only-child::after {width: 0;}#sk-container-id-2 div.sk-dashed-wrapped {border: 1px dashed gray;margin: 0 0.4em 0.5em 0.4em;box-sizing: border-box;padding-bottom: 0.4em;background-color: white;}#sk-container-id-2 div.sk-label label {font-family: monospace;font-weight: bold;display: inline-block;line-height: 1.2em;}#sk-container-id-2 div.sk-label-container {text-align: center;}#sk-container-id-2 div.sk-container {/* jupyter's `normalize.less` sets `[hidden] { display: none; }` but bootstrap.min.css set `[hidden] { display: none !important; }` so we also need the `!important` here to be able to override the default hidden behavior on the sphinx rendered scikit-learn.org. See: https://github.com/scikit-learn/scikit-learn/issues/21755 */display: inline-block !important;position: relative;}#sk-container-id-2 div.sk-text-repr-fallback {display: none;}</style><div id=\"sk-container-id-2\" class=\"sk-top-container\"><div class=\"sk-text-repr-fallback\"><pre>GridSearchCV(estimator=Pipeline(steps=[(&#x27;randomforestregressor&#x27;,\n",
       "                                        RandomForestRegressor())]),\n",
       "             param_grid={&#x27;randomforestregressor__max_depth&#x27;: [1, 100],\n",
       "                         &#x27;randomforestregressor__n_estimators&#x27;: [5, 100]},\n",
       "             scoring=&#x27;neg_mean_squared_error&#x27;)</pre><b>In a Jupyter environment, please rerun this cell to show the HTML representation or trust the notebook. <br />On GitHub, the HTML representation is unable to render, please try loading this page with nbviewer.org.</b></div><div class=\"sk-container\" hidden><div class=\"sk-item sk-dashed-wrapped\"><div class=\"sk-label-container\"><div class=\"sk-label sk-toggleable\"><input class=\"sk-toggleable__control sk-hidden--visually\" id=\"sk-estimator-id-2\" type=\"checkbox\" ><label for=\"sk-estimator-id-2\" class=\"sk-toggleable__label sk-toggleable__label-arrow\">GridSearchCV</label><div class=\"sk-toggleable__content\"><pre>GridSearchCV(estimator=Pipeline(steps=[(&#x27;randomforestregressor&#x27;,\n",
       "                                        RandomForestRegressor())]),\n",
       "             param_grid={&#x27;randomforestregressor__max_depth&#x27;: [1, 100],\n",
       "                         &#x27;randomforestregressor__n_estimators&#x27;: [5, 100]},\n",
       "             scoring=&#x27;neg_mean_squared_error&#x27;)</pre></div></div></div><div class=\"sk-parallel\"><div class=\"sk-parallel-item\"><div class=\"sk-item\"><div class=\"sk-label-container\"><div class=\"sk-label sk-toggleable\"><input class=\"sk-toggleable__control sk-hidden--visually\" id=\"sk-estimator-id-3\" type=\"checkbox\" ><label for=\"sk-estimator-id-3\" class=\"sk-toggleable__label sk-toggleable__label-arrow\">estimator: Pipeline</label><div class=\"sk-toggleable__content\"><pre>Pipeline(steps=[(&#x27;randomforestregressor&#x27;, RandomForestRegressor())])</pre></div></div></div><div class=\"sk-serial\"><div class=\"sk-item\"><div class=\"sk-serial\"><div class=\"sk-item\"><div class=\"sk-estimator sk-toggleable\"><input class=\"sk-toggleable__control sk-hidden--visually\" id=\"sk-estimator-id-4\" type=\"checkbox\" ><label for=\"sk-estimator-id-4\" class=\"sk-toggleable__label sk-toggleable__label-arrow\">RandomForestRegressor</label><div class=\"sk-toggleable__content\"><pre>RandomForestRegressor()</pre></div></div></div></div></div></div></div></div></div></div></div></div>"
      ],
      "text/plain": [
       "GridSearchCV(estimator=Pipeline(steps=[('randomforestregressor',\n",
       "                                        RandomForestRegressor())]),\n",
       "             param_grid={'randomforestregressor__max_depth': [1, 100],\n",
       "                         'randomforestregressor__n_estimators': [5, 100]},\n",
       "             scoring='neg_mean_squared_error')"
      ]
     },
     "execution_count": 60,
     "metadata": {},
     "output_type": "execute_result"
    }
   ],
   "source": [
    "%%time\n",
    "model_rf = make_pipeline(RandomForestRegressor())\n",
    "params_rf = {\"randomforestregressor__n_estimators\":[5,100],\n",
    "             \"randomforestregressor__max_depth\":[1,100]}\n",
    "grid_rf = GridSearchCV(model_rf, param_grid = params_rf, scoring='neg_mean_squared_error')\n",
    "grid_rf.fit(features_train_ord, target_train)\n",
    "\n",
    "\n"
   ]
  },
  {
   "cell_type": "code",
   "execution_count": 61,
   "metadata": {},
   "outputs": [
    {
     "name": "stdout",
     "output_type": "stream",
     "text": [
      "Лучшие модели\n",
      "Pipeline(steps=[('randomforestregressor',\n",
      "                 RandomForestRegressor(max_depth=100))])\n"
     ]
    }
   ],
   "source": [
    "print(\"Лучшие модели\")\n",
    "print(grid_rf.best_estimator_)"
   ]
  },
  {
   "cell_type": "code",
   "execution_count": 62,
   "metadata": {},
   "outputs": [
    {
     "name": "stdout",
     "output_type": "stream",
     "text": [
      "RMSE для случайного леса = 1673.3415713565973\n"
     ]
    }
   ],
   "source": [
    "print('RMSE для случайного леса =', (grid_rf.best_score_.mean() * -1) ** .5)"
   ]
  },
  {
   "cell_type": "markdown",
   "metadata": {},
   "source": [
    "*измерим время обучения и скорость предсказания на лучших гиперпараметрах*"
   ]
  },
  {
   "cell_type": "code",
   "execution_count": 63,
   "metadata": {},
   "outputs": [
    {
     "name": "stdout",
     "output_type": "stream",
     "text": [
      "CPU times: total: 45.2 s\n",
      "Wall time: 45.5 s\n"
     ]
    },
    {
     "data": {
      "text/html": [
       "<style>#sk-container-id-3 {color: black;background-color: white;}#sk-container-id-3 pre{padding: 0;}#sk-container-id-3 div.sk-toggleable {background-color: white;}#sk-container-id-3 label.sk-toggleable__label {cursor: pointer;display: block;width: 100%;margin-bottom: 0;padding: 0.3em;box-sizing: border-box;text-align: center;}#sk-container-id-3 label.sk-toggleable__label-arrow:before {content: \"▸\";float: left;margin-right: 0.25em;color: #696969;}#sk-container-id-3 label.sk-toggleable__label-arrow:hover:before {color: black;}#sk-container-id-3 div.sk-estimator:hover label.sk-toggleable__label-arrow:before {color: black;}#sk-container-id-3 div.sk-toggleable__content {max-height: 0;max-width: 0;overflow: hidden;text-align: left;background-color: #f0f8ff;}#sk-container-id-3 div.sk-toggleable__content pre {margin: 0.2em;color: black;border-radius: 0.25em;background-color: #f0f8ff;}#sk-container-id-3 input.sk-toggleable__control:checked~div.sk-toggleable__content {max-height: 200px;max-width: 100%;overflow: auto;}#sk-container-id-3 input.sk-toggleable__control:checked~label.sk-toggleable__label-arrow:before {content: \"▾\";}#sk-container-id-3 div.sk-estimator input.sk-toggleable__control:checked~label.sk-toggleable__label {background-color: #d4ebff;}#sk-container-id-3 div.sk-label input.sk-toggleable__control:checked~label.sk-toggleable__label {background-color: #d4ebff;}#sk-container-id-3 input.sk-hidden--visually {border: 0;clip: rect(1px 1px 1px 1px);clip: rect(1px, 1px, 1px, 1px);height: 1px;margin: -1px;overflow: hidden;padding: 0;position: absolute;width: 1px;}#sk-container-id-3 div.sk-estimator {font-family: monospace;background-color: #f0f8ff;border: 1px dotted black;border-radius: 0.25em;box-sizing: border-box;margin-bottom: 0.5em;}#sk-container-id-3 div.sk-estimator:hover {background-color: #d4ebff;}#sk-container-id-3 div.sk-parallel-item::after {content: \"\";width: 100%;border-bottom: 1px solid gray;flex-grow: 1;}#sk-container-id-3 div.sk-label:hover label.sk-toggleable__label {background-color: #d4ebff;}#sk-container-id-3 div.sk-serial::before {content: \"\";position: absolute;border-left: 1px solid gray;box-sizing: border-box;top: 0;bottom: 0;left: 50%;z-index: 0;}#sk-container-id-3 div.sk-serial {display: flex;flex-direction: column;align-items: center;background-color: white;padding-right: 0.2em;padding-left: 0.2em;position: relative;}#sk-container-id-3 div.sk-item {position: relative;z-index: 1;}#sk-container-id-3 div.sk-parallel {display: flex;align-items: stretch;justify-content: center;background-color: white;position: relative;}#sk-container-id-3 div.sk-item::before, #sk-container-id-3 div.sk-parallel-item::before {content: \"\";position: absolute;border-left: 1px solid gray;box-sizing: border-box;top: 0;bottom: 0;left: 50%;z-index: -1;}#sk-container-id-3 div.sk-parallel-item {display: flex;flex-direction: column;z-index: 1;position: relative;background-color: white;}#sk-container-id-3 div.sk-parallel-item:first-child::after {align-self: flex-end;width: 50%;}#sk-container-id-3 div.sk-parallel-item:last-child::after {align-self: flex-start;width: 50%;}#sk-container-id-3 div.sk-parallel-item:only-child::after {width: 0;}#sk-container-id-3 div.sk-dashed-wrapped {border: 1px dashed gray;margin: 0 0.4em 0.5em 0.4em;box-sizing: border-box;padding-bottom: 0.4em;background-color: white;}#sk-container-id-3 div.sk-label label {font-family: monospace;font-weight: bold;display: inline-block;line-height: 1.2em;}#sk-container-id-3 div.sk-label-container {text-align: center;}#sk-container-id-3 div.sk-container {/* jupyter's `normalize.less` sets `[hidden] { display: none; }` but bootstrap.min.css set `[hidden] { display: none !important; }` so we also need the `!important` here to be able to override the default hidden behavior on the sphinx rendered scikit-learn.org. See: https://github.com/scikit-learn/scikit-learn/issues/21755 */display: inline-block !important;position: relative;}#sk-container-id-3 div.sk-text-repr-fallback {display: none;}</style><div id=\"sk-container-id-3\" class=\"sk-top-container\"><div class=\"sk-text-repr-fallback\"><pre>RandomForestRegressor(max_depth=100, random_state=12345)</pre><b>In a Jupyter environment, please rerun this cell to show the HTML representation or trust the notebook. <br />On GitHub, the HTML representation is unable to render, please try loading this page with nbviewer.org.</b></div><div class=\"sk-container\" hidden><div class=\"sk-item\"><div class=\"sk-estimator sk-toggleable\"><input class=\"sk-toggleable__control sk-hidden--visually\" id=\"sk-estimator-id-5\" type=\"checkbox\" checked><label for=\"sk-estimator-id-5\" class=\"sk-toggleable__label sk-toggleable__label-arrow\">RandomForestRegressor</label><div class=\"sk-toggleable__content\"><pre>RandomForestRegressor(max_depth=100, random_state=12345)</pre></div></div></div></div></div>"
      ],
      "text/plain": [
       "RandomForestRegressor(max_depth=100, random_state=12345)"
      ]
     },
     "execution_count": 63,
     "metadata": {},
     "output_type": "execute_result"
    }
   ],
   "source": [
    "%%time\n",
    "model_rf2 = RandomForestRegressor(random_state=12345, max_depth=100)\n",
    "model_rf2.fit(features_train_ord, target_train)"
   ]
  },
  {
   "cell_type": "code",
   "execution_count": 64,
   "metadata": {},
   "outputs": [
    {
     "name": "stdout",
     "output_type": "stream",
     "text": [
      "RMSE для случайного леса на валидационной выборке = 1685.471643558462\n",
      "CPU times: total: 2.48 s\n",
      "Wall time: 2.5 s\n"
     ]
    }
   ],
   "source": [
    "%%time\n",
    "predictions_valid = model_rf2.predict(features_valid_ord)\n",
    "result = mean_squared_error(target_valid, predictions_valid) ** .5\n",
    "print('RMSE для случайного леса на валидационной выборке =', result)"
   ]
  },
  {
   "cell_type": "markdown",
   "metadata": {},
   "source": [
    "### Градиентный бустинг CatBoost\n"
   ]
  },
  {
   "cell_type": "code",
   "execution_count": 65,
   "metadata": {},
   "outputs": [
    {
     "name": "stdout",
     "output_type": "stream",
     "text": [
      "CPU times: total: 3min 1s\n",
      "Wall time: 3min 36s\n"
     ]
    },
    {
     "data": {
      "text/html": [
       "<style>#sk-container-id-4 {color: black;background-color: white;}#sk-container-id-4 pre{padding: 0;}#sk-container-id-4 div.sk-toggleable {background-color: white;}#sk-container-id-4 label.sk-toggleable__label {cursor: pointer;display: block;width: 100%;margin-bottom: 0;padding: 0.3em;box-sizing: border-box;text-align: center;}#sk-container-id-4 label.sk-toggleable__label-arrow:before {content: \"▸\";float: left;margin-right: 0.25em;color: #696969;}#sk-container-id-4 label.sk-toggleable__label-arrow:hover:before {color: black;}#sk-container-id-4 div.sk-estimator:hover label.sk-toggleable__label-arrow:before {color: black;}#sk-container-id-4 div.sk-toggleable__content {max-height: 0;max-width: 0;overflow: hidden;text-align: left;background-color: #f0f8ff;}#sk-container-id-4 div.sk-toggleable__content pre {margin: 0.2em;color: black;border-radius: 0.25em;background-color: #f0f8ff;}#sk-container-id-4 input.sk-toggleable__control:checked~div.sk-toggleable__content {max-height: 200px;max-width: 100%;overflow: auto;}#sk-container-id-4 input.sk-toggleable__control:checked~label.sk-toggleable__label-arrow:before {content: \"▾\";}#sk-container-id-4 div.sk-estimator input.sk-toggleable__control:checked~label.sk-toggleable__label {background-color: #d4ebff;}#sk-container-id-4 div.sk-label input.sk-toggleable__control:checked~label.sk-toggleable__label {background-color: #d4ebff;}#sk-container-id-4 input.sk-hidden--visually {border: 0;clip: rect(1px 1px 1px 1px);clip: rect(1px, 1px, 1px, 1px);height: 1px;margin: -1px;overflow: hidden;padding: 0;position: absolute;width: 1px;}#sk-container-id-4 div.sk-estimator {font-family: monospace;background-color: #f0f8ff;border: 1px dotted black;border-radius: 0.25em;box-sizing: border-box;margin-bottom: 0.5em;}#sk-container-id-4 div.sk-estimator:hover {background-color: #d4ebff;}#sk-container-id-4 div.sk-parallel-item::after {content: \"\";width: 100%;border-bottom: 1px solid gray;flex-grow: 1;}#sk-container-id-4 div.sk-label:hover label.sk-toggleable__label {background-color: #d4ebff;}#sk-container-id-4 div.sk-serial::before {content: \"\";position: absolute;border-left: 1px solid gray;box-sizing: border-box;top: 0;bottom: 0;left: 50%;z-index: 0;}#sk-container-id-4 div.sk-serial {display: flex;flex-direction: column;align-items: center;background-color: white;padding-right: 0.2em;padding-left: 0.2em;position: relative;}#sk-container-id-4 div.sk-item {position: relative;z-index: 1;}#sk-container-id-4 div.sk-parallel {display: flex;align-items: stretch;justify-content: center;background-color: white;position: relative;}#sk-container-id-4 div.sk-item::before, #sk-container-id-4 div.sk-parallel-item::before {content: \"\";position: absolute;border-left: 1px solid gray;box-sizing: border-box;top: 0;bottom: 0;left: 50%;z-index: -1;}#sk-container-id-4 div.sk-parallel-item {display: flex;flex-direction: column;z-index: 1;position: relative;background-color: white;}#sk-container-id-4 div.sk-parallel-item:first-child::after {align-self: flex-end;width: 50%;}#sk-container-id-4 div.sk-parallel-item:last-child::after {align-self: flex-start;width: 50%;}#sk-container-id-4 div.sk-parallel-item:only-child::after {width: 0;}#sk-container-id-4 div.sk-dashed-wrapped {border: 1px dashed gray;margin: 0 0.4em 0.5em 0.4em;box-sizing: border-box;padding-bottom: 0.4em;background-color: white;}#sk-container-id-4 div.sk-label label {font-family: monospace;font-weight: bold;display: inline-block;line-height: 1.2em;}#sk-container-id-4 div.sk-label-container {text-align: center;}#sk-container-id-4 div.sk-container {/* jupyter's `normalize.less` sets `[hidden] { display: none; }` but bootstrap.min.css set `[hidden] { display: none !important; }` so we also need the `!important` here to be able to override the default hidden behavior on the sphinx rendered scikit-learn.org. See: https://github.com/scikit-learn/scikit-learn/issues/21755 */display: inline-block !important;position: relative;}#sk-container-id-4 div.sk-text-repr-fallback {display: none;}</style><div id=\"sk-container-id-4\" class=\"sk-top-container\"><div class=\"sk-text-repr-fallback\"><pre>GridSearchCV(estimator=&lt;catboost.core.CatBoostRegressor object at 0x0000023F887714D0&gt;,\n",
       "             param_grid=[{&#x27;learning_rate&#x27;: [0.1, 0.5, 0.8],\n",
       "                          &#x27;random_state&#x27;: [12345], &#x27;verbose&#x27;: [False]}],\n",
       "             scoring=&#x27;neg_mean_squared_error&#x27;)</pre><b>In a Jupyter environment, please rerun this cell to show the HTML representation or trust the notebook. <br />On GitHub, the HTML representation is unable to render, please try loading this page with nbviewer.org.</b></div><div class=\"sk-container\" hidden><div class=\"sk-item sk-dashed-wrapped\"><div class=\"sk-label-container\"><div class=\"sk-label sk-toggleable\"><input class=\"sk-toggleable__control sk-hidden--visually\" id=\"sk-estimator-id-6\" type=\"checkbox\" ><label for=\"sk-estimator-id-6\" class=\"sk-toggleable__label sk-toggleable__label-arrow\">GridSearchCV</label><div class=\"sk-toggleable__content\"><pre>GridSearchCV(estimator=&lt;catboost.core.CatBoostRegressor object at 0x0000023F887714D0&gt;,\n",
       "             param_grid=[{&#x27;learning_rate&#x27;: [0.1, 0.5, 0.8],\n",
       "                          &#x27;random_state&#x27;: [12345], &#x27;verbose&#x27;: [False]}],\n",
       "             scoring=&#x27;neg_mean_squared_error&#x27;)</pre></div></div></div><div class=\"sk-parallel\"><div class=\"sk-parallel-item\"><div class=\"sk-item\"><div class=\"sk-label-container\"><div class=\"sk-label sk-toggleable\"><input class=\"sk-toggleable__control sk-hidden--visually\" id=\"sk-estimator-id-7\" type=\"checkbox\" ><label for=\"sk-estimator-id-7\" class=\"sk-toggleable__label sk-toggleable__label-arrow\">estimator: CatBoostRegressor</label><div class=\"sk-toggleable__content\"><pre>&lt;catboost.core.CatBoostRegressor object at 0x0000023F887714D0&gt;</pre></div></div></div><div class=\"sk-serial\"><div class=\"sk-item\"><div class=\"sk-estimator sk-toggleable\"><input class=\"sk-toggleable__control sk-hidden--visually\" id=\"sk-estimator-id-8\" type=\"checkbox\" ><label for=\"sk-estimator-id-8\" class=\"sk-toggleable__label sk-toggleable__label-arrow\">CatBoostRegressor</label><div class=\"sk-toggleable__content\"><pre>&lt;catboost.core.CatBoostRegressor object at 0x0000023F887714D0&gt;</pre></div></div></div></div></div></div></div></div></div></div>"
      ],
      "text/plain": [
       "GridSearchCV(estimator=<catboost.core.CatBoostRegressor object at 0x0000023F887714D0>,\n",
       "             param_grid=[{'learning_rate': [0.1, 0.5, 0.8],\n",
       "                          'random_state': [12345], 'verbose': [False]}],\n",
       "             scoring='neg_mean_squared_error')"
      ]
     },
     "execution_count": 65,
     "metadata": {},
     "output_type": "execute_result"
    }
   ],
   "source": [
    "%%time\n",
    "model_cat = CatBoostRegressor()\n",
    "params_cat = [{'learning_rate':[0.1, 0.5, 0.8],\n",
    "         'random_state':[12345],\n",
    "         'verbose':[False]}]\n",
    "grid_cat = GridSearchCV(model_cat, params_cat, scoring='neg_mean_squared_error')\n",
    "grid_cat.fit(features_train_ord, target_train)\n",
    "\n"
   ]
  },
  {
   "cell_type": "code",
   "execution_count": 66,
   "metadata": {},
   "outputs": [
    {
     "name": "stdout",
     "output_type": "stream",
     "text": [
      "Лучшие модели\n",
      "{'learning_rate': 0.5, 'random_state': 12345, 'verbose': False}\n"
     ]
    }
   ],
   "source": [
    "print(\"Лучшие модели\")\n",
    "print(grid_cat.best_params_)"
   ]
  },
  {
   "cell_type": "code",
   "execution_count": 67,
   "metadata": {},
   "outputs": [
    {
     "name": "stdout",
     "output_type": "stream",
     "text": [
      "RMSE для случайного леса = 1631.1665142605952\n"
     ]
    }
   ],
   "source": [
    "print('RMSE для случайного леса =', (grid_cat.best_score_.mean() * -1) ** .5)"
   ]
  },
  {
   "cell_type": "markdown",
   "metadata": {},
   "source": [
    "*измерим время обучения и скорость предсказания на лучших гиперпараметрах*"
   ]
  },
  {
   "cell_type": "code",
   "execution_count": 68,
   "metadata": {},
   "outputs": [
    {
     "name": "stdout",
     "output_type": "stream",
     "text": [
      "CPU times: total: 1min 54s\n",
      "Wall time: 1min 38s\n"
     ]
    },
    {
     "data": {
      "text/plain": [
       "<catboost.core.CatBoostRegressor at 0x23f88771690>"
      ]
     },
     "execution_count": 68,
     "metadata": {},
     "output_type": "execute_result"
    }
   ],
   "source": [
    "%%time\n",
    "model_cat2 = CatBoostRegressor(learning_rate=0.5, random_state=12345, verbose=False, cat_features=cat_columns)\n",
    "model_cat2.fit(features_train, target_train)"
   ]
  },
  {
   "cell_type": "code",
   "execution_count": 69,
   "metadata": {},
   "outputs": [
    {
     "name": "stdout",
     "output_type": "stream",
     "text": [
      "RMSE для CatBoost на валидационной выборке = 1652.427488381316\n",
      "CPU times: total: 1.11 s\n",
      "Wall time: 217 ms\n"
     ]
    }
   ],
   "source": [
    "%%time\n",
    "predictions_valid = model_cat2.predict(features_valid)\n",
    "result = mean_squared_error(target_valid, predictions_valid) ** .5\n",
    "print('RMSE для CatBoost на валидационной выборке =', result)"
   ]
  },
  {
   "cell_type": "markdown",
   "metadata": {},
   "source": [
    "### Градиентный бустинг LightGBM"
   ]
  },
  {
   "cell_type": "code",
   "execution_count": 70,
   "metadata": {},
   "outputs": [
    {
     "name": "stdout",
     "output_type": "stream",
     "text": [
      "[LightGBM] [Info] Auto-choosing row-wise multi-threading, the overhead of testing was 0.005197 seconds.\n",
      "You can set `force_row_wise=true` to remove the overhead.\n",
      "And if memory is not enough, you can set `force_col_wise=true`.\n",
      "[LightGBM] [Info] Total Bins 392\n",
      "[LightGBM] [Info] Number of data points in the train set: 146722, number of used features: 8\n",
      "[LightGBM] [Info] Start training from score 4821.106426\n",
      "[LightGBM] [Info] Auto-choosing row-wise multi-threading, the overhead of testing was 0.003106 seconds.\n",
      "You can set `force_row_wise=true` to remove the overhead.\n",
      "And if memory is not enough, you can set `force_col_wise=true`.\n",
      "[LightGBM] [Info] Total Bins 392\n",
      "[LightGBM] [Info] Number of data points in the train set: 146722, number of used features: 8\n",
      "[LightGBM] [Info] Start training from score 4824.910886\n",
      "[LightGBM] [Info] Auto-choosing row-wise multi-threading, the overhead of testing was 0.003490 seconds.\n",
      "You can set `force_row_wise=true` to remove the overhead.\n",
      "And if memory is not enough, you can set `force_col_wise=true`.\n",
      "[LightGBM] [Info] Total Bins 392\n",
      "[LightGBM] [Info] Number of data points in the train set: 146722, number of used features: 8\n",
      "[LightGBM] [Info] Start training from score 4835.577453\n",
      "[LightGBM] [Info] Auto-choosing row-wise multi-threading, the overhead of testing was 0.002981 seconds.\n",
      "You can set `force_row_wise=true` to remove the overhead.\n",
      "And if memory is not enough, you can set `force_col_wise=true`.\n",
      "[LightGBM] [Info] Total Bins 392\n",
      "[LightGBM] [Info] Number of data points in the train set: 146723, number of used features: 8\n",
      "[LightGBM] [Info] Start training from score 4820.643192\n",
      "[LightGBM] [Info] Auto-choosing row-wise multi-threading, the overhead of testing was 0.002834 seconds.\n",
      "You can set `force_row_wise=true` to remove the overhead.\n",
      "And if memory is not enough, you can set `force_col_wise=true`.\n",
      "[LightGBM] [Info] Total Bins 392\n",
      "[LightGBM] [Info] Number of data points in the train set: 146723, number of used features: 8\n",
      "[LightGBM] [Info] Start training from score 4821.728250\n",
      "[LightGBM] [Info] Auto-choosing row-wise multi-threading, the overhead of testing was 0.003455 seconds.\n",
      "You can set `force_row_wise=true` to remove the overhead.\n",
      "And if memory is not enough, you can set `force_col_wise=true`.\n",
      "[LightGBM] [Info] Total Bins 392\n",
      "[LightGBM] [Info] Number of data points in the train set: 146722, number of used features: 8\n",
      "[LightGBM] [Info] Start training from score 4821.106426\n",
      "[LightGBM] [Info] Auto-choosing row-wise multi-threading, the overhead of testing was 0.004330 seconds.\n",
      "You can set `force_row_wise=true` to remove the overhead.\n",
      "And if memory is not enough, you can set `force_col_wise=true`.\n",
      "[LightGBM] [Info] Total Bins 392\n",
      "[LightGBM] [Info] Number of data points in the train set: 146722, number of used features: 8\n",
      "[LightGBM] [Info] Start training from score 4824.910886\n",
      "[LightGBM] [Info] Auto-choosing row-wise multi-threading, the overhead of testing was 0.004571 seconds.\n",
      "You can set `force_row_wise=true` to remove the overhead.\n",
      "And if memory is not enough, you can set `force_col_wise=true`.\n",
      "[LightGBM] [Info] Total Bins 392\n",
      "[LightGBM] [Info] Number of data points in the train set: 146722, number of used features: 8\n",
      "[LightGBM] [Info] Start training from score 4835.577453\n",
      "[LightGBM] [Info] Auto-choosing row-wise multi-threading, the overhead of testing was 0.003261 seconds.\n",
      "You can set `force_row_wise=true` to remove the overhead.\n",
      "And if memory is not enough, you can set `force_col_wise=true`.\n",
      "[LightGBM] [Info] Total Bins 392\n",
      "[LightGBM] [Info] Number of data points in the train set: 146723, number of used features: 8\n",
      "[LightGBM] [Info] Start training from score 4820.643192\n",
      "[LightGBM] [Info] Auto-choosing row-wise multi-threading, the overhead of testing was 0.004172 seconds.\n",
      "You can set `force_row_wise=true` to remove the overhead.\n",
      "And if memory is not enough, you can set `force_col_wise=true`.\n",
      "[LightGBM] [Info] Total Bins 392\n",
      "[LightGBM] [Info] Number of data points in the train set: 146723, number of used features: 8\n",
      "[LightGBM] [Info] Start training from score 4821.728250\n",
      "[LightGBM] [Info] Auto-choosing row-wise multi-threading, the overhead of testing was 0.004535 seconds.\n",
      "You can set `force_row_wise=true` to remove the overhead.\n",
      "And if memory is not enough, you can set `force_col_wise=true`.\n",
      "[LightGBM] [Info] Total Bins 392\n",
      "[LightGBM] [Info] Number of data points in the train set: 146722, number of used features: 8\n",
      "[LightGBM] [Info] Start training from score 4821.106426\n",
      "[LightGBM] [Info] Auto-choosing row-wise multi-threading, the overhead of testing was 0.003214 seconds.\n",
      "You can set `force_row_wise=true` to remove the overhead.\n",
      "And if memory is not enough, you can set `force_col_wise=true`.\n",
      "[LightGBM] [Info] Total Bins 392\n",
      "[LightGBM] [Info] Number of data points in the train set: 146722, number of used features: 8\n",
      "[LightGBM] [Info] Start training from score 4824.910886\n",
      "[LightGBM] [Info] Auto-choosing row-wise multi-threading, the overhead of testing was 0.004138 seconds.\n",
      "You can set `force_row_wise=true` to remove the overhead.\n",
      "And if memory is not enough, you can set `force_col_wise=true`.\n",
      "[LightGBM] [Info] Total Bins 392\n",
      "[LightGBM] [Info] Number of data points in the train set: 146722, number of used features: 8\n",
      "[LightGBM] [Info] Start training from score 4835.577453\n",
      "[LightGBM] [Info] Auto-choosing row-wise multi-threading, the overhead of testing was 0.004087 seconds.\n",
      "You can set `force_row_wise=true` to remove the overhead.\n",
      "And if memory is not enough, you can set `force_col_wise=true`.\n",
      "[LightGBM] [Info] Total Bins 392\n",
      "[LightGBM] [Info] Number of data points in the train set: 146723, number of used features: 8\n",
      "[LightGBM] [Info] Start training from score 4820.643192\n",
      "[LightGBM] [Info] Auto-choosing row-wise multi-threading, the overhead of testing was 0.003949 seconds.\n",
      "You can set `force_row_wise=true` to remove the overhead.\n",
      "And if memory is not enough, you can set `force_col_wise=true`.\n",
      "[LightGBM] [Info] Total Bins 392\n",
      "[LightGBM] [Info] Number of data points in the train set: 146723, number of used features: 8\n",
      "[LightGBM] [Info] Start training from score 4821.728250\n",
      "[LightGBM] [Info] Auto-choosing row-wise multi-threading, the overhead of testing was 0.003717 seconds.\n",
      "You can set `force_row_wise=true` to remove the overhead.\n",
      "And if memory is not enough, you can set `force_col_wise=true`.\n",
      "[LightGBM] [Info] Total Bins 392\n",
      "[LightGBM] [Info] Number of data points in the train set: 183403, number of used features: 8\n",
      "[LightGBM] [Info] Start training from score 4824.793231\n",
      "CPU times: total: 46.4 s\n",
      "Wall time: 6.68 s\n"
     ]
    },
    {
     "data": {
      "text/html": [
       "<style>#sk-container-id-5 {color: black;background-color: white;}#sk-container-id-5 pre{padding: 0;}#sk-container-id-5 div.sk-toggleable {background-color: white;}#sk-container-id-5 label.sk-toggleable__label {cursor: pointer;display: block;width: 100%;margin-bottom: 0;padding: 0.3em;box-sizing: border-box;text-align: center;}#sk-container-id-5 label.sk-toggleable__label-arrow:before {content: \"▸\";float: left;margin-right: 0.25em;color: #696969;}#sk-container-id-5 label.sk-toggleable__label-arrow:hover:before {color: black;}#sk-container-id-5 div.sk-estimator:hover label.sk-toggleable__label-arrow:before {color: black;}#sk-container-id-5 div.sk-toggleable__content {max-height: 0;max-width: 0;overflow: hidden;text-align: left;background-color: #f0f8ff;}#sk-container-id-5 div.sk-toggleable__content pre {margin: 0.2em;color: black;border-radius: 0.25em;background-color: #f0f8ff;}#sk-container-id-5 input.sk-toggleable__control:checked~div.sk-toggleable__content {max-height: 200px;max-width: 100%;overflow: auto;}#sk-container-id-5 input.sk-toggleable__control:checked~label.sk-toggleable__label-arrow:before {content: \"▾\";}#sk-container-id-5 div.sk-estimator input.sk-toggleable__control:checked~label.sk-toggleable__label {background-color: #d4ebff;}#sk-container-id-5 div.sk-label input.sk-toggleable__control:checked~label.sk-toggleable__label {background-color: #d4ebff;}#sk-container-id-5 input.sk-hidden--visually {border: 0;clip: rect(1px 1px 1px 1px);clip: rect(1px, 1px, 1px, 1px);height: 1px;margin: -1px;overflow: hidden;padding: 0;position: absolute;width: 1px;}#sk-container-id-5 div.sk-estimator {font-family: monospace;background-color: #f0f8ff;border: 1px dotted black;border-radius: 0.25em;box-sizing: border-box;margin-bottom: 0.5em;}#sk-container-id-5 div.sk-estimator:hover {background-color: #d4ebff;}#sk-container-id-5 div.sk-parallel-item::after {content: \"\";width: 100%;border-bottom: 1px solid gray;flex-grow: 1;}#sk-container-id-5 div.sk-label:hover label.sk-toggleable__label {background-color: #d4ebff;}#sk-container-id-5 div.sk-serial::before {content: \"\";position: absolute;border-left: 1px solid gray;box-sizing: border-box;top: 0;bottom: 0;left: 50%;z-index: 0;}#sk-container-id-5 div.sk-serial {display: flex;flex-direction: column;align-items: center;background-color: white;padding-right: 0.2em;padding-left: 0.2em;position: relative;}#sk-container-id-5 div.sk-item {position: relative;z-index: 1;}#sk-container-id-5 div.sk-parallel {display: flex;align-items: stretch;justify-content: center;background-color: white;position: relative;}#sk-container-id-5 div.sk-item::before, #sk-container-id-5 div.sk-parallel-item::before {content: \"\";position: absolute;border-left: 1px solid gray;box-sizing: border-box;top: 0;bottom: 0;left: 50%;z-index: -1;}#sk-container-id-5 div.sk-parallel-item {display: flex;flex-direction: column;z-index: 1;position: relative;background-color: white;}#sk-container-id-5 div.sk-parallel-item:first-child::after {align-self: flex-end;width: 50%;}#sk-container-id-5 div.sk-parallel-item:last-child::after {align-self: flex-start;width: 50%;}#sk-container-id-5 div.sk-parallel-item:only-child::after {width: 0;}#sk-container-id-5 div.sk-dashed-wrapped {border: 1px dashed gray;margin: 0 0.4em 0.5em 0.4em;box-sizing: border-box;padding-bottom: 0.4em;background-color: white;}#sk-container-id-5 div.sk-label label {font-family: monospace;font-weight: bold;display: inline-block;line-height: 1.2em;}#sk-container-id-5 div.sk-label-container {text-align: center;}#sk-container-id-5 div.sk-container {/* jupyter's `normalize.less` sets `[hidden] { display: none; }` but bootstrap.min.css set `[hidden] { display: none !important; }` so we also need the `!important` here to be able to override the default hidden behavior on the sphinx rendered scikit-learn.org. See: https://github.com/scikit-learn/scikit-learn/issues/21755 */display: inline-block !important;position: relative;}#sk-container-id-5 div.sk-text-repr-fallback {display: none;}</style><div id=\"sk-container-id-5\" class=\"sk-top-container\"><div class=\"sk-text-repr-fallback\"><pre>GridSearchCV(estimator=LGBMRegressor(),\n",
       "             param_grid=[{&#x27;learning_rate&#x27;: [0.3], &#x27;num_leaves&#x27;: [11, 50, 100],\n",
       "                          &#x27;random_state&#x27;: [123450]}],\n",
       "             scoring=&#x27;neg_mean_squared_error&#x27;)</pre><b>In a Jupyter environment, please rerun this cell to show the HTML representation or trust the notebook. <br />On GitHub, the HTML representation is unable to render, please try loading this page with nbviewer.org.</b></div><div class=\"sk-container\" hidden><div class=\"sk-item sk-dashed-wrapped\"><div class=\"sk-label-container\"><div class=\"sk-label sk-toggleable\"><input class=\"sk-toggleable__control sk-hidden--visually\" id=\"sk-estimator-id-9\" type=\"checkbox\" ><label for=\"sk-estimator-id-9\" class=\"sk-toggleable__label sk-toggleable__label-arrow\">GridSearchCV</label><div class=\"sk-toggleable__content\"><pre>GridSearchCV(estimator=LGBMRegressor(),\n",
       "             param_grid=[{&#x27;learning_rate&#x27;: [0.3], &#x27;num_leaves&#x27;: [11, 50, 100],\n",
       "                          &#x27;random_state&#x27;: [123450]}],\n",
       "             scoring=&#x27;neg_mean_squared_error&#x27;)</pre></div></div></div><div class=\"sk-parallel\"><div class=\"sk-parallel-item\"><div class=\"sk-item\"><div class=\"sk-label-container\"><div class=\"sk-label sk-toggleable\"><input class=\"sk-toggleable__control sk-hidden--visually\" id=\"sk-estimator-id-10\" type=\"checkbox\" ><label for=\"sk-estimator-id-10\" class=\"sk-toggleable__label sk-toggleable__label-arrow\">estimator: LGBMRegressor</label><div class=\"sk-toggleable__content\"><pre>LGBMRegressor()</pre></div></div></div><div class=\"sk-serial\"><div class=\"sk-item\"><div class=\"sk-estimator sk-toggleable\"><input class=\"sk-toggleable__control sk-hidden--visually\" id=\"sk-estimator-id-11\" type=\"checkbox\" ><label for=\"sk-estimator-id-11\" class=\"sk-toggleable__label sk-toggleable__label-arrow\">LGBMRegressor</label><div class=\"sk-toggleable__content\"><pre>LGBMRegressor()</pre></div></div></div></div></div></div></div></div></div></div>"
      ],
      "text/plain": [
       "GridSearchCV(estimator=LGBMRegressor(),\n",
       "             param_grid=[{'learning_rate': [0.3], 'num_leaves': [11, 50, 100],\n",
       "                          'random_state': [123450]}],\n",
       "             scoring='neg_mean_squared_error')"
      ]
     },
     "execution_count": 70,
     "metadata": {},
     "output_type": "execute_result"
    }
   ],
   "source": [
    "%%time\n",
    "model_lgbm = LGBMRegressor()\n",
    "params_lgbm = [{'num_leaves':[11, 50, 100], \n",
    "                'learning_rate':[0.3],\n",
    "                'random_state':[123450]}]\n",
    "\n",
    "grid_lgbm = GridSearchCV(model_lgbm, params_lgbm, scoring='neg_mean_squared_error')\n",
    "grid_lgbm.fit(features_train_ord, target_train)"
   ]
  },
  {
   "cell_type": "code",
   "execution_count": 71,
   "metadata": {},
   "outputs": [
    {
     "name": "stdout",
     "output_type": "stream",
     "text": [
      "Лучшие модели\n",
      "{'learning_rate': 0.3, 'num_leaves': 100, 'random_state': 123450}\n"
     ]
    }
   ],
   "source": [
    "print(\"Лучшие модели\")\n",
    "print(grid_lgbm.best_params_)"
   ]
  },
  {
   "cell_type": "code",
   "execution_count": 72,
   "metadata": {},
   "outputs": [
    {
     "name": "stdout",
     "output_type": "stream",
     "text": [
      "RMSE для LightGBM = 1626.6783492350949\n"
     ]
    }
   ],
   "source": [
    "print('RMSE для LightGBM =', (grid_lgbm.best_score_.mean() * -1) ** .5)"
   ]
  },
  {
   "cell_type": "markdown",
   "metadata": {},
   "source": [
    "*измерим время обучения и скорость предсказания на лучших гиперпараметрах*"
   ]
  },
  {
   "cell_type": "code",
   "execution_count": 77,
   "metadata": {},
   "outputs": [
    {
     "name": "stdout",
     "output_type": "stream",
     "text": [
      "[LightGBM] [Info] Auto-choosing row-wise multi-threading, the overhead of testing was 0.004766 seconds.\n",
      "You can set `force_row_wise=true` to remove the overhead.\n",
      "And if memory is not enough, you can set `force_col_wise=true`.\n",
      "[LightGBM] [Info] Total Bins 392\n",
      "[LightGBM] [Info] Number of data points in the train set: 183403, number of used features: 8\n",
      "[LightGBM] [Info] Start training from score 4824.793231\n",
      "CPU times: total: 4.05 s\n",
      "Wall time: 610 ms\n"
     ]
    },
    {
     "data": {
      "text/html": [
       "<style>#sk-container-id-6 {color: black;background-color: white;}#sk-container-id-6 pre{padding: 0;}#sk-container-id-6 div.sk-toggleable {background-color: white;}#sk-container-id-6 label.sk-toggleable__label {cursor: pointer;display: block;width: 100%;margin-bottom: 0;padding: 0.3em;box-sizing: border-box;text-align: center;}#sk-container-id-6 label.sk-toggleable__label-arrow:before {content: \"▸\";float: left;margin-right: 0.25em;color: #696969;}#sk-container-id-6 label.sk-toggleable__label-arrow:hover:before {color: black;}#sk-container-id-6 div.sk-estimator:hover label.sk-toggleable__label-arrow:before {color: black;}#sk-container-id-6 div.sk-toggleable__content {max-height: 0;max-width: 0;overflow: hidden;text-align: left;background-color: #f0f8ff;}#sk-container-id-6 div.sk-toggleable__content pre {margin: 0.2em;color: black;border-radius: 0.25em;background-color: #f0f8ff;}#sk-container-id-6 input.sk-toggleable__control:checked~div.sk-toggleable__content {max-height: 200px;max-width: 100%;overflow: auto;}#sk-container-id-6 input.sk-toggleable__control:checked~label.sk-toggleable__label-arrow:before {content: \"▾\";}#sk-container-id-6 div.sk-estimator input.sk-toggleable__control:checked~label.sk-toggleable__label {background-color: #d4ebff;}#sk-container-id-6 div.sk-label input.sk-toggleable__control:checked~label.sk-toggleable__label {background-color: #d4ebff;}#sk-container-id-6 input.sk-hidden--visually {border: 0;clip: rect(1px 1px 1px 1px);clip: rect(1px, 1px, 1px, 1px);height: 1px;margin: -1px;overflow: hidden;padding: 0;position: absolute;width: 1px;}#sk-container-id-6 div.sk-estimator {font-family: monospace;background-color: #f0f8ff;border: 1px dotted black;border-radius: 0.25em;box-sizing: border-box;margin-bottom: 0.5em;}#sk-container-id-6 div.sk-estimator:hover {background-color: #d4ebff;}#sk-container-id-6 div.sk-parallel-item::after {content: \"\";width: 100%;border-bottom: 1px solid gray;flex-grow: 1;}#sk-container-id-6 div.sk-label:hover label.sk-toggleable__label {background-color: #d4ebff;}#sk-container-id-6 div.sk-serial::before {content: \"\";position: absolute;border-left: 1px solid gray;box-sizing: border-box;top: 0;bottom: 0;left: 50%;z-index: 0;}#sk-container-id-6 div.sk-serial {display: flex;flex-direction: column;align-items: center;background-color: white;padding-right: 0.2em;padding-left: 0.2em;position: relative;}#sk-container-id-6 div.sk-item {position: relative;z-index: 1;}#sk-container-id-6 div.sk-parallel {display: flex;align-items: stretch;justify-content: center;background-color: white;position: relative;}#sk-container-id-6 div.sk-item::before, #sk-container-id-6 div.sk-parallel-item::before {content: \"\";position: absolute;border-left: 1px solid gray;box-sizing: border-box;top: 0;bottom: 0;left: 50%;z-index: -1;}#sk-container-id-6 div.sk-parallel-item {display: flex;flex-direction: column;z-index: 1;position: relative;background-color: white;}#sk-container-id-6 div.sk-parallel-item:first-child::after {align-self: flex-end;width: 50%;}#sk-container-id-6 div.sk-parallel-item:last-child::after {align-self: flex-start;width: 50%;}#sk-container-id-6 div.sk-parallel-item:only-child::after {width: 0;}#sk-container-id-6 div.sk-dashed-wrapped {border: 1px dashed gray;margin: 0 0.4em 0.5em 0.4em;box-sizing: border-box;padding-bottom: 0.4em;background-color: white;}#sk-container-id-6 div.sk-label label {font-family: monospace;font-weight: bold;display: inline-block;line-height: 1.2em;}#sk-container-id-6 div.sk-label-container {text-align: center;}#sk-container-id-6 div.sk-container {/* jupyter's `normalize.less` sets `[hidden] { display: none; }` but bootstrap.min.css set `[hidden] { display: none !important; }` so we also need the `!important` here to be able to override the default hidden behavior on the sphinx rendered scikit-learn.org. See: https://github.com/scikit-learn/scikit-learn/issues/21755 */display: inline-block !important;position: relative;}#sk-container-id-6 div.sk-text-repr-fallback {display: none;}</style><div id=\"sk-container-id-6\" class=\"sk-top-container\"><div class=\"sk-text-repr-fallback\"><pre>LGBMRegressor(learning_rate=0.3, num_leaves=100, random_state=123450)</pre><b>In a Jupyter environment, please rerun this cell to show the HTML representation or trust the notebook. <br />On GitHub, the HTML representation is unable to render, please try loading this page with nbviewer.org.</b></div><div class=\"sk-container\" hidden><div class=\"sk-item\"><div class=\"sk-estimator sk-toggleable\"><input class=\"sk-toggleable__control sk-hidden--visually\" id=\"sk-estimator-id-12\" type=\"checkbox\" checked><label for=\"sk-estimator-id-12\" class=\"sk-toggleable__label sk-toggleable__label-arrow\">LGBMRegressor</label><div class=\"sk-toggleable__content\"><pre>LGBMRegressor(learning_rate=0.3, num_leaves=100, random_state=123450)</pre></div></div></div></div></div>"
      ],
      "text/plain": [
       "LGBMRegressor(learning_rate=0.3, num_leaves=100, random_state=123450)"
      ]
     },
     "execution_count": 77,
     "metadata": {},
     "output_type": "execute_result"
    }
   ],
   "source": [
    "%%time\n",
    "model_lgbm2 = LGBMRegressor(learning_rate=0.3, random_state=123450, num_leaves=100)\n",
    "model_lgbm2.fit(features_train_ord, target_train)"
   ]
  },
  {
   "cell_type": "code",
   "execution_count": 78,
   "metadata": {},
   "outputs": [
    {
     "name": "stdout",
     "output_type": "stream",
     "text": [
      "RMSE для LightGBM на валидационной выборке = 1644.7627008459194\n",
      "CPU times: total: 484 ms\n",
      "Wall time: 71.6 ms\n"
     ]
    }
   ],
   "source": [
    "%%time\n",
    "predictions_valid = model_lgbm2.predict(features_valid_ord)\n",
    "result = mean_squared_error(target_valid, predictions_valid) ** .5\n",
    "print('RMSE для LightGBM на валидационной выборке =', result)"
   ]
  },
  {
   "cell_type": "markdown",
   "metadata": {},
   "source": [
    "## Анализ моделей"
   ]
  },
  {
   "cell_type": "markdown",
   "metadata": {},
   "source": [
    "В ходе исслелования мы обучили несколько моделей:\n",
    "- Линейная регрессия\n",
    "- Дерево решений \n",
    "- Градиентный бустинг CatBoost \n",
    "- Градиентный бустинг LightGBM\n",
    "\n",
    "Давайте, построим таблицу, чтобы нам легче было визуализировать результаты\n"
   ]
  },
  {
   "cell_type": "code",
   "execution_count": 79,
   "metadata": {},
   "outputs": [],
   "source": [
    "results_df = pd.DataFrame(\n",
    "    {\n",
    "        'модель': ['Линейная Регрессия', 'Случайный лес', 'Градиентный бустинг CatBoost', 'Градиентный бустинг LightGBM'], \n",
    "        'время обучения': ['4.05s', '46.9 s', '3min 18s', '6.41 s'],\n",
    "        'скорость предсказания': ['15.3 ms', '2.83 s', '748 ms', '1.04 s'],\n",
    "        'rmse на валидационной выборки':[2850, 1685, 1652, 1644]\n",
    "    })"
   ]
  },
  {
   "cell_type": "code",
   "execution_count": 80,
   "metadata": {},
   "outputs": [
    {
     "data": {
      "text/html": [
       "<div>\n",
       "<style scoped>\n",
       "    .dataframe tbody tr th:only-of-type {\n",
       "        vertical-align: middle;\n",
       "    }\n",
       "\n",
       "    .dataframe tbody tr th {\n",
       "        vertical-align: top;\n",
       "    }\n",
       "\n",
       "    .dataframe thead th {\n",
       "        text-align: right;\n",
       "    }\n",
       "</style>\n",
       "<table border=\"1\" class=\"dataframe\">\n",
       "  <thead>\n",
       "    <tr style=\"text-align: right;\">\n",
       "      <th></th>\n",
       "      <th>модель</th>\n",
       "      <th>время обучения</th>\n",
       "      <th>скорость предсказания</th>\n",
       "      <th>rmse на валидационной выборки</th>\n",
       "    </tr>\n",
       "  </thead>\n",
       "  <tbody>\n",
       "    <tr>\n",
       "      <th>0</th>\n",
       "      <td>Линейная Регрессия</td>\n",
       "      <td>4.05s</td>\n",
       "      <td>15.3 ms</td>\n",
       "      <td>2850</td>\n",
       "    </tr>\n",
       "    <tr>\n",
       "      <th>1</th>\n",
       "      <td>Случайный лес</td>\n",
       "      <td>46.9 s</td>\n",
       "      <td>2.83 s</td>\n",
       "      <td>1685</td>\n",
       "    </tr>\n",
       "    <tr>\n",
       "      <th>2</th>\n",
       "      <td>Градиентный бустинг CatBoost</td>\n",
       "      <td>3min 18s</td>\n",
       "      <td>748 ms</td>\n",
       "      <td>1652</td>\n",
       "    </tr>\n",
       "    <tr>\n",
       "      <th>3</th>\n",
       "      <td>Градиентный бустинг LightGBM</td>\n",
       "      <td>6.41 s</td>\n",
       "      <td>1.04 s</td>\n",
       "      <td>1644</td>\n",
       "    </tr>\n",
       "  </tbody>\n",
       "</table>\n",
       "</div>"
      ],
      "text/plain": [
       "                         модель время обучения скорость предсказания  \\\n",
       "0            Линейная Регрессия          4.05s               15.3 ms   \n",
       "1                 Случайный лес         46.9 s                2.83 s   \n",
       "2  Градиентный бустинг CatBoost       3min 18s                748 ms   \n",
       "3  Градиентный бустинг LightGBM         6.41 s                1.04 s   \n",
       "\n",
       "   rmse на валидационной выборки  \n",
       "0                           2850  \n",
       "1                           1685  \n",
       "2                           1652  \n",
       "3                           1644  "
      ]
     },
     "execution_count": 80,
     "metadata": {},
     "output_type": "execute_result"
    }
   ],
   "source": [
    "results_df"
   ]
  },
  {
   "cell_type": "markdown",
   "metadata": {},
   "source": [
    "## Тестирование лучшей модели"
   ]
  },
  {
   "cell_type": "markdown",
   "metadata": {},
   "source": [
    "По итогам анализа, лучшей моделью мы выбрали Случайный лес. \n",
    "модель на тестовой выборке"
   ]
  },
  {
   "cell_type": "code",
   "execution_count": 81,
   "metadata": {},
   "outputs": [
    {
     "name": "stdout",
     "output_type": "stream",
     "text": [
      "CPU times: total: 48.2 s\n",
      "Wall time: 48.5 s\n"
     ]
    },
    {
     "data": {
      "text/html": [
       "<style>#sk-container-id-7 {color: black;background-color: white;}#sk-container-id-7 pre{padding: 0;}#sk-container-id-7 div.sk-toggleable {background-color: white;}#sk-container-id-7 label.sk-toggleable__label {cursor: pointer;display: block;width: 100%;margin-bottom: 0;padding: 0.3em;box-sizing: border-box;text-align: center;}#sk-container-id-7 label.sk-toggleable__label-arrow:before {content: \"▸\";float: left;margin-right: 0.25em;color: #696969;}#sk-container-id-7 label.sk-toggleable__label-arrow:hover:before {color: black;}#sk-container-id-7 div.sk-estimator:hover label.sk-toggleable__label-arrow:before {color: black;}#sk-container-id-7 div.sk-toggleable__content {max-height: 0;max-width: 0;overflow: hidden;text-align: left;background-color: #f0f8ff;}#sk-container-id-7 div.sk-toggleable__content pre {margin: 0.2em;color: black;border-radius: 0.25em;background-color: #f0f8ff;}#sk-container-id-7 input.sk-toggleable__control:checked~div.sk-toggleable__content {max-height: 200px;max-width: 100%;overflow: auto;}#sk-container-id-7 input.sk-toggleable__control:checked~label.sk-toggleable__label-arrow:before {content: \"▾\";}#sk-container-id-7 div.sk-estimator input.sk-toggleable__control:checked~label.sk-toggleable__label {background-color: #d4ebff;}#sk-container-id-7 div.sk-label input.sk-toggleable__control:checked~label.sk-toggleable__label {background-color: #d4ebff;}#sk-container-id-7 input.sk-hidden--visually {border: 0;clip: rect(1px 1px 1px 1px);clip: rect(1px, 1px, 1px, 1px);height: 1px;margin: -1px;overflow: hidden;padding: 0;position: absolute;width: 1px;}#sk-container-id-7 div.sk-estimator {font-family: monospace;background-color: #f0f8ff;border: 1px dotted black;border-radius: 0.25em;box-sizing: border-box;margin-bottom: 0.5em;}#sk-container-id-7 div.sk-estimator:hover {background-color: #d4ebff;}#sk-container-id-7 div.sk-parallel-item::after {content: \"\";width: 100%;border-bottom: 1px solid gray;flex-grow: 1;}#sk-container-id-7 div.sk-label:hover label.sk-toggleable__label {background-color: #d4ebff;}#sk-container-id-7 div.sk-serial::before {content: \"\";position: absolute;border-left: 1px solid gray;box-sizing: border-box;top: 0;bottom: 0;left: 50%;z-index: 0;}#sk-container-id-7 div.sk-serial {display: flex;flex-direction: column;align-items: center;background-color: white;padding-right: 0.2em;padding-left: 0.2em;position: relative;}#sk-container-id-7 div.sk-item {position: relative;z-index: 1;}#sk-container-id-7 div.sk-parallel {display: flex;align-items: stretch;justify-content: center;background-color: white;position: relative;}#sk-container-id-7 div.sk-item::before, #sk-container-id-7 div.sk-parallel-item::before {content: \"\";position: absolute;border-left: 1px solid gray;box-sizing: border-box;top: 0;bottom: 0;left: 50%;z-index: -1;}#sk-container-id-7 div.sk-parallel-item {display: flex;flex-direction: column;z-index: 1;position: relative;background-color: white;}#sk-container-id-7 div.sk-parallel-item:first-child::after {align-self: flex-end;width: 50%;}#sk-container-id-7 div.sk-parallel-item:last-child::after {align-self: flex-start;width: 50%;}#sk-container-id-7 div.sk-parallel-item:only-child::after {width: 0;}#sk-container-id-7 div.sk-dashed-wrapped {border: 1px dashed gray;margin: 0 0.4em 0.5em 0.4em;box-sizing: border-box;padding-bottom: 0.4em;background-color: white;}#sk-container-id-7 div.sk-label label {font-family: monospace;font-weight: bold;display: inline-block;line-height: 1.2em;}#sk-container-id-7 div.sk-label-container {text-align: center;}#sk-container-id-7 div.sk-container {/* jupyter's `normalize.less` sets `[hidden] { display: none; }` but bootstrap.min.css set `[hidden] { display: none !important; }` so we also need the `!important` here to be able to override the default hidden behavior on the sphinx rendered scikit-learn.org. See: https://github.com/scikit-learn/scikit-learn/issues/21755 */display: inline-block !important;position: relative;}#sk-container-id-7 div.sk-text-repr-fallback {display: none;}</style><div id=\"sk-container-id-7\" class=\"sk-top-container\"><div class=\"sk-text-repr-fallback\"><pre>RandomForestRegressor(max_depth=100, random_state=12345)</pre><b>In a Jupyter environment, please rerun this cell to show the HTML representation or trust the notebook. <br />On GitHub, the HTML representation is unable to render, please try loading this page with nbviewer.org.</b></div><div class=\"sk-container\" hidden><div class=\"sk-item\"><div class=\"sk-estimator sk-toggleable\"><input class=\"sk-toggleable__control sk-hidden--visually\" id=\"sk-estimator-id-13\" type=\"checkbox\" checked><label for=\"sk-estimator-id-13\" class=\"sk-toggleable__label sk-toggleable__label-arrow\">RandomForestRegressor</label><div class=\"sk-toggleable__content\"><pre>RandomForestRegressor(max_depth=100, random_state=12345)</pre></div></div></div></div></div>"
      ],
      "text/plain": [
       "RandomForestRegressor(max_depth=100, random_state=12345)"
      ]
     },
     "execution_count": 81,
     "metadata": {},
     "output_type": "execute_result"
    }
   ],
   "source": [
    "%%time\n",
    "model_rf3 = RandomForestRegressor(random_state=12345, max_depth=100)\n",
    "model_rf3.fit(features_train_ord, target_train)"
   ]
  },
  {
   "cell_type": "code",
   "execution_count": 82,
   "metadata": {},
   "outputs": [
    {
     "name": "stdout",
     "output_type": "stream",
     "text": [
      "RMSE для случайного леса на тестовой выборке = 1639.2069619402916\n",
      "CPU times: total: 3.23 s\n",
      "Wall time: 3.24 s\n"
     ]
    }
   ],
   "source": [
    "%%time\n",
    "predictions_valid = model_rf3.predict(features_test_ord)\n",
    "result = mean_squared_error(target_test, predictions_valid) ** .5\n",
    "print('RMSE для случайного леса на тестовой выборке =', result)"
   ]
  }
 ],
 "metadata": {
  "ExecuteTimeLog": [
   {
    "duration": 45,
    "start_time": "2023-02-28T21:13:58.355Z"
   },
   {
    "duration": 398,
    "start_time": "2023-02-28T21:14:03.632Z"
   },
   {
    "duration": 1243,
    "start_time": "2023-02-28T21:14:34.817Z"
   },
   {
    "duration": 25,
    "start_time": "2023-02-28T21:15:05.133Z"
   },
   {
    "duration": 20,
    "start_time": "2023-02-28T21:15:13.971Z"
   },
   {
    "duration": 107,
    "start_time": "2023-02-28T21:17:09.551Z"
   },
   {
    "duration": 28,
    "start_time": "2023-02-28T21:38:36.052Z"
   },
   {
    "duration": 559,
    "start_time": "2023-02-28T21:38:44.658Z"
   },
   {
    "duration": 132,
    "start_time": "2023-02-28T21:38:55.951Z"
   },
   {
    "duration": 123,
    "start_time": "2023-02-28T21:39:25.172Z"
   },
   {
    "duration": 493,
    "start_time": "2023-02-28T21:39:59.839Z"
   },
   {
    "duration": 4664,
    "start_time": "2023-02-28T21:40:07.437Z"
   },
   {
    "duration": 2372,
    "start_time": "2023-03-02T22:40:10.094Z"
   },
   {
    "duration": 5524,
    "start_time": "2023-03-02T22:40:12.469Z"
   },
   {
    "duration": 49,
    "start_time": "2023-03-02T22:40:17.997Z"
   },
   {
    "duration": 312,
    "start_time": "2023-03-02T22:40:18.048Z"
   },
   {
    "duration": 454,
    "start_time": "2023-03-02T22:40:18.362Z"
   },
   {
    "duration": 8875,
    "start_time": "2023-03-02T22:40:18.818Z"
   },
   {
    "duration": 171,
    "start_time": "2023-03-02T22:47:07.163Z"
   },
   {
    "duration": 3,
    "start_time": "2023-03-02T22:47:18.315Z"
   },
   {
    "duration": 4,
    "start_time": "2023-03-02T22:50:05.007Z"
   },
   {
    "duration": 6,
    "start_time": "2023-03-02T22:52:15.466Z"
   },
   {
    "duration": 11,
    "start_time": "2023-03-02T22:52:16.222Z"
   },
   {
    "duration": 1519,
    "start_time": "2023-03-02T22:52:50.367Z"
   },
   {
    "duration": 930,
    "start_time": "2023-03-02T22:52:51.888Z"
   },
   {
    "duration": 40,
    "start_time": "2023-03-02T22:52:52.821Z"
   },
   {
    "duration": 175,
    "start_time": "2023-03-02T22:52:52.864Z"
   },
   {
    "duration": 216,
    "start_time": "2023-03-02T22:52:53.044Z"
   },
   {
    "duration": 6434,
    "start_time": "2023-03-02T22:52:54.393Z"
   },
   {
    "duration": 5,
    "start_time": "2023-03-02T22:53:00.829Z"
   },
   {
    "duration": 6,
    "start_time": "2023-03-02T22:53:04.093Z"
   },
   {
    "duration": 5,
    "start_time": "2023-03-02T22:53:04.996Z"
   },
   {
    "duration": 153,
    "start_time": "2023-03-02T22:56:58.181Z"
   },
   {
    "duration": 150,
    "start_time": "2023-03-02T22:57:35.898Z"
   },
   {
    "duration": 112,
    "start_time": "2023-03-02T22:58:02.515Z"
   },
   {
    "duration": 160,
    "start_time": "2023-03-02T22:59:14.410Z"
   },
   {
    "duration": 107,
    "start_time": "2023-03-02T22:59:25.367Z"
   },
   {
    "duration": 117,
    "start_time": "2023-03-02T22:59:47.505Z"
   },
   {
    "duration": 108,
    "start_time": "2023-03-02T23:00:34.625Z"
   },
   {
    "duration": 171,
    "start_time": "2023-03-02T23:00:44.931Z"
   },
   {
    "duration": 167,
    "start_time": "2023-03-02T23:02:46.774Z"
   },
   {
    "duration": 128,
    "start_time": "2023-03-02T23:03:07.426Z"
   },
   {
    "duration": 124,
    "start_time": "2023-03-02T23:03:24.976Z"
   },
   {
    "duration": 1387,
    "start_time": "2023-03-02T23:03:58.344Z"
   },
   {
    "duration": 1045,
    "start_time": "2023-03-02T23:03:59.733Z"
   },
   {
    "duration": 34,
    "start_time": "2023-03-02T23:04:00.780Z"
   },
   {
    "duration": 172,
    "start_time": "2023-03-02T23:04:00.816Z"
   },
   {
    "duration": 197,
    "start_time": "2023-03-02T23:04:00.996Z"
   },
   {
    "duration": 6234,
    "start_time": "2023-03-02T23:04:01.195Z"
   },
   {
    "duration": 5,
    "start_time": "2023-03-02T23:04:07.431Z"
   },
   {
    "duration": 19,
    "start_time": "2023-03-02T23:04:07.437Z"
   },
   {
    "duration": 50,
    "start_time": "2023-03-02T23:04:07.458Z"
   },
   {
    "duration": 104,
    "start_time": "2023-03-02T23:04:07.511Z"
   },
   {
    "duration": 122,
    "start_time": "2023-03-02T23:05:33.792Z"
   },
   {
    "duration": 119,
    "start_time": "2023-03-02T23:05:45.099Z"
   },
   {
    "duration": 50,
    "start_time": "2023-03-02T23:05:53.323Z"
   },
   {
    "duration": 9,
    "start_time": "2023-03-02T23:06:08.628Z"
   },
   {
    "duration": 3,
    "start_time": "2023-03-02T23:06:21.021Z"
   },
   {
    "duration": 11,
    "start_time": "2023-03-02T23:06:34.519Z"
   },
   {
    "duration": 20,
    "start_time": "2023-03-02T23:06:47.172Z"
   },
   {
    "duration": 1171,
    "start_time": "2023-03-02T23:07:09.507Z"
   },
   {
    "duration": 938,
    "start_time": "2023-03-02T23:07:10.690Z"
   },
   {
    "duration": 35,
    "start_time": "2023-03-02T23:07:11.630Z"
   },
   {
    "duration": 173,
    "start_time": "2023-03-02T23:07:11.667Z"
   },
   {
    "duration": 291,
    "start_time": "2023-03-02T23:07:11.843Z"
   },
   {
    "duration": 6203,
    "start_time": "2023-03-02T23:07:12.136Z"
   },
   {
    "duration": 33,
    "start_time": "2023-03-02T23:07:18.341Z"
   },
   {
    "duration": 28,
    "start_time": "2023-03-02T23:07:18.380Z"
   },
   {
    "duration": 9,
    "start_time": "2023-03-02T23:07:18.411Z"
   },
   {
    "duration": 98,
    "start_time": "2023-03-02T23:07:26.180Z"
   },
   {
    "duration": 22,
    "start_time": "2023-03-02T23:07:27.401Z"
   },
   {
    "duration": 4,
    "start_time": "2023-03-02T23:07:35.702Z"
   },
   {
    "duration": 635,
    "start_time": "2023-03-02T23:08:57.702Z"
   },
   {
    "duration": 602,
    "start_time": "2023-03-02T23:12:21.396Z"
   },
   {
    "duration": 591,
    "start_time": "2023-03-02T23:12:31.668Z"
   },
   {
    "duration": 145,
    "start_time": "2023-03-02T23:13:23.766Z"
   },
   {
    "duration": 37,
    "start_time": "2023-03-02T23:13:48.866Z"
   },
   {
    "duration": 61,
    "start_time": "2023-03-02T23:16:17.611Z"
   },
   {
    "duration": 40,
    "start_time": "2023-03-02T23:22:17.739Z"
   },
   {
    "duration": 20,
    "start_time": "2023-03-02T23:24:06.614Z"
   },
   {
    "duration": 27,
    "start_time": "2023-03-02T23:25:03.129Z"
   },
   {
    "duration": 5,
    "start_time": "2023-03-02T23:25:36.687Z"
   },
   {
    "duration": 86,
    "start_time": "2023-03-02T23:26:04.950Z"
   },
   {
    "duration": 386,
    "start_time": "2023-03-02T23:26:25.431Z"
   },
   {
    "duration": 951,
    "start_time": "2023-03-02T23:27:20.924Z"
   },
   {
    "duration": 1317,
    "start_time": "2023-03-04T10:13:35.962Z"
   },
   {
    "duration": 2979,
    "start_time": "2023-03-04T10:13:38.332Z"
   },
   {
    "duration": 23,
    "start_time": "2023-03-04T10:13:41.313Z"
   },
   {
    "duration": 109,
    "start_time": "2023-03-04T10:13:41.337Z"
   },
   {
    "duration": 147,
    "start_time": "2023-03-04T10:13:41.449Z"
   },
   {
    "duration": 4881,
    "start_time": "2023-03-04T10:13:41.597Z"
   },
   {
    "duration": 6,
    "start_time": "2023-03-04T10:13:46.479Z"
   },
   {
    "duration": 6,
    "start_time": "2023-03-04T10:13:46.486Z"
   },
   {
    "duration": 7,
    "start_time": "2023-03-04T10:13:46.493Z"
   },
   {
    "duration": 79,
    "start_time": "2023-03-04T10:13:46.502Z"
   },
   {
    "duration": 4,
    "start_time": "2023-03-04T10:13:46.585Z"
   },
   {
    "duration": 443,
    "start_time": "2023-03-04T10:13:46.591Z"
   },
   {
    "duration": 460,
    "start_time": "2023-03-04T10:13:47.040Z"
   },
   {
    "duration": 422,
    "start_time": "2023-03-04T10:13:47.501Z"
   },
   {
    "duration": 85,
    "start_time": "2023-03-04T10:16:38.461Z"
   },
   {
    "duration": 148,
    "start_time": "2023-03-04T10:20:01.457Z"
   },
   {
    "duration": 5,
    "start_time": "2023-03-04T10:20:33.294Z"
   },
   {
    "duration": 40,
    "start_time": "2023-03-04T10:26:28.852Z"
   },
   {
    "duration": 24,
    "start_time": "2023-03-04T10:26:32.933Z"
   },
   {
    "duration": 103,
    "start_time": "2023-03-04T10:26:49.900Z"
   },
   {
    "duration": 339,
    "start_time": "2023-03-04T10:28:49.562Z"
   },
   {
    "duration": 326,
    "start_time": "2023-03-04T10:30:05.768Z"
   },
   {
    "duration": 89,
    "start_time": "2023-03-04T10:31:55.934Z"
   },
   {
    "duration": 56,
    "start_time": "2023-03-04T10:53:46.437Z"
   },
   {
    "duration": 237,
    "start_time": "2023-03-04T10:53:57.565Z"
   },
   {
    "duration": 186,
    "start_time": "2023-03-04T10:54:11.073Z"
   },
   {
    "duration": 617,
    "start_time": "2023-03-04T10:56:55.011Z"
   },
   {
    "duration": 4,
    "start_time": "2023-03-04T10:57:59.257Z"
   },
   {
    "duration": 18,
    "start_time": "2023-03-04T10:59:55.526Z"
   },
   {
    "duration": 12,
    "start_time": "2023-03-04T11:02:10.290Z"
   },
   {
    "duration": 968,
    "start_time": "2023-03-04T11:02:22.361Z"
   },
   {
    "duration": 238,
    "start_time": "2023-03-04T11:03:26.115Z"
   },
   {
    "duration": 52,
    "start_time": "2023-03-04T11:05:18.116Z"
   },
   {
    "duration": 213,
    "start_time": "2023-03-04T11:06:24.970Z"
   },
   {
    "duration": 1353,
    "start_time": "2023-03-04T11:35:25.434Z"
   },
   {
    "duration": 786,
    "start_time": "2023-03-04T11:35:26.789Z"
   },
   {
    "duration": 24,
    "start_time": "2023-03-04T11:35:27.577Z"
   },
   {
    "duration": 112,
    "start_time": "2023-03-04T11:35:27.603Z"
   },
   {
    "duration": 165,
    "start_time": "2023-03-04T11:35:27.716Z"
   },
   {
    "duration": 4589,
    "start_time": "2023-03-04T11:35:27.882Z"
   },
   {
    "duration": 5,
    "start_time": "2023-03-04T11:35:32.473Z"
   },
   {
    "duration": 22,
    "start_time": "2023-03-04T11:35:32.480Z"
   },
   {
    "duration": 32,
    "start_time": "2023-03-04T11:35:32.504Z"
   },
   {
    "duration": 80,
    "start_time": "2023-03-04T11:35:32.539Z"
   },
   {
    "duration": 5,
    "start_time": "2023-03-04T11:35:32.621Z"
   },
   {
    "duration": 465,
    "start_time": "2023-03-04T11:35:32.627Z"
   },
   {
    "duration": 469,
    "start_time": "2023-03-04T11:35:33.094Z"
   },
   {
    "duration": 442,
    "start_time": "2023-03-04T11:35:33.565Z"
   },
   {
    "duration": 98,
    "start_time": "2023-03-04T11:35:34.008Z"
   },
   {
    "duration": 171,
    "start_time": "2023-03-04T11:35:34.107Z"
   },
   {
    "duration": 5,
    "start_time": "2023-03-04T11:35:34.280Z"
   },
   {
    "duration": 36,
    "start_time": "2023-03-04T11:35:34.286Z"
   },
   {
    "duration": 88,
    "start_time": "2023-03-04T11:35:34.324Z"
   },
   {
    "duration": 296,
    "start_time": "2023-03-04T11:35:34.413Z"
   },
   {
    "duration": 101,
    "start_time": "2023-03-04T11:35:34.710Z"
   },
   {
    "duration": 11,
    "start_time": "2023-03-04T11:35:34.812Z"
   },
   {
    "duration": 850,
    "start_time": "2023-03-04T11:35:34.825Z"
   },
   {
    "duration": 286,
    "start_time": "2023-03-04T11:35:35.677Z"
   },
   {
    "duration": 0,
    "start_time": "2023-03-04T11:35:35.965Z"
   },
   {
    "duration": 0,
    "start_time": "2023-03-04T11:35:35.966Z"
   },
   {
    "duration": 0,
    "start_time": "2023-03-04T11:35:35.968Z"
   },
   {
    "duration": 0,
    "start_time": "2023-03-04T11:35:35.968Z"
   },
   {
    "duration": 0,
    "start_time": "2023-03-04T11:35:35.969Z"
   },
   {
    "duration": 1684,
    "start_time": "2023-03-06T14:26:22.754Z"
   },
   {
    "duration": 1399,
    "start_time": "2023-03-06T14:26:24.441Z"
   },
   {
    "duration": 44,
    "start_time": "2023-03-06T14:26:25.842Z"
   },
   {
    "duration": 1512,
    "start_time": "2023-03-06T14:27:40.990Z"
   },
   {
    "duration": 908,
    "start_time": "2023-03-06T14:27:44.685Z"
   },
   {
    "duration": 41,
    "start_time": "2023-03-06T14:27:45.880Z"
   },
   {
    "duration": 115,
    "start_time": "2023-03-06T14:27:47.416Z"
   },
   {
    "duration": 184,
    "start_time": "2023-03-06T14:27:49.340Z"
   },
   {
    "duration": 5024,
    "start_time": "2023-03-06T14:27:51.221Z"
   },
   {
    "duration": 5175,
    "start_time": "2023-03-06T14:31:10.012Z"
   },
   {
    "duration": 4976,
    "start_time": "2023-03-06T14:31:37.001Z"
   },
   {
    "duration": 5031,
    "start_time": "2023-03-06T14:31:58.153Z"
   },
   {
    "duration": 6028,
    "start_time": "2023-03-06T14:32:41.470Z"
   },
   {
    "duration": 4,
    "start_time": "2023-03-06T14:35:36.411Z"
   },
   {
    "duration": 4,
    "start_time": "2023-03-06T14:35:37.486Z"
   },
   {
    "duration": 6,
    "start_time": "2023-03-06T14:35:38.282Z"
   },
   {
    "duration": 67,
    "start_time": "2023-03-06T14:35:41.518Z"
   },
   {
    "duration": 5,
    "start_time": "2023-03-06T14:35:42.754Z"
   },
   {
    "duration": 514,
    "start_time": "2023-03-06T14:35:44.305Z"
   },
   {
    "duration": 549,
    "start_time": "2023-03-06T14:35:44.821Z"
   },
   {
    "duration": 492,
    "start_time": "2023-03-06T14:35:45.388Z"
   },
   {
    "duration": 141,
    "start_time": "2023-03-06T14:35:46.302Z"
   },
   {
    "duration": 192,
    "start_time": "2023-03-06T14:36:35.011Z"
   },
   {
    "duration": 8,
    "start_time": "2023-03-06T14:36:39.694Z"
   },
   {
    "duration": 58,
    "start_time": "2023-03-06T14:36:53.090Z"
   },
   {
    "duration": 75,
    "start_time": "2023-03-06T14:36:54.150Z"
   },
   {
    "duration": 412,
    "start_time": "2023-03-06T14:37:58.385Z"
   },
   {
    "duration": 125,
    "start_time": "2023-03-06T14:38:08.747Z"
   },
   {
    "duration": 20,
    "start_time": "2023-03-06T14:38:10.774Z"
   },
   {
    "duration": 102,
    "start_time": "2023-03-06T14:38:39.150Z"
   },
   {
    "duration": 8,
    "start_time": "2023-03-06T14:39:48.054Z"
   },
   {
    "duration": 3593,
    "start_time": "2023-03-06T14:39:57.932Z"
   },
   {
    "duration": 35,
    "start_time": "2023-03-06T14:48:08.073Z"
   },
   {
    "duration": 10,
    "start_time": "2023-03-06T14:48:36.846Z"
   },
   {
    "duration": 35,
    "start_time": "2023-03-06T14:48:48.630Z"
   },
   {
    "duration": 48,
    "start_time": "2023-03-06T14:49:59.493Z"
   },
   {
    "duration": 168,
    "start_time": "2023-03-06T14:51:03.897Z"
   },
   {
    "duration": 17,
    "start_time": "2023-03-06T14:53:02.290Z"
   },
   {
    "duration": 4624,
    "start_time": "2023-03-06T14:53:10.001Z"
   },
   {
    "duration": 2941,
    "start_time": "2023-03-06T14:53:53.229Z"
   },
   {
    "duration": 851,
    "start_time": "2023-03-06T14:57:23.028Z"
   },
   {
    "duration": 338,
    "start_time": "2023-03-06T14:58:48.888Z"
   },
   {
    "duration": 10,
    "start_time": "2023-03-06T15:01:25.288Z"
   },
   {
    "duration": 26,
    "start_time": "2023-03-06T15:01:36.695Z"
   },
   {
    "duration": 10,
    "start_time": "2023-03-06T15:01:46.619Z"
   },
   {
    "duration": 14,
    "start_time": "2023-03-06T15:01:54.354Z"
   },
   {
    "duration": 21,
    "start_time": "2023-03-06T15:01:57.976Z"
   },
   {
    "duration": 23,
    "start_time": "2023-03-06T15:02:03.376Z"
   },
   {
    "duration": 38,
    "start_time": "2023-03-06T15:02:21.483Z"
   },
   {
    "duration": 24,
    "start_time": "2023-03-06T15:03:05.766Z"
   },
   {
    "duration": 25,
    "start_time": "2023-03-06T15:06:19.153Z"
   },
   {
    "duration": 9,
    "start_time": "2023-03-06T15:07:56.402Z"
   },
   {
    "duration": 84,
    "start_time": "2023-03-06T15:08:12.003Z"
   },
   {
    "duration": 8,
    "start_time": "2023-03-06T15:08:25.597Z"
   },
   {
    "duration": 8,
    "start_time": "2023-03-06T15:08:55.995Z"
   },
   {
    "duration": 91,
    "start_time": "2023-03-06T15:08:56.710Z"
   },
   {
    "duration": 1413,
    "start_time": "2023-03-06T15:09:08.774Z"
   },
   {
    "duration": 816,
    "start_time": "2023-03-06T15:09:10.189Z"
   },
   {
    "duration": 33,
    "start_time": "2023-03-06T15:09:11.006Z"
   },
   {
    "duration": 115,
    "start_time": "2023-03-06T15:09:11.042Z"
   },
   {
    "duration": 160,
    "start_time": "2023-03-06T15:09:11.159Z"
   },
   {
    "duration": 4918,
    "start_time": "2023-03-06T15:09:11.320Z"
   },
   {
    "duration": 4,
    "start_time": "2023-03-06T15:09:16.240Z"
   },
   {
    "duration": 12,
    "start_time": "2023-03-06T15:09:16.246Z"
   },
   {
    "duration": 13,
    "start_time": "2023-03-06T15:09:16.260Z"
   },
   {
    "duration": 89,
    "start_time": "2023-03-06T15:09:16.276Z"
   },
   {
    "duration": 10,
    "start_time": "2023-03-06T15:09:16.367Z"
   },
   {
    "duration": 546,
    "start_time": "2023-03-06T15:09:16.379Z"
   },
   {
    "duration": 554,
    "start_time": "2023-03-06T15:09:16.927Z"
   },
   {
    "duration": 466,
    "start_time": "2023-03-06T15:09:17.482Z"
   },
   {
    "duration": 114,
    "start_time": "2023-03-06T15:09:17.949Z"
   },
   {
    "duration": 153,
    "start_time": "2023-03-06T15:09:18.066Z"
   },
   {
    "duration": 11,
    "start_time": "2023-03-06T15:09:18.221Z"
   },
   {
    "duration": 39,
    "start_time": "2023-03-06T15:09:18.233Z"
   },
   {
    "duration": 83,
    "start_time": "2023-03-06T15:09:18.274Z"
   },
   {
    "duration": 298,
    "start_time": "2023-03-06T15:09:18.359Z"
   },
   {
    "duration": 101,
    "start_time": "2023-03-06T15:09:18.659Z"
   },
   {
    "duration": 12,
    "start_time": "2023-03-06T15:09:18.761Z"
   },
   {
    "duration": 127,
    "start_time": "2023-03-06T15:09:18.774Z"
   },
   {
    "duration": 36,
    "start_time": "2023-03-06T15:09:18.903Z"
   },
   {
    "duration": 22,
    "start_time": "2023-03-06T15:09:18.941Z"
   },
   {
    "duration": 30,
    "start_time": "2023-03-06T15:09:31.539Z"
   },
   {
    "duration": 134,
    "start_time": "2023-03-06T15:09:34.515Z"
   },
   {
    "duration": 233,
    "start_time": "2023-03-06T15:10:55.736Z"
   },
   {
    "duration": 220,
    "start_time": "2023-03-06T15:11:08.690Z"
   },
   {
    "duration": 150,
    "start_time": "2023-03-06T15:11:25.151Z"
   },
   {
    "duration": 73,
    "start_time": "2023-03-06T15:11:43.049Z"
   },
   {
    "duration": 451,
    "start_time": "2023-03-06T15:15:44.329Z"
   },
   {
    "duration": 18,
    "start_time": "2023-03-06T15:20:23.777Z"
   },
   {
    "duration": 24,
    "start_time": "2023-03-06T15:20:37.321Z"
   },
   {
    "duration": 39,
    "start_time": "2023-03-06T15:21:08.055Z"
   },
   {
    "duration": 10,
    "start_time": "2023-03-06T15:22:51.409Z"
   },
   {
    "duration": 33,
    "start_time": "2023-03-06T15:22:57.244Z"
   },
   {
    "duration": 28,
    "start_time": "2023-03-06T15:23:54.976Z"
   },
   {
    "duration": 30,
    "start_time": "2023-03-06T15:24:52.220Z"
   },
   {
    "duration": 28,
    "start_time": "2023-03-06T15:32:09.389Z"
   },
   {
    "duration": 41,
    "start_time": "2023-03-06T15:35:13.900Z"
   },
   {
    "duration": 18,
    "start_time": "2023-03-06T15:35:56.801Z"
   },
   {
    "duration": 48,
    "start_time": "2023-03-06T15:36:08.518Z"
   },
   {
    "duration": 154,
    "start_time": "2023-03-06T15:36:24.319Z"
   },
   {
    "duration": 12,
    "start_time": "2023-03-06T15:36:40.217Z"
   },
   {
    "duration": 126,
    "start_time": "2023-03-06T15:37:40.046Z"
   },
   {
    "duration": 141,
    "start_time": "2023-03-06T15:38:30.893Z"
   },
   {
    "duration": 265,
    "start_time": "2023-03-06T15:39:33.273Z"
   },
   {
    "duration": 19,
    "start_time": "2023-03-06T18:06:27.850Z"
   },
   {
    "duration": 27,
    "start_time": "2023-03-06T18:06:45.183Z"
   },
   {
    "duration": 69,
    "start_time": "2023-03-06T18:08:04.144Z"
   },
   {
    "duration": 18,
    "start_time": "2023-03-06T18:08:54.148Z"
   },
   {
    "duration": 20,
    "start_time": "2023-03-06T18:10:03.610Z"
   },
   {
    "duration": 22,
    "start_time": "2023-03-06T18:18:55.997Z"
   },
   {
    "duration": 30,
    "start_time": "2023-03-06T18:21:36.605Z"
   },
   {
    "duration": 14,
    "start_time": "2023-03-06T18:21:49.768Z"
   },
   {
    "duration": 17,
    "start_time": "2023-03-06T18:22:13.344Z"
   },
   {
    "duration": 1462,
    "start_time": "2023-03-06T18:22:57.804Z"
   },
   {
    "duration": 857,
    "start_time": "2023-03-06T18:22:59.268Z"
   },
   {
    "duration": 35,
    "start_time": "2023-03-06T18:23:00.127Z"
   },
   {
    "duration": 176,
    "start_time": "2023-03-06T18:23:00.164Z"
   },
   {
    "duration": 161,
    "start_time": "2023-03-06T18:23:00.342Z"
   },
   {
    "duration": 5078,
    "start_time": "2023-03-06T18:23:00.505Z"
   },
   {
    "duration": 4,
    "start_time": "2023-03-06T18:23:05.585Z"
   },
   {
    "duration": 7,
    "start_time": "2023-03-06T18:23:05.590Z"
   },
   {
    "duration": 6,
    "start_time": "2023-03-06T18:23:05.598Z"
   },
   {
    "duration": 88,
    "start_time": "2023-03-06T18:23:05.606Z"
   },
   {
    "duration": 4,
    "start_time": "2023-03-06T18:23:05.696Z"
   },
   {
    "duration": 589,
    "start_time": "2023-03-06T18:23:05.702Z"
   },
   {
    "duration": 591,
    "start_time": "2023-03-06T18:23:06.293Z"
   },
   {
    "duration": 487,
    "start_time": "2023-03-06T18:23:06.886Z"
   },
   {
    "duration": 100,
    "start_time": "2023-03-06T18:23:07.375Z"
   },
   {
    "duration": 183,
    "start_time": "2023-03-06T18:23:07.477Z"
   },
   {
    "duration": 5,
    "start_time": "2023-03-06T18:23:07.661Z"
   },
   {
    "duration": 56,
    "start_time": "2023-03-06T18:23:07.668Z"
   },
   {
    "duration": 74,
    "start_time": "2023-03-06T18:23:07.725Z"
   },
   {
    "duration": 369,
    "start_time": "2023-03-06T18:23:07.801Z"
   },
   {
    "duration": 107,
    "start_time": "2023-03-06T18:23:08.171Z"
   },
   {
    "duration": 11,
    "start_time": "2023-03-06T18:23:08.279Z"
   },
   {
    "duration": 159,
    "start_time": "2023-03-06T18:23:08.292Z"
   },
   {
    "duration": 24,
    "start_time": "2023-03-06T18:23:08.452Z"
   },
   {
    "duration": 22,
    "start_time": "2023-03-06T18:23:08.477Z"
   },
   {
    "duration": 40,
    "start_time": "2023-03-06T18:23:08.501Z"
   },
   {
    "duration": 127,
    "start_time": "2023-03-06T18:23:08.547Z"
   },
   {
    "duration": 78,
    "start_time": "2023-03-06T18:23:08.676Z"
   },
   {
    "duration": 434,
    "start_time": "2023-03-06T18:23:08.758Z"
   },
   {
    "duration": 131,
    "start_time": "2023-03-06T18:23:09.193Z"
   },
   {
    "duration": 107,
    "start_time": "2023-03-06T18:25:19.776Z"
   },
   {
    "duration": 12,
    "start_time": "2023-03-06T18:25:38.380Z"
   },
   {
    "duration": 57,
    "start_time": "2023-03-06T18:25:44.943Z"
   },
   {
    "duration": 60,
    "start_time": "2023-03-06T18:26:08.562Z"
   },
   {
    "duration": 20,
    "start_time": "2023-03-06T18:26:49.104Z"
   },
   {
    "duration": 18,
    "start_time": "2023-03-06T18:27:07.347Z"
   },
   {
    "duration": 56,
    "start_time": "2023-03-06T18:27:15.399Z"
   },
   {
    "duration": 61,
    "start_time": "2023-03-06T18:27:33.163Z"
   },
   {
    "duration": 19,
    "start_time": "2023-03-06T18:27:35.743Z"
   },
   {
    "duration": 18,
    "start_time": "2023-03-06T18:28:23.202Z"
   },
   {
    "duration": 62,
    "start_time": "2023-03-06T18:28:34.878Z"
   },
   {
    "duration": 63,
    "start_time": "2023-03-06T18:28:35.752Z"
   },
   {
    "duration": 207,
    "start_time": "2023-03-06T18:29:16.442Z"
   },
   {
    "duration": 179,
    "start_time": "2023-03-06T18:29:17.514Z"
   },
   {
    "duration": 35,
    "start_time": "2023-03-06T18:29:22.127Z"
   },
   {
    "duration": 28,
    "start_time": "2023-03-06T18:29:39.464Z"
   },
   {
    "duration": 1479,
    "start_time": "2023-03-06T18:30:20.686Z"
   },
   {
    "duration": 939,
    "start_time": "2023-03-06T18:30:22.167Z"
   },
   {
    "duration": 37,
    "start_time": "2023-03-06T18:30:23.108Z"
   },
   {
    "duration": 120,
    "start_time": "2023-03-06T18:30:23.150Z"
   },
   {
    "duration": 177,
    "start_time": "2023-03-06T18:30:23.272Z"
   },
   {
    "duration": 4826,
    "start_time": "2023-03-06T18:30:23.451Z"
   },
   {
    "duration": 5,
    "start_time": "2023-03-06T18:30:28.279Z"
   },
   {
    "duration": 9,
    "start_time": "2023-03-06T18:30:28.285Z"
   },
   {
    "duration": 11,
    "start_time": "2023-03-06T18:30:28.295Z"
   },
   {
    "duration": 74,
    "start_time": "2023-03-06T18:30:28.310Z"
   },
   {
    "duration": 4,
    "start_time": "2023-03-06T18:30:28.386Z"
   },
   {
    "duration": 489,
    "start_time": "2023-03-06T18:30:28.391Z"
   },
   {
    "duration": 510,
    "start_time": "2023-03-06T18:30:28.882Z"
   },
   {
    "duration": 488,
    "start_time": "2023-03-06T18:30:29.393Z"
   },
   {
    "duration": 119,
    "start_time": "2023-03-06T18:30:29.882Z"
   },
   {
    "duration": 166,
    "start_time": "2023-03-06T18:30:30.002Z"
   },
   {
    "duration": 5,
    "start_time": "2023-03-06T18:30:30.170Z"
   },
   {
    "duration": 62,
    "start_time": "2023-03-06T18:30:30.177Z"
   },
   {
    "duration": 63,
    "start_time": "2023-03-06T18:30:30.245Z"
   },
   {
    "duration": 293,
    "start_time": "2023-03-06T18:30:30.310Z"
   },
   {
    "duration": 115,
    "start_time": "2023-03-06T18:30:30.604Z"
   },
   {
    "duration": 26,
    "start_time": "2023-03-06T18:30:30.721Z"
   },
   {
    "duration": 171,
    "start_time": "2023-03-06T18:30:30.749Z"
   },
   {
    "duration": 27,
    "start_time": "2023-03-06T18:30:30.922Z"
   },
   {
    "duration": 41,
    "start_time": "2023-03-06T18:30:30.953Z"
   },
   {
    "duration": 43,
    "start_time": "2023-03-06T18:30:30.997Z"
   },
   {
    "duration": 131,
    "start_time": "2023-03-06T18:30:33.352Z"
   },
   {
    "duration": 62,
    "start_time": "2023-03-06T18:30:37.638Z"
   },
   {
    "duration": 454,
    "start_time": "2023-03-06T18:30:44.055Z"
   },
   {
    "duration": 136,
    "start_time": "2023-03-06T18:30:45.023Z"
   },
   {
    "duration": 3,
    "start_time": "2023-03-06T18:30:46.164Z"
   },
   {
    "duration": 59,
    "start_time": "2023-03-06T18:30:48.196Z"
   },
   {
    "duration": 68,
    "start_time": "2023-03-06T18:30:49.456Z"
   },
   {
    "duration": 20,
    "start_time": "2023-03-06T18:31:02.260Z"
   },
   {
    "duration": 48,
    "start_time": "2023-03-06T18:32:31.794Z"
   },
   {
    "duration": 121,
    "start_time": "2023-03-06T18:32:32.693Z"
   },
   {
    "duration": 10,
    "start_time": "2023-03-06T18:32:47.368Z"
   },
   {
    "duration": 10,
    "start_time": "2023-03-06T18:33:10.021Z"
   },
   {
    "duration": 1596,
    "start_time": "2023-03-06T18:33:33.246Z"
   },
   {
    "duration": 916,
    "start_time": "2023-03-06T18:33:34.844Z"
   },
   {
    "duration": 28,
    "start_time": "2023-03-06T18:33:35.762Z"
   },
   {
    "duration": 145,
    "start_time": "2023-03-06T18:33:35.792Z"
   },
   {
    "duration": 210,
    "start_time": "2023-03-06T18:33:35.941Z"
   },
   {
    "duration": 4862,
    "start_time": "2023-03-06T18:33:36.152Z"
   },
   {
    "duration": 6,
    "start_time": "2023-03-06T18:33:41.016Z"
   },
   {
    "duration": 17,
    "start_time": "2023-03-06T18:33:41.030Z"
   },
   {
    "duration": 14,
    "start_time": "2023-03-06T18:33:41.052Z"
   },
   {
    "duration": 74,
    "start_time": "2023-03-06T18:33:41.070Z"
   },
   {
    "duration": 5,
    "start_time": "2023-03-06T18:33:41.146Z"
   },
   {
    "duration": 524,
    "start_time": "2023-03-06T18:33:41.153Z"
   },
   {
    "duration": 590,
    "start_time": "2023-03-06T18:33:41.679Z"
   },
   {
    "duration": 508,
    "start_time": "2023-03-06T18:33:42.271Z"
   },
   {
    "duration": 119,
    "start_time": "2023-03-06T18:33:42.781Z"
   },
   {
    "duration": 170,
    "start_time": "2023-03-06T18:33:42.902Z"
   },
   {
    "duration": 5,
    "start_time": "2023-03-06T18:33:43.074Z"
   },
   {
    "duration": 55,
    "start_time": "2023-03-06T18:33:43.081Z"
   },
   {
    "duration": 60,
    "start_time": "2023-03-06T18:33:43.146Z"
   },
   {
    "duration": 297,
    "start_time": "2023-03-06T18:33:43.207Z"
   },
   {
    "duration": 138,
    "start_time": "2023-03-06T18:33:43.506Z"
   },
   {
    "duration": 14,
    "start_time": "2023-03-06T18:33:43.647Z"
   },
   {
    "duration": 132,
    "start_time": "2023-03-06T18:33:43.662Z"
   },
   {
    "duration": 24,
    "start_time": "2023-03-06T18:33:43.796Z"
   },
   {
    "duration": 26,
    "start_time": "2023-03-06T18:33:43.833Z"
   },
   {
    "duration": 27,
    "start_time": "2023-03-06T18:33:43.861Z"
   },
   {
    "duration": 158,
    "start_time": "2023-03-06T18:33:43.890Z"
   },
   {
    "duration": 63,
    "start_time": "2023-03-06T18:33:44.051Z"
   },
   {
    "duration": 492,
    "start_time": "2023-03-06T18:33:44.116Z"
   },
   {
    "duration": 139,
    "start_time": "2023-03-06T18:33:44.610Z"
   },
   {
    "duration": 3,
    "start_time": "2023-03-06T18:33:44.751Z"
   },
   {
    "duration": 21,
    "start_time": "2023-03-06T18:33:44.861Z"
   },
   {
    "duration": 64,
    "start_time": "2023-03-06T18:33:47.413Z"
   },
   {
    "duration": 19,
    "start_time": "2023-03-06T18:33:56.907Z"
   },
   {
    "duration": 4,
    "start_time": "2023-03-06T18:36:20.456Z"
   },
   {
    "duration": 854,
    "start_time": "2023-03-06T18:36:20.712Z"
   },
   {
    "duration": 25,
    "start_time": "2023-03-06T18:36:21.568Z"
   },
   {
    "duration": 132,
    "start_time": "2023-03-06T18:36:21.596Z"
   },
   {
    "duration": 219,
    "start_time": "2023-03-06T18:36:21.731Z"
   },
   {
    "duration": 1553,
    "start_time": "2023-03-06T18:36:29.950Z"
   },
   {
    "duration": 866,
    "start_time": "2023-03-06T18:36:31.506Z"
   },
   {
    "duration": 27,
    "start_time": "2023-03-06T18:36:32.374Z"
   },
   {
    "duration": 137,
    "start_time": "2023-03-06T18:36:32.404Z"
   },
   {
    "duration": 147,
    "start_time": "2023-03-06T18:36:32.547Z"
   },
   {
    "duration": 5323,
    "start_time": "2023-03-06T18:36:32.696Z"
   },
   {
    "duration": 14,
    "start_time": "2023-03-06T18:36:38.021Z"
   },
   {
    "duration": 19,
    "start_time": "2023-03-06T18:36:38.037Z"
   },
   {
    "duration": 11,
    "start_time": "2023-03-06T18:36:38.057Z"
   },
   {
    "duration": 84,
    "start_time": "2023-03-06T18:36:38.072Z"
   },
   {
    "duration": 6,
    "start_time": "2023-03-06T18:36:38.158Z"
   },
   {
    "duration": 545,
    "start_time": "2023-03-06T18:36:38.166Z"
   },
   {
    "duration": 591,
    "start_time": "2023-03-06T18:36:38.714Z"
   },
   {
    "duration": 550,
    "start_time": "2023-03-06T18:36:39.307Z"
   },
   {
    "duration": 113,
    "start_time": "2023-03-06T18:36:39.858Z"
   },
   {
    "duration": 175,
    "start_time": "2023-03-06T18:36:39.972Z"
   },
   {
    "duration": 6,
    "start_time": "2023-03-06T18:36:40.149Z"
   },
   {
    "duration": 43,
    "start_time": "2023-03-06T18:36:40.157Z"
   },
   {
    "duration": 82,
    "start_time": "2023-03-06T18:36:40.202Z"
   },
   {
    "duration": 308,
    "start_time": "2023-03-06T18:36:40.285Z"
   },
   {
    "duration": 124,
    "start_time": "2023-03-06T18:36:40.595Z"
   },
   {
    "duration": 31,
    "start_time": "2023-03-06T18:36:40.721Z"
   },
   {
    "duration": 123,
    "start_time": "2023-03-06T18:36:40.754Z"
   },
   {
    "duration": 31,
    "start_time": "2023-03-06T18:36:40.879Z"
   },
   {
    "duration": 39,
    "start_time": "2023-03-06T18:36:40.912Z"
   },
   {
    "duration": 34,
    "start_time": "2023-03-06T18:36:40.954Z"
   },
   {
    "duration": 173,
    "start_time": "2023-03-06T18:36:40.991Z"
   },
   {
    "duration": 64,
    "start_time": "2023-03-06T18:36:41.168Z"
   },
   {
    "duration": 443,
    "start_time": "2023-03-06T18:36:41.233Z"
   },
   {
    "duration": 138,
    "start_time": "2023-03-06T18:36:41.677Z"
   },
   {
    "duration": 62,
    "start_time": "2023-03-06T18:36:55.160Z"
   },
   {
    "duration": 265,
    "start_time": "2023-03-06T18:37:34.791Z"
   },
   {
    "duration": 12,
    "start_time": "2023-03-06T18:38:11.806Z"
   },
   {
    "duration": 130,
    "start_time": "2023-03-06T18:38:38.308Z"
   },
   {
    "duration": 15,
    "start_time": "2023-03-06T18:38:43.747Z"
   },
   {
    "duration": 18,
    "start_time": "2023-03-06T18:39:06.905Z"
   },
   {
    "duration": 13,
    "start_time": "2023-03-06T18:39:43.210Z"
   },
   {
    "duration": 115,
    "start_time": "2023-03-06T18:46:49.745Z"
   },
   {
    "duration": 10,
    "start_time": "2023-03-06T18:48:38.777Z"
   },
   {
    "duration": 12,
    "start_time": "2023-03-06T18:48:54.830Z"
   },
   {
    "duration": 21,
    "start_time": "2023-03-06T18:49:06.626Z"
   },
   {
    "duration": 11,
    "start_time": "2023-03-06T18:50:01.098Z"
   },
   {
    "duration": 31,
    "start_time": "2023-03-06T18:50:06.457Z"
   },
   {
    "duration": 9,
    "start_time": "2023-03-06T18:50:23.079Z"
   },
   {
    "duration": 12,
    "start_time": "2023-03-06T18:50:35.639Z"
   },
   {
    "duration": 9,
    "start_time": "2023-03-06T18:50:39.684Z"
   },
   {
    "duration": 8,
    "start_time": "2023-03-06T18:50:51.867Z"
   },
   {
    "duration": 11,
    "start_time": "2023-03-06T18:51:00.358Z"
   },
   {
    "duration": 14,
    "start_time": "2023-03-06T18:51:46.158Z"
   },
   {
    "duration": 28,
    "start_time": "2023-03-06T18:52:03.610Z"
   },
   {
    "duration": 7,
    "start_time": "2023-03-06T18:53:47.120Z"
   },
   {
    "duration": 7,
    "start_time": "2023-03-06T18:54:04.560Z"
   },
   {
    "duration": 34,
    "start_time": "2023-03-06T19:03:12.530Z"
   },
   {
    "duration": 4,
    "start_time": "2023-03-06T19:03:37.104Z"
   },
   {
    "duration": 12,
    "start_time": "2023-03-06T19:05:40.465Z"
   },
   {
    "duration": 18,
    "start_time": "2023-03-06T19:05:50.108Z"
   },
   {
    "duration": 13419,
    "start_time": "2023-03-06T19:06:34.720Z"
   },
   {
    "duration": 25,
    "start_time": "2023-03-06T19:07:13.649Z"
   },
   {
    "duration": 13133,
    "start_time": "2023-03-06T19:07:33.332Z"
   },
   {
    "duration": 12343,
    "start_time": "2023-03-06T19:07:52.955Z"
   },
   {
    "duration": 31,
    "start_time": "2023-03-06T19:08:05.301Z"
   },
   {
    "duration": 133,
    "start_time": "2023-03-06T19:09:41.817Z"
   },
   {
    "duration": 1553,
    "start_time": "2023-03-06T19:17:35.722Z"
   },
   {
    "duration": 937,
    "start_time": "2023-03-06T19:17:37.277Z"
   },
   {
    "duration": 36,
    "start_time": "2023-03-06T19:17:38.216Z"
   },
   {
    "duration": 128,
    "start_time": "2023-03-06T19:17:38.254Z"
   },
   {
    "duration": 161,
    "start_time": "2023-03-06T19:17:38.383Z"
   },
   {
    "duration": 4658,
    "start_time": "2023-03-06T19:17:38.546Z"
   },
   {
    "duration": 8,
    "start_time": "2023-03-06T19:17:43.206Z"
   },
   {
    "duration": 16,
    "start_time": "2023-03-06T19:17:43.216Z"
   },
   {
    "duration": 8,
    "start_time": "2023-03-06T19:17:43.234Z"
   },
   {
    "duration": 90,
    "start_time": "2023-03-06T19:17:43.246Z"
   },
   {
    "duration": 5,
    "start_time": "2023-03-06T19:17:43.339Z"
   },
   {
    "duration": 531,
    "start_time": "2023-03-06T19:17:43.345Z"
   },
   {
    "duration": 581,
    "start_time": "2023-03-06T19:17:43.878Z"
   },
   {
    "duration": 524,
    "start_time": "2023-03-06T19:17:44.461Z"
   },
   {
    "duration": 121,
    "start_time": "2023-03-06T19:17:44.987Z"
   },
   {
    "duration": 171,
    "start_time": "2023-03-06T19:17:45.110Z"
   },
   {
    "duration": 6,
    "start_time": "2023-03-06T19:17:45.284Z"
   },
   {
    "duration": 70,
    "start_time": "2023-03-06T19:17:45.292Z"
   },
   {
    "duration": 69,
    "start_time": "2023-03-06T19:17:45.364Z"
   },
   {
    "duration": 323,
    "start_time": "2023-03-06T19:17:45.436Z"
   },
   {
    "duration": 109,
    "start_time": "2023-03-06T19:17:45.761Z"
   },
   {
    "duration": 14,
    "start_time": "2023-03-06T19:17:45.873Z"
   },
   {
    "duration": 165,
    "start_time": "2023-03-06T19:17:45.889Z"
   },
   {
    "duration": 27,
    "start_time": "2023-03-06T19:17:46.056Z"
   },
   {
    "duration": 49,
    "start_time": "2023-03-06T19:17:46.085Z"
   },
   {
    "duration": 35,
    "start_time": "2023-03-06T19:17:46.136Z"
   },
   {
    "duration": 138,
    "start_time": "2023-03-06T19:17:46.173Z"
   },
   {
    "duration": 81,
    "start_time": "2023-03-06T19:17:46.315Z"
   },
   {
    "duration": 418,
    "start_time": "2023-03-06T19:17:46.397Z"
   },
   {
    "duration": 143,
    "start_time": "2023-03-06T19:17:46.817Z"
   },
   {
    "duration": 2,
    "start_time": "2023-03-06T19:17:46.962Z"
   },
   {
    "duration": 9,
    "start_time": "2023-03-06T19:17:46.966Z"
   },
   {
    "duration": 283,
    "start_time": "2023-03-06T19:17:46.977Z"
   },
   {
    "duration": 15,
    "start_time": "2023-03-06T19:17:53.451Z"
   },
   {
    "duration": 12,
    "start_time": "2023-03-06T19:18:05.224Z"
   },
   {
    "duration": 19,
    "start_time": "2023-03-06T19:18:07.028Z"
   },
   {
    "duration": 30,
    "start_time": "2023-03-06T19:18:08.616Z"
   },
   {
    "duration": 136,
    "start_time": "2023-03-06T19:18:15.121Z"
   },
   {
    "duration": 11,
    "start_time": "2023-03-06T19:19:41.246Z"
   },
   {
    "duration": 1649,
    "start_time": "2023-03-06T19:20:05.355Z"
   },
   {
    "duration": 922,
    "start_time": "2023-03-06T19:20:07.006Z"
   },
   {
    "duration": 39,
    "start_time": "2023-03-06T19:20:07.932Z"
   },
   {
    "duration": 132,
    "start_time": "2023-03-06T19:20:07.973Z"
   },
   {
    "duration": 180,
    "start_time": "2023-03-06T19:20:08.107Z"
   },
   {
    "duration": 4878,
    "start_time": "2023-03-06T19:20:08.290Z"
   },
   {
    "duration": 5,
    "start_time": "2023-03-06T19:20:13.170Z"
   },
   {
    "duration": 6,
    "start_time": "2023-03-06T19:20:13.177Z"
   },
   {
    "duration": 8,
    "start_time": "2023-03-06T19:20:13.185Z"
   },
   {
    "duration": 98,
    "start_time": "2023-03-06T19:20:13.195Z"
   },
   {
    "duration": 5,
    "start_time": "2023-03-06T19:20:13.294Z"
   },
   {
    "duration": 510,
    "start_time": "2023-03-06T19:20:13.301Z"
   },
   {
    "duration": 558,
    "start_time": "2023-03-06T19:20:13.812Z"
   },
   {
    "duration": 499,
    "start_time": "2023-03-06T19:20:14.372Z"
   },
   {
    "duration": 114,
    "start_time": "2023-03-06T19:20:14.873Z"
   },
   {
    "duration": 165,
    "start_time": "2023-03-06T19:20:14.988Z"
   },
   {
    "duration": 7,
    "start_time": "2023-03-06T19:20:15.155Z"
   },
   {
    "duration": 45,
    "start_time": "2023-03-06T19:20:15.164Z"
   },
   {
    "duration": 87,
    "start_time": "2023-03-06T19:20:15.211Z"
   },
   {
    "duration": 327,
    "start_time": "2023-03-06T19:20:15.300Z"
   },
   {
    "duration": 124,
    "start_time": "2023-03-06T19:20:15.632Z"
   },
   {
    "duration": 29,
    "start_time": "2023-03-06T19:20:15.757Z"
   },
   {
    "duration": 164,
    "start_time": "2023-03-06T19:20:15.788Z"
   },
   {
    "duration": 27,
    "start_time": "2023-03-06T19:20:15.953Z"
   },
   {
    "duration": 49,
    "start_time": "2023-03-06T19:20:15.983Z"
   },
   {
    "duration": 34,
    "start_time": "2023-03-06T19:20:16.034Z"
   },
   {
    "duration": 147,
    "start_time": "2023-03-06T19:20:16.070Z"
   },
   {
    "duration": 83,
    "start_time": "2023-03-06T19:20:16.221Z"
   },
   {
    "duration": 455,
    "start_time": "2023-03-06T19:20:16.306Z"
   },
   {
    "duration": 122,
    "start_time": "2023-03-06T19:20:16.763Z"
   },
   {
    "duration": 3,
    "start_time": "2023-03-06T19:20:16.887Z"
   },
   {
    "duration": 7,
    "start_time": "2023-03-06T19:20:16.891Z"
   },
   {
    "duration": 264,
    "start_time": "2023-03-06T19:20:16.899Z"
   },
   {
    "duration": 14,
    "start_time": "2023-03-06T19:20:17.165Z"
   },
   {
    "duration": 9,
    "start_time": "2023-03-06T19:20:17.403Z"
   },
   {
    "duration": 18,
    "start_time": "2023-03-06T19:20:19.822Z"
   },
   {
    "duration": 27,
    "start_time": "2023-03-06T19:20:20.611Z"
   },
   {
    "duration": 145,
    "start_time": "2023-03-06T19:20:23.831Z"
   },
   {
    "duration": 37,
    "start_time": "2023-03-06T19:20:30.267Z"
   },
   {
    "duration": 16,
    "start_time": "2023-03-06T19:20:40.423Z"
   },
   {
    "duration": 34,
    "start_time": "2023-03-06T19:21:39.816Z"
   },
   {
    "duration": 9,
    "start_time": "2023-03-06T19:22:02.355Z"
   },
   {
    "duration": 12339,
    "start_time": "2023-03-06T19:22:43.616Z"
   },
   {
    "duration": 24,
    "start_time": "2023-03-06T19:23:02.864Z"
   },
   {
    "duration": 133,
    "start_time": "2023-03-06T19:23:07.878Z"
   },
   {
    "duration": 1616,
    "start_time": "2023-03-06T19:23:38.083Z"
   },
   {
    "duration": 1015,
    "start_time": "2023-03-06T19:23:39.701Z"
   },
   {
    "duration": 30,
    "start_time": "2023-03-06T19:23:40.718Z"
   },
   {
    "duration": 168,
    "start_time": "2023-03-06T19:23:40.750Z"
   },
   {
    "duration": 203,
    "start_time": "2023-03-06T19:23:40.920Z"
   },
   {
    "duration": 5489,
    "start_time": "2023-03-06T19:23:41.130Z"
   },
   {
    "duration": 10,
    "start_time": "2023-03-06T19:23:46.621Z"
   },
   {
    "duration": 39,
    "start_time": "2023-03-06T19:23:46.633Z"
   },
   {
    "duration": 12,
    "start_time": "2023-03-06T19:23:46.674Z"
   },
   {
    "duration": 91,
    "start_time": "2023-03-06T19:23:46.690Z"
   },
   {
    "duration": 5,
    "start_time": "2023-03-06T19:23:46.782Z"
   },
   {
    "duration": 556,
    "start_time": "2023-03-06T19:23:46.788Z"
   },
   {
    "duration": 583,
    "start_time": "2023-03-06T19:23:47.345Z"
   },
   {
    "duration": 574,
    "start_time": "2023-03-06T19:23:47.930Z"
   },
   {
    "duration": 104,
    "start_time": "2023-03-06T19:23:48.506Z"
   },
   {
    "duration": 192,
    "start_time": "2023-03-06T19:23:48.612Z"
   },
   {
    "duration": 5,
    "start_time": "2023-03-06T19:23:48.806Z"
   },
   {
    "duration": 67,
    "start_time": "2023-03-06T19:23:48.813Z"
   },
   {
    "duration": 85,
    "start_time": "2023-03-06T19:23:48.882Z"
   },
   {
    "duration": 357,
    "start_time": "2023-03-06T19:23:48.970Z"
   },
   {
    "duration": 123,
    "start_time": "2023-03-06T19:23:49.330Z"
   },
   {
    "duration": 18,
    "start_time": "2023-03-06T19:23:49.455Z"
   },
   {
    "duration": 141,
    "start_time": "2023-03-06T19:23:49.476Z"
   },
   {
    "duration": 37,
    "start_time": "2023-03-06T19:23:49.619Z"
   },
   {
    "duration": 50,
    "start_time": "2023-03-06T19:23:49.658Z"
   },
   {
    "duration": 28,
    "start_time": "2023-03-06T19:23:49.709Z"
   },
   {
    "duration": 156,
    "start_time": "2023-03-06T19:23:49.739Z"
   },
   {
    "duration": 81,
    "start_time": "2023-03-06T19:23:49.898Z"
   },
   {
    "duration": 497,
    "start_time": "2023-03-06T19:23:49.981Z"
   },
   {
    "duration": 143,
    "start_time": "2023-03-06T19:23:50.480Z"
   },
   {
    "duration": 18,
    "start_time": "2023-03-06T19:23:50.624Z"
   },
   {
    "duration": 49,
    "start_time": "2023-03-06T19:23:50.649Z"
   },
   {
    "duration": 298,
    "start_time": "2023-03-06T19:23:50.700Z"
   },
   {
    "duration": 15,
    "start_time": "2023-03-06T19:23:51.001Z"
   },
   {
    "duration": 12,
    "start_time": "2023-03-06T19:23:51.035Z"
   },
   {
    "duration": 59,
    "start_time": "2023-03-06T19:23:51.049Z"
   },
   {
    "duration": 29,
    "start_time": "2023-03-06T19:23:51.110Z"
   },
   {
    "duration": 160,
    "start_time": "2023-03-06T19:23:51.141Z"
   },
   {
    "duration": 20,
    "start_time": "2023-03-06T19:23:51.303Z"
   },
   {
    "duration": 12,
    "start_time": "2023-03-06T19:23:51.336Z"
   },
   {
    "duration": 12,
    "start_time": "2023-03-06T19:23:51.457Z"
   },
   {
    "duration": 23,
    "start_time": "2023-03-06T19:23:54.775Z"
   },
   {
    "duration": 124,
    "start_time": "2023-03-06T19:23:57.788Z"
   },
   {
    "duration": 38,
    "start_time": "2023-03-06T19:24:21.980Z"
   },
   {
    "duration": 61,
    "start_time": "2023-03-06T19:28:55.608Z"
   },
   {
    "duration": 31,
    "start_time": "2023-03-06T19:29:06.351Z"
   },
   {
    "duration": 1545,
    "start_time": "2023-03-06T19:29:42.550Z"
   },
   {
    "duration": 926,
    "start_time": "2023-03-06T19:29:44.097Z"
   },
   {
    "duration": 39,
    "start_time": "2023-03-06T19:29:45.025Z"
   },
   {
    "duration": 136,
    "start_time": "2023-03-06T19:29:45.066Z"
   },
   {
    "duration": 173,
    "start_time": "2023-03-06T19:29:45.204Z"
   },
   {
    "duration": 4959,
    "start_time": "2023-03-06T19:29:45.379Z"
   },
   {
    "duration": 3,
    "start_time": "2023-03-06T19:29:50.340Z"
   },
   {
    "duration": 14,
    "start_time": "2023-03-06T19:29:50.345Z"
   },
   {
    "duration": 6,
    "start_time": "2023-03-06T19:29:50.361Z"
   },
   {
    "duration": 79,
    "start_time": "2023-03-06T19:29:50.371Z"
   },
   {
    "duration": 5,
    "start_time": "2023-03-06T19:29:50.452Z"
   },
   {
    "duration": 553,
    "start_time": "2023-03-06T19:29:50.459Z"
   },
   {
    "duration": 580,
    "start_time": "2023-03-06T19:29:51.013Z"
   },
   {
    "duration": 564,
    "start_time": "2023-03-06T19:29:51.595Z"
   },
   {
    "duration": 112,
    "start_time": "2023-03-06T19:29:52.161Z"
   },
   {
    "duration": 176,
    "start_time": "2023-03-06T19:29:52.276Z"
   },
   {
    "duration": 6,
    "start_time": "2023-03-06T19:29:52.454Z"
   },
   {
    "duration": 44,
    "start_time": "2023-03-06T19:29:52.462Z"
   },
   {
    "duration": 74,
    "start_time": "2023-03-06T19:29:52.508Z"
   },
   {
    "duration": 137,
    "start_time": "2023-03-06T19:29:52.584Z"
   },
   {
    "duration": 0,
    "start_time": "2023-03-06T19:29:52.724Z"
   },
   {
    "duration": 0,
    "start_time": "2023-03-06T19:29:52.731Z"
   },
   {
    "duration": 0,
    "start_time": "2023-03-06T19:29:52.732Z"
   },
   {
    "duration": 0,
    "start_time": "2023-03-06T19:29:52.733Z"
   },
   {
    "duration": 0,
    "start_time": "2023-03-06T19:29:52.734Z"
   },
   {
    "duration": 0,
    "start_time": "2023-03-06T19:29:52.735Z"
   },
   {
    "duration": 0,
    "start_time": "2023-03-06T19:29:52.736Z"
   },
   {
    "duration": 0,
    "start_time": "2023-03-06T19:29:52.737Z"
   },
   {
    "duration": 0,
    "start_time": "2023-03-06T19:29:52.738Z"
   },
   {
    "duration": 0,
    "start_time": "2023-03-06T19:29:52.739Z"
   },
   {
    "duration": 0,
    "start_time": "2023-03-06T19:29:52.739Z"
   },
   {
    "duration": 0,
    "start_time": "2023-03-06T19:29:52.740Z"
   },
   {
    "duration": 0,
    "start_time": "2023-03-06T19:29:52.741Z"
   },
   {
    "duration": 0,
    "start_time": "2023-03-06T19:29:52.742Z"
   },
   {
    "duration": 0,
    "start_time": "2023-03-06T19:29:52.743Z"
   },
   {
    "duration": 0,
    "start_time": "2023-03-06T19:29:52.743Z"
   },
   {
    "duration": 0,
    "start_time": "2023-03-06T19:29:52.744Z"
   },
   {
    "duration": 0,
    "start_time": "2023-03-06T19:29:52.745Z"
   },
   {
    "duration": 0,
    "start_time": "2023-03-06T19:29:52.746Z"
   },
   {
    "duration": 0,
    "start_time": "2023-03-06T19:29:52.747Z"
   },
   {
    "duration": 0,
    "start_time": "2023-03-06T19:29:52.752Z"
   },
   {
    "duration": 0,
    "start_time": "2023-03-06T19:29:52.752Z"
   },
   {
    "duration": 0,
    "start_time": "2023-03-06T19:29:52.753Z"
   },
   {
    "duration": 0,
    "start_time": "2023-03-06T19:29:52.754Z"
   },
   {
    "duration": 0,
    "start_time": "2023-03-06T19:29:52.755Z"
   },
   {
    "duration": 0,
    "start_time": "2023-03-06T19:29:52.756Z"
   },
   {
    "duration": 270,
    "start_time": "2023-03-06T19:30:36.912Z"
   },
   {
    "duration": 85,
    "start_time": "2023-03-06T19:30:50.702Z"
   },
   {
    "duration": 14,
    "start_time": "2023-03-06T19:30:51.058Z"
   },
   {
    "duration": 129,
    "start_time": "2023-03-06T19:30:51.950Z"
   },
   {
    "duration": 30,
    "start_time": "2023-03-06T19:30:52.621Z"
   },
   {
    "duration": 31,
    "start_time": "2023-03-06T19:30:52.876Z"
   },
   {
    "duration": 44,
    "start_time": "2023-03-06T19:30:53.100Z"
   },
   {
    "duration": 141,
    "start_time": "2023-03-06T19:30:53.450Z"
   },
   {
    "duration": 68,
    "start_time": "2023-03-06T19:30:53.625Z"
   },
   {
    "duration": 540,
    "start_time": "2023-03-06T19:30:53.848Z"
   },
   {
    "duration": 145,
    "start_time": "2023-03-06T19:31:08.753Z"
   },
   {
    "duration": 3,
    "start_time": "2023-03-06T19:31:09.781Z"
   },
   {
    "duration": 3,
    "start_time": "2023-03-06T19:31:10.850Z"
   },
   {
    "duration": 280,
    "start_time": "2023-03-06T19:31:11.631Z"
   },
   {
    "duration": 24,
    "start_time": "2023-03-06T19:31:12.829Z"
   },
   {
    "duration": 173,
    "start_time": "2023-03-06T19:31:26.720Z"
   },
   {
    "duration": 14,
    "start_time": "2023-03-06T19:31:28.104Z"
   },
   {
    "duration": 11,
    "start_time": "2023-03-06T19:31:28.617Z"
   },
   {
    "duration": 19,
    "start_time": "2023-03-06T19:31:28.817Z"
   },
   {
    "duration": 33,
    "start_time": "2023-03-06T19:31:28.943Z"
   },
   {
    "duration": 160,
    "start_time": "2023-03-06T19:31:29.126Z"
   },
   {
    "duration": 16,
    "start_time": "2023-03-06T19:31:29.575Z"
   },
   {
    "duration": 10,
    "start_time": "2023-03-06T19:31:31.411Z"
   },
   {
    "duration": 10,
    "start_time": "2023-03-06T19:31:31.925Z"
   },
   {
    "duration": 24,
    "start_time": "2023-03-06T19:31:32.477Z"
   },
   {
    "duration": 115,
    "start_time": "2023-03-06T19:31:33.272Z"
   },
   {
    "duration": 23,
    "start_time": "2023-03-06T19:31:36.653Z"
   },
   {
    "duration": 18,
    "start_time": "2023-03-06T19:31:41.273Z"
   },
   {
    "duration": 45,
    "start_time": "2023-03-06T19:31:42.216Z"
   },
   {
    "duration": 2987,
    "start_time": "2023-03-06T19:34:26.876Z"
   },
   {
    "duration": 129,
    "start_time": "2023-03-06T19:45:21.811Z"
   },
   {
    "duration": 16,
    "start_time": "2023-03-06T19:47:19.749Z"
   },
   {
    "duration": 364,
    "start_time": "2023-03-06T19:48:02.407Z"
   },
   {
    "duration": 1623,
    "start_time": "2023-03-06T19:48:27.776Z"
   },
   {
    "duration": 943,
    "start_time": "2023-03-06T19:48:29.401Z"
   },
   {
    "duration": 32,
    "start_time": "2023-03-06T19:48:30.346Z"
   },
   {
    "duration": 141,
    "start_time": "2023-03-06T19:48:30.381Z"
   },
   {
    "duration": 173,
    "start_time": "2023-03-06T19:48:30.524Z"
   },
   {
    "duration": 5428,
    "start_time": "2023-03-06T19:48:30.698Z"
   },
   {
    "duration": 7,
    "start_time": "2023-03-06T19:48:36.136Z"
   },
   {
    "duration": 21,
    "start_time": "2023-03-06T19:48:36.146Z"
   },
   {
    "duration": 6,
    "start_time": "2023-03-06T19:48:36.169Z"
   },
   {
    "duration": 75,
    "start_time": "2023-03-06T19:48:36.177Z"
   },
   {
    "duration": 5,
    "start_time": "2023-03-06T19:48:36.254Z"
   },
   {
    "duration": 631,
    "start_time": "2023-03-06T19:48:36.260Z"
   },
   {
    "duration": 554,
    "start_time": "2023-03-06T19:48:36.893Z"
   },
   {
    "duration": 537,
    "start_time": "2023-03-06T19:48:37.449Z"
   },
   {
    "duration": 105,
    "start_time": "2023-03-06T19:48:37.988Z"
   },
   {
    "duration": 177,
    "start_time": "2023-03-06T19:48:38.095Z"
   },
   {
    "duration": 5,
    "start_time": "2023-03-06T19:48:38.273Z"
   },
   {
    "duration": 63,
    "start_time": "2023-03-06T19:48:38.280Z"
   },
   {
    "duration": 70,
    "start_time": "2023-03-06T19:48:38.346Z"
   },
   {
    "duration": 257,
    "start_time": "2023-03-06T19:48:38.418Z"
   },
   {
    "duration": 82,
    "start_time": "2023-03-06T19:48:38.677Z"
   },
   {
    "duration": 12,
    "start_time": "2023-03-06T19:48:38.761Z"
   },
   {
    "duration": 140,
    "start_time": "2023-03-06T19:48:38.775Z"
   },
   {
    "duration": 28,
    "start_time": "2023-03-06T19:48:46.316Z"
   },
   {
    "duration": 25,
    "start_time": "2023-03-06T19:48:47.358Z"
   },
   {
    "duration": 34,
    "start_time": "2023-03-06T19:48:48.422Z"
   },
   {
    "duration": 132,
    "start_time": "2023-03-06T19:48:50.804Z"
   },
   {
    "duration": 80,
    "start_time": "2023-03-06T19:48:51.826Z"
   },
   {
    "duration": 374,
    "start_time": "2023-03-06T19:48:57.408Z"
   },
   {
    "duration": 246,
    "start_time": "2023-03-06T19:52:17.553Z"
   },
   {
    "duration": 17,
    "start_time": "2023-03-06T19:52:33.424Z"
   },
   {
    "duration": 10,
    "start_time": "2023-03-06T19:52:37.577Z"
   },
   {
    "duration": 17,
    "start_time": "2023-03-06T19:52:38.522Z"
   },
   {
    "duration": 31,
    "start_time": "2023-03-06T19:52:39.852Z"
   },
   {
    "duration": 190,
    "start_time": "2023-03-06T19:52:56.162Z"
   },
   {
    "duration": 15,
    "start_time": "2023-03-06T19:53:06.211Z"
   },
   {
    "duration": 14,
    "start_time": "2023-03-06T19:53:14.431Z"
   },
   {
    "duration": 9,
    "start_time": "2023-03-06T19:53:15.753Z"
   },
   {
    "duration": 25,
    "start_time": "2023-03-06T19:53:20.413Z"
   },
   {
    "duration": 126,
    "start_time": "2023-03-06T19:53:40.723Z"
   },
   {
    "duration": 34,
    "start_time": "2023-03-06T19:53:45.329Z"
   },
   {
    "duration": 19,
    "start_time": "2023-03-06T19:53:51.752Z"
   },
   {
    "duration": 34,
    "start_time": "2023-03-06T19:53:52.414Z"
   },
   {
    "duration": 127,
    "start_time": "2023-03-06T19:55:04.711Z"
   },
   {
    "duration": 5,
    "start_time": "2023-03-06T19:55:14.356Z"
   },
   {
    "duration": 1549,
    "start_time": "2023-03-06T19:55:48.706Z"
   },
   {
    "duration": 942,
    "start_time": "2023-03-06T19:55:50.257Z"
   },
   {
    "duration": 21,
    "start_time": "2023-03-06T19:55:58.231Z"
   },
   {
    "duration": 36,
    "start_time": "2023-03-06T19:56:04.834Z"
   },
   {
    "duration": 149,
    "start_time": "2023-03-06T19:56:05.003Z"
   },
   {
    "duration": 212,
    "start_time": "2023-03-06T19:56:05.157Z"
   },
   {
    "duration": 5816,
    "start_time": "2023-03-06T19:56:05.372Z"
   },
   {
    "duration": 6,
    "start_time": "2023-03-06T19:56:11.191Z"
   },
   {
    "duration": 16,
    "start_time": "2023-03-06T19:56:11.199Z"
   },
   {
    "duration": 10,
    "start_time": "2023-03-06T19:56:11.219Z"
   },
   {
    "duration": 105,
    "start_time": "2023-03-06T19:56:11.232Z"
   },
   {
    "duration": 10,
    "start_time": "2023-03-06T19:56:11.342Z"
   },
   {
    "duration": 646,
    "start_time": "2023-03-06T19:56:11.353Z"
   },
   {
    "duration": 659,
    "start_time": "2023-03-06T19:56:12.001Z"
   },
   {
    "duration": 551,
    "start_time": "2023-03-06T19:56:12.661Z"
   },
   {
    "duration": 136,
    "start_time": "2023-03-06T19:56:13.215Z"
   },
   {
    "duration": 174,
    "start_time": "2023-03-06T19:56:13.353Z"
   },
   {
    "duration": 11,
    "start_time": "2023-03-06T19:56:13.532Z"
   },
   {
    "duration": 94,
    "start_time": "2023-03-06T19:56:13.546Z"
   },
   {
    "duration": 65,
    "start_time": "2023-03-06T19:56:13.644Z"
   },
   {
    "duration": 250,
    "start_time": "2023-03-06T19:56:13.711Z"
   },
   {
    "duration": 103,
    "start_time": "2023-03-06T19:56:13.963Z"
   },
   {
    "duration": 14,
    "start_time": "2023-03-06T19:56:14.069Z"
   },
   {
    "duration": 158,
    "start_time": "2023-03-06T19:56:14.084Z"
   },
   {
    "duration": 27,
    "start_time": "2023-03-06T19:56:14.243Z"
   },
   {
    "duration": 45,
    "start_time": "2023-03-06T19:56:14.271Z"
   },
   {
    "duration": 35,
    "start_time": "2023-03-06T19:56:14.318Z"
   },
   {
    "duration": 180,
    "start_time": "2023-03-06T19:56:14.355Z"
   },
   {
    "duration": 82,
    "start_time": "2023-03-06T19:56:14.537Z"
   },
   {
    "duration": 505,
    "start_time": "2023-03-06T19:56:14.635Z"
   },
   {
    "duration": 282,
    "start_time": "2023-03-06T19:56:15.142Z"
   },
   {
    "duration": 26,
    "start_time": "2023-03-06T19:56:15.425Z"
   },
   {
    "duration": 44,
    "start_time": "2023-03-06T19:56:15.453Z"
   },
   {
    "duration": 26,
    "start_time": "2023-03-06T19:56:15.500Z"
   },
   {
    "duration": 72,
    "start_time": "2023-03-06T19:56:15.528Z"
   },
   {
    "duration": 140,
    "start_time": "2023-03-06T19:56:15.602Z"
   },
   {
    "duration": 23,
    "start_time": "2023-03-06T19:56:15.746Z"
   },
   {
    "duration": 22,
    "start_time": "2023-03-06T19:56:15.770Z"
   },
   {
    "duration": 9,
    "start_time": "2023-03-06T19:56:15.793Z"
   },
   {
    "duration": 88,
    "start_time": "2023-03-06T19:56:15.804Z"
   },
   {
    "duration": 147,
    "start_time": "2023-03-06T19:56:15.894Z"
   },
   {
    "duration": 35,
    "start_time": "2023-03-06T19:56:16.044Z"
   },
   {
    "duration": 57,
    "start_time": "2023-03-06T19:56:16.083Z"
   },
   {
    "duration": 57,
    "start_time": "2023-03-06T19:56:16.142Z"
   },
   {
    "duration": 6,
    "start_time": "2023-03-06T19:56:16.201Z"
   },
   {
    "duration": 3,
    "start_time": "2023-03-06T22:20:28.906Z"
   },
   {
    "duration": 119,
    "start_time": "2023-03-06T22:22:04.904Z"
   },
   {
    "duration": 31,
    "start_time": "2023-03-06T22:25:52.084Z"
   },
   {
    "duration": 25,
    "start_time": "2023-03-06T22:26:52.812Z"
   },
   {
    "duration": 14,
    "start_time": "2023-03-06T22:32:06.424Z"
   },
   {
    "duration": 4,
    "start_time": "2023-03-06T22:32:23.467Z"
   },
   {
    "duration": 16,
    "start_time": "2023-03-06T22:35:21.047Z"
   },
   {
    "duration": 13,
    "start_time": "2023-03-06T22:37:04.576Z"
   },
   {
    "duration": 114,
    "start_time": "2023-03-06T22:37:19.276Z"
   },
   {
    "duration": 6514,
    "start_time": "2023-03-06T22:38:50.039Z"
   },
   {
    "duration": 99,
    "start_time": "2023-03-06T22:38:56.555Z"
   },
   {
    "duration": 5164,
    "start_time": "2023-03-06T22:39:15.751Z"
   },
   {
    "duration": 95,
    "start_time": "2023-03-06T22:39:20.958Z"
   },
   {
    "duration": 4,
    "start_time": "2023-03-06T22:45:25.378Z"
   },
   {
    "duration": 3722,
    "start_time": "2023-03-06T22:45:52.000Z"
   },
   {
    "duration": 7,
    "start_time": "2023-03-06T22:46:30.895Z"
   },
   {
    "duration": 10,
    "start_time": "2023-03-06T22:47:22.478Z"
   },
   {
    "duration": 3790,
    "start_time": "2023-03-06T22:47:34.288Z"
   },
   {
    "duration": 10,
    "start_time": "2023-03-06T22:47:44.392Z"
   },
   {
    "duration": 14,
    "start_time": "2023-03-06T22:48:25.993Z"
   },
   {
    "duration": 14,
    "start_time": "2023-03-06T22:48:49.936Z"
   },
   {
    "duration": 13,
    "start_time": "2023-03-06T22:49:24.047Z"
   },
   {
    "duration": 18,
    "start_time": "2023-03-06T22:49:46.386Z"
   },
   {
    "duration": 1911,
    "start_time": "2023-03-06T22:50:26.349Z"
   },
   {
    "duration": 13,
    "start_time": "2023-03-06T22:50:37.048Z"
   },
   {
    "duration": 11,
    "start_time": "2023-03-06T22:50:52.575Z"
   },
   {
    "duration": 4,
    "start_time": "2023-03-06T22:50:59.247Z"
   },
   {
    "duration": 90,
    "start_time": "2023-03-06T22:51:03.929Z"
   },
   {
    "duration": 35,
    "start_time": "2023-03-06T22:51:19.181Z"
   },
   {
    "duration": 3778,
    "start_time": "2023-03-06T22:53:41.146Z"
   },
   {
    "duration": 92,
    "start_time": "2023-03-06T22:53:57.866Z"
   },
   {
    "duration": 76,
    "start_time": "2023-03-06T22:56:39.104Z"
   },
   {
    "duration": 4,
    "start_time": "2023-03-06T22:57:27.707Z"
   },
   {
    "duration": 79,
    "start_time": "2023-03-06T22:57:37.886Z"
   },
   {
    "duration": 76,
    "start_time": "2023-03-06T22:58:17.975Z"
   },
   {
    "duration": 4,
    "start_time": "2023-03-06T23:02:54.700Z"
   },
   {
    "duration": 195,
    "start_time": "2023-03-06T23:03:13.556Z"
   },
   {
    "duration": 89,
    "start_time": "2023-03-06T23:03:59.610Z"
   },
   {
    "duration": 22,
    "start_time": "2023-03-06T23:07:26.746Z"
   },
   {
    "duration": 16,
    "start_time": "2023-03-06T23:07:51.148Z"
   },
   {
    "duration": 17,
    "start_time": "2023-03-06T23:09:20.848Z"
   },
   {
    "duration": 15,
    "start_time": "2023-03-06T23:09:30.483Z"
   },
   {
    "duration": 19,
    "start_time": "2023-03-06T23:09:33.900Z"
   },
   {
    "duration": 1254,
    "start_time": "2023-03-06T23:09:49.217Z"
   },
   {
    "duration": 5,
    "start_time": "2023-03-06T23:09:59.542Z"
   },
   {
    "duration": 855,
    "start_time": "2023-03-06T23:10:08.019Z"
   },
   {
    "duration": 5,
    "start_time": "2023-03-06T23:10:08.877Z"
   },
   {
    "duration": 34,
    "start_time": "2023-03-06T23:10:08.884Z"
   },
   {
    "duration": 150,
    "start_time": "2023-03-06T23:10:08.921Z"
   },
   {
    "duration": 162,
    "start_time": "2023-03-06T23:10:09.073Z"
   },
   {
    "duration": 4750,
    "start_time": "2023-03-06T23:10:09.237Z"
   },
   {
    "duration": 4,
    "start_time": "2023-03-06T23:10:13.989Z"
   },
   {
    "duration": 7,
    "start_time": "2023-03-06T23:10:13.994Z"
   },
   {
    "duration": 6,
    "start_time": "2023-03-06T23:10:14.002Z"
   },
   {
    "duration": 81,
    "start_time": "2023-03-06T23:10:14.009Z"
   },
   {
    "duration": 4,
    "start_time": "2023-03-06T23:10:14.092Z"
   },
   {
    "duration": 529,
    "start_time": "2023-03-06T23:10:14.097Z"
   },
   {
    "duration": 529,
    "start_time": "2023-03-06T23:10:14.628Z"
   },
   {
    "duration": 489,
    "start_time": "2023-03-06T23:10:15.159Z"
   },
   {
    "duration": 112,
    "start_time": "2023-03-06T23:10:15.650Z"
   },
   {
    "duration": 240,
    "start_time": "2023-03-06T23:10:15.764Z"
   },
   {
    "duration": 7,
    "start_time": "2023-03-06T23:10:16.006Z"
   },
   {
    "duration": 78,
    "start_time": "2023-03-06T23:10:16.015Z"
   },
   {
    "duration": 66,
    "start_time": "2023-03-06T23:10:16.095Z"
   },
   {
    "duration": 240,
    "start_time": "2023-03-06T23:10:16.163Z"
   },
   {
    "duration": 86,
    "start_time": "2023-03-06T23:10:16.405Z"
   },
   {
    "duration": 12,
    "start_time": "2023-03-06T23:10:16.493Z"
   },
   {
    "duration": 133,
    "start_time": "2023-03-06T23:10:16.506Z"
   },
   {
    "duration": 23,
    "start_time": "2023-03-06T23:10:16.642Z"
   },
   {
    "duration": 25,
    "start_time": "2023-03-06T23:10:16.667Z"
   },
   {
    "duration": 51,
    "start_time": "2023-03-06T23:10:16.694Z"
   },
   {
    "duration": 121,
    "start_time": "2023-03-06T23:10:16.747Z"
   },
   {
    "duration": 79,
    "start_time": "2023-03-06T23:10:16.870Z"
   },
   {
    "duration": 405,
    "start_time": "2023-03-06T23:10:16.951Z"
   },
   {
    "duration": 154,
    "start_time": "2023-03-06T23:10:17.357Z"
   },
   {
    "duration": 22,
    "start_time": "2023-03-06T23:10:17.512Z"
   },
   {
    "duration": 12,
    "start_time": "2023-03-06T23:10:17.535Z"
   },
   {
    "duration": 16,
    "start_time": "2023-03-06T23:10:17.549Z"
   },
   {
    "duration": 21,
    "start_time": "2023-03-06T23:10:17.567Z"
   },
   {
    "duration": 245,
    "start_time": "2023-03-06T23:10:17.591Z"
   },
   {
    "duration": 17,
    "start_time": "2023-03-06T23:10:17.841Z"
   },
   {
    "duration": 18,
    "start_time": "2023-03-06T23:10:17.860Z"
   },
   {
    "duration": 17,
    "start_time": "2023-03-06T23:10:17.880Z"
   },
   {
    "duration": 27,
    "start_time": "2023-03-06T23:10:17.899Z"
   },
   {
    "duration": 117,
    "start_time": "2023-03-06T23:10:17.932Z"
   },
   {
    "duration": 21,
    "start_time": "2023-03-06T23:10:18.050Z"
   },
   {
    "duration": 16,
    "start_time": "2023-03-06T23:10:18.072Z"
   },
   {
    "duration": 47,
    "start_time": "2023-03-06T23:10:18.089Z"
   },
   {
    "duration": 4,
    "start_time": "2023-03-06T23:10:18.144Z"
   },
   {
    "duration": 22,
    "start_time": "2023-03-06T23:10:18.150Z"
   },
   {
    "duration": 5,
    "start_time": "2023-03-06T23:10:19.487Z"
   },
   {
    "duration": 227,
    "start_time": "2023-03-06T23:10:24.575Z"
   },
   {
    "duration": 963,
    "start_time": "2023-03-06T23:16:37.169Z"
   },
   {
    "duration": 7,
    "start_time": "2023-03-06T23:20:34.751Z"
   },
   {
    "duration": 14,
    "start_time": "2023-03-06T23:22:06.722Z"
   },
   {
    "duration": 1602,
    "start_time": "2023-03-06T23:22:41.647Z"
   },
   {
    "duration": 4,
    "start_time": "2023-03-06T23:22:50.311Z"
   },
   {
    "duration": 10,
    "start_time": "2023-03-06T23:22:52.950Z"
   },
   {
    "duration": 120411,
    "start_time": "2023-03-06T23:22:58.772Z"
   },
   {
    "duration": 5,
    "start_time": "2023-03-06T23:24:59.185Z"
   },
   {
    "duration": 14,
    "start_time": "2023-03-06T23:25:16.125Z"
   },
   {
    "duration": 31,
    "start_time": "2023-03-06T23:25:48.612Z"
   },
   {
    "duration": 26,
    "start_time": "2023-03-06T23:26:05.631Z"
   },
   {
    "duration": 1629,
    "start_time": "2023-03-07T11:18:23.661Z"
   },
   {
    "duration": 1127,
    "start_time": "2023-03-07T11:18:27.083Z"
   },
   {
    "duration": 5,
    "start_time": "2023-03-07T11:18:28.212Z"
   },
   {
    "duration": 30,
    "start_time": "2023-03-07T11:18:28.219Z"
   },
   {
    "duration": 140,
    "start_time": "2023-03-07T11:18:28.252Z"
   },
   {
    "duration": 162,
    "start_time": "2023-03-07T11:18:28.394Z"
   },
   {
    "duration": 4828,
    "start_time": "2023-03-07T11:18:28.558Z"
   },
   {
    "duration": 5,
    "start_time": "2023-03-07T11:18:33.388Z"
   },
   {
    "duration": 26,
    "start_time": "2023-03-07T11:18:33.394Z"
   },
   {
    "duration": 27,
    "start_time": "2023-03-07T11:18:33.422Z"
   },
   {
    "duration": 83,
    "start_time": "2023-03-07T11:18:33.451Z"
   },
   {
    "duration": 5,
    "start_time": "2023-03-07T11:18:33.535Z"
   },
   {
    "duration": 471,
    "start_time": "2023-03-07T11:18:33.541Z"
   },
   {
    "duration": 521,
    "start_time": "2023-03-07T11:18:34.014Z"
   },
   {
    "duration": 463,
    "start_time": "2023-03-07T11:18:34.536Z"
   },
   {
    "duration": 93,
    "start_time": "2023-03-07T11:18:35.002Z"
   },
   {
    "duration": 176,
    "start_time": "2023-03-07T11:18:35.097Z"
   },
   {
    "duration": 5,
    "start_time": "2023-03-07T11:18:35.278Z"
   },
   {
    "duration": 47,
    "start_time": "2023-03-07T11:18:35.285Z"
   },
   {
    "duration": 84,
    "start_time": "2023-03-07T11:18:35.333Z"
   },
   {
    "duration": 241,
    "start_time": "2023-03-07T11:18:35.419Z"
   },
   {
    "duration": 79,
    "start_time": "2023-03-07T11:18:35.661Z"
   },
   {
    "duration": 11,
    "start_time": "2023-03-07T11:18:35.741Z"
   },
   {
    "duration": 145,
    "start_time": "2023-03-07T11:18:35.754Z"
   },
   {
    "duration": 19,
    "start_time": "2023-03-07T11:18:35.901Z"
   },
   {
    "duration": 22,
    "start_time": "2023-03-07T11:18:35.922Z"
   },
   {
    "duration": 55,
    "start_time": "2023-03-07T11:18:35.945Z"
   },
   {
    "duration": 142,
    "start_time": "2023-03-07T11:18:36.001Z"
   },
   {
    "duration": 95,
    "start_time": "2023-03-07T11:18:36.144Z"
   },
   {
    "duration": 480,
    "start_time": "2023-03-07T11:18:36.241Z"
   },
   {
    "duration": 161,
    "start_time": "2023-03-07T11:18:36.723Z"
   },
   {
    "duration": 12,
    "start_time": "2023-03-07T11:18:36.886Z"
   },
   {
    "duration": 8,
    "start_time": "2023-03-07T11:18:36.899Z"
   },
   {
    "duration": 21,
    "start_time": "2023-03-07T11:18:36.909Z"
   },
   {
    "duration": 46,
    "start_time": "2023-03-07T11:18:36.932Z"
   },
   {
    "duration": 124,
    "start_time": "2023-03-07T11:18:36.981Z"
   },
   {
    "duration": 16,
    "start_time": "2023-03-07T11:18:37.108Z"
   },
   {
    "duration": 11,
    "start_time": "2023-03-07T11:18:37.126Z"
   },
   {
    "duration": 8,
    "start_time": "2023-03-07T11:18:37.139Z"
   },
   {
    "duration": 47,
    "start_time": "2023-03-07T11:18:37.149Z"
   },
   {
    "duration": 128,
    "start_time": "2023-03-07T11:18:37.198Z"
   },
   {
    "duration": 25,
    "start_time": "2023-03-07T11:18:37.328Z"
   },
   {
    "duration": 35,
    "start_time": "2023-03-07T11:18:37.354Z"
   },
   {
    "duration": 26,
    "start_time": "2023-03-07T11:18:37.392Z"
   },
   {
    "duration": 4,
    "start_time": "2023-03-07T11:18:37.420Z"
   },
   {
    "duration": 20,
    "start_time": "2023-03-07T11:18:39.946Z"
   },
   {
    "duration": 5,
    "start_time": "2023-03-07T11:18:41.921Z"
   },
   {
    "duration": 234,
    "start_time": "2023-03-07T11:18:43.239Z"
   },
   {
    "duration": 29,
    "start_time": "2023-03-07T11:18:44.782Z"
   },
   {
    "duration": 121,
    "start_time": "2023-03-07T11:18:50.095Z"
   },
   {
    "duration": 4,
    "start_time": "2023-03-07T11:18:54.608Z"
   },
   {
    "duration": 123640,
    "start_time": "2023-03-07T11:18:55.837Z"
   },
   {
    "duration": 7,
    "start_time": "2023-03-07T11:24:22.832Z"
   },
   {
    "duration": 256,
    "start_time": "2023-03-07T11:26:42.103Z"
   },
   {
    "duration": 4,
    "start_time": "2023-03-07T11:27:37.061Z"
   },
   {
    "duration": 1696,
    "start_time": "2023-03-07T11:30:11.938Z"
   },
   {
    "duration": 926,
    "start_time": "2023-03-07T11:30:13.636Z"
   },
   {
    "duration": 15,
    "start_time": "2023-03-07T11:30:14.564Z"
   },
   {
    "duration": 29,
    "start_time": "2023-03-07T11:30:14.581Z"
   },
   {
    "duration": 178,
    "start_time": "2023-03-07T11:30:14.612Z"
   },
   {
    "duration": 207,
    "start_time": "2023-03-07T11:30:14.793Z"
   },
   {
    "duration": 5237,
    "start_time": "2023-03-07T11:30:15.002Z"
   },
   {
    "duration": 5,
    "start_time": "2023-03-07T11:30:20.241Z"
   },
   {
    "duration": 16,
    "start_time": "2023-03-07T11:30:20.248Z"
   },
   {
    "duration": 16,
    "start_time": "2023-03-07T11:30:20.267Z"
   },
   {
    "duration": 80,
    "start_time": "2023-03-07T11:30:20.285Z"
   },
   {
    "duration": 5,
    "start_time": "2023-03-07T11:30:20.367Z"
   },
   {
    "duration": 530,
    "start_time": "2023-03-07T11:30:20.377Z"
   },
   {
    "duration": 558,
    "start_time": "2023-03-07T11:30:20.909Z"
   },
   {
    "duration": 521,
    "start_time": "2023-03-07T11:30:21.469Z"
   },
   {
    "duration": 109,
    "start_time": "2023-03-07T11:30:21.992Z"
   },
   {
    "duration": 185,
    "start_time": "2023-03-07T11:30:22.103Z"
   },
   {
    "duration": 9,
    "start_time": "2023-03-07T11:30:22.291Z"
   },
   {
    "duration": 72,
    "start_time": "2023-03-07T11:30:22.302Z"
   },
   {
    "duration": 108,
    "start_time": "2023-03-07T11:30:22.376Z"
   },
   {
    "duration": 296,
    "start_time": "2023-03-07T11:30:22.486Z"
   },
   {
    "duration": 104,
    "start_time": "2023-03-07T11:30:22.785Z"
   },
   {
    "duration": 13,
    "start_time": "2023-03-07T11:30:22.892Z"
   },
   {
    "duration": 151,
    "start_time": "2023-03-07T11:30:22.908Z"
   },
   {
    "duration": 33,
    "start_time": "2023-03-07T11:30:23.062Z"
   },
   {
    "duration": 23,
    "start_time": "2023-03-07T11:30:23.099Z"
   },
   {
    "duration": 22,
    "start_time": "2023-03-07T11:30:23.124Z"
   },
   {
    "duration": 165,
    "start_time": "2023-03-07T11:30:23.148Z"
   },
   {
    "duration": 80,
    "start_time": "2023-03-07T11:30:23.596Z"
   },
   {
    "duration": 519,
    "start_time": "2023-03-07T11:30:24.407Z"
   },
   {
    "duration": 162,
    "start_time": "2023-03-07T11:30:25.000Z"
   },
   {
    "duration": 13,
    "start_time": "2023-03-07T11:30:25.169Z"
   },
   {
    "duration": 10,
    "start_time": "2023-03-07T11:30:25.496Z"
   },
   {
    "duration": 20,
    "start_time": "2023-03-07T11:30:25.669Z"
   },
   {
    "duration": 28,
    "start_time": "2023-03-07T11:30:25.829Z"
   },
   {
    "duration": 129,
    "start_time": "2023-03-07T11:30:26.021Z"
   },
   {
    "duration": 23,
    "start_time": "2023-03-07T11:30:26.360Z"
   },
   {
    "duration": 11,
    "start_time": "2023-03-07T11:30:26.704Z"
   },
   {
    "duration": 10,
    "start_time": "2023-03-07T11:30:26.871Z"
   },
   {
    "duration": 28,
    "start_time": "2023-03-07T11:30:27.048Z"
   },
   {
    "duration": 120,
    "start_time": "2023-03-07T11:30:27.216Z"
   },
   {
    "duration": 26,
    "start_time": "2023-03-07T11:30:27.361Z"
   },
   {
    "duration": 35,
    "start_time": "2023-03-07T11:30:27.703Z"
   },
   {
    "duration": 42,
    "start_time": "2023-03-07T11:30:27.860Z"
   },
   {
    "duration": 4,
    "start_time": "2023-03-07T11:30:28.037Z"
   },
   {
    "duration": 121,
    "start_time": "2023-03-07T11:30:28.541Z"
   },
   {
    "duration": 5,
    "start_time": "2023-03-07T11:30:28.757Z"
   },
   {
    "duration": 1529,
    "start_time": "2023-03-07T11:31:01.671Z"
   },
   {
    "duration": 925,
    "start_time": "2023-03-07T11:31:03.202Z"
   },
   {
    "duration": 6,
    "start_time": "2023-03-07T11:31:04.129Z"
   },
   {
    "duration": 64,
    "start_time": "2023-03-07T11:31:04.137Z"
   },
   {
    "duration": 194,
    "start_time": "2023-03-07T11:31:04.203Z"
   },
   {
    "duration": 197,
    "start_time": "2023-03-07T11:31:04.399Z"
   },
   {
    "duration": 5308,
    "start_time": "2023-03-07T11:31:04.598Z"
   },
   {
    "duration": 5,
    "start_time": "2023-03-07T11:31:09.908Z"
   },
   {
    "duration": 10,
    "start_time": "2023-03-07T11:31:09.915Z"
   },
   {
    "duration": 31,
    "start_time": "2023-03-07T11:31:09.928Z"
   },
   {
    "duration": 72,
    "start_time": "2023-03-07T11:31:09.960Z"
   },
   {
    "duration": 5,
    "start_time": "2023-03-07T11:31:10.034Z"
   },
   {
    "duration": 488,
    "start_time": "2023-03-07T11:31:10.040Z"
   },
   {
    "duration": 515,
    "start_time": "2023-03-07T11:31:10.530Z"
   },
   {
    "duration": 489,
    "start_time": "2023-03-07T11:31:11.047Z"
   },
   {
    "duration": 112,
    "start_time": "2023-03-07T11:31:11.538Z"
   },
   {
    "duration": 191,
    "start_time": "2023-03-07T11:31:11.652Z"
   },
   {
    "duration": 6,
    "start_time": "2023-03-07T11:31:11.845Z"
   },
   {
    "duration": 75,
    "start_time": "2023-03-07T11:31:11.853Z"
   },
   {
    "duration": 83,
    "start_time": "2023-03-07T11:31:11.930Z"
   },
   {
    "duration": 266,
    "start_time": "2023-03-07T11:31:12.015Z"
   },
   {
    "duration": 78,
    "start_time": "2023-03-07T11:31:12.283Z"
   },
   {
    "duration": 33,
    "start_time": "2023-03-07T11:31:12.363Z"
   },
   {
    "duration": 234,
    "start_time": "2023-03-07T11:31:12.399Z"
   },
   {
    "duration": 31,
    "start_time": "2023-03-07T11:31:12.635Z"
   },
   {
    "duration": 28,
    "start_time": "2023-03-07T11:31:12.679Z"
   },
   {
    "duration": 36,
    "start_time": "2023-03-07T11:31:12.709Z"
   },
   {
    "duration": 178,
    "start_time": "2023-03-07T11:31:12.747Z"
   },
   {
    "duration": 90,
    "start_time": "2023-03-07T11:31:12.927Z"
   },
   {
    "duration": 517,
    "start_time": "2023-03-07T11:31:13.019Z"
   },
   {
    "duration": 173,
    "start_time": "2023-03-07T11:31:13.539Z"
   },
   {
    "duration": 15,
    "start_time": "2023-03-07T11:31:13.715Z"
   },
   {
    "duration": 16,
    "start_time": "2023-03-07T11:31:13.732Z"
   },
   {
    "duration": 15,
    "start_time": "2023-03-07T11:31:19.127Z"
   },
   {
    "duration": 30,
    "start_time": "2023-03-07T11:31:20.022Z"
   },
   {
    "duration": 129,
    "start_time": "2023-03-07T11:31:21.198Z"
   },
   {
    "duration": 17,
    "start_time": "2023-03-07T11:31:25.847Z"
   },
   {
    "duration": 9,
    "start_time": "2023-03-07T11:31:32.384Z"
   },
   {
    "duration": 9,
    "start_time": "2023-03-07T11:31:34.078Z"
   },
   {
    "duration": 28,
    "start_time": "2023-03-07T11:31:36.381Z"
   },
   {
    "duration": 136,
    "start_time": "2023-03-07T11:31:39.478Z"
   },
   {
    "duration": 26,
    "start_time": "2023-03-07T11:31:40.565Z"
   },
   {
    "duration": 28,
    "start_time": "2023-03-07T11:31:58.151Z"
   },
   {
    "duration": 23,
    "start_time": "2023-03-07T11:33:08.010Z"
   },
   {
    "duration": 25,
    "start_time": "2023-03-07T11:33:09.079Z"
   },
   {
    "duration": 5,
    "start_time": "2023-03-07T11:33:12.132Z"
   },
   {
    "duration": 92,
    "start_time": "2023-03-07T11:33:34.859Z"
   },
   {
    "duration": 74,
    "start_time": "2023-03-07T11:33:44.129Z"
   },
   {
    "duration": 1469,
    "start_time": "2023-03-07T11:34:23.693Z"
   },
   {
    "duration": 878,
    "start_time": "2023-03-07T11:34:25.164Z"
   },
   {
    "duration": 8,
    "start_time": "2023-03-07T11:34:26.043Z"
   },
   {
    "duration": 40,
    "start_time": "2023-03-07T11:34:26.054Z"
   },
   {
    "duration": 151,
    "start_time": "2023-03-07T11:34:26.096Z"
   },
   {
    "duration": 205,
    "start_time": "2023-03-07T11:34:26.249Z"
   },
   {
    "duration": 5126,
    "start_time": "2023-03-07T11:34:26.456Z"
   },
   {
    "duration": 6,
    "start_time": "2023-03-07T11:34:31.584Z"
   },
   {
    "duration": 34,
    "start_time": "2023-03-07T11:34:31.592Z"
   },
   {
    "duration": 31,
    "start_time": "2023-03-07T11:34:31.630Z"
   },
   {
    "duration": 89,
    "start_time": "2023-03-07T11:34:31.663Z"
   },
   {
    "duration": 6,
    "start_time": "2023-03-07T11:34:31.754Z"
   },
   {
    "duration": 512,
    "start_time": "2023-03-07T11:34:31.761Z"
   },
   {
    "duration": 666,
    "start_time": "2023-03-07T11:34:32.275Z"
   },
   {
    "duration": 478,
    "start_time": "2023-03-07T11:34:32.943Z"
   },
   {
    "duration": 104,
    "start_time": "2023-03-07T11:34:33.423Z"
   },
   {
    "duration": 185,
    "start_time": "2023-03-07T11:34:33.529Z"
   },
   {
    "duration": 6,
    "start_time": "2023-03-07T11:34:33.716Z"
   },
   {
    "duration": 40,
    "start_time": "2023-03-07T11:34:33.724Z"
   },
   {
    "duration": 81,
    "start_time": "2023-03-07T11:34:33.777Z"
   },
   {
    "duration": 265,
    "start_time": "2023-03-07T11:34:33.860Z"
   },
   {
    "duration": 104,
    "start_time": "2023-03-07T11:34:34.127Z"
   },
   {
    "duration": 19,
    "start_time": "2023-03-07T11:34:34.233Z"
   },
   {
    "duration": 153,
    "start_time": "2023-03-07T11:34:34.254Z"
   },
   {
    "duration": 28,
    "start_time": "2023-03-07T11:34:34.409Z"
   },
   {
    "duration": 42,
    "start_time": "2023-03-07T11:34:34.439Z"
   },
   {
    "duration": 27,
    "start_time": "2023-03-07T11:34:34.483Z"
   },
   {
    "duration": 151,
    "start_time": "2023-03-07T11:34:34.515Z"
   },
   {
    "duration": 88,
    "start_time": "2023-03-07T11:34:34.667Z"
   },
   {
    "duration": 511,
    "start_time": "2023-03-07T11:34:34.757Z"
   },
   {
    "duration": 176,
    "start_time": "2023-03-07T11:34:35.270Z"
   },
   {
    "duration": 14,
    "start_time": "2023-03-07T11:34:35.447Z"
   },
   {
    "duration": 22,
    "start_time": "2023-03-07T11:34:35.463Z"
   },
   {
    "duration": 21,
    "start_time": "2023-03-07T11:34:35.486Z"
   },
   {
    "duration": 29,
    "start_time": "2023-03-07T11:34:35.508Z"
   },
   {
    "duration": 149,
    "start_time": "2023-03-07T11:34:35.539Z"
   },
   {
    "duration": 17,
    "start_time": "2023-03-07T11:34:35.690Z"
   },
   {
    "duration": 11,
    "start_time": "2023-03-07T11:34:35.709Z"
   },
   {
    "duration": 20,
    "start_time": "2023-03-07T11:34:35.722Z"
   },
   {
    "duration": 67,
    "start_time": "2023-03-07T11:34:35.744Z"
   },
   {
    "duration": 136,
    "start_time": "2023-03-07T11:34:35.813Z"
   },
   {
    "duration": 40,
    "start_time": "2023-03-07T11:34:35.953Z"
   },
   {
    "duration": 30,
    "start_time": "2023-03-07T11:34:36.024Z"
   },
   {
    "duration": 26,
    "start_time": "2023-03-07T11:34:36.186Z"
   },
   {
    "duration": 26,
    "start_time": "2023-03-07T11:34:36.383Z"
   },
   {
    "duration": 4,
    "start_time": "2023-03-07T11:34:36.610Z"
   },
   {
    "duration": 96,
    "start_time": "2023-03-07T11:34:37.712Z"
   },
   {
    "duration": 26,
    "start_time": "2023-03-07T11:35:15.321Z"
   },
   {
    "duration": 5,
    "start_time": "2023-03-07T11:35:21.268Z"
   },
   {
    "duration": 286,
    "start_time": "2023-03-07T11:35:22.451Z"
   },
   {
    "duration": 28,
    "start_time": "2023-03-07T11:35:23.832Z"
   },
   {
    "duration": 98,
    "start_time": "2023-03-07T11:35:29.980Z"
   },
   {
    "duration": 4,
    "start_time": "2023-03-07T11:35:33.037Z"
   },
   {
    "duration": 5,
    "start_time": "2023-03-07T11:36:13.004Z"
   },
   {
    "duration": 122,
    "start_time": "2023-03-07T11:36:26.236Z"
   },
   {
    "duration": 4,
    "start_time": "2023-03-07T11:37:48.945Z"
   },
   {
    "duration": 3,
    "start_time": "2023-03-07T11:37:56.809Z"
   },
   {
    "duration": 4,
    "start_time": "2023-03-07T11:38:34.256Z"
   },
   {
    "duration": 1501,
    "start_time": "2023-03-07T11:39:04.744Z"
   },
   {
    "duration": 913,
    "start_time": "2023-03-07T11:39:06.247Z"
   },
   {
    "duration": 7,
    "start_time": "2023-03-07T11:39:07.161Z"
   },
   {
    "duration": 43,
    "start_time": "2023-03-07T11:39:07.170Z"
   },
   {
    "duration": 163,
    "start_time": "2023-03-07T11:39:07.214Z"
   },
   {
    "duration": 183,
    "start_time": "2023-03-07T11:39:07.379Z"
   },
   {
    "duration": 5277,
    "start_time": "2023-03-07T11:39:07.564Z"
   },
   {
    "duration": 6,
    "start_time": "2023-03-07T11:39:12.842Z"
   },
   {
    "duration": 16,
    "start_time": "2023-03-07T11:39:12.850Z"
   },
   {
    "duration": 28,
    "start_time": "2023-03-07T11:39:12.869Z"
   },
   {
    "duration": 76,
    "start_time": "2023-03-07T11:39:12.899Z"
   },
   {
    "duration": 5,
    "start_time": "2023-03-07T11:39:12.977Z"
   },
   {
    "duration": 504,
    "start_time": "2023-03-07T11:39:12.983Z"
   },
   {
    "duration": 498,
    "start_time": "2023-03-07T11:39:13.489Z"
   },
   {
    "duration": 487,
    "start_time": "2023-03-07T11:39:13.989Z"
   },
   {
    "duration": 118,
    "start_time": "2023-03-07T11:39:14.478Z"
   },
   {
    "duration": 206,
    "start_time": "2023-03-07T11:39:14.599Z"
   },
   {
    "duration": 6,
    "start_time": "2023-03-07T11:39:14.807Z"
   },
   {
    "duration": 40,
    "start_time": "2023-03-07T11:39:14.814Z"
   },
   {
    "duration": 84,
    "start_time": "2023-03-07T11:39:14.876Z"
   },
   {
    "duration": 253,
    "start_time": "2023-03-07T11:39:14.976Z"
   },
   {
    "duration": 91,
    "start_time": "2023-03-07T11:39:15.231Z"
   },
   {
    "duration": 12,
    "start_time": "2023-03-07T11:39:15.324Z"
   },
   {
    "duration": 149,
    "start_time": "2023-03-07T11:39:15.338Z"
   },
   {
    "duration": 23,
    "start_time": "2023-03-07T11:39:15.489Z"
   },
   {
    "duration": 23,
    "start_time": "2023-03-07T11:39:15.515Z"
   },
   {
    "duration": 56,
    "start_time": "2023-03-07T11:39:15.540Z"
   },
   {
    "duration": 142,
    "start_time": "2023-03-07T11:39:15.600Z"
   },
   {
    "duration": 96,
    "start_time": "2023-03-07T11:39:15.744Z"
   },
   {
    "duration": 504,
    "start_time": "2023-03-07T11:39:15.841Z"
   },
   {
    "duration": 167,
    "start_time": "2023-03-07T11:39:16.348Z"
   },
   {
    "duration": 12,
    "start_time": "2023-03-07T11:39:16.517Z"
   },
   {
    "duration": 9,
    "start_time": "2023-03-07T11:39:16.531Z"
   },
   {
    "duration": 35,
    "start_time": "2023-03-07T11:39:16.542Z"
   },
   {
    "duration": 42,
    "start_time": "2023-03-07T11:39:16.579Z"
   },
   {
    "duration": 140,
    "start_time": "2023-03-07T11:39:16.623Z"
   },
   {
    "duration": 22,
    "start_time": "2023-03-07T11:39:16.765Z"
   },
   {
    "duration": 9,
    "start_time": "2023-03-07T11:39:16.789Z"
   },
   {
    "duration": 8,
    "start_time": "2023-03-07T11:39:16.800Z"
   },
   {
    "duration": 33,
    "start_time": "2023-03-07T11:39:16.810Z"
   },
   {
    "duration": 157,
    "start_time": "2023-03-07T11:39:16.844Z"
   },
   {
    "duration": 26,
    "start_time": "2023-03-07T11:39:17.003Z"
   },
   {
    "duration": 47,
    "start_time": "2023-03-07T11:39:17.031Z"
   },
   {
    "duration": 21,
    "start_time": "2023-03-07T11:39:17.080Z"
   },
   {
    "duration": 28,
    "start_time": "2023-03-07T11:39:17.103Z"
   },
   {
    "duration": 4,
    "start_time": "2023-03-07T11:39:17.133Z"
   },
   {
    "duration": 52,
    "start_time": "2023-03-07T11:39:17.138Z"
   },
   {
    "duration": 5,
    "start_time": "2023-03-07T11:39:17.194Z"
   },
   {
    "duration": 250,
    "start_time": "2023-03-07T11:39:17.201Z"
   },
   {
    "duration": 102,
    "start_time": "2023-03-07T11:39:17.453Z"
   },
   {
    "duration": 5,
    "start_time": "2023-03-07T11:39:17.945Z"
   },
   {
    "duration": 4,
    "start_time": "2023-03-07T11:39:19.581Z"
   },
   {
    "duration": 145,
    "start_time": "2023-03-07T11:40:51.292Z"
   },
   {
    "duration": 4,
    "start_time": "2023-03-07T11:41:01.206Z"
   },
   {
    "duration": 42,
    "start_time": "2023-03-07T11:41:26.672Z"
   },
   {
    "duration": 12,
    "start_time": "2023-03-07T11:41:48.216Z"
   },
   {
    "duration": 899,
    "start_time": "2023-03-07T11:41:54.780Z"
   },
   {
    "duration": 4,
    "start_time": "2023-03-07T11:42:16.734Z"
   },
   {
    "duration": 121751,
    "start_time": "2023-03-07T11:42:17.790Z"
   },
   {
    "duration": 1904,
    "start_time": "2023-03-07T11:44:56.012Z"
   },
   {
    "duration": 124,
    "start_time": "2023-03-07T11:47:37.454Z"
   },
   {
    "duration": 1829,
    "start_time": "2023-03-07T11:48:53.600Z"
   },
   {
    "duration": 79,
    "start_time": "2023-03-07T11:53:07.776Z"
   },
   {
    "duration": 23,
    "start_time": "2023-03-07T11:53:33.175Z"
   },
   {
    "duration": 82,
    "start_time": "2023-03-07T11:53:45.556Z"
   },
   {
    "duration": 29700,
    "start_time": "2023-03-07T11:56:00.796Z"
   },
   {
    "duration": 36,
    "start_time": "2023-03-07T11:59:19.685Z"
   },
   {
    "duration": 5,
    "start_time": "2023-03-07T12:00:03.314Z"
   },
   {
    "duration": 22,
    "start_time": "2023-03-07T12:00:06.402Z"
   },
   {
    "duration": 2018902,
    "start_time": "2023-03-07T12:00:45.283Z"
   },
   {
    "duration": 745908,
    "start_time": "2023-03-07T12:34:24.187Z"
   },
   {
    "duration": 2069,
    "start_time": "2023-03-07T14:00:02.051Z"
   },
   {
    "duration": 1041,
    "start_time": "2023-03-07T14:00:04.122Z"
   },
   {
    "duration": 12,
    "start_time": "2023-03-07T14:00:05.165Z"
   },
   {
    "duration": 55,
    "start_time": "2023-03-07T14:00:05.181Z"
   },
   {
    "duration": 188,
    "start_time": "2023-03-07T14:00:05.237Z"
   },
   {
    "duration": 222,
    "start_time": "2023-03-07T14:00:05.427Z"
   },
   {
    "duration": 6016,
    "start_time": "2023-03-07T14:00:05.651Z"
   },
   {
    "duration": 16,
    "start_time": "2023-03-07T14:00:11.668Z"
   },
   {
    "duration": 16,
    "start_time": "2023-03-07T14:00:11.687Z"
   },
   {
    "duration": 18,
    "start_time": "2023-03-07T14:00:11.706Z"
   },
   {
    "duration": 84,
    "start_time": "2023-03-07T14:00:11.726Z"
   },
   {
    "duration": 5,
    "start_time": "2023-03-07T14:00:11.812Z"
   },
   {
    "duration": 596,
    "start_time": "2023-03-07T14:00:11.819Z"
   },
   {
    "duration": 700,
    "start_time": "2023-03-07T14:00:12.417Z"
   },
   {
    "duration": 554,
    "start_time": "2023-03-07T14:00:13.119Z"
   },
   {
    "duration": 129,
    "start_time": "2023-03-07T14:00:13.676Z"
   },
   {
    "duration": 216,
    "start_time": "2023-03-07T14:00:13.806Z"
   },
   {
    "duration": 6,
    "start_time": "2023-03-07T14:00:14.024Z"
   },
   {
    "duration": 60,
    "start_time": "2023-03-07T14:00:14.031Z"
   },
   {
    "duration": 97,
    "start_time": "2023-03-07T14:00:14.094Z"
   },
   {
    "duration": 323,
    "start_time": "2023-03-07T14:00:14.193Z"
   },
   {
    "duration": 99,
    "start_time": "2023-03-07T14:00:14.518Z"
   },
   {
    "duration": 14,
    "start_time": "2023-03-07T14:00:14.619Z"
   },
   {
    "duration": 157,
    "start_time": "2023-03-07T14:00:14.635Z"
   },
   {
    "duration": 122,
    "start_time": "2023-03-07T14:00:14.794Z"
   },
   {
    "duration": 21,
    "start_time": "2023-03-07T14:00:14.918Z"
   },
   {
    "duration": 47,
    "start_time": "2023-03-07T14:00:14.941Z"
   },
   {
    "duration": 166,
    "start_time": "2023-03-07T14:00:14.992Z"
   },
   {
    "duration": 134,
    "start_time": "2023-03-07T14:00:15.160Z"
   },
   {
    "duration": 459,
    "start_time": "2023-03-07T14:00:15.296Z"
   },
   {
    "duration": 203,
    "start_time": "2023-03-07T14:00:15.757Z"
   },
   {
    "duration": 20,
    "start_time": "2023-03-07T14:00:15.962Z"
   },
   {
    "duration": 10,
    "start_time": "2023-03-07T14:00:15.991Z"
   },
   {
    "duration": 18,
    "start_time": "2023-03-07T14:00:16.295Z"
   },
   {
    "duration": 28,
    "start_time": "2023-03-07T14:00:17.299Z"
   },
   {
    "duration": 171,
    "start_time": "2023-03-07T14:00:18.474Z"
   },
   {
    "duration": 18,
    "start_time": "2023-03-07T14:00:21.790Z"
   },
   {
    "duration": 9,
    "start_time": "2023-03-07T14:00:23.368Z"
   },
   {
    "duration": 9,
    "start_time": "2023-03-07T14:00:23.938Z"
   },
   {
    "duration": 38,
    "start_time": "2023-03-07T14:00:24.475Z"
   },
   {
    "duration": 142,
    "start_time": "2023-03-07T14:00:25.519Z"
   },
   {
    "duration": 39,
    "start_time": "2023-03-07T14:00:26.339Z"
   },
   {
    "duration": 38,
    "start_time": "2023-03-07T14:00:29.495Z"
   },
   {
    "duration": 23,
    "start_time": "2023-03-07T14:00:29.716Z"
   },
   {
    "duration": 31,
    "start_time": "2023-03-07T14:00:29.932Z"
   },
   {
    "duration": 4,
    "start_time": "2023-03-07T14:00:30.521Z"
   },
   {
    "duration": 1683,
    "start_time": "2023-03-09T21:56:41.883Z"
   },
   {
    "duration": 2789,
    "start_time": "2023-03-09T21:56:43.568Z"
   },
   {
    "duration": 5,
    "start_time": "2023-03-09T21:56:47.357Z"
   },
   {
    "duration": 24,
    "start_time": "2023-03-09T21:56:48.442Z"
   },
   {
    "duration": 145,
    "start_time": "2023-03-09T21:56:51.419Z"
   },
   {
    "duration": 167,
    "start_time": "2023-03-09T21:56:56.004Z"
   },
   {
    "duration": 4564,
    "start_time": "2023-03-09T21:56:59.052Z"
   },
   {
    "duration": 7,
    "start_time": "2023-03-09T21:57:03.618Z"
   },
   {
    "duration": 3,
    "start_time": "2023-03-09T21:57:03.752Z"
   },
   {
    "duration": 4,
    "start_time": "2023-03-09T21:57:04.416Z"
   },
   {
    "duration": 68,
    "start_time": "2023-03-09T21:57:05.946Z"
   },
   {
    "duration": 4,
    "start_time": "2023-03-09T21:57:08.468Z"
   },
   {
    "duration": 480,
    "start_time": "2023-03-09T21:57:14.747Z"
   },
   {
    "duration": 494,
    "start_time": "2023-03-09T21:57:15.229Z"
   },
   {
    "duration": 453,
    "start_time": "2023-03-09T21:57:17.080Z"
   },
   {
    "duration": 87,
    "start_time": "2023-03-09T21:57:20.932Z"
   },
   {
    "duration": 159,
    "start_time": "2023-03-09T21:57:22.991Z"
   },
   {
    "duration": 6,
    "start_time": "2023-03-09T21:57:25.906Z"
   },
   {
    "duration": 33,
    "start_time": "2023-03-09T21:57:29.593Z"
   },
   {
    "duration": 4,
    "start_time": "2023-03-09T21:57:37.501Z"
   },
   {
    "duration": 73,
    "start_time": "2023-03-09T21:57:40.329Z"
   },
   {
    "duration": 216,
    "start_time": "2023-03-09T21:57:45.398Z"
   },
   {
    "duration": 76,
    "start_time": "2023-03-09T21:58:04.860Z"
   },
   {
    "duration": 12,
    "start_time": "2023-03-09T21:58:05.679Z"
   },
   {
    "duration": 133,
    "start_time": "2023-03-09T21:58:09.691Z"
   },
   {
    "duration": 97,
    "start_time": "2023-03-09T21:58:23.765Z"
   },
   {
    "duration": 20,
    "start_time": "2023-03-09T21:58:25.233Z"
   },
   {
    "duration": 21,
    "start_time": "2023-03-09T21:58:26.152Z"
   },
   {
    "duration": 5,
    "start_time": "2023-03-09T21:58:39.051Z"
   },
   {
    "duration": 117,
    "start_time": "2023-03-09T21:58:46.231Z"
   },
   {
    "duration": 83,
    "start_time": "2023-03-09T21:58:58.264Z"
   },
   {
    "duration": 359,
    "start_time": "2023-03-09T21:59:02.729Z"
   },
   {
    "duration": 171,
    "start_time": "2023-03-09T21:59:15.763Z"
   },
   {
    "duration": 13,
    "start_time": "2023-03-09T21:59:19.085Z"
   },
   {
    "duration": 8,
    "start_time": "2023-03-09T21:59:29.261Z"
   },
   {
    "duration": 13,
    "start_time": "2023-03-09T21:59:32.111Z"
   },
   {
    "duration": 4,
    "start_time": "2023-03-09T21:59:39.905Z"
   },
   {
    "duration": 9,
    "start_time": "2023-03-09T22:00:00.469Z"
   },
   {
    "duration": 1433,
    "start_time": "2023-03-09T22:00:26.992Z"
   },
   {
    "duration": 830,
    "start_time": "2023-03-09T22:00:28.427Z"
   },
   {
    "duration": 5,
    "start_time": "2023-03-09T22:00:29.259Z"
   },
   {
    "duration": 27,
    "start_time": "2023-03-09T22:00:29.266Z"
   },
   {
    "duration": 145,
    "start_time": "2023-03-09T22:00:29.294Z"
   },
   {
    "duration": 173,
    "start_time": "2023-03-09T22:00:29.441Z"
   },
   {
    "duration": 4578,
    "start_time": "2023-03-09T22:00:29.616Z"
   },
   {
    "duration": 5,
    "start_time": "2023-03-09T22:00:34.196Z"
   },
   {
    "duration": 22,
    "start_time": "2023-03-09T22:00:34.202Z"
   },
   {
    "duration": 5,
    "start_time": "2023-03-09T22:00:34.227Z"
   },
   {
    "duration": 64,
    "start_time": "2023-03-09T22:00:34.233Z"
   },
   {
    "duration": 9,
    "start_time": "2023-03-09T22:00:34.299Z"
   },
   {
    "duration": 439,
    "start_time": "2023-03-09T22:00:34.324Z"
   },
   {
    "duration": 480,
    "start_time": "2023-03-09T22:00:34.765Z"
   },
   {
    "duration": 416,
    "start_time": "2023-03-09T22:00:35.247Z"
   },
   {
    "duration": 98,
    "start_time": "2023-03-09T22:00:35.665Z"
   },
   {
    "duration": 185,
    "start_time": "2023-03-09T22:00:35.765Z"
   },
   {
    "duration": 5,
    "start_time": "2023-03-09T22:00:35.952Z"
   },
   {
    "duration": 35,
    "start_time": "2023-03-09T22:00:35.959Z"
   },
   {
    "duration": 4,
    "start_time": "2023-03-09T22:00:35.996Z"
   },
   {
    "duration": 102,
    "start_time": "2023-03-09T22:00:36.002Z"
   },
   {
    "duration": 257,
    "start_time": "2023-03-09T22:00:36.105Z"
   },
   {
    "duration": 79,
    "start_time": "2023-03-09T22:00:36.363Z"
   },
   {
    "duration": 10,
    "start_time": "2023-03-09T22:00:36.445Z"
   },
   {
    "duration": 122,
    "start_time": "2023-03-09T22:00:36.684Z"
   },
   {
    "duration": 95,
    "start_time": "2023-03-09T22:00:42.005Z"
   },
   {
    "duration": 19,
    "start_time": "2023-03-09T22:00:42.223Z"
   },
   {
    "duration": 26,
    "start_time": "2023-03-09T22:00:47.844Z"
   },
   {
    "duration": 4,
    "start_time": "2023-03-09T22:00:48.503Z"
   },
   {
    "duration": 119,
    "start_time": "2023-03-09T22:00:53.076Z"
   },
   {
    "duration": 75,
    "start_time": "2023-03-09T22:00:54.254Z"
   },
   {
    "duration": 367,
    "start_time": "2023-03-09T22:00:56.269Z"
   },
   {
    "duration": 156,
    "start_time": "2023-03-09T22:01:05.313Z"
   },
   {
    "duration": 14,
    "start_time": "2023-03-09T22:01:40.847Z"
   },
   {
    "duration": 25,
    "start_time": "2023-03-09T22:02:00.537Z"
   },
   {
    "duration": 1016,
    "start_time": "2023-03-09T22:02:26.124Z"
   },
   {
    "duration": 1450,
    "start_time": "2023-03-09T22:04:50.826Z"
   },
   {
    "duration": 839,
    "start_time": "2023-03-09T22:04:52.278Z"
   },
   {
    "duration": 6,
    "start_time": "2023-03-09T22:04:53.118Z"
   },
   {
    "duration": 24,
    "start_time": "2023-03-09T22:04:53.126Z"
   },
   {
    "duration": 150,
    "start_time": "2023-03-09T22:04:53.152Z"
   },
   {
    "duration": 174,
    "start_time": "2023-03-09T22:04:53.304Z"
   },
   {
    "duration": 4673,
    "start_time": "2023-03-09T22:04:53.479Z"
   },
   {
    "duration": 4,
    "start_time": "2023-03-09T22:04:58.154Z"
   },
   {
    "duration": 4,
    "start_time": "2023-03-09T22:04:58.160Z"
   },
   {
    "duration": 5,
    "start_time": "2023-03-09T22:04:58.166Z"
   },
   {
    "duration": 91,
    "start_time": "2023-03-09T22:04:58.172Z"
   },
   {
    "duration": 4,
    "start_time": "2023-03-09T22:04:58.265Z"
   },
   {
    "duration": 463,
    "start_time": "2023-03-09T22:04:58.271Z"
   },
   {
    "duration": 576,
    "start_time": "2023-03-09T22:04:58.736Z"
   },
   {
    "duration": 431,
    "start_time": "2023-03-09T22:04:59.314Z"
   },
   {
    "duration": 96,
    "start_time": "2023-03-09T22:04:59.747Z"
   },
   {
    "duration": 165,
    "start_time": "2023-03-09T22:04:59.845Z"
   },
   {
    "duration": 14,
    "start_time": "2023-03-09T22:05:00.012Z"
   },
   {
    "duration": 38,
    "start_time": "2023-03-09T22:05:00.028Z"
   },
   {
    "duration": 4,
    "start_time": "2023-03-09T22:05:00.067Z"
   },
   {
    "duration": 88,
    "start_time": "2023-03-09T22:05:00.073Z"
   },
   {
    "duration": 231,
    "start_time": "2023-03-09T22:05:00.163Z"
   },
   {
    "duration": 92,
    "start_time": "2023-03-09T22:05:00.396Z"
   },
   {
    "duration": 14,
    "start_time": "2023-03-09T22:05:00.490Z"
   },
   {
    "duration": 162,
    "start_time": "2023-03-09T22:05:00.505Z"
   },
   {
    "duration": 112,
    "start_time": "2023-03-09T22:05:00.671Z"
   },
   {
    "duration": 20,
    "start_time": "2023-03-09T22:05:00.785Z"
   },
   {
    "duration": 35,
    "start_time": "2023-03-09T22:05:00.808Z"
   },
   {
    "duration": 4,
    "start_time": "2023-03-09T22:05:00.844Z"
   },
   {
    "duration": 156,
    "start_time": "2023-03-09T22:05:00.850Z"
   },
   {
    "duration": 84,
    "start_time": "2023-03-09T22:05:01.008Z"
   },
   {
    "duration": 370,
    "start_time": "2023-03-09T22:05:01.094Z"
   },
   {
    "duration": 165,
    "start_time": "2023-03-09T22:05:01.466Z"
   },
   {
    "duration": 12,
    "start_time": "2023-03-09T22:05:01.633Z"
   },
   {
    "duration": 27,
    "start_time": "2023-03-09T22:05:05.873Z"
   },
   {
    "duration": 34,
    "start_time": "2023-03-09T22:05:47.468Z"
   },
   {
    "duration": 33,
    "start_time": "2023-03-09T22:06:13.225Z"
   },
   {
    "duration": 134,
    "start_time": "2023-03-09T22:07:28.908Z"
   },
   {
    "duration": 12,
    "start_time": "2023-03-09T22:09:02.358Z"
   },
   {
    "duration": 23,
    "start_time": "2023-03-09T22:09:08.203Z"
   },
   {
    "duration": 19,
    "start_time": "2023-03-09T22:09:17.192Z"
   },
   {
    "duration": 15,
    "start_time": "2023-03-09T22:09:28.554Z"
   },
   {
    "duration": 11,
    "start_time": "2023-03-09T22:10:57.487Z"
   },
   {
    "duration": 22,
    "start_time": "2023-03-09T22:12:14.068Z"
   },
   {
    "duration": 4,
    "start_time": "2023-03-09T22:12:15.054Z"
   },
   {
    "duration": 71,
    "start_time": "2023-03-09T22:12:19.305Z"
   },
   {
    "duration": 133,
    "start_time": "2023-03-09T22:12:23.485Z"
   },
   {
    "duration": 21,
    "start_time": "2023-03-09T22:12:27.769Z"
   },
   {
    "duration": 20,
    "start_time": "2023-03-09T22:12:32.864Z"
   },
   {
    "duration": 5,
    "start_time": "2023-03-09T22:12:51.298Z"
   },
   {
    "duration": 11,
    "start_time": "2023-03-09T22:12:54.921Z"
   },
   {
    "duration": 65,
    "start_time": "2023-03-09T22:12:55.939Z"
   },
   {
    "duration": 115,
    "start_time": "2023-03-09T22:12:57.210Z"
   },
   {
    "duration": 65,
    "start_time": "2023-03-09T22:13:00.717Z"
   },
   {
    "duration": 88,
    "start_time": "2023-03-09T22:13:04.482Z"
   },
   {
    "duration": 74,
    "start_time": "2023-03-09T22:13:07.349Z"
   },
   {
    "duration": 63,
    "start_time": "2023-03-09T22:13:12.511Z"
   },
   {
    "duration": 4,
    "start_time": "2023-03-09T22:13:16.089Z"
   },
   {
    "duration": 32,
    "start_time": "2023-03-09T23:02:30.547Z"
   },
   {
    "duration": 1766,
    "start_time": "2023-03-10T16:22:19.963Z"
   },
   {
    "duration": 1230,
    "start_time": "2023-03-10T16:22:21.743Z"
   },
   {
    "duration": 5,
    "start_time": "2023-03-10T16:22:22.975Z"
   },
   {
    "duration": 30,
    "start_time": "2023-03-10T16:22:22.982Z"
   },
   {
    "duration": 171,
    "start_time": "2023-03-10T16:22:23.013Z"
   },
   {
    "duration": 196,
    "start_time": "2023-03-10T16:22:23.185Z"
   },
   {
    "duration": 5499,
    "start_time": "2023-03-10T16:22:23.383Z"
   },
   {
    "duration": 4,
    "start_time": "2023-03-10T16:22:28.884Z"
   },
   {
    "duration": 5,
    "start_time": "2023-03-10T16:22:28.890Z"
   },
   {
    "duration": 6,
    "start_time": "2023-03-10T16:22:28.898Z"
   },
   {
    "duration": 90,
    "start_time": "2023-03-10T16:22:28.906Z"
   },
   {
    "duration": 4,
    "start_time": "2023-03-10T16:22:28.998Z"
   },
   {
    "duration": 512,
    "start_time": "2023-03-10T16:22:29.004Z"
   },
   {
    "duration": 542,
    "start_time": "2023-03-10T16:22:29.518Z"
   },
   {
    "duration": 516,
    "start_time": "2023-03-10T16:22:30.063Z"
   },
   {
    "duration": 109,
    "start_time": "2023-03-10T16:22:30.580Z"
   },
   {
    "duration": 195,
    "start_time": "2023-03-10T16:22:30.691Z"
   },
   {
    "duration": 6,
    "start_time": "2023-03-10T16:22:30.887Z"
   },
   {
    "duration": 115,
    "start_time": "2023-03-10T16:22:30.894Z"
   },
   {
    "duration": 4,
    "start_time": "2023-03-10T16:22:31.011Z"
   },
   {
    "duration": 194,
    "start_time": "2023-03-10T16:22:31.016Z"
   },
   {
    "duration": 261,
    "start_time": "2023-03-10T16:22:31.212Z"
   },
   {
    "duration": 84,
    "start_time": "2023-03-10T16:22:31.475Z"
   },
   {
    "duration": 12,
    "start_time": "2023-03-10T16:22:31.560Z"
   },
   {
    "duration": 154,
    "start_time": "2023-03-10T16:22:31.574Z"
   },
   {
    "duration": 107,
    "start_time": "2023-03-10T16:22:31.731Z"
   },
   {
    "duration": 21,
    "start_time": "2023-03-10T16:22:31.839Z"
   },
   {
    "duration": 23,
    "start_time": "2023-03-10T16:22:31.864Z"
   },
   {
    "duration": 3,
    "start_time": "2023-03-10T16:22:31.889Z"
   },
   {
    "duration": 202,
    "start_time": "2023-03-10T16:22:31.894Z"
   },
   {
    "duration": 114,
    "start_time": "2023-03-10T16:22:32.098Z"
   },
   {
    "duration": 392,
    "start_time": "2023-03-10T16:22:32.213Z"
   },
   {
    "duration": 160,
    "start_time": "2023-03-10T16:22:32.607Z"
   },
   {
    "duration": 12,
    "start_time": "2023-03-10T16:22:32.769Z"
   },
   {
    "duration": 12,
    "start_time": "2023-03-10T16:22:32.783Z"
   },
   {
    "duration": 53,
    "start_time": "2023-03-10T16:22:32.796Z"
   },
   {
    "duration": 4,
    "start_time": "2023-03-10T16:22:32.851Z"
   },
   {
    "duration": 98,
    "start_time": "2023-03-10T16:22:32.857Z"
   },
   {
    "duration": 151,
    "start_time": "2023-03-10T16:22:32.956Z"
   },
   {
    "duration": 37,
    "start_time": "2023-03-10T16:22:33.109Z"
   },
   {
    "duration": 22,
    "start_time": "2023-03-10T16:22:33.148Z"
   },
   {
    "duration": 4,
    "start_time": "2023-03-10T16:22:33.172Z"
   },
   {
    "duration": 33,
    "start_time": "2023-03-10T16:22:33.178Z"
   },
   {
    "duration": 88,
    "start_time": "2023-03-10T16:22:33.212Z"
   },
   {
    "duration": 122,
    "start_time": "2023-03-10T16:22:33.302Z"
   },
   {
    "duration": 71,
    "start_time": "2023-03-10T16:22:33.438Z"
   },
   {
    "duration": 86,
    "start_time": "2023-03-10T16:22:33.511Z"
   },
   {
    "duration": 89,
    "start_time": "2023-03-10T16:22:33.599Z"
   },
   {
    "duration": 89,
    "start_time": "2023-03-10T16:22:33.690Z"
   },
   {
    "duration": 4,
    "start_time": "2023-03-10T16:22:33.782Z"
   },
   {
    "duration": 119,
    "start_time": "2023-03-10T16:23:22.665Z"
   },
   {
    "duration": 5,
    "start_time": "2023-03-10T16:24:24.046Z"
   },
   {
    "duration": 830,
    "start_time": "2023-03-10T16:25:07.190Z"
   },
   {
    "duration": 272,
    "start_time": "2023-03-10T16:26:45.687Z"
   },
   {
    "duration": 34,
    "start_time": "2023-03-10T16:26:56.966Z"
   },
   {
    "duration": 21,
    "start_time": "2023-03-10T16:27:05.423Z"
   },
   {
    "duration": 226,
    "start_time": "2023-03-10T16:27:29.671Z"
   },
   {
    "duration": 5,
    "start_time": "2023-03-10T16:28:11.027Z"
   },
   {
    "duration": 145,
    "start_time": "2023-03-10T16:32:44.444Z"
   },
   {
    "duration": 3764,
    "start_time": "2023-03-10T16:32:52.893Z"
   },
   {
    "duration": 11,
    "start_time": "2023-03-10T16:45:37.477Z"
   },
   {
    "duration": 816,
    "start_time": "2023-03-10T16:47:00.382Z"
   },
   {
    "duration": 20,
    "start_time": "2023-03-10T16:52:54.355Z"
   },
   {
    "duration": 791,
    "start_time": "2023-03-10T16:53:12.167Z"
   },
   {
    "duration": 1773,
    "start_time": "2023-03-11T16:01:41.368Z"
   },
   {
    "duration": 1154,
    "start_time": "2023-03-11T16:01:43.143Z"
   },
   {
    "duration": 6,
    "start_time": "2023-03-11T16:01:44.299Z"
   },
   {
    "duration": 35,
    "start_time": "2023-03-11T16:01:44.307Z"
   },
   {
    "duration": 172,
    "start_time": "2023-03-11T16:01:44.344Z"
   },
   {
    "duration": 227,
    "start_time": "2023-03-11T16:01:44.518Z"
   },
   {
    "duration": 5047,
    "start_time": "2023-03-11T16:01:44.747Z"
   },
   {
    "duration": 4,
    "start_time": "2023-03-11T16:01:49.796Z"
   },
   {
    "duration": 14,
    "start_time": "2023-03-11T16:01:49.802Z"
   },
   {
    "duration": 9,
    "start_time": "2023-03-11T16:01:49.820Z"
   },
   {
    "duration": 72,
    "start_time": "2023-03-11T16:01:49.831Z"
   },
   {
    "duration": 5,
    "start_time": "2023-03-11T16:01:49.904Z"
   },
   {
    "duration": 489,
    "start_time": "2023-03-11T16:01:49.910Z"
   },
   {
    "duration": 518,
    "start_time": "2023-03-11T16:01:50.400Z"
   },
   {
    "duration": 471,
    "start_time": "2023-03-11T16:01:50.920Z"
   },
   {
    "duration": 100,
    "start_time": "2023-03-11T16:01:51.393Z"
   },
   {
    "duration": 176,
    "start_time": "2023-03-11T16:01:51.495Z"
   },
   {
    "duration": 5,
    "start_time": "2023-03-11T16:01:51.673Z"
   },
   {
    "duration": 45,
    "start_time": "2023-03-11T16:01:51.680Z"
   },
   {
    "duration": 4,
    "start_time": "2023-03-11T16:01:51.727Z"
   },
   {
    "duration": 91,
    "start_time": "2023-03-11T16:01:51.733Z"
   },
   {
    "duration": 239,
    "start_time": "2023-03-11T16:01:51.826Z"
   },
   {
    "duration": 77,
    "start_time": "2023-03-11T16:01:52.067Z"
   },
   {
    "duration": 29,
    "start_time": "2023-03-11T16:01:52.146Z"
   },
   {
    "duration": 139,
    "start_time": "2023-03-11T16:01:52.177Z"
   },
   {
    "duration": 114,
    "start_time": "2023-03-11T16:01:52.318Z"
   },
   {
    "duration": 32,
    "start_time": "2023-03-11T16:01:52.434Z"
   },
   {
    "duration": 22,
    "start_time": "2023-03-11T16:01:52.471Z"
   },
   {
    "duration": 5,
    "start_time": "2023-03-11T16:01:52.495Z"
   },
   {
    "duration": 162,
    "start_time": "2023-03-11T16:01:52.502Z"
   },
   {
    "duration": 84,
    "start_time": "2023-03-11T16:01:52.666Z"
   },
   {
    "duration": 405,
    "start_time": "2023-03-11T16:01:52.751Z"
   },
   {
    "duration": 162,
    "start_time": "2023-03-11T16:01:53.158Z"
   },
   {
    "duration": 14,
    "start_time": "2023-03-11T16:01:53.321Z"
   },
   {
    "duration": 30,
    "start_time": "2023-03-11T16:01:53.337Z"
   },
   {
    "duration": 27,
    "start_time": "2023-03-11T16:01:53.368Z"
   },
   {
    "duration": 4,
    "start_time": "2023-03-11T16:01:53.397Z"
   },
   {
    "duration": 95,
    "start_time": "2023-03-11T16:01:53.402Z"
   },
   {
    "duration": 147,
    "start_time": "2023-03-11T16:01:53.499Z"
   },
   {
    "duration": 21,
    "start_time": "2023-03-11T16:01:54.017Z"
   },
   {
    "duration": 21,
    "start_time": "2023-03-11T16:01:56.434Z"
   },
   {
    "duration": 4,
    "start_time": "2023-03-11T16:01:57.749Z"
   },
   {
    "duration": 11,
    "start_time": "2023-03-11T16:01:59.844Z"
   },
   {
    "duration": 66,
    "start_time": "2023-03-11T16:02:00.391Z"
   },
   {
    "duration": 115,
    "start_time": "2023-03-11T16:02:02.240Z"
   },
   {
    "duration": 65,
    "start_time": "2023-03-11T16:02:02.503Z"
   },
   {
    "duration": 69,
    "start_time": "2023-03-11T16:02:03.619Z"
   },
   {
    "duration": 72,
    "start_time": "2023-03-11T16:02:03.867Z"
   },
   {
    "duration": 84,
    "start_time": "2023-03-11T16:02:04.108Z"
   },
   {
    "duration": 5,
    "start_time": "2023-03-11T16:02:04.270Z"
   },
   {
    "duration": 119,
    "start_time": "2023-03-11T16:02:11.099Z"
   },
   {
    "duration": 4,
    "start_time": "2023-03-11T16:02:20.101Z"
   },
   {
    "duration": 754,
    "start_time": "2023-03-11T16:02:23.803Z"
   },
   {
    "duration": 255,
    "start_time": "2023-03-11T16:02:24.954Z"
   },
   {
    "duration": 228,
    "start_time": "2023-03-11T16:02:28.826Z"
   },
   {
    "duration": 3,
    "start_time": "2023-03-11T16:02:31.922Z"
   },
   {
    "duration": 2832,
    "start_time": "2023-03-11T16:02:49.734Z"
   },
   {
    "duration": 659,
    "start_time": "2023-03-11T16:02:58.666Z"
   },
   {
    "duration": 941,
    "start_time": "2023-03-11T16:03:04.065Z"
   },
   {
    "duration": 161498,
    "start_time": "2023-03-11T16:55:24.200Z"
   },
   {
    "duration": 5,
    "start_time": "2023-03-11T17:02:00.670Z"
   },
   {
    "duration": 3,
    "start_time": "2023-03-11T17:03:56.045Z"
   },
   {
    "duration": 5,
    "start_time": "2023-03-11T17:42:15.684Z"
   },
   {
    "duration": 771,
    "start_time": "2023-03-11T17:42:16.016Z"
   },
   {
    "duration": 5,
    "start_time": "2023-03-11T17:42:16.789Z"
   },
   {
    "duration": 37,
    "start_time": "2023-03-11T17:42:16.795Z"
   },
   {
    "duration": 154,
    "start_time": "2023-03-11T17:42:16.835Z"
   },
   {
    "duration": 153,
    "start_time": "2023-03-11T17:42:16.990Z"
   },
   {
    "duration": 5012,
    "start_time": "2023-03-11T17:42:19.439Z"
   },
   {
    "duration": 5,
    "start_time": "2023-03-11T17:42:24.453Z"
   },
   {
    "duration": 27,
    "start_time": "2023-03-11T17:42:24.460Z"
   },
   {
    "duration": 15,
    "start_time": "2023-03-11T17:42:24.490Z"
   },
   {
    "duration": 43,
    "start_time": "2023-03-11T17:42:24.508Z"
   },
   {
    "duration": 12,
    "start_time": "2023-03-11T17:42:24.554Z"
   },
   {
    "duration": 447,
    "start_time": "2023-03-11T17:42:24.569Z"
   },
   {
    "duration": 473,
    "start_time": "2023-03-11T17:42:25.018Z"
   },
   {
    "duration": 432,
    "start_time": "2023-03-11T17:42:25.493Z"
   },
   {
    "duration": 111,
    "start_time": "2023-03-11T17:42:25.929Z"
   },
   {
    "duration": 192,
    "start_time": "2023-03-11T17:42:26.042Z"
   },
   {
    "duration": 5,
    "start_time": "2023-03-11T17:42:26.236Z"
   },
   {
    "duration": 45,
    "start_time": "2023-03-11T17:42:26.243Z"
   },
   {
    "duration": 4,
    "start_time": "2023-03-11T17:42:26.290Z"
   },
   {
    "duration": 98,
    "start_time": "2023-03-11T17:42:26.296Z"
   },
   {
    "duration": 248,
    "start_time": "2023-03-11T17:42:26.396Z"
   },
   {
    "duration": 101,
    "start_time": "2023-03-11T17:42:26.646Z"
   },
   {
    "duration": 17,
    "start_time": "2023-03-11T17:42:26.749Z"
   },
   {
    "duration": 142,
    "start_time": "2023-03-11T17:42:26.768Z"
   },
   {
    "duration": 22,
    "start_time": "2023-03-11T17:42:26.912Z"
   },
   {
    "duration": 43,
    "start_time": "2023-03-11T17:42:26.936Z"
   },
   {
    "duration": 22,
    "start_time": "2023-03-11T17:42:26.980Z"
   },
   {
    "duration": 5,
    "start_time": "2023-03-11T17:42:27.003Z"
   },
   {
    "duration": 154,
    "start_time": "2023-03-11T17:42:27.009Z"
   },
   {
    "duration": 82,
    "start_time": "2023-03-11T17:42:27.165Z"
   },
   {
    "duration": 395,
    "start_time": "2023-03-11T17:42:27.248Z"
   },
   {
    "duration": 170,
    "start_time": "2023-03-11T17:42:27.646Z"
   },
   {
    "duration": 13,
    "start_time": "2023-03-11T17:42:27.817Z"
   },
   {
    "duration": 33,
    "start_time": "2023-03-11T17:42:27.832Z"
   },
   {
    "duration": 23,
    "start_time": "2023-03-11T17:42:27.867Z"
   },
   {
    "duration": 4,
    "start_time": "2023-03-11T17:42:27.892Z"
   },
   {
    "duration": 108,
    "start_time": "2023-03-11T17:42:27.898Z"
   },
   {
    "duration": 142,
    "start_time": "2023-03-11T17:42:28.266Z"
   },
   {
    "duration": 23,
    "start_time": "2023-03-11T17:42:28.622Z"
   },
   {
    "duration": 22,
    "start_time": "2023-03-11T17:42:29.005Z"
   },
   {
    "duration": 5,
    "start_time": "2023-03-11T17:42:29.414Z"
   },
   {
    "duration": 11,
    "start_time": "2023-03-11T17:42:29.839Z"
   },
   {
    "duration": 67,
    "start_time": "2023-03-11T17:42:30.532Z"
   },
   {
    "duration": 230,
    "start_time": "2023-03-11T17:42:30.701Z"
   },
   {
    "duration": 73,
    "start_time": "2023-03-11T17:42:30.933Z"
   },
   {
    "duration": 72,
    "start_time": "2023-03-11T17:42:31.215Z"
   },
   {
    "duration": 85,
    "start_time": "2023-03-11T17:42:31.397Z"
   },
   {
    "duration": 77,
    "start_time": "2023-03-11T17:42:31.812Z"
   },
   {
    "duration": 4,
    "start_time": "2023-03-11T17:42:32.004Z"
   },
   {
    "duration": 106,
    "start_time": "2023-03-11T17:42:33.091Z"
   },
   {
    "duration": 4,
    "start_time": "2023-03-11T17:42:38.938Z"
   },
   {
    "duration": 1520,
    "start_time": "2023-03-11T17:42:55.065Z"
   },
   {
    "duration": 915,
    "start_time": "2023-03-11T17:42:56.587Z"
   },
   {
    "duration": 6,
    "start_time": "2023-03-11T17:42:57.504Z"
   },
   {
    "duration": 31,
    "start_time": "2023-03-11T17:42:57.512Z"
   },
   {
    "duration": 163,
    "start_time": "2023-03-11T17:42:57.544Z"
   },
   {
    "duration": 196,
    "start_time": "2023-03-11T17:42:57.709Z"
   },
   {
    "duration": 4863,
    "start_time": "2023-03-11T17:42:57.906Z"
   },
   {
    "duration": 4,
    "start_time": "2023-03-11T17:43:02.772Z"
   },
   {
    "duration": 10,
    "start_time": "2023-03-11T17:43:02.777Z"
   },
   {
    "duration": 5,
    "start_time": "2023-03-11T17:43:02.789Z"
   },
   {
    "duration": 108,
    "start_time": "2023-03-11T17:43:02.796Z"
   },
   {
    "duration": 5,
    "start_time": "2023-03-11T17:43:02.905Z"
   },
   {
    "duration": 488,
    "start_time": "2023-03-11T17:43:02.964Z"
   },
   {
    "duration": 558,
    "start_time": "2023-03-11T17:43:03.453Z"
   },
   {
    "duration": 521,
    "start_time": "2023-03-11T17:43:04.013Z"
   },
   {
    "duration": 123,
    "start_time": "2023-03-11T17:43:04.536Z"
   },
   {
    "duration": 185,
    "start_time": "2023-03-11T17:43:04.663Z"
   },
   {
    "duration": 15,
    "start_time": "2023-03-11T17:43:04.849Z"
   },
   {
    "duration": 35,
    "start_time": "2023-03-11T17:43:04.866Z"
   },
   {
    "duration": 4,
    "start_time": "2023-03-11T17:43:04.903Z"
   },
   {
    "duration": 98,
    "start_time": "2023-03-11T17:43:04.909Z"
   },
   {
    "duration": 242,
    "start_time": "2023-03-11T17:43:05.009Z"
   },
   {
    "duration": 90,
    "start_time": "2023-03-11T17:43:05.253Z"
   },
   {
    "duration": 24,
    "start_time": "2023-03-11T17:43:05.345Z"
   },
   {
    "duration": 142,
    "start_time": "2023-03-11T17:43:05.371Z"
   },
   {
    "duration": 110,
    "start_time": "2023-03-11T17:43:05.514Z"
   },
   {
    "duration": 21,
    "start_time": "2023-03-11T17:43:05.626Z"
   },
   {
    "duration": 22,
    "start_time": "2023-03-11T17:43:05.664Z"
   },
   {
    "duration": 4,
    "start_time": "2023-03-11T17:43:05.688Z"
   },
   {
    "duration": 146,
    "start_time": "2023-03-11T17:43:05.694Z"
   },
   {
    "duration": 86,
    "start_time": "2023-03-11T17:43:05.841Z"
   },
   {
    "duration": 384,
    "start_time": "2023-03-11T17:43:05.929Z"
   },
   {
    "duration": 162,
    "start_time": "2023-03-11T17:43:06.315Z"
   },
   {
    "duration": 13,
    "start_time": "2023-03-11T17:43:06.479Z"
   },
   {
    "duration": 12,
    "start_time": "2023-03-11T17:43:06.494Z"
   },
   {
    "duration": 29,
    "start_time": "2023-03-11T17:43:06.508Z"
   },
   {
    "duration": 27,
    "start_time": "2023-03-11T17:43:06.539Z"
   },
   {
    "duration": 78,
    "start_time": "2023-03-11T17:43:06.568Z"
   },
   {
    "duration": 159,
    "start_time": "2023-03-11T17:43:06.664Z"
   },
   {
    "duration": 22,
    "start_time": "2023-03-11T17:43:06.825Z"
   },
   {
    "duration": 35,
    "start_time": "2023-03-11T17:43:06.848Z"
   },
   {
    "duration": 3,
    "start_time": "2023-03-11T17:43:06.885Z"
   },
   {
    "duration": 13,
    "start_time": "2023-03-11T17:43:06.890Z"
   },
   {
    "duration": 81,
    "start_time": "2023-03-11T17:43:06.905Z"
   },
   {
    "duration": 127,
    "start_time": "2023-03-11T17:43:06.988Z"
   },
   {
    "duration": 76,
    "start_time": "2023-03-11T17:43:07.119Z"
   },
   {
    "duration": 81,
    "start_time": "2023-03-11T17:43:07.196Z"
   },
   {
    "duration": 69,
    "start_time": "2023-03-11T17:43:07.279Z"
   },
   {
    "duration": 70,
    "start_time": "2023-03-11T17:43:07.377Z"
   },
   {
    "duration": 4,
    "start_time": "2023-03-11T17:43:07.548Z"
   },
   {
    "duration": 132,
    "start_time": "2023-03-11T17:43:16.565Z"
   },
   {
    "duration": 5,
    "start_time": "2023-03-11T17:43:20.874Z"
   },
   {
    "duration": 800,
    "start_time": "2023-03-11T17:43:24.429Z"
   },
   {
    "duration": 289,
    "start_time": "2023-03-11T17:43:26.695Z"
   },
   {
    "duration": 225,
    "start_time": "2023-03-11T17:43:30.622Z"
   },
   {
    "duration": 2826,
    "start_time": "2023-03-11T17:43:44.965Z"
   },
   {
    "duration": 12,
    "start_time": "2023-03-11T17:44:20.393Z"
   },
   {
    "duration": 722,
    "start_time": "2023-03-11T17:44:25.630Z"
   },
   {
    "duration": 170123,
    "start_time": "2023-03-11T17:44:44.081Z"
   },
   {
    "duration": 5,
    "start_time": "2023-03-11T17:48:33.295Z"
   },
   {
    "duration": 204,
    "start_time": "2023-03-11T17:48:41.928Z"
   },
   {
    "duration": 94,
    "start_time": "2023-03-11T17:54:20.776Z"
   },
   {
    "duration": 3,
    "start_time": "2023-03-11T17:55:58.705Z"
   },
   {
    "duration": 2,
    "start_time": "2023-03-11T17:56:03.666Z"
   },
   {
    "duration": 3,
    "start_time": "2023-03-11T17:56:08.009Z"
   },
   {
    "duration": 136,
    "start_time": "2023-03-11T17:58:27.254Z"
   },
   {
    "duration": 138,
    "start_time": "2023-03-11T17:58:36.617Z"
   },
   {
    "duration": 757,
    "start_time": "2023-03-11T17:58:56.272Z"
   },
   {
    "duration": 1583,
    "start_time": "2023-03-11T18:08:39.124Z"
   },
   {
    "duration": 949,
    "start_time": "2023-03-11T18:08:40.709Z"
   },
   {
    "duration": 8,
    "start_time": "2023-03-11T18:08:41.660Z"
   },
   {
    "duration": 37,
    "start_time": "2023-03-11T18:08:41.671Z"
   },
   {
    "duration": 159,
    "start_time": "2023-03-11T18:08:41.711Z"
   },
   {
    "duration": 208,
    "start_time": "2023-03-11T18:08:41.872Z"
   },
   {
    "duration": 5115,
    "start_time": "2023-03-11T18:08:42.082Z"
   },
   {
    "duration": 5,
    "start_time": "2023-03-11T18:08:47.200Z"
   },
   {
    "duration": 7,
    "start_time": "2023-03-11T18:08:47.206Z"
   },
   {
    "duration": 10,
    "start_time": "2023-03-11T18:08:47.216Z"
   },
   {
    "duration": 87,
    "start_time": "2023-03-11T18:08:47.228Z"
   },
   {
    "duration": 6,
    "start_time": "2023-03-11T18:08:47.317Z"
   },
   {
    "duration": 551,
    "start_time": "2023-03-11T18:08:47.326Z"
   },
   {
    "duration": 561,
    "start_time": "2023-03-11T18:08:47.879Z"
   },
   {
    "duration": 513,
    "start_time": "2023-03-11T18:08:48.441Z"
   },
   {
    "duration": 113,
    "start_time": "2023-03-11T18:08:48.956Z"
   },
   {
    "duration": 193,
    "start_time": "2023-03-11T18:08:49.072Z"
   },
   {
    "duration": 6,
    "start_time": "2023-03-11T18:08:49.267Z"
   },
   {
    "duration": 40,
    "start_time": "2023-03-11T18:08:49.274Z"
   },
   {
    "duration": 9,
    "start_time": "2023-03-11T18:08:49.316Z"
   },
   {
    "duration": 130,
    "start_time": "2023-03-11T18:08:49.327Z"
   },
   {
    "duration": 245,
    "start_time": "2023-03-11T18:08:49.464Z"
   },
   {
    "duration": 95,
    "start_time": "2023-03-11T18:08:49.711Z"
   },
   {
    "duration": 12,
    "start_time": "2023-03-11T18:08:49.809Z"
   },
   {
    "duration": 170,
    "start_time": "2023-03-11T18:08:49.823Z"
   },
   {
    "duration": 116,
    "start_time": "2023-03-11T18:08:49.995Z"
   },
   {
    "duration": 23,
    "start_time": "2023-03-11T18:08:50.114Z"
   },
   {
    "duration": 46,
    "start_time": "2023-03-11T18:08:50.142Z"
   },
   {
    "duration": 4,
    "start_time": "2023-03-11T18:08:50.191Z"
   },
   {
    "duration": 175,
    "start_time": "2023-03-11T18:08:50.198Z"
   },
   {
    "duration": 89,
    "start_time": "2023-03-11T18:08:50.375Z"
   },
   {
    "duration": 460,
    "start_time": "2023-03-11T18:08:50.467Z"
   },
   {
    "duration": 190,
    "start_time": "2023-03-11T18:08:50.929Z"
   },
   {
    "duration": 16,
    "start_time": "2023-03-11T18:08:51.122Z"
   },
   {
    "duration": 31,
    "start_time": "2023-03-11T18:08:51.139Z"
   },
   {
    "duration": 31,
    "start_time": "2023-03-11T18:08:51.172Z"
   },
   {
    "duration": 4,
    "start_time": "2023-03-11T18:08:51.205Z"
   },
   {
    "duration": 102,
    "start_time": "2023-03-11T18:08:51.212Z"
   },
   {
    "duration": 162,
    "start_time": "2023-03-11T18:08:51.316Z"
   },
   {
    "duration": 22,
    "start_time": "2023-03-11T18:08:51.480Z"
   },
   {
    "duration": 23,
    "start_time": "2023-03-11T18:08:51.504Z"
   },
   {
    "duration": 5,
    "start_time": "2023-03-11T18:08:51.529Z"
   },
   {
    "duration": 13,
    "start_time": "2023-03-11T18:08:51.567Z"
   },
   {
    "duration": 93,
    "start_time": "2023-03-11T18:08:51.582Z"
   },
   {
    "duration": 150,
    "start_time": "2023-03-11T18:08:51.677Z"
   },
   {
    "duration": 157,
    "start_time": "2023-03-11T18:08:51.830Z"
   },
   {
    "duration": 81,
    "start_time": "2023-03-11T18:08:51.990Z"
   },
   {
    "duration": 76,
    "start_time": "2023-03-11T18:08:52.073Z"
   },
   {
    "duration": 114,
    "start_time": "2023-03-11T18:08:52.164Z"
   },
   {
    "duration": 5,
    "start_time": "2023-03-11T18:08:52.280Z"
   },
   {
    "duration": 119,
    "start_time": "2023-03-11T18:08:54.347Z"
   },
   {
    "duration": 6,
    "start_time": "2023-03-11T18:08:55.753Z"
   },
   {
    "duration": 831,
    "start_time": "2023-03-11T18:08:55.762Z"
   },
   {
    "duration": 284,
    "start_time": "2023-03-11T18:08:56.595Z"
   },
   {
    "duration": 234,
    "start_time": "2023-03-11T18:08:56.880Z"
   },
   {
    "duration": 5,
    "start_time": "2023-03-11T18:08:57.116Z"
   },
   {
    "duration": 3838,
    "start_time": "2023-03-11T18:08:59.550Z"
   },
   {
    "duration": 773,
    "start_time": "2023-03-11T18:09:18.916Z"
   },
   {
    "duration": 171494,
    "start_time": "2023-03-11T18:09:20.193Z"
   },
   {
    "duration": 6,
    "start_time": "2023-03-11T18:12:11.689Z"
   },
   {
    "duration": 6,
    "start_time": "2023-03-11T18:12:11.696Z"
   },
   {
    "duration": 1617,
    "start_time": "2023-03-11T18:29:56.444Z"
   },
   {
    "duration": 934,
    "start_time": "2023-03-11T18:29:59.600Z"
   },
   {
    "duration": 5,
    "start_time": "2023-03-11T18:30:00.537Z"
   },
   {
    "duration": 54,
    "start_time": "2023-03-11T18:30:00.543Z"
   },
   {
    "duration": 156,
    "start_time": "2023-03-11T18:30:00.598Z"
   },
   {
    "duration": 195,
    "start_time": "2023-03-11T18:30:00.756Z"
   },
   {
    "duration": 5473,
    "start_time": "2023-03-11T18:30:00.953Z"
   },
   {
    "duration": 5,
    "start_time": "2023-03-11T18:30:06.430Z"
   },
   {
    "duration": 6,
    "start_time": "2023-03-11T18:30:06.437Z"
   },
   {
    "duration": 24,
    "start_time": "2023-03-11T18:30:06.445Z"
   },
   {
    "duration": 77,
    "start_time": "2023-03-11T18:30:06.471Z"
   },
   {
    "duration": 18,
    "start_time": "2023-03-11T18:30:06.549Z"
   },
   {
    "duration": 623,
    "start_time": "2023-03-11T18:30:06.569Z"
   },
   {
    "duration": 585,
    "start_time": "2023-03-11T18:30:07.194Z"
   },
   {
    "duration": 525,
    "start_time": "2023-03-11T18:30:07.781Z"
   },
   {
    "duration": 112,
    "start_time": "2023-03-11T18:30:08.309Z"
   },
   {
    "duration": 215,
    "start_time": "2023-03-11T18:30:08.423Z"
   },
   {
    "duration": 5,
    "start_time": "2023-03-11T18:30:08.640Z"
   },
   {
    "duration": 51,
    "start_time": "2023-03-11T18:30:08.647Z"
   },
   {
    "duration": 15,
    "start_time": "2023-03-11T18:30:08.702Z"
   },
   {
    "duration": 103,
    "start_time": "2023-03-11T18:30:08.718Z"
   },
   {
    "duration": 272,
    "start_time": "2023-03-11T18:30:08.823Z"
   },
   {
    "duration": 86,
    "start_time": "2023-03-11T18:30:09.097Z"
   },
   {
    "duration": 14,
    "start_time": "2023-03-11T18:30:09.186Z"
   },
   {
    "duration": 238,
    "start_time": "2023-03-11T18:30:09.202Z"
   },
   {
    "duration": 175,
    "start_time": "2023-03-11T18:30:09.441Z"
   },
   {
    "duration": 49,
    "start_time": "2023-03-11T18:30:09.617Z"
   },
   {
    "duration": 25,
    "start_time": "2023-03-11T18:30:09.669Z"
   },
   {
    "duration": 5,
    "start_time": "2023-03-11T18:30:09.696Z"
   },
   {
    "duration": 184,
    "start_time": "2023-03-11T18:30:09.703Z"
   },
   {
    "duration": 93,
    "start_time": "2023-03-11T18:30:09.890Z"
   },
   {
    "duration": 444,
    "start_time": "2023-03-11T18:30:09.985Z"
   },
   {
    "duration": 172,
    "start_time": "2023-03-11T18:30:10.431Z"
   },
   {
    "duration": 13,
    "start_time": "2023-03-11T18:30:10.605Z"
   },
   {
    "duration": 16,
    "start_time": "2023-03-11T18:30:10.619Z"
   },
   {
    "duration": 63,
    "start_time": "2023-03-11T18:30:10.637Z"
   },
   {
    "duration": 4,
    "start_time": "2023-03-11T18:30:10.702Z"
   },
   {
    "duration": 137,
    "start_time": "2023-03-11T18:30:10.708Z"
   },
   {
    "duration": 177,
    "start_time": "2023-03-11T18:30:10.847Z"
   },
   {
    "duration": 22,
    "start_time": "2023-03-11T18:30:11.029Z"
   },
   {
    "duration": 25,
    "start_time": "2023-03-11T18:30:11.073Z"
   },
   {
    "duration": 5,
    "start_time": "2023-03-11T18:30:11.100Z"
   },
   {
    "duration": 26,
    "start_time": "2023-03-11T18:30:11.107Z"
   },
   {
    "duration": 90,
    "start_time": "2023-03-11T18:30:11.135Z"
   },
   {
    "duration": 151,
    "start_time": "2023-03-11T18:30:11.226Z"
   },
   {
    "duration": 93,
    "start_time": "2023-03-11T18:30:11.380Z"
   },
   {
    "duration": 88,
    "start_time": "2023-03-11T18:30:11.476Z"
   },
   {
    "duration": 82,
    "start_time": "2023-03-11T18:30:11.568Z"
   },
   {
    "duration": 96,
    "start_time": "2023-03-11T18:30:11.651Z"
   },
   {
    "duration": 22,
    "start_time": "2023-03-11T18:30:11.749Z"
   },
   {
    "duration": 136,
    "start_time": "2023-03-11T18:30:11.971Z"
   },
   {
    "duration": 7,
    "start_time": "2023-03-11T18:30:12.773Z"
   },
   {
    "duration": 838,
    "start_time": "2023-03-11T18:30:13.139Z"
   },
   {
    "duration": 295,
    "start_time": "2023-03-11T18:30:13.981Z"
   },
   {
    "duration": 288,
    "start_time": "2023-03-11T18:30:14.279Z"
   },
   {
    "duration": 7,
    "start_time": "2023-03-11T18:30:14.572Z"
   },
   {
    "duration": 5244,
    "start_time": "2023-03-11T18:30:16.923Z"
   },
   {
    "duration": 921,
    "start_time": "2023-03-11T18:30:22.171Z"
   },
   {
    "duration": 185405,
    "start_time": "2023-03-11T18:30:23.094Z"
   },
   {
    "duration": 5,
    "start_time": "2023-03-11T18:33:28.502Z"
   },
   {
    "duration": 12,
    "start_time": "2023-03-11T18:33:28.509Z"
   },
   {
    "duration": 1470,
    "start_time": "2023-03-11T18:38:20.882Z"
   },
   {
    "duration": 862,
    "start_time": "2023-03-11T18:38:22.354Z"
   },
   {
    "duration": 6,
    "start_time": "2023-03-11T18:38:23.217Z"
   },
   {
    "duration": 29,
    "start_time": "2023-03-11T18:38:23.225Z"
   },
   {
    "duration": 131,
    "start_time": "2023-03-11T18:38:23.263Z"
   },
   {
    "duration": 191,
    "start_time": "2023-03-11T18:38:23.396Z"
   },
   {
    "duration": 4745,
    "start_time": "2023-03-11T18:38:23.589Z"
   },
   {
    "duration": 4,
    "start_time": "2023-03-11T18:38:28.336Z"
   },
   {
    "duration": 7,
    "start_time": "2023-03-11T18:38:28.341Z"
   },
   {
    "duration": 4,
    "start_time": "2023-03-11T18:38:28.364Z"
   },
   {
    "duration": 73,
    "start_time": "2023-03-11T18:38:28.370Z"
   },
   {
    "duration": 4,
    "start_time": "2023-03-11T18:38:28.445Z"
   },
   {
    "duration": 503,
    "start_time": "2023-03-11T18:38:28.463Z"
   },
   {
    "duration": 509,
    "start_time": "2023-03-11T18:38:28.968Z"
   },
   {
    "duration": 462,
    "start_time": "2023-03-11T18:38:29.478Z"
   },
   {
    "duration": 102,
    "start_time": "2023-03-11T18:38:29.942Z"
   },
   {
    "duration": 170,
    "start_time": "2023-03-11T18:38:30.046Z"
   },
   {
    "duration": 5,
    "start_time": "2023-03-11T18:38:30.218Z"
   },
   {
    "duration": 69,
    "start_time": "2023-03-11T18:38:30.224Z"
   },
   {
    "duration": 4,
    "start_time": "2023-03-11T18:38:30.295Z"
   },
   {
    "duration": 95,
    "start_time": "2023-03-11T18:38:30.300Z"
   },
   {
    "duration": 235,
    "start_time": "2023-03-11T18:38:30.396Z"
   },
   {
    "duration": 83,
    "start_time": "2023-03-11T18:38:30.633Z"
   },
   {
    "duration": 12,
    "start_time": "2023-03-11T18:38:30.718Z"
   },
   {
    "duration": 164,
    "start_time": "2023-03-11T18:38:30.731Z"
   },
   {
    "duration": 114,
    "start_time": "2023-03-11T18:38:30.897Z"
   },
   {
    "duration": 21,
    "start_time": "2023-03-11T18:38:31.013Z"
   },
   {
    "duration": 40,
    "start_time": "2023-03-11T18:38:31.037Z"
   },
   {
    "duration": 31,
    "start_time": "2023-03-11T18:38:31.079Z"
   },
   {
    "duration": 167,
    "start_time": "2023-03-11T18:38:31.112Z"
   },
   {
    "duration": 84,
    "start_time": "2023-03-11T18:38:31.281Z"
   },
   {
    "duration": 417,
    "start_time": "2023-03-11T18:38:31.367Z"
   },
   {
    "duration": 166,
    "start_time": "2023-03-11T18:38:31.786Z"
   },
   {
    "duration": 18,
    "start_time": "2023-03-11T18:38:31.954Z"
   },
   {
    "duration": 12,
    "start_time": "2023-03-11T18:38:31.974Z"
   },
   {
    "duration": 27,
    "start_time": "2023-03-11T18:38:31.987Z"
   },
   {
    "duration": 4,
    "start_time": "2023-03-11T18:38:32.016Z"
   },
   {
    "duration": 104,
    "start_time": "2023-03-11T18:38:32.021Z"
   },
   {
    "duration": 146,
    "start_time": "2023-03-11T18:38:32.127Z"
   },
   {
    "duration": 24,
    "start_time": "2023-03-11T18:38:32.275Z"
   },
   {
    "duration": 22,
    "start_time": "2023-03-11T18:38:32.301Z"
   },
   {
    "duration": 4,
    "start_time": "2023-03-11T18:38:32.325Z"
   },
   {
    "duration": 41,
    "start_time": "2023-03-11T18:38:32.331Z"
   },
   {
    "duration": 72,
    "start_time": "2023-03-11T18:38:32.374Z"
   },
   {
    "duration": 131,
    "start_time": "2023-03-11T18:38:32.448Z"
   },
   {
    "duration": 68,
    "start_time": "2023-03-11T18:38:32.582Z"
   },
   {
    "duration": 68,
    "start_time": "2023-03-11T18:38:32.663Z"
   },
   {
    "duration": 88,
    "start_time": "2023-03-11T18:38:32.732Z"
   },
   {
    "duration": 73,
    "start_time": "2023-03-11T18:38:32.822Z"
   },
   {
    "duration": 4,
    "start_time": "2023-03-11T18:38:32.897Z"
   },
   {
    "duration": 115,
    "start_time": "2023-03-11T18:38:33.682Z"
   },
   {
    "duration": 6,
    "start_time": "2023-03-11T18:38:50.763Z"
   },
   {
    "duration": 746,
    "start_time": "2023-03-11T18:38:53.305Z"
   },
   {
    "duration": 258,
    "start_time": "2023-03-11T18:38:54.054Z"
   },
   {
    "duration": 246,
    "start_time": "2023-03-11T18:38:54.314Z"
   },
   {
    "duration": 4,
    "start_time": "2023-03-11T18:38:57.959Z"
   },
   {
    "duration": 3234,
    "start_time": "2023-03-11T18:39:00.737Z"
   },
   {
    "duration": 689,
    "start_time": "2023-03-11T18:39:05.386Z"
   },
   {
    "duration": 735291,
    "start_time": "2023-03-11T18:39:13.919Z"
   },
   {
    "duration": 147718,
    "start_time": "2023-03-11T18:52:23.573Z"
   },
   {
    "duration": 2860,
    "start_time": "2023-03-11T19:07:31.851Z"
   },
   {
    "duration": 1798,
    "start_time": "2023-03-11T19:07:37.502Z"
   },
   {
    "duration": 7,
    "start_time": "2023-03-11T19:07:39.302Z"
   },
   {
    "duration": 99,
    "start_time": "2023-03-11T19:07:39.365Z"
   },
   {
    "duration": 308,
    "start_time": "2023-03-11T19:07:39.467Z"
   },
   {
    "duration": 328,
    "start_time": "2023-03-11T19:07:39.777Z"
   },
   {
    "duration": 10062,
    "start_time": "2023-03-11T19:07:40.107Z"
   },
   {
    "duration": 6,
    "start_time": "2023-03-11T19:07:50.171Z"
   },
   {
    "duration": 12,
    "start_time": "2023-03-11T19:07:50.179Z"
   },
   {
    "duration": 76,
    "start_time": "2023-03-11T19:07:50.193Z"
   },
   {
    "duration": 118,
    "start_time": "2023-03-11T19:07:50.273Z"
   },
   {
    "duration": 4,
    "start_time": "2023-03-11T19:07:50.393Z"
   },
   {
    "duration": 1067,
    "start_time": "2023-03-11T19:07:50.399Z"
   },
   {
    "duration": 1041,
    "start_time": "2023-03-11T19:07:51.468Z"
   },
   {
    "duration": 940,
    "start_time": "2023-03-11T19:07:52.563Z"
   },
   {
    "duration": 268,
    "start_time": "2023-03-11T19:07:53.505Z"
   },
   {
    "duration": 392,
    "start_time": "2023-03-11T19:07:53.775Z"
   },
   {
    "duration": 7,
    "start_time": "2023-03-11T19:07:54.168Z"
   },
   {
    "duration": 101,
    "start_time": "2023-03-11T19:07:54.177Z"
   },
   {
    "duration": 4,
    "start_time": "2023-03-11T19:07:54.280Z"
   },
   {
    "duration": 200,
    "start_time": "2023-03-11T19:07:54.286Z"
   },
   {
    "duration": 580,
    "start_time": "2023-03-11T19:07:54.488Z"
   },
   {
    "duration": 134,
    "start_time": "2023-03-11T19:07:55.070Z"
   },
   {
    "duration": 19,
    "start_time": "2023-03-11T19:07:55.264Z"
   },
   {
    "duration": 321,
    "start_time": "2023-03-11T19:07:55.285Z"
   },
   {
    "duration": 73,
    "start_time": "2023-03-11T19:07:55.608Z"
   },
   {
    "duration": 89,
    "start_time": "2023-03-11T19:07:55.684Z"
   },
   {
    "duration": 29,
    "start_time": "2023-03-11T19:07:55.775Z"
   },
   {
    "duration": 4,
    "start_time": "2023-03-11T19:07:55.866Z"
   },
   {
    "duration": 309,
    "start_time": "2023-03-11T19:07:55.872Z"
   },
   {
    "duration": 191,
    "start_time": "2023-03-11T19:07:56.183Z"
   },
   {
    "duration": 708,
    "start_time": "2023-03-11T19:07:56.377Z"
   },
   {
    "duration": 496,
    "start_time": "2023-03-11T19:07:57.087Z"
   },
   {
    "duration": 14,
    "start_time": "2023-03-11T19:07:57.585Z"
   },
   {
    "duration": 70,
    "start_time": "2023-03-11T19:07:57.601Z"
   },
   {
    "duration": 100,
    "start_time": "2023-03-11T19:07:57.674Z"
   },
   {
    "duration": 6,
    "start_time": "2023-03-11T19:07:57.776Z"
   },
   {
    "duration": 196,
    "start_time": "2023-03-11T19:07:57.784Z"
   },
   {
    "duration": 386,
    "start_time": "2023-03-11T19:07:57.982Z"
   },
   {
    "duration": 24,
    "start_time": "2023-03-11T19:07:58.370Z"
   },
   {
    "duration": 98,
    "start_time": "2023-03-11T19:07:58.396Z"
   },
   {
    "duration": 6,
    "start_time": "2023-03-11T19:07:58.496Z"
   },
   {
    "duration": 76,
    "start_time": "2023-03-11T19:07:58.504Z"
   },
   {
    "duration": 198,
    "start_time": "2023-03-11T19:07:58.582Z"
   },
   {
    "duration": 281,
    "start_time": "2023-03-11T19:07:58.783Z"
   },
   {
    "duration": 116,
    "start_time": "2023-03-11T19:07:59.066Z"
   },
   {
    "duration": 123,
    "start_time": "2023-03-11T19:07:59.184Z"
   },
   {
    "duration": 123,
    "start_time": "2023-03-11T19:07:59.363Z"
   },
   {
    "duration": 177,
    "start_time": "2023-03-11T19:07:59.488Z"
   },
   {
    "duration": 5,
    "start_time": "2023-03-11T19:07:59.668Z"
   },
   {
    "duration": 237,
    "start_time": "2023-03-11T19:07:59.676Z"
   },
   {
    "duration": 6,
    "start_time": "2023-03-11T19:07:59.966Z"
   },
   {
    "duration": 1799,
    "start_time": "2023-03-11T19:07:59.974Z"
   },
   {
    "duration": 610,
    "start_time": "2023-03-11T19:08:01.777Z"
   },
   {
    "duration": 496,
    "start_time": "2023-03-11T19:08:02.389Z"
   },
   {
    "duration": 4,
    "start_time": "2023-03-11T19:08:02.888Z"
   },
   {
    "duration": 4694,
    "start_time": "2023-03-11T19:08:06.770Z"
   },
   {
    "duration": 283,
    "start_time": "2023-03-11T19:08:16.146Z"
   },
   {
    "duration": 1569,
    "start_time": "2023-03-11T19:08:24.024Z"
   },
   {
    "duration": 1212697,
    "start_time": "2023-03-11T19:08:30.053Z"
   },
   {
    "duration": 7,
    "start_time": "2023-03-11T19:29:47.086Z"
   },
   {
    "duration": 12,
    "start_time": "2023-03-11T19:40:40.193Z"
   },
   {
    "duration": 1196381,
    "start_time": "2023-03-11T19:40:56.731Z"
   },
   {
    "duration": 2976,
    "start_time": "2023-03-11T20:03:22.202Z"
   },
   {
    "duration": 2898,
    "start_time": "2023-03-11T20:03:54.485Z"
   },
   {
    "duration": 213366,
    "start_time": "2023-03-11T20:04:26.434Z"
   },
   {
    "duration": 14,
    "start_time": "2023-03-11T20:22:57.205Z"
   },
   {
    "duration": 4,
    "start_time": "2023-03-11T20:23:06.123Z"
   },
   {
    "duration": 6859390,
    "start_time": "2023-03-11T20:24:16.731Z"
   },
   {
    "duration": 68,
    "start_time": "2023-03-12T11:44:36.372Z"
   },
   {
    "duration": 1940,
    "start_time": "2023-03-12T12:27:35.876Z"
   },
   {
    "duration": 3250,
    "start_time": "2023-03-12T12:27:43.263Z"
   },
   {
    "duration": 5,
    "start_time": "2023-03-12T12:27:46.515Z"
   },
   {
    "duration": 43,
    "start_time": "2023-03-12T12:27:46.522Z"
   },
   {
    "duration": 163,
    "start_time": "2023-03-12T12:27:46.568Z"
   },
   {
    "duration": 193,
    "start_time": "2023-03-12T12:27:46.734Z"
   },
   {
    "duration": 5586,
    "start_time": "2023-03-12T12:27:46.929Z"
   },
   {
    "duration": 10,
    "start_time": "2023-03-12T12:27:52.517Z"
   },
   {
    "duration": 4,
    "start_time": "2023-03-12T12:27:52.529Z"
   },
   {
    "duration": 9,
    "start_time": "2023-03-12T12:27:52.535Z"
   },
   {
    "duration": 89,
    "start_time": "2023-03-12T12:27:52.547Z"
   },
   {
    "duration": 6,
    "start_time": "2023-03-12T12:27:52.642Z"
   },
   {
    "duration": 595,
    "start_time": "2023-03-12T12:27:52.651Z"
   },
   {
    "duration": 546,
    "start_time": "2023-03-12T12:27:53.249Z"
   },
   {
    "duration": 500,
    "start_time": "2023-03-12T12:27:53.797Z"
   },
   {
    "duration": 104,
    "start_time": "2023-03-12T12:27:54.299Z"
   },
   {
    "duration": 194,
    "start_time": "2023-03-12T12:27:54.405Z"
   },
   {
    "duration": 6,
    "start_time": "2023-03-12T12:27:54.600Z"
   },
   {
    "duration": 73,
    "start_time": "2023-03-12T12:27:54.608Z"
   },
   {
    "duration": 5,
    "start_time": "2023-03-12T12:27:54.684Z"
   },
   {
    "duration": 94,
    "start_time": "2023-03-12T12:27:54.692Z"
   },
   {
    "duration": 287,
    "start_time": "2023-03-12T12:27:54.788Z"
   },
   {
    "duration": 97,
    "start_time": "2023-03-12T12:27:55.078Z"
   },
   {
    "duration": 11,
    "start_time": "2023-03-12T12:27:55.176Z"
   },
   {
    "duration": 155,
    "start_time": "2023-03-12T12:27:55.189Z"
   },
   {
    "duration": 120,
    "start_time": "2023-03-12T12:27:55.347Z"
   },
   {
    "duration": 20,
    "start_time": "2023-03-12T12:27:55.469Z"
   },
   {
    "duration": 44,
    "start_time": "2023-03-12T12:27:55.491Z"
   },
   {
    "duration": 6,
    "start_time": "2023-03-12T12:27:55.540Z"
   },
   {
    "duration": 149,
    "start_time": "2023-03-12T12:27:55.548Z"
   },
   {
    "duration": 98,
    "start_time": "2023-03-12T12:27:55.699Z"
   },
   {
    "duration": 396,
    "start_time": "2023-03-12T12:27:55.799Z"
   },
   {
    "duration": 173,
    "start_time": "2023-03-12T12:27:56.197Z"
   },
   {
    "duration": 13,
    "start_time": "2023-03-12T12:27:56.372Z"
   },
   {
    "duration": 12,
    "start_time": "2023-03-12T12:27:56.386Z"
   },
   {
    "duration": 58,
    "start_time": "2023-03-12T12:27:56.399Z"
   },
   {
    "duration": 4,
    "start_time": "2023-03-12T12:27:56.459Z"
   },
   {
    "duration": 102,
    "start_time": "2023-03-12T12:27:56.464Z"
   },
   {
    "duration": 187,
    "start_time": "2023-03-12T12:27:56.568Z"
   },
   {
    "duration": 42,
    "start_time": "2023-03-12T12:27:56.758Z"
   },
   {
    "duration": 50,
    "start_time": "2023-03-12T12:27:56.803Z"
   },
   {
    "duration": 4,
    "start_time": "2023-03-12T12:27:56.855Z"
   },
   {
    "duration": 14,
    "start_time": "2023-03-12T12:27:56.862Z"
   },
   {
    "duration": 99,
    "start_time": "2023-03-12T12:27:56.877Z"
   },
   {
    "duration": 137,
    "start_time": "2023-03-12T12:27:56.978Z"
   },
   {
    "duration": 86,
    "start_time": "2023-03-12T12:27:57.116Z"
   },
   {
    "duration": 67,
    "start_time": "2023-03-12T12:27:57.449Z"
   },
   {
    "duration": 102,
    "start_time": "2023-03-12T12:27:58.242Z"
   },
   {
    "duration": 103,
    "start_time": "2023-03-12T12:27:59.446Z"
   },
   {
    "duration": 4,
    "start_time": "2023-03-12T12:28:00.104Z"
   },
   {
    "duration": 168,
    "start_time": "2023-03-12T12:28:08.394Z"
   },
   {
    "duration": 9,
    "start_time": "2023-03-12T12:28:12.756Z"
   },
   {
    "duration": 856,
    "start_time": "2023-03-12T12:28:17.069Z"
   },
   {
    "duration": 261,
    "start_time": "2023-03-12T12:28:18.141Z"
   },
   {
    "duration": 281,
    "start_time": "2023-03-12T12:28:20.580Z"
   },
   {
    "duration": 4188,
    "start_time": "2023-03-12T12:28:27.061Z"
   },
   {
    "duration": 760,
    "start_time": "2023-03-12T12:28:32.151Z"
   },
   {
    "duration": 4,
    "start_time": "2023-03-12T12:30:07.038Z"
   },
   {
    "duration": 101,
    "start_time": "2023-03-12T12:34:20.154Z"
   },
   {
    "duration": 56,
    "start_time": "2023-03-12T12:34:31.678Z"
   },
   {
    "duration": 80,
    "start_time": "2023-03-12T12:34:56.396Z"
   },
   {
    "duration": 25,
    "start_time": "2023-03-12T12:35:03.972Z"
   },
   {
    "duration": 142,
    "start_time": "2023-03-12T12:35:32.611Z"
   },
   {
    "duration": 6,
    "start_time": "2023-03-12T12:46:06.510Z"
   },
   {
    "duration": 124,
    "start_time": "2023-03-12T12:50:24.226Z"
   },
   {
    "duration": 75,
    "start_time": "2023-03-12T12:51:38.304Z"
   },
   {
    "duration": 17894,
    "start_time": "2023-03-12T12:56:21.879Z"
   },
   {
    "duration": 18202,
    "start_time": "2023-03-12T12:57:13.351Z"
   },
   {
    "duration": 11,
    "start_time": "2023-03-12T13:00:18.200Z"
   },
   {
    "duration": 5,
    "start_time": "2023-03-12T13:00:36.686Z"
   },
   {
    "duration": 9,
    "start_time": "2023-03-12T13:00:44.864Z"
   },
   {
    "duration": 48,
    "start_time": "2023-03-12T13:01:52.452Z"
   },
   {
    "duration": 9,
    "start_time": "2023-03-12T13:02:02.071Z"
   },
   {
    "duration": 14,
    "start_time": "2023-03-12T13:02:02.847Z"
   },
   {
    "duration": 4078,
    "start_time": "2023-03-12T13:02:20.893Z"
   },
   {
    "duration": 25,
    "start_time": "2023-03-12T13:02:33.784Z"
   },
   {
    "duration": 19,
    "start_time": "2023-03-12T13:02:47.693Z"
   },
   {
    "duration": 6,
    "start_time": "2023-03-12T13:03:10.697Z"
   },
   {
    "duration": 234799,
    "start_time": "2023-03-12T13:04:41.408Z"
   },
   {
    "duration": 11,
    "start_time": "2023-03-12T13:10:46.863Z"
   },
   {
    "duration": 5,
    "start_time": "2023-03-12T13:11:00.111Z"
   },
   {
    "duration": 28,
    "start_time": "2023-03-12T13:11:39.755Z"
   },
   {
    "duration": 5,
    "start_time": "2023-03-12T13:11:46.096Z"
   },
   {
    "duration": 6,
    "start_time": "2023-03-12T13:12:53.974Z"
   },
   {
    "duration": 5,
    "start_time": "2023-03-12T13:13:03.304Z"
   },
   {
    "duration": 6,
    "start_time": "2023-03-12T13:13:11.078Z"
   },
   {
    "duration": 16,
    "start_time": "2023-03-12T13:13:30.571Z"
   },
   {
    "duration": 41,
    "start_time": "2023-03-12T13:15:05.669Z"
   },
   {
    "duration": 46890,
    "start_time": "2023-03-12T13:16:43.305Z"
   },
   {
    "duration": 2493,
    "start_time": "2023-03-12T13:17:52.316Z"
   },
   {
    "duration": 2838,
    "start_time": "2023-03-12T13:18:12.511Z"
   },
   {
    "duration": 51,
    "start_time": "2023-03-12T13:20:41.752Z"
   },
   {
    "duration": 10,
    "start_time": "2023-03-12T13:20:42.466Z"
   },
   {
    "duration": 5,
    "start_time": "2023-03-12T13:20:52.599Z"
   },
   {
    "duration": 10,
    "start_time": "2023-03-12T13:20:57.880Z"
   },
   {
    "duration": 6,
    "start_time": "2023-03-12T13:21:18.908Z"
   },
   {
    "duration": 98,
    "start_time": "2023-03-12T13:31:24.016Z"
   },
   {
    "duration": 76,
    "start_time": "2023-03-12T13:31:33.957Z"
   },
   {
    "duration": 463004,
    "start_time": "2023-03-12T13:31:47.092Z"
   },
   {
    "duration": 9,
    "start_time": "2023-03-12T13:41:13.552Z"
   },
   {
    "duration": 5,
    "start_time": "2023-03-12T13:42:26.353Z"
   },
   {
    "duration": 4,
    "start_time": "2023-03-12T13:42:58.472Z"
   },
   {
    "duration": 94,
    "start_time": "2023-03-12T13:46:06.261Z"
   },
   {
    "duration": 6,
    "start_time": "2023-03-12T13:54:37.652Z"
   },
   {
    "duration": 1861,
    "start_time": "2023-03-12T14:49:41.800Z"
   },
   {
    "duration": 3550,
    "start_time": "2023-03-12T14:49:45.560Z"
   },
   {
    "duration": 7,
    "start_time": "2023-03-12T14:49:49.113Z"
   },
   {
    "duration": 64,
    "start_time": "2023-03-12T14:49:49.122Z"
   },
   {
    "duration": 223,
    "start_time": "2023-03-12T14:49:49.189Z"
   },
   {
    "duration": 219,
    "start_time": "2023-03-12T14:49:49.414Z"
   },
   {
    "duration": 5647,
    "start_time": "2023-03-12T14:49:49.636Z"
   },
   {
    "duration": 12,
    "start_time": "2023-03-12T14:49:55.285Z"
   },
   {
    "duration": 4,
    "start_time": "2023-03-12T14:49:55.300Z"
   },
   {
    "duration": 17,
    "start_time": "2023-03-12T14:49:55.306Z"
   },
   {
    "duration": 96,
    "start_time": "2023-03-12T14:49:55.327Z"
   },
   {
    "duration": 13,
    "start_time": "2023-03-12T14:49:55.427Z"
   },
   {
    "duration": 651,
    "start_time": "2023-03-12T14:49:55.442Z"
   },
   {
    "duration": 699,
    "start_time": "2023-03-12T14:49:56.095Z"
   },
   {
    "duration": 582,
    "start_time": "2023-03-12T14:49:56.796Z"
   },
   {
    "duration": 126,
    "start_time": "2023-03-12T14:49:57.379Z"
   },
   {
    "duration": 225,
    "start_time": "2023-03-12T14:49:57.507Z"
   },
   {
    "duration": 10,
    "start_time": "2023-03-12T14:49:57.734Z"
   },
   {
    "duration": 45,
    "start_time": "2023-03-12T14:49:57.746Z"
   },
   {
    "duration": 4,
    "start_time": "2023-03-12T14:49:57.793Z"
   },
   {
    "duration": 133,
    "start_time": "2023-03-12T14:49:57.798Z"
   },
   {
    "duration": 306,
    "start_time": "2023-03-12T14:49:57.933Z"
   },
   {
    "duration": 102,
    "start_time": "2023-03-12T14:49:58.241Z"
   },
   {
    "duration": 18,
    "start_time": "2023-03-12T14:49:58.346Z"
   },
   {
    "duration": 158,
    "start_time": "2023-03-12T14:49:58.369Z"
   },
   {
    "duration": 138,
    "start_time": "2023-03-12T14:49:58.529Z"
   },
   {
    "duration": 22,
    "start_time": "2023-03-12T14:49:58.668Z"
   },
   {
    "duration": 23,
    "start_time": "2023-03-12T14:49:58.691Z"
   },
   {
    "duration": 9,
    "start_time": "2023-03-12T14:49:58.723Z"
   },
   {
    "duration": 185,
    "start_time": "2023-03-12T14:49:58.734Z"
   },
   {
    "duration": 149,
    "start_time": "2023-03-12T14:49:58.922Z"
   },
   {
    "duration": 428,
    "start_time": "2023-03-12T14:49:59.073Z"
   },
   {
    "duration": 177,
    "start_time": "2023-03-12T14:49:59.504Z"
   },
   {
    "duration": 13,
    "start_time": "2023-03-12T14:49:59.683Z"
   },
   {
    "duration": 28,
    "start_time": "2023-03-12T14:49:59.697Z"
   },
   {
    "duration": 38,
    "start_time": "2023-03-12T14:49:59.727Z"
   },
   {
    "duration": 5,
    "start_time": "2023-03-12T14:49:59.766Z"
   },
   {
    "duration": 109,
    "start_time": "2023-03-12T14:49:59.772Z"
   },
   {
    "duration": 164,
    "start_time": "2023-03-12T14:49:59.883Z"
   },
   {
    "duration": 26,
    "start_time": "2023-03-12T14:50:00.048Z"
   },
   {
    "duration": 22,
    "start_time": "2023-03-12T14:50:00.076Z"
   },
   {
    "duration": 4,
    "start_time": "2023-03-12T14:50:00.100Z"
   },
   {
    "duration": 28,
    "start_time": "2023-03-12T14:50:00.105Z"
   },
   {
    "duration": 78,
    "start_time": "2023-03-12T14:50:00.135Z"
   },
   {
    "duration": 154,
    "start_time": "2023-03-12T14:50:00.214Z"
   },
   {
    "duration": 90,
    "start_time": "2023-03-12T14:50:00.370Z"
   },
   {
    "duration": 102,
    "start_time": "2023-03-12T14:50:00.462Z"
   },
   {
    "duration": 98,
    "start_time": "2023-03-12T14:50:00.566Z"
   },
   {
    "duration": 75,
    "start_time": "2023-03-12T14:50:00.666Z"
   },
   {
    "duration": 15,
    "start_time": "2023-03-12T14:50:00.745Z"
   },
   {
    "duration": 152,
    "start_time": "2023-03-12T14:50:00.765Z"
   },
   {
    "duration": 4,
    "start_time": "2023-03-12T14:50:05.180Z"
   },
   {
    "duration": 957,
    "start_time": "2023-03-12T14:50:05.851Z"
   },
   {
    "duration": 335,
    "start_time": "2023-03-12T14:50:06.810Z"
   },
   {
    "duration": 290,
    "start_time": "2023-03-12T14:50:11.526Z"
   },
   {
    "duration": 188,
    "start_time": "2023-03-12T14:50:30.708Z"
   },
   {
    "duration": 928,
    "start_time": "2023-03-12T14:50:41.085Z"
   },
   {
    "duration": 1675,
    "start_time": "2023-03-12T14:54:36.066Z"
   },
   {
    "duration": 1062,
    "start_time": "2023-03-12T14:54:37.744Z"
   },
   {
    "duration": 16,
    "start_time": "2023-03-12T14:54:38.808Z"
   },
   {
    "duration": 51,
    "start_time": "2023-03-12T14:54:38.828Z"
   },
   {
    "duration": 277,
    "start_time": "2023-03-12T14:54:38.881Z"
   },
   {
    "duration": 235,
    "start_time": "2023-03-12T14:54:39.161Z"
   },
   {
    "duration": 5786,
    "start_time": "2023-03-12T14:54:39.398Z"
   },
   {
    "duration": 6,
    "start_time": "2023-03-12T14:54:45.186Z"
   },
   {
    "duration": 4,
    "start_time": "2023-03-12T14:54:45.193Z"
   },
   {
    "duration": 5,
    "start_time": "2023-03-12T14:54:45.201Z"
   },
   {
    "duration": 81,
    "start_time": "2023-03-12T14:54:45.225Z"
   },
   {
    "duration": 5,
    "start_time": "2023-03-12T14:54:45.308Z"
   },
   {
    "duration": 580,
    "start_time": "2023-03-12T14:54:45.336Z"
   },
   {
    "duration": 641,
    "start_time": "2023-03-12T14:54:45.923Z"
   },
   {
    "duration": 547,
    "start_time": "2023-03-12T14:54:46.566Z"
   },
   {
    "duration": 124,
    "start_time": "2023-03-12T14:54:47.114Z"
   },
   {
    "duration": 220,
    "start_time": "2023-03-12T14:54:47.239Z"
   },
   {
    "duration": 9,
    "start_time": "2023-03-12T14:54:47.462Z"
   },
   {
    "duration": 79,
    "start_time": "2023-03-12T14:54:47.474Z"
   },
   {
    "duration": 5,
    "start_time": "2023-03-12T14:54:47.556Z"
   },
   {
    "duration": 92,
    "start_time": "2023-03-12T14:54:47.562Z"
   },
   {
    "duration": 268,
    "start_time": "2023-03-12T14:54:47.656Z"
   },
   {
    "duration": 84,
    "start_time": "2023-03-12T14:54:47.926Z"
   },
   {
    "duration": 34,
    "start_time": "2023-03-12T14:54:48.012Z"
   },
   {
    "duration": 153,
    "start_time": "2023-03-12T14:54:48.049Z"
   },
   {
    "duration": 142,
    "start_time": "2023-03-12T14:54:48.204Z"
   },
   {
    "duration": 24,
    "start_time": "2023-03-12T14:54:48.349Z"
   },
   {
    "duration": 60,
    "start_time": "2023-03-12T14:54:48.377Z"
   },
   {
    "duration": 7,
    "start_time": "2023-03-12T14:54:48.439Z"
   },
   {
    "duration": 151,
    "start_time": "2023-03-12T14:54:48.449Z"
   },
   {
    "duration": 98,
    "start_time": "2023-03-12T14:54:48.602Z"
   },
   {
    "duration": 462,
    "start_time": "2023-03-12T14:54:48.701Z"
   },
   {
    "duration": 214,
    "start_time": "2023-03-12T14:54:49.168Z"
   },
   {
    "duration": 15,
    "start_time": "2023-03-12T14:54:49.384Z"
   },
   {
    "duration": 34,
    "start_time": "2023-03-12T14:54:49.400Z"
   },
   {
    "duration": 36,
    "start_time": "2023-03-12T14:54:49.435Z"
   },
   {
    "duration": 3,
    "start_time": "2023-03-12T14:54:49.475Z"
   },
   {
    "duration": 122,
    "start_time": "2023-03-12T14:54:49.480Z"
   },
   {
    "duration": 166,
    "start_time": "2023-03-12T14:54:49.603Z"
   },
   {
    "duration": 21,
    "start_time": "2023-03-12T14:54:49.771Z"
   },
   {
    "duration": 55,
    "start_time": "2023-03-12T14:54:49.794Z"
   },
   {
    "duration": 7,
    "start_time": "2023-03-12T14:54:49.853Z"
   },
   {
    "duration": 12,
    "start_time": "2023-03-12T14:54:49.862Z"
   },
   {
    "duration": 114,
    "start_time": "2023-03-12T14:54:49.876Z"
   },
   {
    "duration": 172,
    "start_time": "2023-03-12T14:54:49.992Z"
   },
   {
    "duration": 72,
    "start_time": "2023-03-12T14:54:50.166Z"
   },
   {
    "duration": 112,
    "start_time": "2023-03-12T14:54:50.241Z"
   },
   {
    "duration": 121,
    "start_time": "2023-03-12T14:54:50.356Z"
   },
   {
    "duration": 108,
    "start_time": "2023-03-12T14:54:50.479Z"
   },
   {
    "duration": 4,
    "start_time": "2023-03-12T14:54:50.589Z"
   },
   {
    "duration": 165,
    "start_time": "2023-03-12T14:54:55.524Z"
   },
   {
    "duration": 6,
    "start_time": "2023-03-12T14:54:56.255Z"
   },
   {
    "duration": 938,
    "start_time": "2023-03-12T14:54:56.655Z"
   },
   {
    "duration": 308,
    "start_time": "2023-03-12T14:54:57.595Z"
   },
   {
    "duration": 276,
    "start_time": "2023-03-12T14:54:57.904Z"
   },
   {
    "duration": 6,
    "start_time": "2023-03-12T14:55:02.348Z"
   },
   {
    "duration": 1087,
    "start_time": "2023-03-12T14:55:10.775Z"
   },
   {
    "duration": 198549,
    "start_time": "2023-03-12T14:55:26.052Z"
   },
   {
    "duration": 752,
    "start_time": "2023-03-12T14:59:30.952Z"
   },
   {
    "duration": 1472,
    "start_time": "2023-03-12T17:33:43.134Z"
   },
   {
    "duration": 990,
    "start_time": "2023-03-12T17:33:48.400Z"
   },
   {
    "duration": 8,
    "start_time": "2023-03-12T17:33:49.394Z"
   },
   {
    "duration": 47,
    "start_time": "2023-03-12T17:33:49.404Z"
   },
   {
    "duration": 183,
    "start_time": "2023-03-12T17:33:49.453Z"
   },
   {
    "duration": 179,
    "start_time": "2023-03-12T17:33:49.641Z"
   },
   {
    "duration": 5142,
    "start_time": "2023-03-12T17:33:49.822Z"
   },
   {
    "duration": 4,
    "start_time": "2023-03-12T17:33:54.966Z"
   },
   {
    "duration": 7,
    "start_time": "2023-03-12T17:33:54.971Z"
   },
   {
    "duration": 6,
    "start_time": "2023-03-12T17:33:54.980Z"
   },
   {
    "duration": 99,
    "start_time": "2023-03-12T17:33:54.987Z"
   },
   {
    "duration": 5,
    "start_time": "2023-03-12T17:33:55.087Z"
   },
   {
    "duration": 575,
    "start_time": "2023-03-12T17:33:55.094Z"
   },
   {
    "duration": 548,
    "start_time": "2023-03-12T17:33:55.671Z"
   },
   {
    "duration": 494,
    "start_time": "2023-03-12T17:33:56.223Z"
   },
   {
    "duration": 102,
    "start_time": "2023-03-12T17:33:56.720Z"
   },
   {
    "duration": 182,
    "start_time": "2023-03-12T17:33:56.825Z"
   },
   {
    "duration": 6,
    "start_time": "2023-03-12T17:33:57.009Z"
   },
   {
    "duration": 41,
    "start_time": "2023-03-12T17:33:57.026Z"
   },
   {
    "duration": 3,
    "start_time": "2023-03-12T17:33:57.069Z"
   },
   {
    "duration": 114,
    "start_time": "2023-03-12T17:33:57.074Z"
   },
   {
    "duration": 269,
    "start_time": "2023-03-12T17:33:57.189Z"
   },
   {
    "duration": 88,
    "start_time": "2023-03-12T17:33:57.460Z"
   },
   {
    "duration": 11,
    "start_time": "2023-03-12T17:33:57.549Z"
   },
   {
    "duration": 144,
    "start_time": "2023-03-12T17:33:57.562Z"
   },
   {
    "duration": 123,
    "start_time": "2023-03-12T17:33:57.708Z"
   },
   {
    "duration": 25,
    "start_time": "2023-03-12T17:33:57.838Z"
   },
   {
    "duration": 23,
    "start_time": "2023-03-12T17:33:57.865Z"
   },
   {
    "duration": 4,
    "start_time": "2023-03-12T17:33:57.889Z"
   },
   {
    "duration": 162,
    "start_time": "2023-03-12T17:33:57.895Z"
   },
   {
    "duration": 96,
    "start_time": "2023-03-12T17:33:58.059Z"
   },
   {
    "duration": 413,
    "start_time": "2023-03-12T17:33:58.157Z"
   },
   {
    "duration": 160,
    "start_time": "2023-03-12T17:33:58.572Z"
   },
   {
    "duration": 15,
    "start_time": "2023-03-12T17:33:58.738Z"
   },
   {
    "duration": 12,
    "start_time": "2023-03-12T17:33:58.755Z"
   },
   {
    "duration": 55,
    "start_time": "2023-03-12T17:33:58.769Z"
   },
   {
    "duration": 9,
    "start_time": "2023-03-12T17:33:58.827Z"
   },
   {
    "duration": 115,
    "start_time": "2023-03-12T17:33:58.838Z"
   },
   {
    "duration": 160,
    "start_time": "2023-03-12T17:33:58.957Z"
   },
   {
    "duration": 29,
    "start_time": "2023-03-12T17:33:59.123Z"
   },
   {
    "duration": 28,
    "start_time": "2023-03-12T17:33:59.153Z"
   },
   {
    "duration": 4,
    "start_time": "2023-03-12T17:33:59.184Z"
   },
   {
    "duration": 48,
    "start_time": "2023-03-12T17:33:59.190Z"
   },
   {
    "duration": 71,
    "start_time": "2023-03-12T17:33:59.242Z"
   },
   {
    "duration": 153,
    "start_time": "2023-03-12T17:33:59.315Z"
   },
   {
    "duration": 93,
    "start_time": "2023-03-12T17:33:59.470Z"
   },
   {
    "duration": 75,
    "start_time": "2023-03-12T17:33:59.567Z"
   },
   {
    "duration": 69,
    "start_time": "2023-03-12T17:33:59.644Z"
   },
   {
    "duration": 79,
    "start_time": "2023-03-12T17:33:59.724Z"
   },
   {
    "duration": 7,
    "start_time": "2023-03-12T17:33:59.916Z"
   },
   {
    "duration": 121,
    "start_time": "2023-03-12T17:34:02.653Z"
   },
   {
    "duration": 5,
    "start_time": "2023-03-12T17:34:07.042Z"
   },
   {
    "duration": 867,
    "start_time": "2023-03-12T17:34:08.106Z"
   },
   {
    "duration": 338,
    "start_time": "2023-03-12T17:34:10.103Z"
   },
   {
    "duration": 277,
    "start_time": "2023-03-12T17:34:10.703Z"
   },
   {
    "duration": 4,
    "start_time": "2023-03-12T17:34:11.896Z"
   },
   {
    "duration": 752,
    "start_time": "2023-03-12T17:34:19.644Z"
   },
   {
    "duration": 103,
    "start_time": "2023-03-12T18:19:45.588Z"
   },
   {
    "duration": 1543,
    "start_time": "2023-03-12T18:20:11.585Z"
   },
   {
    "duration": 932,
    "start_time": "2023-03-12T18:20:19.792Z"
   },
   {
    "duration": 7,
    "start_time": "2023-03-12T18:20:20.727Z"
   },
   {
    "duration": 34,
    "start_time": "2023-03-12T18:20:20.736Z"
   },
   {
    "duration": 163,
    "start_time": "2023-03-12T18:20:20.772Z"
   },
   {
    "duration": 186,
    "start_time": "2023-03-12T18:20:20.937Z"
   },
   {
    "duration": 5189,
    "start_time": "2023-03-12T18:20:25.381Z"
   },
   {
    "duration": 4,
    "start_time": "2023-03-12T18:20:30.572Z"
   },
   {
    "duration": 41,
    "start_time": "2023-03-12T18:20:30.578Z"
   },
   {
    "duration": 26,
    "start_time": "2023-03-12T18:20:30.621Z"
   },
   {
    "duration": 106,
    "start_time": "2023-03-12T18:20:30.649Z"
   },
   {
    "duration": 4,
    "start_time": "2023-03-12T18:20:30.757Z"
   },
   {
    "duration": 543,
    "start_time": "2023-03-12T18:20:30.763Z"
   },
   {
    "duration": 614,
    "start_time": "2023-03-12T18:20:31.308Z"
   },
   {
    "duration": 515,
    "start_time": "2023-03-12T18:20:31.932Z"
   },
   {
    "duration": 114,
    "start_time": "2023-03-12T18:20:32.452Z"
   },
   {
    "duration": 198,
    "start_time": "2023-03-12T18:20:32.568Z"
   },
   {
    "duration": 5,
    "start_time": "2023-03-12T18:20:32.768Z"
   },
   {
    "duration": 55,
    "start_time": "2023-03-12T18:20:32.774Z"
   },
   {
    "duration": 4,
    "start_time": "2023-03-12T18:20:32.831Z"
   },
   {
    "duration": 93,
    "start_time": "2023-03-12T18:20:32.836Z"
   },
   {
    "duration": 254,
    "start_time": "2023-03-12T18:20:32.931Z"
   },
   {
    "duration": 92,
    "start_time": "2023-03-12T18:20:33.186Z"
   },
   {
    "duration": 11,
    "start_time": "2023-03-12T18:20:33.281Z"
   },
   {
    "duration": 208,
    "start_time": "2023-03-12T18:20:33.294Z"
   },
   {
    "duration": 118,
    "start_time": "2023-03-12T18:20:33.503Z"
   },
   {
    "duration": 42,
    "start_time": "2023-03-12T18:20:33.625Z"
   },
   {
    "duration": 55,
    "start_time": "2023-03-12T18:20:33.671Z"
   },
   {
    "duration": 7,
    "start_time": "2023-03-12T18:20:33.729Z"
   },
   {
    "duration": 171,
    "start_time": "2023-03-12T18:20:33.739Z"
   },
   {
    "duration": 88,
    "start_time": "2023-03-12T18:20:33.911Z"
   },
   {
    "duration": 522,
    "start_time": "2023-03-12T18:20:34.001Z"
   },
   {
    "duration": 168,
    "start_time": "2023-03-12T18:20:34.525Z"
   },
   {
    "duration": 12,
    "start_time": "2023-03-12T18:20:34.698Z"
   },
   {
    "duration": 23,
    "start_time": "2023-03-12T18:20:34.711Z"
   },
   {
    "duration": 35,
    "start_time": "2023-03-12T18:20:34.736Z"
   },
   {
    "duration": 5,
    "start_time": "2023-03-12T18:20:34.773Z"
   },
   {
    "duration": 105,
    "start_time": "2023-03-12T18:20:34.779Z"
   },
   {
    "duration": 152,
    "start_time": "2023-03-12T18:20:34.885Z"
   },
   {
    "duration": 22,
    "start_time": "2023-03-12T18:20:35.039Z"
   },
   {
    "duration": 22,
    "start_time": "2023-03-12T18:20:35.062Z"
   },
   {
    "duration": 4,
    "start_time": "2023-03-12T18:20:35.086Z"
   },
   {
    "duration": 43,
    "start_time": "2023-03-12T18:20:35.092Z"
   },
   {
    "duration": 87,
    "start_time": "2023-03-12T18:20:35.138Z"
   },
   {
    "duration": 140,
    "start_time": "2023-03-12T18:20:35.230Z"
   },
   {
    "duration": 85,
    "start_time": "2023-03-12T18:20:35.372Z"
   },
   {
    "duration": 79,
    "start_time": "2023-03-12T18:20:35.459Z"
   },
   {
    "duration": 95,
    "start_time": "2023-03-12T18:20:35.540Z"
   },
   {
    "duration": 69,
    "start_time": "2023-03-12T18:20:35.842Z"
   },
   {
    "duration": 4,
    "start_time": "2023-03-12T18:20:36.045Z"
   },
   {
    "duration": 144,
    "start_time": "2023-03-12T18:20:37.115Z"
   },
   {
    "duration": 9,
    "start_time": "2023-03-12T18:20:41.042Z"
   },
   {
    "duration": 830,
    "start_time": "2023-03-12T18:20:43.210Z"
   },
   {
    "duration": 289,
    "start_time": "2023-03-12T18:20:44.043Z"
   },
   {
    "duration": 233,
    "start_time": "2023-03-12T18:20:44.335Z"
   },
   {
    "duration": 709,
    "start_time": "2023-03-12T18:20:52.895Z"
   },
   {
    "duration": 9711,
    "start_time": "2023-03-12T18:54:36.524Z"
   },
   {
    "duration": 6953,
    "start_time": "2023-03-12T18:54:51.771Z"
   },
   {
    "duration": 9,
    "start_time": "2023-03-12T18:54:58.726Z"
   },
   {
    "duration": 201,
    "start_time": "2023-03-12T18:54:58.736Z"
   },
   {
    "duration": 1298,
    "start_time": "2023-03-12T18:54:58.941Z"
   },
   {
    "duration": 1601,
    "start_time": "2023-03-12T18:55:00.324Z"
   },
   {
    "duration": 44107,
    "start_time": "2023-03-12T18:55:01.932Z"
   },
   {
    "duration": 6,
    "start_time": "2023-03-12T18:55:46.125Z"
   },
   {
    "duration": 91,
    "start_time": "2023-03-12T18:55:46.135Z"
   },
   {
    "duration": 8,
    "start_time": "2023-03-12T18:55:46.323Z"
   },
   {
    "duration": 490,
    "start_time": "2023-03-12T18:55:46.335Z"
   },
   {
    "duration": 5,
    "start_time": "2023-03-12T18:55:46.827Z"
   },
   {
    "duration": 4305,
    "start_time": "2023-03-12T18:55:46.837Z"
   },
   {
    "duration": 4703,
    "start_time": "2023-03-12T18:55:51.227Z"
   },
   {
    "duration": 3991,
    "start_time": "2023-03-12T18:55:55.933Z"
   },
   {
    "duration": 703,
    "start_time": "2023-03-12T18:55:59.930Z"
   },
   {
    "duration": 1698,
    "start_time": "2023-03-12T18:56:00.635Z"
   },
   {
    "duration": 9,
    "start_time": "2023-03-12T18:56:02.423Z"
   },
   {
    "duration": 305,
    "start_time": "2023-03-12T18:56:02.526Z"
   },
   {
    "duration": 4,
    "start_time": "2023-03-12T18:56:02.925Z"
   },
   {
    "duration": 698,
    "start_time": "2023-03-12T18:56:02.936Z"
   },
   {
    "duration": 2297,
    "start_time": "2023-03-12T18:56:03.636Z"
   },
   {
    "duration": 601,
    "start_time": "2023-03-12T18:56:05.937Z"
   },
   {
    "duration": 108,
    "start_time": "2023-03-12T18:56:06.629Z"
   },
   {
    "duration": 906,
    "start_time": "2023-03-12T18:56:06.823Z"
   },
   {
    "duration": 609,
    "start_time": "2023-03-12T18:56:07.732Z"
   },
   {
    "duration": 296,
    "start_time": "2023-03-12T18:56:08.429Z"
   },
   {
    "duration": 194,
    "start_time": "2023-03-12T18:56:08.735Z"
   },
   {
    "duration": 93,
    "start_time": "2023-03-12T18:56:08.934Z"
   },
   {
    "duration": 997,
    "start_time": "2023-03-12T18:56:09.031Z"
   },
   {
    "duration": 798,
    "start_time": "2023-03-12T18:56:10.030Z"
   },
   {
    "duration": 2688,
    "start_time": "2023-03-12T18:56:10.835Z"
   },
   {
    "duration": 1298,
    "start_time": "2023-03-12T18:56:13.525Z"
   },
   {
    "duration": 102,
    "start_time": "2023-03-12T18:56:14.825Z"
   },
   {
    "duration": 105,
    "start_time": "2023-03-12T18:56:14.929Z"
   },
   {
    "duration": 197,
    "start_time": "2023-03-12T18:56:15.036Z"
   },
   {
    "duration": 92,
    "start_time": "2023-03-12T18:56:15.239Z"
   },
   {
    "duration": 998,
    "start_time": "2023-03-12T18:56:15.337Z"
   },
   {
    "duration": 1003,
    "start_time": "2023-03-12T18:56:16.337Z"
   },
   {
    "duration": 188,
    "start_time": "2023-03-12T18:56:17.343Z"
   },
   {
    "duration": 195,
    "start_time": "2023-03-12T18:56:17.534Z"
   },
   {
    "duration": 10,
    "start_time": "2023-03-12T18:56:17.733Z"
   },
   {
    "duration": 173,
    "start_time": "2023-03-12T18:56:17.750Z"
   },
   {
    "duration": 605,
    "start_time": "2023-03-12T18:56:17.928Z"
   },
   {
    "duration": 809,
    "start_time": "2023-03-12T18:56:18.535Z"
   },
   {
    "duration": 698,
    "start_time": "2023-03-12T18:56:19.425Z"
   },
   {
    "duration": 806,
    "start_time": "2023-03-12T18:56:20.129Z"
   },
   {
    "duration": 893,
    "start_time": "2023-03-12T18:56:20.939Z"
   },
   {
    "duration": 790,
    "start_time": "2023-03-12T18:56:21.836Z"
   },
   {
    "duration": 8,
    "start_time": "2023-03-12T18:56:22.628Z"
   },
   {
    "duration": 1102,
    "start_time": "2023-03-12T18:56:22.727Z"
   },
   {
    "duration": 6301,
    "start_time": "2023-03-12T18:56:33.834Z"
   },
   {
    "duration": 9313,
    "start_time": "2023-03-12T19:04:31.425Z"
   },
   {
    "duration": 7102,
    "start_time": "2023-03-12T19:04:43.825Z"
   },
   {
    "duration": 6,
    "start_time": "2023-03-12T19:04:50.929Z"
   },
   {
    "duration": 208,
    "start_time": "2023-03-12T19:04:51.025Z"
   },
   {
    "duration": 1500,
    "start_time": "2023-03-12T19:04:51.235Z"
   },
   {
    "duration": 1799,
    "start_time": "2023-03-12T19:04:52.827Z"
   },
   {
    "duration": 41097,
    "start_time": "2023-03-12T19:04:54.628Z"
   },
   {
    "duration": 93,
    "start_time": "2023-03-12T19:05:35.731Z"
   },
   {
    "duration": 7,
    "start_time": "2023-03-12T19:05:35.831Z"
   },
   {
    "duration": 84,
    "start_time": "2023-03-12T19:05:35.844Z"
   },
   {
    "duration": 596,
    "start_time": "2023-03-12T19:05:35.937Z"
   },
   {
    "duration": 11,
    "start_time": "2023-03-12T19:05:36.623Z"
   },
   {
    "duration": 4212,
    "start_time": "2023-03-12T19:05:36.725Z"
   },
   {
    "duration": 4600,
    "start_time": "2023-03-12T19:05:41.026Z"
   },
   {
    "duration": 3802,
    "start_time": "2023-03-12T19:05:45.631Z"
   },
   {
    "duration": 696,
    "start_time": "2023-03-12T19:05:49.435Z"
   },
   {
    "duration": 1603,
    "start_time": "2023-03-12T19:05:50.135Z"
   },
   {
    "duration": 90,
    "start_time": "2023-03-12T19:05:51.739Z"
   },
   {
    "duration": 295,
    "start_time": "2023-03-12T19:05:51.831Z"
   },
   {
    "duration": 5,
    "start_time": "2023-03-12T19:05:52.128Z"
   },
   {
    "duration": 712,
    "start_time": "2023-03-12T19:05:52.135Z"
   },
   {
    "duration": 1597,
    "start_time": "2023-03-12T19:05:52.928Z"
   },
   {
    "duration": 595,
    "start_time": "2023-03-12T19:05:54.531Z"
   },
   {
    "duration": 104,
    "start_time": "2023-03-12T19:05:55.128Z"
   },
   {
    "duration": 911,
    "start_time": "2023-03-12T19:05:55.324Z"
   },
   {
    "duration": 797,
    "start_time": "2023-03-12T19:05:56.326Z"
   },
   {
    "duration": 104,
    "start_time": "2023-03-12T19:05:57.125Z"
   },
   {
    "duration": 196,
    "start_time": "2023-03-12T19:05:57.233Z"
   },
   {
    "duration": 97,
    "start_time": "2023-03-12T19:05:57.435Z"
   },
   {
    "duration": 903,
    "start_time": "2023-03-12T19:05:57.623Z"
   },
   {
    "duration": 610,
    "start_time": "2023-03-12T19:05:58.528Z"
   },
   {
    "duration": 2291,
    "start_time": "2023-03-12T19:05:59.142Z"
   },
   {
    "duration": 1097,
    "start_time": "2023-03-12T19:06:01.437Z"
   },
   {
    "duration": 198,
    "start_time": "2023-03-12T19:06:02.625Z"
   },
   {
    "duration": 101,
    "start_time": "2023-03-12T19:06:02.825Z"
   },
   {
    "duration": 194,
    "start_time": "2023-03-12T19:06:02.936Z"
   },
   {
    "duration": 4,
    "start_time": "2023-03-12T19:06:03.133Z"
   },
   {
    "duration": 796,
    "start_time": "2023-03-12T19:06:03.139Z"
   },
   {
    "duration": 1200,
    "start_time": "2023-03-12T19:06:04.025Z"
   },
   {
    "duration": 192,
    "start_time": "2023-03-12T19:06:05.232Z"
   },
   {
    "duration": 112,
    "start_time": "2023-03-12T19:06:05.426Z"
   },
   {
    "duration": 86,
    "start_time": "2023-03-12T19:06:05.544Z"
   },
   {
    "duration": 98,
    "start_time": "2023-03-12T19:06:05.632Z"
   },
   {
    "duration": 803,
    "start_time": "2023-03-12T19:06:05.737Z"
   },
   {
    "duration": 1006,
    "start_time": "2023-03-12T19:06:06.627Z"
   },
   {
    "duration": 702,
    "start_time": "2023-03-12T19:06:07.727Z"
   },
   {
    "duration": 705,
    "start_time": "2023-03-12T19:06:08.431Z"
   },
   {
    "duration": 899,
    "start_time": "2023-03-12T19:06:09.224Z"
   },
   {
    "duration": 901,
    "start_time": "2023-03-12T19:06:10.132Z"
   },
   {
    "duration": 10,
    "start_time": "2023-03-12T19:06:11.126Z"
   },
   {
    "duration": 998,
    "start_time": "2023-03-12T19:06:11.230Z"
   },
   {
    "duration": 6808,
    "start_time": "2023-03-12T19:06:42.224Z"
   },
   {
    "duration": 6,
    "start_time": "2023-03-12T19:07:03.127Z"
   },
   {
    "duration": 98,
    "start_time": "2023-03-12T19:07:09.625Z"
   },
   {
    "duration": 100,
    "start_time": "2023-03-12T19:08:17.625Z"
   },
   {
    "duration": 43852,
    "start_time": "2023-03-12T19:11:24.926Z"
   },
   {
    "duration": 2496,
    "start_time": "2023-03-12T19:12:15.317Z"
   }
  ],
  "kernelspec": {
   "display_name": "Python 3 (ipykernel)",
   "language": "python",
   "name": "python3"
  },
  "language_info": {
   "codemirror_mode": {
    "name": "ipython",
    "version": 3
   },
   "file_extension": ".py",
   "mimetype": "text/x-python",
   "name": "python",
   "nbconvert_exporter": "python",
   "pygments_lexer": "ipython3",
   "version": "3.11.5"
  },
  "toc": {
   "base_numbering": 1,
   "nav_menu": {},
   "number_sections": true,
   "sideBar": true,
   "skip_h1_title": true,
   "title_cell": "Table of Contents",
   "title_sidebar": "Contents",
   "toc_cell": false,
   "toc_position": {
    "height": "calc(100% - 180px)",
    "left": "10px",
    "top": "150px",
    "width": "312.888px"
   },
   "toc_section_display": true,
   "toc_window_display": true
  }
 },
 "nbformat": 4,
 "nbformat_minor": 2
}
