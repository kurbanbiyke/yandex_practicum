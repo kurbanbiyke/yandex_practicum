{
 "cells": [
  {
   "cell_type": "markdown",
   "metadata": {},
   "source": [
    "## Классификация клиетов телеком компании"
   ]
  },
  {
   "cell_type": "markdown",
   "metadata": {},
   "source": [
    "### Описание исследования\n",
    "Оператор мобильной связи «Мегалайн» выяснил: многие клиенты пользуются архивными тарифами. Они хотят построить систему, способную проанализировать поведение клиентов и предложить пользователям новый тариф: «Смарт» или «Ультра».\n",
    "\n",
    "### Цель исследования\n",
    "На основе данных предложить клиенту тариф.\n",
    "\n",
    "### Задачи исследования\n",
    "1. Изучение файла\n",
    "2. Разбить данные на выборки\n",
    "3. Иссдедовать модели\n",
    "4. Проверить модель на тестовой выборке\n",
    "5. Проверить модель на адекватность\n",
    "\n",
    "### Исходные данные\n",
    "   - `сalls` — количество звонков,\n",
    "   - `minutes` — суммарная длительность звонков в минутах,\n",
    "   - `messages` — количество sms-сообщений,\n",
    "   - `mb_used` — израсходованный интернет-трафик в Мб,\n",
    "   - `is_ultra` — каким тарифом пользовался в течение месяца («Ультра» — 1, «Смарт» — 0)."
   ]
  },
  {
   "cell_type": "markdown",
   "metadata": {},
   "source": [
    "## Откройте и изучите файл"
   ]
  },
  {
   "cell_type": "code",
   "execution_count": 1,
   "metadata": {},
   "outputs": [],
   "source": [
    "import pandas as pd\n",
    "from sklearn.model_selection import train_test_split\n",
    "from sklearn.tree import DecisionTreeClassifier\n",
    "from sklearn.ensemble import RandomForestClassifier\n",
    "from sklearn.linear_model import LogisticRegression\n",
    "from sklearn.metrics import accuracy_score\n",
    "from sklearn.dummy import DummyClassifier"
   ]
  },
  {
   "cell_type": "code",
   "execution_count": 2,
   "metadata": {},
   "outputs": [
    {
     "data": {
      "text/html": [
       "<div>\n",
       "<style scoped>\n",
       "    .dataframe tbody tr th:only-of-type {\n",
       "        vertical-align: middle;\n",
       "    }\n",
       "\n",
       "    .dataframe tbody tr th {\n",
       "        vertical-align: top;\n",
       "    }\n",
       "\n",
       "    .dataframe thead th {\n",
       "        text-align: right;\n",
       "    }\n",
       "</style>\n",
       "<table border=\"1\" class=\"dataframe\">\n",
       "  <thead>\n",
       "    <tr style=\"text-align: right;\">\n",
       "      <th></th>\n",
       "      <th>calls</th>\n",
       "      <th>minutes</th>\n",
       "      <th>messages</th>\n",
       "      <th>mb_used</th>\n",
       "      <th>is_ultra</th>\n",
       "    </tr>\n",
       "  </thead>\n",
       "  <tbody>\n",
       "    <tr>\n",
       "      <th>0</th>\n",
       "      <td>40.0</td>\n",
       "      <td>311.90</td>\n",
       "      <td>83.0</td>\n",
       "      <td>19915.42</td>\n",
       "      <td>0</td>\n",
       "    </tr>\n",
       "    <tr>\n",
       "      <th>1</th>\n",
       "      <td>85.0</td>\n",
       "      <td>516.75</td>\n",
       "      <td>56.0</td>\n",
       "      <td>22696.96</td>\n",
       "      <td>0</td>\n",
       "    </tr>\n",
       "    <tr>\n",
       "      <th>2</th>\n",
       "      <td>77.0</td>\n",
       "      <td>467.66</td>\n",
       "      <td>86.0</td>\n",
       "      <td>21060.45</td>\n",
       "      <td>0</td>\n",
       "    </tr>\n",
       "    <tr>\n",
       "      <th>3</th>\n",
       "      <td>106.0</td>\n",
       "      <td>745.53</td>\n",
       "      <td>81.0</td>\n",
       "      <td>8437.39</td>\n",
       "      <td>1</td>\n",
       "    </tr>\n",
       "    <tr>\n",
       "      <th>4</th>\n",
       "      <td>66.0</td>\n",
       "      <td>418.74</td>\n",
       "      <td>1.0</td>\n",
       "      <td>14502.75</td>\n",
       "      <td>0</td>\n",
       "    </tr>\n",
       "  </tbody>\n",
       "</table>\n",
       "</div>"
      ],
      "text/plain": [
       "   calls  minutes  messages   mb_used  is_ultra\n",
       "0   40.0   311.90      83.0  19915.42         0\n",
       "1   85.0   516.75      56.0  22696.96         0\n",
       "2   77.0   467.66      86.0  21060.45         0\n",
       "3  106.0   745.53      81.0   8437.39         1\n",
       "4   66.0   418.74       1.0  14502.75         0"
      ]
     },
     "execution_count": 2,
     "metadata": {},
     "output_type": "execute_result"
    }
   ],
   "source": [
    "try:\n",
    "    data = pd.read_csv('/datasets/users_behavior.csv')\n",
    "except:\n",
    "    data = pd.read_csv('https://code.s3.yandex.net/datasets/users_behavior.csv')\n",
    "    \n",
    "data.head()"
   ]
  },
  {
   "cell_type": "code",
   "execution_count": 3,
   "metadata": {},
   "outputs": [
    {
     "name": "stdout",
     "output_type": "stream",
     "text": [
      "<class 'pandas.core.frame.DataFrame'>\n",
      "RangeIndex: 3214 entries, 0 to 3213\n",
      "Data columns (total 5 columns):\n",
      " #   Column    Non-Null Count  Dtype  \n",
      "---  ------    --------------  -----  \n",
      " 0   calls     3214 non-null   float64\n",
      " 1   minutes   3214 non-null   float64\n",
      " 2   messages  3214 non-null   float64\n",
      " 3   mb_used   3214 non-null   float64\n",
      " 4   is_ultra  3214 non-null   int64  \n",
      "dtypes: float64(4), int64(1)\n",
      "memory usage: 125.7 KB\n"
     ]
    }
   ],
   "source": [
    "data.info()"
   ]
  },
  {
   "cell_type": "markdown",
   "metadata": {},
   "source": [
    "## Разбейте данные на выборки"
   ]
  },
  {
   "cell_type": "markdown",
   "metadata": {},
   "source": [
    "Применим функцию `train_test_split` дважды, чтобы разделить нашу таблицу  в соотношении 3:1:1. На обучающую, валидационную и тестовую"
   ]
  },
  {
   "cell_type": "code",
   "execution_count": 4,
   "metadata": {},
   "outputs": [],
   "source": [
    "data_train, data2 = train_test_split(\n",
    "    data, test_size=0.4, random_state=12345, stratify=data['is_ultra'])"
   ]
  },
  {
   "cell_type": "code",
   "execution_count": 5,
   "metadata": {},
   "outputs": [
    {
     "data": {
      "text/plain": [
       "(1928, 5)"
      ]
     },
     "metadata": {},
     "output_type": "display_data"
    },
    {
     "data": {
      "text/plain": [
       "(1286, 5)"
      ]
     },
     "metadata": {},
     "output_type": "display_data"
    }
   ],
   "source": [
    "#проверим размеры наших таблиц\n",
    "display(data_train.shape)\n",
    "display(data2.shape)\n"
   ]
  },
  {
   "cell_type": "code",
   "execution_count": 6,
   "metadata": {},
   "outputs": [],
   "source": [
    "data_valid, data_test = train_test_split(\n",
    "    data2, test_size=0.5, random_state=12345, stratify=data2['is_ultra'])"
   ]
  },
  {
   "cell_type": "code",
   "execution_count": 7,
   "metadata": {},
   "outputs": [
    {
     "data": {
      "text/plain": [
       "(643, 5)"
      ]
     },
     "metadata": {},
     "output_type": "display_data"
    },
    {
     "data": {
      "text/plain": [
       "(643, 5)"
      ]
     },
     "metadata": {},
     "output_type": "display_data"
    }
   ],
   "source": [
    "#перепроверим\n",
    "display(data_valid.shape)\n",
    "display(data_test.shape)\n"
   ]
  },
  {
   "cell_type": "code",
   "execution_count": 8,
   "metadata": {},
   "outputs": [],
   "source": [
    "#Разобьем наши данные по признакам и целевому объекту. для тренирочной таблицы\n",
    "features_train = data_train.drop(['is_ultra'], axis=1)\n",
    "target_train = data_train['is_ultra']"
   ]
  },
  {
   "cell_type": "code",
   "execution_count": 9,
   "metadata": {},
   "outputs": [],
   "source": [
    "#для проверочной таблицы\n",
    "features_valid = data_valid.drop(['is_ultra'], axis=1)\n",
    "target_valid = data_valid['is_ultra']"
   ]
  },
  {
   "cell_type": "code",
   "execution_count": 10,
   "metadata": {},
   "outputs": [],
   "source": [
    "#для тестовой таблицы\n",
    "features_test = data_test.drop(['is_ultra'], axis=1)\n",
    "target_test = data_test['is_ultra']"
   ]
  },
  {
   "cell_type": "markdown",
   "metadata": {},
   "source": [
    "## Исследуйте модели"
   ]
  },
  {
   "cell_type": "markdown",
   "metadata": {},
   "source": [
    "Начнем с модели \"дерево\".\n",
    "Переберем в цикле от 1 до 5 максимальную глубину. Рассчитаем `accuracy`, и присвоим для модели такую глубину дерева с максимальным `accuracy`\n"
   ]
  },
  {
   "cell_type": "code",
   "execution_count": 11,
   "metadata": {},
   "outputs": [
    {
     "name": "stdout",
     "output_type": "stream",
     "text": [
      "max_depth = 1 : 0.7402799377916018\n",
      "max_depth = 2 : 0.7729393468118196\n",
      "max_depth = 3 : 0.7776049766718507\n",
      "max_depth = 4 : 0.7542768273716952\n",
      "max_depth = 5 : 0.7853810264385692\n",
      "max_depth = 6 : 0.7744945567651633\n",
      "max_depth = 7 : 0.7869362363919129\n",
      "max_depth = 8 : 0.80248833592535\n",
      "max_depth = 9 : 0.7822706065318819\n",
      "max_depth = 10 : 0.7729393468118196\n",
      "Accuracy наилучшей модели на валидационной выборке: 0.80248833592535\n"
     ]
    }
   ],
   "source": [
    "best_model_tree = None\n",
    "best_result = 0\n",
    "for i in range(1, 11):\n",
    "    model_tree = DecisionTreeClassifier(random_state=12345, max_depth=i)\n",
    "    model_tree.fit(features_train, target_train)\n",
    "    predictions_valid = model_tree.predict(features_valid)\n",
    "    result = accuracy_score(target_valid, predictions_valid)\n",
    "    print('max_depth =', i, ': ', end='')\n",
    "    print(result)\n",
    "    if result > best_result:\n",
    "        best_model_tree = model_tree\n",
    "        best_result = result \n",
    "print(\"Accuracy наилучшей модели на валидационной выборке:\", best_result)"
   ]
  },
  {
   "cell_type": "markdown",
   "metadata": {},
   "source": [
    "Модель \"случайный лес\". Переберем в цикле количество деревьев в лесу от 1 до 10. Также рассчитаем `accuracy`, и присвоим для модели такое значение `n_estimators` где `accuracy` максимально"
   ]
  },
  {
   "cell_type": "code",
   "execution_count": 13,
   "metadata": {},
   "outputs": [
    {
     "name": "stdout",
     "output_type": "stream",
     "text": [
      "Accuracy наилучшей модели на валидационной выборке: 0.8211508553654744\n"
     ]
    }
   ],
   "source": [
    "best_model_forest = None\n",
    "best_result = 0\n",
    "for est in range(10, 101, 10):\n",
    "    for depth in range (1, 11):\n",
    "        model_forest = RandomForestClassifier(random_state=12345, n_estimators=est, max_depth=depth) \n",
    "        model_forest.fit(features_train, target_train) \n",
    "        result = model_forest.score(features_valid, target_valid) \n",
    "        if result > best_result:\n",
    "            best_model_forest = model_forest\n",
    "            best_result = result \n",
    "\n",
    "print(\"Accuracy наилучшей модели на валидационной выборке:\", best_result)"
   ]
  },
  {
   "cell_type": "markdown",
   "metadata": {},
   "source": [
    "Логистическая регрессия. Пройдемся циклом по параметрам  `solver'`, чтобы найти лучшее решение."
   ]
  },
  {
   "cell_type": "code",
   "execution_count": 14,
   "metadata": {},
   "outputs": [
    {
     "name": "stderr",
     "output_type": "stream",
     "text": [
      "C:\\Users\\Mi\\anaconda3\\Lib\\site-packages\\scipy\\optimize\\_linesearch.py:466: LineSearchWarning: The line search algorithm did not converge\n",
      "  warn('The line search algorithm did not converge', LineSearchWarning)\n",
      "C:\\Users\\Mi\\anaconda3\\Lib\\site-packages\\scipy\\optimize\\_linesearch.py:314: LineSearchWarning: The line search algorithm did not converge\n",
      "  warn('The line search algorithm did not converge', LineSearchWarning)\n"
     ]
    },
    {
     "name": "stdout",
     "output_type": "stream",
     "text": [
      "newton-cg 0.7387247278382582\n",
      "lbfgs 0.7387247278382582\n",
      "liblinear 0.71850699844479\n"
     ]
    },
    {
     "name": "stderr",
     "output_type": "stream",
     "text": [
      "C:\\Users\\Mi\\anaconda3\\Lib\\site-packages\\sklearn\\linear_model\\_sag.py:350: ConvergenceWarning: The max_iter was reached which means the coef_ did not converge\n",
      "  warnings.warn(\n"
     ]
    },
    {
     "name": "stdout",
     "output_type": "stream",
     "text": [
      "sag 0.702954898911353\n",
      "saga 0.6936236391912908\n",
      "Accuracy наилучшей модели на валидационной выборке: 0.7387247278382582\n"
     ]
    },
    {
     "name": "stderr",
     "output_type": "stream",
     "text": [
      "C:\\Users\\Mi\\anaconda3\\Lib\\site-packages\\sklearn\\linear_model\\_sag.py:350: ConvergenceWarning: The max_iter was reached which means the coef_ did not converge\n",
      "  warnings.warn(\n"
     ]
    }
   ],
   "source": [
    "best_model_logistic = None\n",
    "best_result = 0\n",
    "solvers = ['newton-cg', 'lbfgs', 'liblinear', 'sag', 'saga']\n",
    "for i in solvers:\n",
    "    model_logistic = LogisticRegression(random_state=12345, solver=i, max_iter=1000)\n",
    "    model_logistic.fit(features_train, target_train)\n",
    "    result = model_logistic.score(features_valid, target_valid)\n",
    "    print(i, result)\n",
    "    if result > best_result:\n",
    "        best_model_logistic = model_logistic\n",
    "        best_result = result \n",
    "\n",
    "print(\"Accuracy наилучшей модели на валидационной выборке:\", best_result)\n",
    "    "
   ]
  },
  {
   "cell_type": "markdown",
   "metadata": {},
   "source": [
    "Результаты `accuracy` на валидационной выборке оказались выше у модели \"Случайный лес\" - 0.82"
   ]
  },
  {
   "cell_type": "markdown",
   "metadata": {},
   "source": [
    "## Проверьте модель на тестовой выборке"
   ]
  },
  {
   "cell_type": "code",
   "execution_count": 15,
   "metadata": {},
   "outputs": [
    {
     "data": {
      "text/plain": [
       "0.8087091757387247"
      ]
     },
     "execution_count": 15,
     "metadata": {},
     "output_type": "execute_result"
    }
   ],
   "source": [
    "#проверим модель \"случайный лес\" на тестовой выборке\n",
    "best_model_forest.score(features_test, target_test) "
   ]
  },
  {
   "cell_type": "markdown",
   "metadata": {},
   "source": [
    "На тестовой выборке модель показывает точность близкую к валидационной. Это означает отсутствие проблем с переобучение модели."
   ]
  },
  {
   "cell_type": "markdown",
   "metadata": {},
   "source": [
    "## Проверьте модели на адекватность"
   ]
  },
  {
   "cell_type": "code",
   "execution_count": 16,
   "metadata": {},
   "outputs": [
    {
     "name": "stdout",
     "output_type": "stream",
     "text": [
      "Accuracy Dummy-модели на тестовой выборке: 0.6936236391912908\n"
     ]
    }
   ],
   "source": [
    "dummy = DummyClassifier(strategy='most_frequent', random_state=123).fit(features_train, target_train)\n",
    "print('Accuracy Dummy-модели на тестовой выборке:', accuracy_score(target_test, dummy.predict(features_test)))"
   ]
  },
  {
   "cell_type": "markdown",
   "metadata": {},
   "source": [
    "> Значения accuracy модели DummyClassifier (0.69) ниже, чем у выбранной нами модели (0.809), значит наша модель адекватна и эффективна."
   ]
  },
  {
   "cell_type": "markdown",
   "metadata": {},
   "source": [
    "## Вывод"
   ]
  },
  {
   "cell_type": "markdown",
   "metadata": {},
   "source": [
    "1.Проведено исследование с целью разработки модели, позволяющей наиболее точно предложить пользователям мобильной связи тарифы «Смарт» или «Ультра».\n",
    "\n",
    "2.Модель построена на основании поведения клиентов, уже перешедших на эти тарифы.\n",
    "\n",
    "3.Были построены 3 модели:\n",
    "\n",
    "'дерево решений' ( Decision Tree Classifier ),\n",
    "'случайный лес' ( RandomForestClassifier ),\n",
    "'логистическая регрессия' ( Logistic Regression ).\n",
    "4.По результатам сравнения была выбрана лучшая - 'случайный лес'. Значение accuracy = 0.82.\n",
    "\n",
    "5.Все модели соответствуют требованию по качеству, согласно которому значение accuracy должно быть не менее 0.75.\n",
    "\n",
    "6.Лучшая модель проверена на тестовых объектах, не участвующих в обучении и валидации модели. Значение accuracy = 0.809.\n",
    "\n",
    "7.Для проверки на адекватность выбранной нами модели 'случайный лес' ( RandomForestClassifier ) использовали модель DummyClassifier, которая показала результат accuracy хуже, чем результат нашей лучшей модели.\n",
    "\n",
    "8.Результаты исследования позволят специалистам выбрать наиболее качественную модель, которая подберет клиентам новый тариф."
   ]
  }
 ],
 "metadata": {
  "ExecuteTimeLog": [
   {
    "duration": 419,
    "start_time": "2022-12-05T22:40:04.617Z"
   },
   {
    "duration": 73,
    "start_time": "2022-12-05T22:40:05.187Z"
   },
   {
    "duration": 40,
    "start_time": "2022-12-05T22:40:20.964Z"
   },
   {
    "duration": 12,
    "start_time": "2022-12-05T22:41:35.597Z"
   },
   {
    "duration": 485,
    "start_time": "2022-12-06T14:38:54.443Z"
   },
   {
    "duration": 154,
    "start_time": "2022-12-06T14:38:55.121Z"
   },
   {
    "duration": 17,
    "start_time": "2022-12-06T14:38:56.202Z"
   },
   {
    "duration": 4,
    "start_time": "2022-12-06T14:41:17.986Z"
   },
   {
    "duration": 800,
    "start_time": "2022-12-06T14:41:38.545Z"
   },
   {
    "duration": 39,
    "start_time": "2022-12-06T14:41:39.951Z"
   },
   {
    "duration": 12,
    "start_time": "2022-12-06T14:41:41.292Z"
   },
   {
    "duration": 5,
    "start_time": "2022-12-06T14:41:43.319Z"
   },
   {
    "duration": 102,
    "start_time": "2022-12-06T14:44:09.587Z"
   },
   {
    "duration": 5,
    "start_time": "2022-12-06T14:44:22.891Z"
   },
   {
    "duration": 4,
    "start_time": "2022-12-06T14:45:33.474Z"
   },
   {
    "duration": 5,
    "start_time": "2022-12-06T14:45:46.570Z"
   },
   {
    "duration": 10,
    "start_time": "2022-12-06T14:46:00.962Z"
   },
   {
    "duration": 72,
    "start_time": "2022-12-06T14:49:26.050Z"
   },
   {
    "duration": 7,
    "start_time": "2022-12-06T14:49:55.840Z"
   },
   {
    "duration": 9,
    "start_time": "2022-12-06T14:49:56.848Z"
   },
   {
    "duration": 22,
    "start_time": "2022-12-06T14:51:45.286Z"
   },
   {
    "duration": 3,
    "start_time": "2022-12-06T14:52:22.274Z"
   },
   {
    "duration": 46,
    "start_time": "2022-12-06T14:52:26.479Z"
   },
   {
    "duration": 73,
    "start_time": "2022-12-06T14:52:46.406Z"
   },
   {
    "duration": 100,
    "start_time": "2022-12-06T14:53:01.059Z"
   },
   {
    "duration": 352,
    "start_time": "2022-12-06T14:56:07.444Z"
   },
   {
    "duration": 232,
    "start_time": "2022-12-06T15:01:10.429Z"
   },
   {
    "duration": 436,
    "start_time": "2022-12-06T15:03:20.762Z"
   },
   {
    "duration": 352,
    "start_time": "2022-12-06T15:04:16.503Z"
   },
   {
    "duration": 212,
    "start_time": "2022-12-06T15:04:23.643Z"
   },
   {
    "duration": 1164,
    "start_time": "2022-12-06T21:19:20.464Z"
   },
   {
    "duration": 90,
    "start_time": "2022-12-06T21:19:22.041Z"
   },
   {
    "duration": 16,
    "start_time": "2022-12-06T21:19:25.311Z"
   },
   {
    "duration": 102,
    "start_time": "2022-12-06T21:20:22.419Z"
   },
   {
    "duration": 6,
    "start_time": "2022-12-06T21:20:37.696Z"
   },
   {
    "duration": 6,
    "start_time": "2022-12-06T21:20:53.964Z"
   },
   {
    "duration": 4,
    "start_time": "2022-12-06T21:21:36.982Z"
   },
   {
    "duration": 6,
    "start_time": "2022-12-06T21:21:55.683Z"
   },
   {
    "duration": 6,
    "start_time": "2022-12-06T21:22:49.728Z"
   },
   {
    "duration": 5,
    "start_time": "2022-12-06T21:22:50.636Z"
   },
   {
    "duration": 4,
    "start_time": "2022-12-06T21:23:57.174Z"
   },
   {
    "duration": 4,
    "start_time": "2022-12-06T21:24:32.673Z"
   },
   {
    "duration": 4,
    "start_time": "2022-12-06T21:25:06.718Z"
   },
   {
    "duration": 33,
    "start_time": "2022-12-06T21:25:24.912Z"
   },
   {
    "duration": 311,
    "start_time": "2022-12-06T21:26:04.359Z"
   },
   {
    "duration": 26,
    "start_time": "2022-12-06T21:26:27.362Z"
   },
   {
    "duration": 36,
    "start_time": "2022-12-06T21:28:20.935Z"
   },
   {
    "duration": 25,
    "start_time": "2022-12-06T21:28:29.009Z"
   },
   {
    "duration": 31,
    "start_time": "2022-12-06T21:28:35.357Z"
   },
   {
    "duration": 1136,
    "start_time": "2022-12-07T10:16:32.603Z"
   },
   {
    "duration": 141,
    "start_time": "2022-12-07T10:16:35.521Z"
   },
   {
    "duration": 11,
    "start_time": "2022-12-07T10:16:39.015Z"
   },
   {
    "duration": 4,
    "start_time": "2022-12-07T10:16:43.052Z"
   },
   {
    "duration": 6,
    "start_time": "2022-12-07T10:16:45.366Z"
   },
   {
    "duration": 5,
    "start_time": "2022-12-07T10:16:48.301Z"
   },
   {
    "duration": 6,
    "start_time": "2022-12-07T10:16:49.259Z"
   },
   {
    "duration": 4,
    "start_time": "2022-12-07T10:16:50.914Z"
   },
   {
    "duration": 4,
    "start_time": "2022-12-07T10:16:51.749Z"
   },
   {
    "duration": 4,
    "start_time": "2022-12-07T10:16:54.158Z"
   },
   {
    "duration": 1012,
    "start_time": "2022-12-07T12:33:28.514Z"
   },
   {
    "duration": 100,
    "start_time": "2022-12-07T12:33:29.528Z"
   },
   {
    "duration": 11,
    "start_time": "2022-12-07T12:33:29.630Z"
   },
   {
    "duration": 5,
    "start_time": "2022-12-07T12:33:30.925Z"
   },
   {
    "duration": 5,
    "start_time": "2022-12-07T12:33:33.269Z"
   },
   {
    "duration": 5,
    "start_time": "2022-12-07T12:33:33.769Z"
   },
   {
    "duration": 4,
    "start_time": "2022-12-07T12:33:33.987Z"
   },
   {
    "duration": 5,
    "start_time": "2022-12-07T12:33:34.215Z"
   },
   {
    "duration": 4,
    "start_time": "2022-12-07T12:33:34.430Z"
   },
   {
    "duration": 3,
    "start_time": "2022-12-07T12:33:35.246Z"
   },
   {
    "duration": 3,
    "start_time": "2022-12-07T12:33:45.662Z"
   },
   {
    "duration": 4,
    "start_time": "2022-12-07T12:33:46.451Z"
   },
   {
    "duration": 3,
    "start_time": "2022-12-07T12:33:47.406Z"
   },
   {
    "duration": 27,
    "start_time": "2022-12-07T12:33:50.672Z"
   },
   {
    "duration": 247,
    "start_time": "2022-12-07T12:34:07.781Z"
   },
   {
    "duration": 28,
    "start_time": "2022-12-07T12:34:50.550Z"
   },
   {
    "duration": 244,
    "start_time": "2022-12-07T12:35:22.717Z"
   },
   {
    "duration": 24,
    "start_time": "2022-12-07T12:36:01.801Z"
   },
   {
    "duration": 4,
    "start_time": "2022-12-07T12:37:59.988Z"
   },
   {
    "duration": 7,
    "start_time": "2022-12-07T12:38:56.672Z"
   },
   {
    "duration": 108,
    "start_time": "2022-12-07T12:40:21.646Z"
   },
   {
    "duration": 12,
    "start_time": "2022-12-07T12:40:41.606Z"
   },
   {
    "duration": 12,
    "start_time": "2022-12-07T12:41:20.683Z"
   },
   {
    "duration": 7,
    "start_time": "2022-12-07T12:42:18.420Z"
   },
   {
    "duration": 47,
    "start_time": "2022-12-07T12:50:24.545Z"
   },
   {
    "duration": 9,
    "start_time": "2022-12-07T12:51:28.154Z"
   },
   {
    "duration": 255,
    "start_time": "2022-12-07T12:51:37.598Z"
   },
   {
    "duration": 13,
    "start_time": "2022-12-07T12:51:43.465Z"
   },
   {
    "duration": 32,
    "start_time": "2022-12-07T12:53:57.081Z"
   },
   {
    "duration": 246,
    "start_time": "2022-12-07T12:53:59.108Z"
   },
   {
    "duration": 39,
    "start_time": "2022-12-07T12:54:50.309Z"
   },
   {
    "duration": 312,
    "start_time": "2022-12-07T12:54:52.175Z"
   },
   {
    "duration": 7,
    "start_time": "2022-12-07T12:54:57.568Z"
   },
   {
    "duration": 13,
    "start_time": "2022-12-07T12:54:58.783Z"
   },
   {
    "duration": 7,
    "start_time": "2022-12-07T12:55:00.819Z"
   },
   {
    "duration": 6,
    "start_time": "2022-12-07T12:55:04.337Z"
   },
   {
    "duration": 12,
    "start_time": "2022-12-07T12:55:05.216Z"
   },
   {
    "duration": 6,
    "start_time": "2022-12-07T12:55:33.524Z"
   },
   {
    "duration": 13,
    "start_time": "2022-12-07T12:55:58.118Z"
   },
   {
    "duration": 9,
    "start_time": "2022-12-07T12:57:07.400Z"
   },
   {
    "duration": 6,
    "start_time": "2022-12-07T12:57:21.467Z"
   },
   {
    "duration": 3,
    "start_time": "2022-12-07T13:05:39.691Z"
   },
   {
    "duration": 38,
    "start_time": "2022-12-07T13:05:40.615Z"
   },
   {
    "duration": 11,
    "start_time": "2022-12-07T13:05:40.833Z"
   },
   {
    "duration": 6,
    "start_time": "2022-12-07T13:05:42.761Z"
   },
   {
    "duration": 5,
    "start_time": "2022-12-07T13:05:44.427Z"
   },
   {
    "duration": 14,
    "start_time": "2022-12-07T13:05:59.643Z"
   },
   {
    "duration": 5,
    "start_time": "2022-12-07T13:06:09.040Z"
   },
   {
    "duration": 6,
    "start_time": "2022-12-07T13:06:10.943Z"
   },
   {
    "duration": 3,
    "start_time": "2022-12-07T13:06:12.919Z"
   },
   {
    "duration": 4,
    "start_time": "2022-12-07T13:06:13.792Z"
   },
   {
    "duration": 4,
    "start_time": "2022-12-07T13:06:14.465Z"
   },
   {
    "duration": 29,
    "start_time": "2022-12-07T13:06:17.201Z"
   },
   {
    "duration": 260,
    "start_time": "2022-12-07T13:06:22.911Z"
   },
   {
    "duration": 35,
    "start_time": "2022-12-07T13:06:29.071Z"
   },
   {
    "duration": 7,
    "start_time": "2022-12-07T13:06:31.678Z"
   },
   {
    "duration": 11,
    "start_time": "2022-12-07T13:06:34.730Z"
   },
   {
    "duration": 7,
    "start_time": "2022-12-07T13:06:37.888Z"
   },
   {
    "duration": 111,
    "start_time": "2022-12-07T14:11:48.100Z"
   },
   {
    "duration": 514,
    "start_time": "2022-12-07T14:11:56.772Z"
   },
   {
    "duration": 479,
    "start_time": "2022-12-07T14:14:45.236Z"
   },
   {
    "duration": 3,
    "start_time": "2022-12-07T14:15:10.693Z"
   },
   {
    "duration": 43,
    "start_time": "2022-12-07T14:15:10.698Z"
   },
   {
    "duration": 9,
    "start_time": "2022-12-07T14:15:10.743Z"
   },
   {
    "duration": 11,
    "start_time": "2022-12-07T14:15:10.754Z"
   },
   {
    "duration": 5,
    "start_time": "2022-12-07T14:15:10.793Z"
   },
   {
    "duration": 5,
    "start_time": "2022-12-07T14:15:11.343Z"
   },
   {
    "duration": 5,
    "start_time": "2022-12-07T14:15:11.424Z"
   },
   {
    "duration": 6,
    "start_time": "2022-12-07T14:15:11.431Z"
   },
   {
    "duration": 4,
    "start_time": "2022-12-07T14:15:11.572Z"
   },
   {
    "duration": 3,
    "start_time": "2022-12-07T14:15:11.786Z"
   },
   {
    "duration": 41,
    "start_time": "2022-12-07T14:15:12.409Z"
   },
   {
    "duration": 247,
    "start_time": "2022-12-07T14:15:13.570Z"
   },
   {
    "duration": 493,
    "start_time": "2022-12-07T14:15:15.399Z"
   },
   {
    "duration": 8,
    "start_time": "2022-12-07T14:15:18.905Z"
   },
   {
    "duration": 8,
    "start_time": "2022-12-07T14:15:19.780Z"
   },
   {
    "duration": 6,
    "start_time": "2022-12-07T14:15:20.783Z"
   },
   {
    "duration": 6,
    "start_time": "2022-12-07T14:15:41.203Z"
   },
   {
    "duration": 1447,
    "start_time": "2022-12-07T16:36:46.656Z"
   },
   {
    "duration": 139,
    "start_time": "2022-12-07T16:36:48.105Z"
   },
   {
    "duration": 11,
    "start_time": "2022-12-07T16:36:48.245Z"
   },
   {
    "duration": 9,
    "start_time": "2022-12-07T16:36:48.257Z"
   },
   {
    "duration": 6,
    "start_time": "2022-12-07T16:36:48.267Z"
   },
   {
    "duration": 6,
    "start_time": "2022-12-07T16:36:48.274Z"
   },
   {
    "duration": 6,
    "start_time": "2022-12-07T16:36:48.281Z"
   },
   {
    "duration": 26,
    "start_time": "2022-12-07T16:36:48.289Z"
   },
   {
    "duration": 3,
    "start_time": "2022-12-07T16:36:48.317Z"
   },
   {
    "duration": 5,
    "start_time": "2022-12-07T16:36:48.323Z"
   },
   {
    "duration": 177,
    "start_time": "2022-12-07T16:36:48.330Z"
   },
   {
    "duration": 64,
    "start_time": "2022-12-07T16:37:05.308Z"
   },
   {
    "duration": 42,
    "start_time": "2022-12-07T16:37:13.460Z"
   },
   {
    "duration": 1191,
    "start_time": "2022-12-07T18:59:46.591Z"
   },
   {
    "duration": 110,
    "start_time": "2022-12-07T18:59:47.784Z"
   },
   {
    "duration": 11,
    "start_time": "2022-12-07T18:59:47.895Z"
   },
   {
    "duration": 6,
    "start_time": "2022-12-07T18:59:48.026Z"
   },
   {
    "duration": 4,
    "start_time": "2022-12-07T18:59:48.213Z"
   },
   {
    "duration": 5,
    "start_time": "2022-12-07T18:59:48.448Z"
   },
   {
    "duration": 5,
    "start_time": "2022-12-07T18:59:48.665Z"
   },
   {
    "duration": 4,
    "start_time": "2022-12-07T18:59:49.301Z"
   },
   {
    "duration": 4,
    "start_time": "2022-12-07T18:59:49.515Z"
   },
   {
    "duration": 4,
    "start_time": "2022-12-07T18:59:49.969Z"
   },
   {
    "duration": 32,
    "start_time": "2022-12-07T18:59:51.264Z"
   },
   {
    "duration": 238,
    "start_time": "2022-12-07T18:59:54.988Z"
   },
   {
    "duration": 483,
    "start_time": "2022-12-07T18:59:59.870Z"
   },
   {
    "duration": 61,
    "start_time": "2022-12-07T19:00:47.176Z"
   },
   {
    "duration": 77,
    "start_time": "2022-12-07T19:00:57.914Z"
   },
   {
    "duration": 67,
    "start_time": "2022-12-07T19:03:05.352Z"
   },
   {
    "duration": 12343,
    "start_time": "2022-12-07T19:06:19.669Z"
   },
   {
    "duration": 12628,
    "start_time": "2022-12-07T19:07:22.584Z"
   },
   {
    "duration": 555,
    "start_time": "2022-12-07T19:09:05.278Z"
   },
   {
    "duration": 14,
    "start_time": "2022-12-07T19:09:54.310Z"
   },
   {
    "duration": 5,
    "start_time": "2022-12-07T19:10:53.399Z"
   },
   {
    "duration": 5,
    "start_time": "2022-12-07T19:31:35.457Z"
   },
   {
    "duration": 5,
    "start_time": "2022-12-07T19:31:41.217Z"
   },
   {
    "duration": 4,
    "start_time": "2022-12-07T19:31:41.960Z"
   },
   {
    "duration": 524,
    "start_time": "2022-12-07T19:32:19.854Z"
   }
  ],
  "kernelspec": {
   "display_name": "Python 3 (ipykernel)",
   "language": "python",
   "name": "python3"
  },
  "language_info": {
   "codemirror_mode": {
    "name": "ipython",
    "version": 3
   },
   "file_extension": ".py",
   "mimetype": "text/x-python",
   "name": "python",
   "nbconvert_exporter": "python",
   "pygments_lexer": "ipython3",
   "version": "3.11.5"
  },
  "toc": {
   "base_numbering": 1,
   "nav_menu": {},
   "number_sections": true,
   "sideBar": true,
   "skip_h1_title": true,
   "title_cell": "Table of Contents",
   "title_sidebar": "Contents",
   "toc_cell": false,
   "toc_position": {},
   "toc_section_display": true,
   "toc_window_display": false
  }
 },
 "nbformat": 4,
 "nbformat_minor": 2
}
